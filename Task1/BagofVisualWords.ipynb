{
 "cells": [
  {
   "cell_type": "code",
   "execution_count": 1,
   "metadata": {},
   "outputs": [
    {
     "name": "stderr",
     "output_type": "stream",
     "text": [
      "/home/georg/projects/university/C2_Optimization_and_Inference/venv/lib/python3.10/site-packages/tqdm/auto.py:21: TqdmWarning: IProgress not found. Please update jupyter and ipywidgets. See https://ipywidgets.readthedocs.io/en/stable/user_install.html\n",
      "  from .autonotebook import tqdm as notebook_tqdm\n"
     ]
    }
   ],
   "source": [
    "import numpy as np\n",
    "import matplotlib.pyplot as plt\n",
    "import os\n",
    "import cv2\n",
    "import pickle\n",
    "from pprint import pprint\n",
    "from tqdm import tqdm\n",
    "from sklearn.cluster import MiniBatchKMeans, KMeans\n",
    "from sklearn.neighbors import KNeighborsClassifier\n",
    "from sklearn.svm import SVC\n",
    "from sklearn.decomposition import PCA\n",
    "from sklearn.discriminant_analysis import LinearDiscriminantAnalysis\n",
    "from sklearn.metrics import accuracy_score, recall_score, precision_score, f1_score, confusion_matrix\n",
    "from sklearn.model_selection import KFold, GridSearchCV\n",
    "import optuna\n",
    "\n",
    "from utils import load_data_from_directory, split_into_K_folds, get_metrics\n",
    "import warnings\n",
    "warnings.simplefilter(action='ignore', category=FutureWarning)\n",
    "warnings.filterwarnings(\"ignore\")\n"
   ]
  },
  {
   "cell_type": "code",
   "execution_count": 2,
   "metadata": {},
   "outputs": [],
   "source": [
    "# Use a custom function to read images from the directory and assign labels based on the name of the subfolder they are in\n",
    "training_files, training_labels = load_data_from_directory('../MIT_split/train/')\n",
    "test_files, test_labels = load_data_from_directory('../MIT_split/test/')"
   ]
  },
  {
   "cell_type": "code",
   "execution_count": 3,
   "metadata": {},
   "outputs": [
    {
     "name": "stdout",
     "output_type": "stream",
     "text": [
      "Fold 1:\n",
      "Number of samples in train set: 2150\n",
      "Number of samples in test set: 538\n",
      "Number of labels in train set: 2150\n",
      "Number of labels in test set: 538\n",
      "\n",
      "Fold 2:\n",
      "Number of samples in train set: 2150\n",
      "Number of samples in test set: 538\n",
      "Number of labels in train set: 2150\n",
      "Number of labels in test set: 538\n",
      "\n",
      "Fold 3:\n",
      "Number of samples in train set: 2150\n",
      "Number of samples in test set: 538\n",
      "Number of labels in train set: 2150\n",
      "Number of labels in test set: 538\n",
      "\n",
      "Fold 4:\n",
      "Number of samples in train set: 2151\n",
      "Number of samples in test set: 537\n",
      "Number of labels in train set: 2151\n",
      "Number of labels in test set: 537\n",
      "\n",
      "Fold 5:\n",
      "Number of samples in train set: 2151\n",
      "Number of samples in test set: 537\n",
      "Number of labels in train set: 2151\n",
      "Number of labels in test set: 537\n",
      "\n"
     ]
    }
   ],
   "source": [
    "# Since we want to do k-fold cross validation, we need to merge the training and test data and then re-split it into k folds\n",
    "\n",
    "all_data = training_files + test_files\n",
    "all_labels = training_labels + test_labels\n",
    "\n",
    "k = 5  # number of folds\n",
    "# split data into 5 folds using custom function\n",
    "folds = split_into_K_folds(all_data, all_labels, k)\n",
    "\n",
    "# Now each fold in the 'folds' list contains the training and test data for that fold in the format: (train_data, train_labels, test_data, test_labels)\n",
    "for fold_index, fold in enumerate(folds):\n",
    "    train_data, train_labels, test_data, test_labels = fold\n",
    "    print(f\"Fold {fold_index + 1}:\")\n",
    "    print(f\"Number of samples in train set: {len(train_data)}\")\n",
    "    print(f\"Number of samples in test set: {len(test_data)}\")\n",
    "    print(f\"Number of labels in train set: {len(train_labels)}\")\n",
    "    print(f\"Number of labels in test set: {len(test_labels)}\")\n",
    "    print()"
   ]
  },
  {
   "cell_type": "code",
   "execution_count": 4,
   "metadata": {},
   "outputs": [
    {
     "name": "stderr",
     "output_type": "stream",
     "text": [
      "100%|██████████| 2688/2688 [02:31<00:00, 17.78it/s]\n"
     ]
    }
   ],
   "source": [
    "# Define Dense SIFT and Dense KAZE descriptors\n",
    "def dense_sift(image, step_size=8, kp_scale=16):\n",
    "    if len(image.shape) == 3:\n",
    "        image = cv2.cvtColor(image, cv2.COLOR_BGR2GRAY)\n",
    "    dense_sift = cv2.SIFT_create()\n",
    "    keypoints = [cv2.KeyPoint(x, y, kp_scale) for y in range(0, image.shape[0], step_size) for x in range(0, image.shape[1], step_size)]\n",
    "    _, descriptor = dense_sift.compute(image, keypoints)\n",
    "    return descriptor\n",
    "\n",
    "# generate descriptors for all images and store in dictionary to access them later in each fold without having to recompute them\n",
    "def generate_descriptors(image_paths, descriptor_type, **kwargs):\n",
    "    descriptors = {}\n",
    "    for image_path in tqdm(image_paths):\n",
    "        image = cv2.imread(image_path)\n",
    "        gray_image = cv2.cvtColor(image, cv2.COLOR_BGR2GRAY)\n",
    "        if descriptor_type == 'sift':\n",
    "            sift = cv2.SIFT_create()\n",
    "            _, descriptor = sift.detectAndCompute(gray_image, None)\n",
    "        elif descriptor_type == 'kaze':\n",
    "            kaze = cv2.KAZE_create(threshold=kwargs['threshold'])\n",
    "            _, descriptor = kaze.detectAndCompute(gray_image, None)\n",
    "        elif descriptor_type == 'dense_sift':\n",
    "            descriptor = dense_sift(image, step_size=kwargs['step_size'], kp_scale=kwargs['kp_scale'])\n",
    "        else:\n",
    "            raise Exception('Unknown descriptor type')\n",
    "        descriptors[image_path] = descriptor\n",
    "    return descriptors\n",
    "# we generate the descriptors for all images in the dataset and store them in a dictionary\n",
    "# we use dense-SIFT with a step size of 8 and a keypoint scale of 12 as these values gave the best results in our experiments\n",
    "descriptors_dictionary = generate_descriptors(all_data, 'dense_sift', step_size=8, kp_scale=12)\n"
   ]
  },
  {
   "cell_type": "code",
   "execution_count": 5,
   "metadata": {},
   "outputs": [],
   "source": [
    "# Define a function to create a dictionary linking a histogram of visual words to the corresponding images images:\n",
    "def create_visual_words(image_paths, descriptors_dictionary, codebook):\n",
    "    visual_words = {}\n",
    "    for image_path in image_paths:\n",
    "        descriptor = descriptors_dictionary[image_path]\n",
    "        labels = codebook.predict(descriptor)\n",
    "        visual_words[image_path] = np.bincount(labels, minlength=codebook.n_clusters)\n",
    "    return np.array(list(visual_words.values()))\n"
   ]
  },
  {
   "cell_type": "code",
   "execution_count": 6,
   "metadata": {},
   "outputs": [
    {
     "name": "stderr",
     "output_type": "stream",
     "text": [
      "Creating Codebooks for fold 0: 100%|██████████| 10/10 [1:20:10<00:00, 481.08s/it] \n",
      "Creating Codebooks for fold 1: 100%|██████████| 10/10 [1:17:58<00:00, 467.81s/it] \n",
      "Creating Codebooks for fold 2: 100%|██████████| 10/10 [1:19:52<00:00, 479.27s/it] \n",
      "Creating Codebooks for fold 3: 100%|██████████| 10/10 [1:19:23<00:00, 476.39s/it] \n",
      "Creating Codebooks for fold 4: 100%|██████████| 10/10 [1:19:34<00:00, 477.50s/it] \n"
     ]
    }
   ],
   "source": [
    "# initialize a dictionary to store the codebooks for each fold\n",
    "codebooks = {'fold_0': {}, 'fold_1': {}, 'fold_2': {}, 'fold_3': {}, 'fold_4': {}}\n",
    "\n",
    "# define the codebook sizes we want to test\n",
    "codebook_sizes = [32, 64, 128, 256, 512, 1024, 2048, 4096, 8192, 16384]\n",
    "\n",
    "# loop over folds\n",
    "for i, fold in enumerate(folds):\n",
    "    train_data, train_labels, test_data, test_labels = fold\n",
    "    train_descriptors = []\n",
    "\n",
    "    # fetch the descriptors for the training images in the current fold\n",
    "    for file in train_data:\n",
    "        train_descriptors.append(descriptors_dictionary[file])\n",
    "\n",
    "    # stack the descriptors vertically to create a single numpy array for clustering\n",
    "    train_D = np.vstack(list(train_descriptors)) \n",
    "\n",
    "    # loop over codebook sizes\n",
    "    for k in tqdm(codebook_sizes, desc=f'Creating Codebooks for fold {i}'):\n",
    "        # initialize the codebook\n",
    "        codebook = MiniBatchKMeans(n_clusters=k, \n",
    "                           verbose=False, \n",
    "                           batch_size=2150,\n",
    "                           compute_labels=False,\n",
    "                           reassignment_ratio=0.01,\n",
    "                           random_state=42)\n",
    "        # fit the codebook\n",
    "        codebook.fit(train_D)\n",
    "        # store the codebook in the dictionary\n",
    "        codebooks[f'fold_{i}'][k] = codebook\n"
   ]
  },
  {
   "cell_type": "markdown",
   "metadata": {},
   "source": [
    "### Gridsearch for KNN parameters ###"
   ]
  },
  {
   "cell_type": "code",
   "execution_count": 12,
   "metadata": {},
   "outputs": [
    {
     "name": "stderr",
     "output_type": "stream",
     "text": [
      "[I 2024-01-05 12:31:08,102] A new study created in memory with name: no-name-23b00054-5a9d-4b97-ba40-888bc8564a10\n"
     ]
    },
    {
     "name": "stdout",
     "output_type": "stream",
     "text": [
      "Fold 0: fitting knn with n_neighbors=12, metric=manhattan, weights=uniform\n",
      "Fold 1: fitting knn with n_neighbors=12, metric=manhattan, weights=uniform\n",
      "Fold 2: fitting knn with n_neighbors=12, metric=manhattan, weights=uniform\n",
      "Fold 3: fitting knn with n_neighbors=12, metric=manhattan, weights=uniform\n"
     ]
    },
    {
     "name": "stderr",
     "output_type": "stream",
     "text": [
      "[I 2024-01-05 12:31:19,950] Trial 0 finished with value: 0.8117498425093282 and parameters: {'classifier': 'knn', 'n_clusters': 256, 'n_neighbors': 12, 'metric': 'manhattan', 'weight': 'uniform'}. Best is trial 0 with value: 0.8117498425093282.\n"
     ]
    },
    {
     "name": "stdout",
     "output_type": "stream",
     "text": [
      "Fold 4: fitting knn with n_neighbors=12, metric=manhattan, weights=uniform\n",
      "Fold 0: fitting knn with n_neighbors=21, metric=manhattan, weights=uniform\n",
      "Fold 1: fitting knn with n_neighbors=21, metric=manhattan, weights=uniform\n",
      "Fold 2: fitting knn with n_neighbors=21, metric=manhattan, weights=uniform\n",
      "Fold 3: fitting knn with n_neighbors=21, metric=manhattan, weights=uniform\n",
      "Fold 4: fitting knn with n_neighbors=21, metric=manhattan, weights=uniform\n"
     ]
    },
    {
     "name": "stderr",
     "output_type": "stream",
     "text": [
      "[I 2024-01-05 12:39:58,096] Trial 1 finished with value: 0.8039466123929582 and parameters: {'classifier': 'knn', 'n_clusters': 16384, 'n_neighbors': 21, 'metric': 'manhattan', 'weight': 'uniform'}. Best is trial 0 with value: 0.8117498425093282.\n"
     ]
    },
    {
     "name": "stdout",
     "output_type": "stream",
     "text": [
      "Fold 0: fitting knn with n_neighbors=23, metric=euclidean, weights=distance\n",
      "Fold 1: fitting knn with n_neighbors=23, metric=euclidean, weights=distance\n",
      "Fold 2: fitting knn with n_neighbors=23, metric=euclidean, weights=distance\n",
      "Fold 3: fitting knn with n_neighbors=23, metric=euclidean, weights=distance\n",
      "Fold 4: fitting knn with n_neighbors=23, metric=euclidean, weights=distance\n"
     ]
    },
    {
     "name": "stderr",
     "output_type": "stream",
     "text": [
      "[I 2024-01-05 12:42:06,956] Trial 2 finished with value: 0.6614587443666797 and parameters: {'classifier': 'knn', 'n_clusters': 4096, 'n_neighbors': 23, 'metric': 'euclidean', 'weight': 'distance'}. Best is trial 0 with value: 0.8117498425093282.\n"
     ]
    },
    {
     "name": "stdout",
     "output_type": "stream",
     "text": [
      "Fold 0: fitting knn with n_neighbors=23, metric=manhattan, weights=distance\n",
      "Fold 1: fitting knn with n_neighbors=23, metric=manhattan, weights=distance\n",
      "Fold 2: fitting knn with n_neighbors=23, metric=manhattan, weights=distance\n",
      "Fold 3: fitting knn with n_neighbors=23, metric=manhattan, weights=distance\n"
     ]
    },
    {
     "name": "stderr",
     "output_type": "stream",
     "text": [
      "[I 2024-01-05 12:42:13,018] Trial 3 finished with value: 0.7890628785833455 and parameters: {'classifier': 'knn', 'n_clusters': 64, 'n_neighbors': 23, 'metric': 'manhattan', 'weight': 'distance'}. Best is trial 0 with value: 0.8117498425093282.\n"
     ]
    },
    {
     "name": "stdout",
     "output_type": "stream",
     "text": [
      "Fold 4: fitting knn with n_neighbors=23, metric=manhattan, weights=distance\n",
      "Fold 0: fitting knn with n_neighbors=9, metric=manhattan, weights=uniform\n",
      "Fold 1: fitting knn with n_neighbors=9, metric=manhattan, weights=uniform\n",
      "Fold 2: fitting knn with n_neighbors=9, metric=manhattan, weights=uniform\n",
      "Fold 3: fitting knn with n_neighbors=9, metric=manhattan, weights=uniform\n",
      "Fold 4: fitting knn with n_neighbors=9, metric=manhattan, weights=uniform\n"
     ]
    },
    {
     "name": "stderr",
     "output_type": "stream",
     "text": [
      "[I 2024-01-05 12:43:24,509] Trial 4 finished with value: 0.814358303392799 and parameters: {'classifier': 'knn', 'n_clusters': 2048, 'n_neighbors': 9, 'metric': 'manhattan', 'weight': 'uniform'}. Best is trial 4 with value: 0.814358303392799.\n"
     ]
    },
    {
     "name": "stdout",
     "output_type": "stream",
     "text": [
      "Fold 0: fitting knn with n_neighbors=7, metric=cosine, weights=distance\n",
      "Fold 1: fitting knn with n_neighbors=7, metric=cosine, weights=distance\n",
      "Fold 2: fitting knn with n_neighbors=7, metric=cosine, weights=distance\n",
      "Fold 3: fitting knn with n_neighbors=7, metric=cosine, weights=distance\n",
      "Fold 4: fitting knn with n_neighbors=7, metric=cosine, weights=distance\n"
     ]
    },
    {
     "name": "stderr",
     "output_type": "stream",
     "text": [
      "[I 2024-01-05 12:47:34,508] Trial 5 finished with value: 0.7689656843402353 and parameters: {'classifier': 'knn', 'n_clusters': 8192, 'n_neighbors': 7, 'metric': 'cosine', 'weight': 'distance'}. Best is trial 4 with value: 0.814358303392799.\n"
     ]
    },
    {
     "name": "stdout",
     "output_type": "stream",
     "text": [
      "Fold 0: fitting knn with n_neighbors=19, metric=hamming, weights=distance\n",
      "Fold 1: fitting knn with n_neighbors=19, metric=hamming, weights=distance\n",
      "Fold 2: fitting knn with n_neighbors=19, metric=hamming, weights=distance\n",
      "Fold 3: fitting knn with n_neighbors=19, metric=hamming, weights=distance\n",
      "Fold 4: fitting knn with n_neighbors=19, metric=hamming, weights=distance\n"
     ]
    },
    {
     "name": "stderr",
     "output_type": "stream",
     "text": [
      "[I 2024-01-05 12:56:17,687] Trial 6 finished with value: 0.22470976719071256 and parameters: {'classifier': 'knn', 'n_clusters': 16384, 'n_neighbors': 19, 'metric': 'hamming', 'weight': 'distance'}. Best is trial 4 with value: 0.814358303392799.\n"
     ]
    },
    {
     "name": "stdout",
     "output_type": "stream",
     "text": [
      "Fold 0: fitting knn with n_neighbors=7, metric=hamming, weights=uniform\n",
      "Fold 1: fitting knn with n_neighbors=7, metric=hamming, weights=uniform\n",
      "Fold 2: fitting knn with n_neighbors=7, metric=hamming, weights=uniform\n",
      "Fold 3: fitting knn with n_neighbors=7, metric=hamming, weights=uniform\n",
      "Fold 4: fitting knn with n_neighbors=7, metric=hamming, weights=uniform\n"
     ]
    },
    {
     "name": "stderr",
     "output_type": "stream",
     "text": [
      "[I 2024-01-05 12:58:30,916] Trial 7 finished with value: 0.23808643641876595 and parameters: {'classifier': 'knn', 'n_clusters': 4096, 'n_neighbors': 7, 'metric': 'hamming', 'weight': 'uniform'}. Best is trial 4 with value: 0.814358303392799.\n"
     ]
    },
    {
     "name": "stdout",
     "output_type": "stream",
     "text": [
      "Fold 0: fitting knn with n_neighbors=25, metric=minkowski, weights=uniform\n",
      "Fold 1: fitting knn with n_neighbors=25, metric=minkowski, weights=uniform\n",
      "Fold 2: fitting knn with n_neighbors=25, metric=minkowski, weights=uniform\n",
      "Fold 3: fitting knn with n_neighbors=25, metric=minkowski, weights=uniform\n",
      "Fold 4: fitting knn with n_neighbors=25, metric=minkowski, weights=uniform\n"
     ]
    },
    {
     "name": "stderr",
     "output_type": "stream",
     "text": [
      "[I 2024-01-05 13:02:33,789] Trial 8 finished with value: 0.563606155635397 and parameters: {'classifier': 'knn', 'n_clusters': 8192, 'n_neighbors': 25, 'metric': 'minkowski', 'weight': 'uniform'}. Best is trial 4 with value: 0.814358303392799.\n"
     ]
    },
    {
     "name": "stdout",
     "output_type": "stream",
     "text": [
      "Fold 0: fitting knn with n_neighbors=14, metric=euclidean, weights=uniform\n",
      "Fold 1: fitting knn with n_neighbors=14, metric=euclidean, weights=uniform\n",
      "Fold 2: fitting knn with n_neighbors=14, metric=euclidean, weights=uniform\n",
      "Fold 3: fitting knn with n_neighbors=14, metric=euclidean, weights=uniform\n"
     ]
    },
    {
     "name": "stderr",
     "output_type": "stream",
     "text": [
      "[I 2024-01-05 13:02:39,595] Trial 9 finished with value: 0.7325033055734391 and parameters: {'classifier': 'knn', 'n_clusters': 32, 'n_neighbors': 14, 'metric': 'euclidean', 'weight': 'uniform'}. Best is trial 4 with value: 0.814358303392799.\n"
     ]
    },
    {
     "name": "stdout",
     "output_type": "stream",
     "text": [
      "Fold 4: fitting knn with n_neighbors=14, metric=euclidean, weights=uniform\n",
      "Fold 0: fitting knn with n_neighbors=2, metric=minkowski, weights=uniform\n",
      "Fold 1: fitting knn with n_neighbors=2, metric=minkowski, weights=uniform\n",
      "Fold 2: fitting knn with n_neighbors=2, metric=minkowski, weights=uniform\n",
      "Fold 3: fitting knn with n_neighbors=2, metric=minkowski, weights=uniform\n",
      "Fold 4: fitting knn with n_neighbors=2, metric=minkowski, weights=uniform\n"
     ]
    },
    {
     "name": "stderr",
     "output_type": "stream",
     "text": [
      "[I 2024-01-05 13:03:47,449] Trial 10 finished with value: 0.7280471848975101 and parameters: {'classifier': 'knn', 'n_clusters': 2048, 'n_neighbors': 2, 'metric': 'minkowski', 'weight': 'uniform'}. Best is trial 4 with value: 0.814358303392799.\n"
     ]
    },
    {
     "name": "stdout",
     "output_type": "stream",
     "text": [
      "Fold 0: fitting knn with n_neighbors=11, metric=manhattan, weights=uniform\n",
      "Fold 1: fitting knn with n_neighbors=11, metric=manhattan, weights=uniform\n",
      "Fold 2: fitting knn with n_neighbors=11, metric=manhattan, weights=uniform\n",
      "Fold 3: fitting knn with n_neighbors=11, metric=manhattan, weights=uniform\n"
     ]
    },
    {
     "name": "stderr",
     "output_type": "stream",
     "text": [
      "[I 2024-01-05 13:03:59,896] Trial 11 finished with value: 0.8151017978165909 and parameters: {'classifier': 'knn', 'n_clusters': 256, 'n_neighbors': 11, 'metric': 'manhattan', 'weight': 'uniform'}. Best is trial 11 with value: 0.8151017978165909.\n"
     ]
    },
    {
     "name": "stdout",
     "output_type": "stream",
     "text": [
      "Fold 4: fitting knn with n_neighbors=11, metric=manhattan, weights=uniform\n",
      "Fold 0: fitting knn with n_neighbors=12, metric=manhattan, weights=uniform\n",
      "Fold 1: fitting knn with n_neighbors=12, metric=manhattan, weights=uniform\n",
      "Fold 2: fitting knn with n_neighbors=12, metric=manhattan, weights=uniform\n",
      "Fold 3: fitting knn with n_neighbors=12, metric=manhattan, weights=uniform\n"
     ]
    },
    {
     "name": "stderr",
     "output_type": "stream",
     "text": [
      "[I 2024-01-05 13:04:11,333] Trial 12 finished with value: 0.8117498425093282 and parameters: {'classifier': 'knn', 'n_clusters': 256, 'n_neighbors': 12, 'metric': 'manhattan', 'weight': 'uniform'}. Best is trial 11 with value: 0.8151017978165909.\n"
     ]
    },
    {
     "name": "stdout",
     "output_type": "stream",
     "text": [
      "Fold 4: fitting knn with n_neighbors=12, metric=manhattan, weights=uniform\n",
      "Fold 0: fitting knn with n_neighbors=7, metric=manhattan, weights=uniform\n",
      "Fold 1: fitting knn with n_neighbors=7, metric=manhattan, weights=uniform\n",
      "Fold 2: fitting knn with n_neighbors=7, metric=manhattan, weights=uniform\n",
      "Fold 3: fitting knn with n_neighbors=7, metric=manhattan, weights=uniform\n",
      "Fold 4: fitting knn with n_neighbors=7, metric=manhattan, weights=uniform\n"
     ]
    },
    {
     "name": "stderr",
     "output_type": "stream",
     "text": [
      "[I 2024-01-05 13:05:20,690] Trial 13 finished with value: 0.816214962652212 and parameters: {'classifier': 'knn', 'n_clusters': 2048, 'n_neighbors': 7, 'metric': 'manhattan', 'weight': 'uniform'}. Best is trial 13 with value: 0.816214962652212.\n"
     ]
    },
    {
     "name": "stdout",
     "output_type": "stream",
     "text": [
      "Fold 0: fitting knn with n_neighbors=1, metric=cosine, weights=uniform\n",
      "Fold 1: fitting knn with n_neighbors=1, metric=cosine, weights=uniform\n",
      "Fold 2: fitting knn with n_neighbors=1, metric=cosine, weights=uniform\n",
      "Fold 3: fitting knn with n_neighbors=1, metric=cosine, weights=uniform\n"
     ]
    },
    {
     "name": "stderr",
     "output_type": "stream",
     "text": [
      "[I 2024-01-05 13:05:40,305] Trial 14 finished with value: 0.723590371954892 and parameters: {'classifier': 'knn', 'n_clusters': 512, 'n_neighbors': 1, 'metric': 'cosine', 'weight': 'uniform'}. Best is trial 13 with value: 0.816214962652212.\n"
     ]
    },
    {
     "name": "stdout",
     "output_type": "stream",
     "text": [
      "Fold 4: fitting knn with n_neighbors=1, metric=cosine, weights=uniform\n",
      "Fold 0: fitting knn with n_neighbors=16, metric=manhattan, weights=uniform\n",
      "Fold 1: fitting knn with n_neighbors=16, metric=manhattan, weights=uniform\n",
      "Fold 2: fitting knn with n_neighbors=16, metric=manhattan, weights=uniform\n",
      "Fold 3: fitting knn with n_neighbors=16, metric=manhattan, weights=uniform\n",
      "Fold 4: fitting knn with n_neighbors=16, metric=manhattan, weights=uniform\n"
     ]
    },
    {
     "name": "stderr",
     "output_type": "stream",
     "text": [
      "[I 2024-01-05 13:06:16,259] Trial 15 finished with value: 0.8147279738046285 and parameters: {'classifier': 'knn', 'n_clusters': 1024, 'n_neighbors': 16, 'metric': 'manhattan', 'weight': 'uniform'}. Best is trial 13 with value: 0.816214962652212.\n"
     ]
    },
    {
     "name": "stdout",
     "output_type": "stream",
     "text": [
      "Fold 0: fitting knn with n_neighbors=5, metric=manhattan, weights=uniform\n",
      "Fold 1: fitting knn with n_neighbors=5, metric=manhattan, weights=uniform\n",
      "Fold 2: fitting knn with n_neighbors=5, metric=manhattan, weights=uniform\n",
      "Fold 3: fitting knn with n_neighbors=5, metric=manhattan, weights=uniform\n"
     ]
    },
    {
     "name": "stderr",
     "output_type": "stream",
     "text": [
      "[I 2024-01-05 13:06:24,171] Trial 16 finished with value: 0.7942687240832658 and parameters: {'classifier': 'knn', 'n_clusters': 128, 'n_neighbors': 5, 'metric': 'manhattan', 'weight': 'uniform'}. Best is trial 13 with value: 0.816214962652212.\n"
     ]
    },
    {
     "name": "stdout",
     "output_type": "stream",
     "text": [
      "Fold 4: fitting knn with n_neighbors=5, metric=manhattan, weights=uniform\n",
      "Fold 0: fitting knn with n_neighbors=10, metric=manhattan, weights=uniform\n",
      "Fold 1: fitting knn with n_neighbors=10, metric=manhattan, weights=uniform\n",
      "Fold 2: fitting knn with n_neighbors=10, metric=manhattan, weights=uniform\n",
      "Fold 3: fitting knn with n_neighbors=10, metric=manhattan, weights=uniform\n",
      "Fold 4: fitting knn with n_neighbors=10, metric=manhattan, weights=uniform\n"
     ]
    },
    {
     "name": "stderr",
     "output_type": "stream",
     "text": [
      "[I 2024-01-05 13:07:33,836] Trial 17 finished with value: 0.8165894789308634 and parameters: {'classifier': 'knn', 'n_clusters': 2048, 'n_neighbors': 10, 'metric': 'manhattan', 'weight': 'uniform'}. Best is trial 17 with value: 0.8165894789308634.\n"
     ]
    },
    {
     "name": "stdout",
     "output_type": "stream",
     "text": [
      "Fold 0: fitting knn with n_neighbors=4, metric=minkowski, weights=distance\n",
      "Fold 1: fitting knn with n_neighbors=4, metric=minkowski, weights=distance\n",
      "Fold 2: fitting knn with n_neighbors=4, metric=minkowski, weights=distance\n",
      "Fold 3: fitting knn with n_neighbors=4, metric=minkowski, weights=distance\n",
      "Fold 4: fitting knn with n_neighbors=4, metric=minkowski, weights=distance\n"
     ]
    },
    {
     "name": "stderr",
     "output_type": "stream",
     "text": [
      "[I 2024-01-05 13:08:41,417] Trial 18 finished with value: 0.7448014233003122 and parameters: {'classifier': 'knn', 'n_clusters': 2048, 'n_neighbors': 4, 'metric': 'minkowski', 'weight': 'distance'}. Best is trial 17 with value: 0.8165894789308634.\n"
     ]
    },
    {
     "name": "stdout",
     "output_type": "stream",
     "text": [
      "Fold 0: fitting knn with n_neighbors=16, metric=cosine, weights=uniform\n",
      "Fold 1: fitting knn with n_neighbors=16, metric=cosine, weights=uniform\n",
      "Fold 2: fitting knn with n_neighbors=16, metric=cosine, weights=uniform\n",
      "Fold 3: fitting knn with n_neighbors=16, metric=cosine, weights=uniform\n",
      "Fold 4: fitting knn with n_neighbors=16, metric=cosine, weights=uniform\n"
     ]
    },
    {
     "name": "stderr",
     "output_type": "stream",
     "text": [
      "[I 2024-01-05 13:09:47,978] Trial 19 finished with value: 0.7764172429786851 and parameters: {'classifier': 'knn', 'n_clusters': 2048, 'n_neighbors': 16, 'metric': 'cosine', 'weight': 'uniform'}. Best is trial 17 with value: 0.8165894789308634.\n"
     ]
    },
    {
     "name": "stdout",
     "output_type": "stream",
     "text": [
      "Fold 0: fitting knn with n_neighbors=9, metric=hamming, weights=uniform\n",
      "Fold 1: fitting knn with n_neighbors=9, metric=hamming, weights=uniform\n",
      "Fold 2: fitting knn with n_neighbors=9, metric=hamming, weights=uniform\n",
      "Fold 3: fitting knn with n_neighbors=9, metric=hamming, weights=uniform\n",
      "Fold 4: fitting knn with n_neighbors=9, metric=hamming, weights=uniform\n"
     ]
    },
    {
     "name": "stderr",
     "output_type": "stream",
     "text": [
      "[I 2024-01-05 13:10:57,696] Trial 20 finished with value: 0.26264044360449423 and parameters: {'classifier': 'knn', 'n_clusters': 2048, 'n_neighbors': 9, 'metric': 'hamming', 'weight': 'uniform'}. Best is trial 17 with value: 0.8165894789308634.\n"
     ]
    },
    {
     "name": "stdout",
     "output_type": "stream",
     "text": [
      "Fold 0: fitting knn with n_neighbors=10, metric=manhattan, weights=uniform\n",
      "Fold 1: fitting knn with n_neighbors=10, metric=manhattan, weights=uniform\n",
      "Fold 2: fitting knn with n_neighbors=10, metric=manhattan, weights=uniform\n",
      "Fold 3: fitting knn with n_neighbors=10, metric=manhattan, weights=uniform\n"
     ]
    },
    {
     "name": "stderr",
     "output_type": "stream",
     "text": [
      "[I 2024-01-05 13:11:09,156] Trial 21 finished with value: 0.8139865561809032 and parameters: {'classifier': 'knn', 'n_clusters': 256, 'n_neighbors': 10, 'metric': 'manhattan', 'weight': 'uniform'}. Best is trial 17 with value: 0.8165894789308634.\n"
     ]
    },
    {
     "name": "stdout",
     "output_type": "stream",
     "text": [
      "Fold 4: fitting knn with n_neighbors=10, metric=manhattan, weights=uniform\n",
      "Fold 0: fitting knn with n_neighbors=7, metric=manhattan, weights=uniform\n",
      "Fold 1: fitting knn with n_neighbors=7, metric=manhattan, weights=uniform\n",
      "Fold 2: fitting knn with n_neighbors=7, metric=manhattan, weights=uniform\n",
      "Fold 3: fitting knn with n_neighbors=7, metric=manhattan, weights=uniform\n"
     ]
    },
    {
     "name": "stderr",
     "output_type": "stream",
     "text": [
      "[I 2024-01-05 13:11:14,227] Trial 22 finished with value: 0.747394654316629 and parameters: {'classifier': 'knn', 'n_clusters': 32, 'n_neighbors': 7, 'metric': 'manhattan', 'weight': 'uniform'}. Best is trial 17 with value: 0.8165894789308634.\n"
     ]
    },
    {
     "name": "stdout",
     "output_type": "stream",
     "text": [
      "Fold 4: fitting knn with n_neighbors=7, metric=manhattan, weights=uniform\n",
      "Fold 0: fitting knn with n_neighbors=14, metric=manhattan, weights=uniform\n",
      "Fold 1: fitting knn with n_neighbors=14, metric=manhattan, weights=uniform\n",
      "Fold 2: fitting knn with n_neighbors=14, metric=manhattan, weights=uniform\n",
      "Fold 3: fitting knn with n_neighbors=14, metric=manhattan, weights=uniform\n",
      "Fold 4: fitting knn with n_neighbors=14, metric=manhattan, weights=uniform\n"
     ]
    },
    {
     "name": "stderr",
     "output_type": "stream",
     "text": [
      "[I 2024-01-05 13:11:50,540] Trial 23 finished with value: 0.8229140273999155 and parameters: {'classifier': 'knn', 'n_clusters': 1024, 'n_neighbors': 14, 'metric': 'manhattan', 'weight': 'uniform'}. Best is trial 23 with value: 0.8229140273999155.\n"
     ]
    },
    {
     "name": "stdout",
     "output_type": "stream",
     "text": [
      "Fold 0: fitting knn with n_neighbors=15, metric=manhattan, weights=uniform\n",
      "Fold 1: fitting knn with n_neighbors=15, metric=manhattan, weights=uniform\n",
      "Fold 2: fitting knn with n_neighbors=15, metric=manhattan, weights=uniform\n",
      "Fold 3: fitting knn with n_neighbors=15, metric=manhattan, weights=uniform\n",
      "Fold 4: fitting knn with n_neighbors=15, metric=manhattan, weights=uniform\n"
     ]
    },
    {
     "name": "stderr",
     "output_type": "stream",
     "text": [
      "[I 2024-01-05 13:12:26,549] Trial 24 finished with value: 0.8151031823499686 and parameters: {'classifier': 'knn', 'n_clusters': 1024, 'n_neighbors': 15, 'metric': 'manhattan', 'weight': 'uniform'}. Best is trial 23 with value: 0.8229140273999155.\n"
     ]
    },
    {
     "name": "stdout",
     "output_type": "stream",
     "text": [
      "Fold 0: fitting knn with n_neighbors=18, metric=euclidean, weights=uniform\n",
      "Fold 1: fitting knn with n_neighbors=18, metric=euclidean, weights=uniform\n",
      "Fold 2: fitting knn with n_neighbors=18, metric=euclidean, weights=uniform\n",
      "Fold 3: fitting knn with n_neighbors=18, metric=euclidean, weights=uniform\n",
      "Fold 4: fitting knn with n_neighbors=18, metric=euclidean, weights=uniform\n"
     ]
    },
    {
     "name": "stderr",
     "output_type": "stream",
     "text": [
      "[I 2024-01-05 13:13:01,931] Trial 25 finished with value: 0.7633846302949749 and parameters: {'classifier': 'knn', 'n_clusters': 1024, 'n_neighbors': 18, 'metric': 'euclidean', 'weight': 'uniform'}. Best is trial 23 with value: 0.8229140273999155.\n"
     ]
    },
    {
     "name": "stdout",
     "output_type": "stream",
     "text": [
      "Fold 0: fitting knn with n_neighbors=13, metric=manhattan, weights=distance\n",
      "Fold 1: fitting knn with n_neighbors=13, metric=manhattan, weights=distance\n",
      "Fold 2: fitting knn with n_neighbors=13, metric=manhattan, weights=distance\n",
      "Fold 3: fitting knn with n_neighbors=13, metric=manhattan, weights=distance\n"
     ]
    },
    {
     "name": "stderr",
     "output_type": "stream",
     "text": [
      "[I 2024-01-05 13:13:07,825] Trial 26 finished with value: 0.7894325489951749 and parameters: {'classifier': 'knn', 'n_clusters': 64, 'n_neighbors': 13, 'metric': 'manhattan', 'weight': 'distance'}. Best is trial 23 with value: 0.8229140273999155.\n"
     ]
    },
    {
     "name": "stdout",
     "output_type": "stream",
     "text": [
      "Fold 4: fitting knn with n_neighbors=13, metric=manhattan, weights=distance\n",
      "Fold 0: fitting knn with n_neighbors=8, metric=manhattan, weights=uniform\n",
      "Fold 1: fitting knn with n_neighbors=8, metric=manhattan, weights=uniform\n",
      "Fold 2: fitting knn with n_neighbors=8, metric=manhattan, weights=uniform\n",
      "Fold 3: fitting knn with n_neighbors=8, metric=manhattan, weights=uniform\n"
     ]
    },
    {
     "name": "stderr",
     "output_type": "stream",
     "text": [
      "[I 2024-01-05 13:13:15,763] Trial 27 finished with value: 0.8035589430472194 and parameters: {'classifier': 'knn', 'n_clusters': 128, 'n_neighbors': 8, 'metric': 'manhattan', 'weight': 'uniform'}. Best is trial 23 with value: 0.8229140273999155.\n"
     ]
    },
    {
     "name": "stdout",
     "output_type": "stream",
     "text": [
      "Fold 4: fitting knn with n_neighbors=8, metric=manhattan, weights=uniform\n",
      "Fold 0: fitting knn with n_neighbors=4, metric=manhattan, weights=uniform\n",
      "Fold 1: fitting knn with n_neighbors=4, metric=manhattan, weights=uniform\n",
      "Fold 2: fitting knn with n_neighbors=4, metric=manhattan, weights=uniform\n",
      "Fold 3: fitting knn with n_neighbors=4, metric=manhattan, weights=uniform\n"
     ]
    },
    {
     "name": "stderr",
     "output_type": "stream",
     "text": [
      "[I 2024-01-05 13:13:35,063] Trial 28 finished with value: 0.8169605338760704 and parameters: {'classifier': 'knn', 'n_clusters': 512, 'n_neighbors': 4, 'metric': 'manhattan', 'weight': 'uniform'}. Best is trial 23 with value: 0.8229140273999155.\n"
     ]
    },
    {
     "name": "stdout",
     "output_type": "stream",
     "text": [
      "Fold 4: fitting knn with n_neighbors=4, metric=manhattan, weights=uniform\n",
      "Fold 0: fitting knn with n_neighbors=3, metric=manhattan, weights=uniform\n",
      "Fold 1: fitting knn with n_neighbors=3, metric=manhattan, weights=uniform\n",
      "Fold 2: fitting knn with n_neighbors=3, metric=manhattan, weights=uniform\n",
      "Fold 3: fitting knn with n_neighbors=3, metric=manhattan, weights=uniform\n"
     ]
    },
    {
     "name": "stderr",
     "output_type": "stream",
     "text": [
      "[I 2024-01-05 13:13:54,608] Trial 29 finished with value: 0.8173315888212775 and parameters: {'classifier': 'knn', 'n_clusters': 512, 'n_neighbors': 3, 'metric': 'manhattan', 'weight': 'uniform'}. Best is trial 23 with value: 0.8229140273999155.\n"
     ]
    },
    {
     "name": "stdout",
     "output_type": "stream",
     "text": [
      "Fold 4: fitting knn with n_neighbors=3, metric=manhattan, weights=uniform\n",
      "Fold 0: fitting knn with n_neighbors=4, metric=euclidean, weights=uniform\n",
      "Fold 1: fitting knn with n_neighbors=4, metric=euclidean, weights=uniform\n",
      "Fold 2: fitting knn with n_neighbors=4, metric=euclidean, weights=uniform\n",
      "Fold 3: fitting knn with n_neighbors=4, metric=euclidean, weights=uniform\n"
     ]
    },
    {
     "name": "stderr",
     "output_type": "stream",
     "text": [
      "[I 2024-01-05 13:14:14,187] Trial 30 finished with value: 0.7648736959426249 and parameters: {'classifier': 'knn', 'n_clusters': 512, 'n_neighbors': 4, 'metric': 'euclidean', 'weight': 'uniform'}. Best is trial 23 with value: 0.8229140273999155.\n"
     ]
    },
    {
     "name": "stdout",
     "output_type": "stream",
     "text": [
      "Fold 4: fitting knn with n_neighbors=4, metric=euclidean, weights=uniform\n",
      "Fold 0: fitting knn with n_neighbors=2, metric=manhattan, weights=uniform\n",
      "Fold 1: fitting knn with n_neighbors=2, metric=manhattan, weights=uniform\n",
      "Fold 2: fitting knn with n_neighbors=2, metric=manhattan, weights=uniform\n",
      "Fold 3: fitting knn with n_neighbors=2, metric=manhattan, weights=uniform\n"
     ]
    },
    {
     "name": "stderr",
     "output_type": "stream",
     "text": [
      "[I 2024-01-05 13:14:33,649] Trial 31 finished with value: 0.7775290232809287 and parameters: {'classifier': 'knn', 'n_clusters': 512, 'n_neighbors': 2, 'metric': 'manhattan', 'weight': 'uniform'}. Best is trial 23 with value: 0.8229140273999155.\n"
     ]
    },
    {
     "name": "stdout",
     "output_type": "stream",
     "text": [
      "Fold 4: fitting knn with n_neighbors=2, metric=manhattan, weights=uniform\n",
      "Fold 0: fitting knn with n_neighbors=5, metric=manhattan, weights=uniform\n",
      "Fold 1: fitting knn with n_neighbors=5, metric=manhattan, weights=uniform\n",
      "Fold 2: fitting knn with n_neighbors=5, metric=manhattan, weights=uniform\n",
      "Fold 3: fitting knn with n_neighbors=5, metric=manhattan, weights=uniform\n"
     ]
    },
    {
     "name": "stderr",
     "output_type": "stream",
     "text": [
      "[I 2024-01-05 13:14:52,906] Trial 32 finished with value: 0.8247699943926399 and parameters: {'classifier': 'knn', 'n_clusters': 512, 'n_neighbors': 5, 'metric': 'manhattan', 'weight': 'uniform'}. Best is trial 32 with value: 0.8247699943926399.\n"
     ]
    },
    {
     "name": "stdout",
     "output_type": "stream",
     "text": [
      "Fold 4: fitting knn with n_neighbors=5, metric=manhattan, weights=uniform\n",
      "Fold 0: fitting knn with n_neighbors=5, metric=manhattan, weights=uniform\n",
      "Fold 1: fitting knn with n_neighbors=5, metric=manhattan, weights=uniform\n",
      "Fold 2: fitting knn with n_neighbors=5, metric=manhattan, weights=uniform\n",
      "Fold 3: fitting knn with n_neighbors=5, metric=manhattan, weights=uniform\n"
     ]
    },
    {
     "name": "stderr",
     "output_type": "stream",
     "text": [
      "[I 2024-01-05 13:15:12,287] Trial 33 finished with value: 0.8247699943926399 and parameters: {'classifier': 'knn', 'n_clusters': 512, 'n_neighbors': 5, 'metric': 'manhattan', 'weight': 'uniform'}. Best is trial 32 with value: 0.8247699943926399.\n"
     ]
    },
    {
     "name": "stdout",
     "output_type": "stream",
     "text": [
      "Fold 4: fitting knn with n_neighbors=5, metric=manhattan, weights=uniform\n",
      "Fold 0: fitting knn with n_neighbors=5, metric=manhattan, weights=uniform\n",
      "Fold 1: fitting knn with n_neighbors=5, metric=manhattan, weights=uniform\n",
      "Fold 2: fitting knn with n_neighbors=5, metric=manhattan, weights=uniform\n",
      "Fold 3: fitting knn with n_neighbors=5, metric=manhattan, weights=uniform\n"
     ]
    },
    {
     "name": "stderr",
     "output_type": "stream",
     "text": [
      "[I 2024-01-05 13:15:31,634] Trial 34 finished with value: 0.8247699943926399 and parameters: {'classifier': 'knn', 'n_clusters': 512, 'n_neighbors': 5, 'metric': 'manhattan', 'weight': 'uniform'}. Best is trial 32 with value: 0.8247699943926399.\n"
     ]
    },
    {
     "name": "stdout",
     "output_type": "stream",
     "text": [
      "Fold 4: fitting knn with n_neighbors=5, metric=manhattan, weights=uniform\n",
      "Fold 0: fitting knn with n_neighbors=5, metric=manhattan, weights=distance\n",
      "Fold 1: fitting knn with n_neighbors=5, metric=manhattan, weights=distance\n",
      "Fold 2: fitting knn with n_neighbors=5, metric=manhattan, weights=distance\n",
      "Fold 3: fitting knn with n_neighbors=5, metric=manhattan, weights=distance\n"
     ]
    },
    {
     "name": "stderr",
     "output_type": "stream",
     "text": [
      "[I 2024-01-05 13:15:51,212] Trial 35 finished with value: 0.824773455726084 and parameters: {'classifier': 'knn', 'n_clusters': 512, 'n_neighbors': 5, 'metric': 'manhattan', 'weight': 'distance'}. Best is trial 35 with value: 0.824773455726084.\n"
     ]
    },
    {
     "name": "stdout",
     "output_type": "stream",
     "text": [
      "Fold 4: fitting knn with n_neighbors=5, metric=manhattan, weights=distance\n",
      "Fold 0: fitting knn with n_neighbors=5, metric=cosine, weights=distance\n",
      "Fold 1: fitting knn with n_neighbors=5, metric=cosine, weights=distance\n",
      "Fold 2: fitting knn with n_neighbors=5, metric=cosine, weights=distance\n",
      "Fold 3: fitting knn with n_neighbors=5, metric=cosine, weights=distance\n"
     ]
    },
    {
     "name": "stderr",
     "output_type": "stream",
     "text": [
      "[I 2024-01-05 13:16:11,423] Trial 36 finished with value: 0.7544530054758295 and parameters: {'classifier': 'knn', 'n_clusters': 512, 'n_neighbors': 5, 'metric': 'cosine', 'weight': 'distance'}. Best is trial 35 with value: 0.824773455726084.\n"
     ]
    },
    {
     "name": "stdout",
     "output_type": "stream",
     "text": [
      "Fold 4: fitting knn with n_neighbors=5, metric=cosine, weights=distance\n",
      "Fold 0: fitting knn with n_neighbors=6, metric=hamming, weights=distance\n",
      "Fold 1: fitting knn with n_neighbors=6, metric=hamming, weights=distance\n",
      "Fold 2: fitting knn with n_neighbors=6, metric=hamming, weights=distance\n",
      "Fold 3: fitting knn with n_neighbors=6, metric=hamming, weights=distance\n"
     ]
    },
    {
     "name": "stderr",
     "output_type": "stream",
     "text": [
      "[I 2024-01-05 13:16:30,635] Trial 37 finished with value: 0.30989595231667044 and parameters: {'classifier': 'knn', 'n_clusters': 512, 'n_neighbors': 6, 'metric': 'hamming', 'weight': 'distance'}. Best is trial 35 with value: 0.824773455726084.\n"
     ]
    },
    {
     "name": "stdout",
     "output_type": "stream",
     "text": [
      "Fold 4: fitting knn with n_neighbors=6, metric=hamming, weights=distance\n",
      "Fold 0: fitting knn with n_neighbors=1, metric=manhattan, weights=distance\n",
      "Fold 1: fitting knn with n_neighbors=1, metric=manhattan, weights=distance\n",
      "Fold 2: fitting knn with n_neighbors=1, metric=manhattan, weights=distance\n",
      "Fold 3: fitting knn with n_neighbors=1, metric=manhattan, weights=distance\n"
     ]
    },
    {
     "name": "stderr",
     "output_type": "stream",
     "text": [
      "[I 2024-01-05 13:16:50,017] Trial 38 finished with value: 0.7912961309214762 and parameters: {'classifier': 'knn', 'n_clusters': 512, 'n_neighbors': 1, 'metric': 'manhattan', 'weight': 'distance'}. Best is trial 35 with value: 0.824773455726084.\n"
     ]
    },
    {
     "name": "stdout",
     "output_type": "stream",
     "text": [
      "Fold 4: fitting knn with n_neighbors=1, metric=manhattan, weights=distance\n",
      "Fold 0: fitting knn with n_neighbors=5, metric=minkowski, weights=distance\n",
      "Fold 1: fitting knn with n_neighbors=5, metric=minkowski, weights=distance\n",
      "Fold 2: fitting knn with n_neighbors=5, metric=minkowski, weights=distance\n",
      "Fold 3: fitting knn with n_neighbors=5, metric=minkowski, weights=distance\n",
      "Fold 4: fitting knn with n_neighbors=5, metric=minkowski, weights=distance\n"
     ]
    },
    {
     "name": "stderr",
     "output_type": "stream",
     "text": [
      "[I 2024-01-05 13:24:46,622] Trial 39 finished with value: 0.4959301641364319 and parameters: {'classifier': 'knn', 'n_clusters': 16384, 'n_neighbors': 5, 'metric': 'minkowski', 'weight': 'distance'}. Best is trial 35 with value: 0.824773455726084.\n"
     ]
    },
    {
     "name": "stdout",
     "output_type": "stream",
     "text": [
      "Fold 0: fitting knn with n_neighbors=8, metric=manhattan, weights=distance\n",
      "Fold 1: fitting knn with n_neighbors=8, metric=manhattan, weights=distance\n",
      "Fold 2: fitting knn with n_neighbors=8, metric=manhattan, weights=distance\n",
      "Fold 3: fitting knn with n_neighbors=8, metric=manhattan, weights=distance\n"
     ]
    },
    {
     "name": "stderr",
     "output_type": "stream",
     "text": [
      "[I 2024-01-05 13:25:05,959] Trial 40 finished with value: 0.823655445023641 and parameters: {'classifier': 'knn', 'n_clusters': 512, 'n_neighbors': 8, 'metric': 'manhattan', 'weight': 'distance'}. Best is trial 35 with value: 0.824773455726084.\n"
     ]
    },
    {
     "name": "stdout",
     "output_type": "stream",
     "text": [
      "Fold 4: fitting knn with n_neighbors=8, metric=manhattan, weights=distance\n",
      "Fold 0: fitting knn with n_neighbors=6, metric=manhattan, weights=distance\n",
      "Fold 1: fitting knn with n_neighbors=6, metric=manhattan, weights=distance\n",
      "Fold 2: fitting knn with n_neighbors=6, metric=manhattan, weights=distance\n",
      "Fold 3: fitting knn with n_neighbors=6, metric=manhattan, weights=distance\n"
     ]
    },
    {
     "name": "stderr",
     "output_type": "stream",
     "text": [
      "[I 2024-01-05 13:25:25,231] Trial 41 finished with value: 0.8258873128283941 and parameters: {'classifier': 'knn', 'n_clusters': 512, 'n_neighbors': 6, 'metric': 'manhattan', 'weight': 'distance'}. Best is trial 41 with value: 0.8258873128283941.\n"
     ]
    },
    {
     "name": "stdout",
     "output_type": "stream",
     "text": [
      "Fold 4: fitting knn with n_neighbors=6, metric=manhattan, weights=distance\n",
      "Fold 0: fitting knn with n_neighbors=3, metric=manhattan, weights=distance\n",
      "Fold 1: fitting knn with n_neighbors=3, metric=manhattan, weights=distance\n",
      "Fold 2: fitting knn with n_neighbors=3, metric=manhattan, weights=distance\n",
      "Fold 3: fitting knn with n_neighbors=3, metric=manhattan, weights=distance\n"
     ]
    },
    {
     "name": "stderr",
     "output_type": "stream",
     "text": [
      "[I 2024-01-05 13:25:44,731] Trial 42 finished with value: 0.8180778523118246 and parameters: {'classifier': 'knn', 'n_clusters': 512, 'n_neighbors': 3, 'metric': 'manhattan', 'weight': 'distance'}. Best is trial 41 with value: 0.8258873128283941.\n"
     ]
    },
    {
     "name": "stdout",
     "output_type": "stream",
     "text": [
      "Fold 4: fitting knn with n_neighbors=3, metric=manhattan, weights=distance\n",
      "Fold 0: fitting knn with n_neighbors=6, metric=manhattan, weights=distance\n",
      "Fold 1: fitting knn with n_neighbors=6, metric=manhattan, weights=distance\n",
      "Fold 2: fitting knn with n_neighbors=6, metric=manhattan, weights=distance\n",
      "Fold 3: fitting knn with n_neighbors=6, metric=manhattan, weights=distance\n",
      "Fold 4: fitting knn with n_neighbors=6, metric=manhattan, weights=distance\n"
     ]
    },
    {
     "name": "stderr",
     "output_type": "stream",
     "text": [
      "[I 2024-01-05 13:27:56,907] Trial 43 finished with value: 0.8180792368452021 and parameters: {'classifier': 'knn', 'n_clusters': 4096, 'n_neighbors': 6, 'metric': 'manhattan', 'weight': 'distance'}. Best is trial 41 with value: 0.8258873128283941.\n"
     ]
    },
    {
     "name": "stdout",
     "output_type": "stream",
     "text": [
      "Fold 0: fitting knn with n_neighbors=6, metric=euclidean, weights=distance\n",
      "Fold 1: fitting knn with n_neighbors=6, metric=euclidean, weights=distance\n",
      "Fold 2: fitting knn with n_neighbors=6, metric=euclidean, weights=distance\n",
      "Fold 3: fitting knn with n_neighbors=6, metric=euclidean, weights=distance\n",
      "Fold 4: fitting knn with n_neighbors=6, metric=euclidean, weights=distance\n"
     ]
    },
    {
     "name": "stderr",
     "output_type": "stream",
     "text": [
      "[I 2024-01-05 13:31:59,850] Trial 44 finished with value: 0.6268634088596292 and parameters: {'classifier': 'knn', 'n_clusters': 8192, 'n_neighbors': 6, 'metric': 'euclidean', 'weight': 'distance'}. Best is trial 41 with value: 0.8258873128283941.\n"
     ]
    },
    {
     "name": "stdout",
     "output_type": "stream",
     "text": [
      "Fold 0: fitting knn with n_neighbors=3, metric=manhattan, weights=distance\n",
      "Fold 1: fitting knn with n_neighbors=3, metric=manhattan, weights=distance\n",
      "Fold 2: fitting knn with n_neighbors=3, metric=manhattan, weights=distance\n",
      "Fold 3: fitting knn with n_neighbors=3, metric=manhattan, weights=distance\n"
     ]
    },
    {
     "name": "stderr",
     "output_type": "stream",
     "text": [
      "[I 2024-01-05 13:32:19,300] Trial 45 finished with value: 0.8180778523118246 and parameters: {'classifier': 'knn', 'n_clusters': 512, 'n_neighbors': 3, 'metric': 'manhattan', 'weight': 'distance'}. Best is trial 41 with value: 0.8258873128283941.\n"
     ]
    },
    {
     "name": "stdout",
     "output_type": "stream",
     "text": [
      "Fold 4: fitting knn with n_neighbors=3, metric=manhattan, weights=distance\n",
      "Fold 0: fitting knn with n_neighbors=8, metric=hamming, weights=distance\n",
      "Fold 1: fitting knn with n_neighbors=8, metric=hamming, weights=distance\n",
      "Fold 2: fitting knn with n_neighbors=8, metric=hamming, weights=distance\n",
      "Fold 3: fitting knn with n_neighbors=8, metric=hamming, weights=distance\n"
     ]
    },
    {
     "name": "stderr",
     "output_type": "stream",
     "text": [
      "[I 2024-01-05 13:32:25,175] Trial 46 finished with value: 0.3705350529237884 and parameters: {'classifier': 'knn', 'n_clusters': 64, 'n_neighbors': 8, 'metric': 'hamming', 'weight': 'distance'}. Best is trial 41 with value: 0.8258873128283941.\n"
     ]
    },
    {
     "name": "stdout",
     "output_type": "stream",
     "text": [
      "Fold 4: fitting knn with n_neighbors=8, metric=hamming, weights=distance\n",
      "Fold 0: fitting knn with n_neighbors=2, metric=manhattan, weights=distance\n",
      "Fold 1: fitting knn with n_neighbors=2, metric=manhattan, weights=distance\n",
      "Fold 2: fitting knn with n_neighbors=2, metric=manhattan, weights=distance\n",
      "Fold 3: fitting knn with n_neighbors=2, metric=manhattan, weights=distance\n"
     ]
    },
    {
     "name": "stderr",
     "output_type": "stream",
     "text": [
      "[I 2024-01-05 13:32:44,584] Trial 47 finished with value: 0.7898084498072038 and parameters: {'classifier': 'knn', 'n_clusters': 512, 'n_neighbors': 2, 'metric': 'manhattan', 'weight': 'distance'}. Best is trial 41 with value: 0.8258873128283941.\n"
     ]
    },
    {
     "name": "stdout",
     "output_type": "stream",
     "text": [
      "Fold 4: fitting knn with n_neighbors=2, metric=manhattan, weights=distance\n",
      "Fold 0: fitting knn with n_neighbors=9, metric=minkowski, weights=distance\n",
      "Fold 1: fitting knn with n_neighbors=9, metric=minkowski, weights=distance\n",
      "Fold 2: fitting knn with n_neighbors=9, metric=minkowski, weights=distance\n",
      "Fold 3: fitting knn with n_neighbors=9, metric=minkowski, weights=distance\n"
     ]
    },
    {
     "name": "stderr",
     "output_type": "stream",
     "text": [
      "[I 2024-01-05 13:33:03,983] Trial 48 finished with value: 0.7782725177047205 and parameters: {'classifier': 'knn', 'n_clusters': 512, 'n_neighbors': 9, 'metric': 'minkowski', 'weight': 'distance'}. Best is trial 41 with value: 0.8258873128283941.\n"
     ]
    },
    {
     "name": "stdout",
     "output_type": "stream",
     "text": [
      "Fold 4: fitting knn with n_neighbors=9, metric=minkowski, weights=distance\n",
      "Fold 0: fitting knn with n_neighbors=6, metric=cosine, weights=distance\n",
      "Fold 1: fitting knn with n_neighbors=6, metric=cosine, weights=distance\n",
      "Fold 2: fitting knn with n_neighbors=6, metric=cosine, weights=distance\n",
      "Fold 3: fitting knn with n_neighbors=6, metric=cosine, weights=distance\n",
      "Fold 4: fitting knn with n_neighbors=6, metric=cosine, weights=distance\n"
     ]
    },
    {
     "name": "stderr",
     "output_type": "stream",
     "text": [
      "[I 2024-01-05 13:41:00,892] Trial 49 finished with value: 0.7678504427045476 and parameters: {'classifier': 'knn', 'n_clusters': 16384, 'n_neighbors': 6, 'metric': 'cosine', 'weight': 'distance'}. Best is trial 41 with value: 0.8258873128283941.\n"
     ]
    },
    {
     "name": "stdout",
     "output_type": "stream",
     "text": [
      "Fold 0: fitting knn with n_neighbors=22, metric=manhattan, weights=uniform\n",
      "Fold 1: fitting knn with n_neighbors=22, metric=manhattan, weights=uniform\n",
      "Fold 2: fitting knn with n_neighbors=22, metric=manhattan, weights=uniform\n",
      "Fold 3: fitting knn with n_neighbors=22, metric=manhattan, weights=uniform\n"
     ]
    },
    {
     "name": "stderr",
     "output_type": "stream",
     "text": [
      "[I 2024-01-05 13:41:06,080] Trial 50 finished with value: 0.7473918852498735 and parameters: {'classifier': 'knn', 'n_clusters': 32, 'n_neighbors': 22, 'metric': 'manhattan', 'weight': 'uniform'}. Best is trial 41 with value: 0.8258873128283941.\n"
     ]
    },
    {
     "name": "stdout",
     "output_type": "stream",
     "text": [
      "Fold 4: fitting knn with n_neighbors=22, metric=manhattan, weights=uniform\n",
      "Fold 0: fitting knn with n_neighbors=8, metric=manhattan, weights=distance\n",
      "Fold 1: fitting knn with n_neighbors=8, metric=manhattan, weights=distance\n",
      "Fold 2: fitting knn with n_neighbors=8, metric=manhattan, weights=distance\n",
      "Fold 3: fitting knn with n_neighbors=8, metric=manhattan, weights=distance\n"
     ]
    },
    {
     "name": "stderr",
     "output_type": "stream",
     "text": [
      "[I 2024-01-05 13:41:25,285] Trial 51 finished with value: 0.823655445023641 and parameters: {'classifier': 'knn', 'n_clusters': 512, 'n_neighbors': 8, 'metric': 'manhattan', 'weight': 'distance'}. Best is trial 41 with value: 0.8258873128283941.\n"
     ]
    },
    {
     "name": "stdout",
     "output_type": "stream",
     "text": [
      "Fold 4: fitting knn with n_neighbors=8, metric=manhattan, weights=distance\n",
      "Fold 0: fitting knn with n_neighbors=5, metric=manhattan, weights=distance\n",
      "Fold 1: fitting knn with n_neighbors=5, metric=manhattan, weights=distance\n",
      "Fold 2: fitting knn with n_neighbors=5, metric=manhattan, weights=distance\n",
      "Fold 3: fitting knn with n_neighbors=5, metric=manhattan, weights=distance\n"
     ]
    },
    {
     "name": "stderr",
     "output_type": "stream",
     "text": [
      "[I 2024-01-05 13:41:44,698] Trial 52 finished with value: 0.824773455726084 and parameters: {'classifier': 'knn', 'n_clusters': 512, 'n_neighbors': 5, 'metric': 'manhattan', 'weight': 'distance'}. Best is trial 41 with value: 0.8258873128283941.\n"
     ]
    },
    {
     "name": "stdout",
     "output_type": "stream",
     "text": [
      "Fold 4: fitting knn with n_neighbors=5, metric=manhattan, weights=distance\n",
      "Fold 0: fitting knn with n_neighbors=5, metric=manhattan, weights=distance\n",
      "Fold 1: fitting knn with n_neighbors=5, metric=manhattan, weights=distance\n",
      "Fold 2: fitting knn with n_neighbors=5, metric=manhattan, weights=distance\n",
      "Fold 3: fitting knn with n_neighbors=5, metric=manhattan, weights=distance\n"
     ]
    },
    {
     "name": "stderr",
     "output_type": "stream",
     "text": [
      "[I 2024-01-05 13:42:04,244] Trial 53 finished with value: 0.824773455726084 and parameters: {'classifier': 'knn', 'n_clusters': 512, 'n_neighbors': 5, 'metric': 'manhattan', 'weight': 'distance'}. Best is trial 41 with value: 0.8258873128283941.\n"
     ]
    },
    {
     "name": "stdout",
     "output_type": "stream",
     "text": [
      "Fold 4: fitting knn with n_neighbors=5, metric=manhattan, weights=distance\n",
      "Fold 0: fitting knn with n_neighbors=4, metric=manhattan, weights=distance\n",
      "Fold 1: fitting knn with n_neighbors=4, metric=manhattan, weights=distance\n",
      "Fold 2: fitting knn with n_neighbors=4, metric=manhattan, weights=distance\n",
      "Fold 3: fitting knn with n_neighbors=4, metric=manhattan, weights=distance\n",
      "Fold 4: fitting knn with n_neighbors=4, metric=manhattan, weights=distance\n"
     ]
    },
    {
     "name": "stderr",
     "output_type": "stream",
     "text": [
      "[I 2024-01-05 13:44:15,963] Trial 54 finished with value: 0.8139879407142807 and parameters: {'classifier': 'knn', 'n_clusters': 4096, 'n_neighbors': 4, 'metric': 'manhattan', 'weight': 'distance'}. Best is trial 41 with value: 0.8258873128283941.\n"
     ]
    },
    {
     "name": "stdout",
     "output_type": "stream",
     "text": [
      "Fold 0: fitting knn with n_neighbors=3, metric=manhattan, weights=distance\n",
      "Fold 1: fitting knn with n_neighbors=3, metric=manhattan, weights=distance\n",
      "Fold 2: fitting knn with n_neighbors=3, metric=manhattan, weights=distance\n",
      "Fold 3: fitting knn with n_neighbors=3, metric=manhattan, weights=distance\n"
     ]
    },
    {
     "name": "stderr",
     "output_type": "stream",
     "text": [
      "[I 2024-01-05 13:44:35,374] Trial 55 finished with value: 0.8180778523118246 and parameters: {'classifier': 'knn', 'n_clusters': 512, 'n_neighbors': 3, 'metric': 'manhattan', 'weight': 'distance'}. Best is trial 41 with value: 0.8258873128283941.\n"
     ]
    },
    {
     "name": "stdout",
     "output_type": "stream",
     "text": [
      "Fold 4: fitting knn with n_neighbors=3, metric=manhattan, weights=distance\n",
      "Fold 0: fitting knn with n_neighbors=11, metric=manhattan, weights=distance\n",
      "Fold 1: fitting knn with n_neighbors=11, metric=manhattan, weights=distance\n",
      "Fold 2: fitting knn with n_neighbors=11, metric=manhattan, weights=distance\n",
      "Fold 3: fitting knn with n_neighbors=11, metric=manhattan, weights=distance\n",
      "Fold 4: fitting knn with n_neighbors=11, metric=manhattan, weights=distance\n"
     ]
    },
    {
     "name": "stderr",
     "output_type": "stream",
     "text": [
      "[I 2024-01-05 13:48:51,208] Trial 56 finished with value: 0.8124912601330536 and parameters: {'classifier': 'knn', 'n_clusters': 8192, 'n_neighbors': 11, 'metric': 'manhattan', 'weight': 'distance'}. Best is trial 41 with value: 0.8258873128283941.\n"
     ]
    },
    {
     "name": "stdout",
     "output_type": "stream",
     "text": [
      "Fold 0: fitting knn with n_neighbors=7, metric=manhattan, weights=distance\n",
      "Fold 1: fitting knn with n_neighbors=7, metric=manhattan, weights=distance\n",
      "Fold 2: fitting knn with n_neighbors=7, metric=manhattan, weights=distance\n",
      "Fold 3: fitting knn with n_neighbors=7, metric=manhattan, weights=distance\n"
     ]
    },
    {
     "name": "stderr",
     "output_type": "stream",
     "text": [
      "[I 2024-01-05 13:48:58,871] Trial 57 finished with value: 0.8046838764165507 and parameters: {'classifier': 'knn', 'n_clusters': 128, 'n_neighbors': 7, 'metric': 'manhattan', 'weight': 'distance'}. Best is trial 41 with value: 0.8258873128283941.\n"
     ]
    },
    {
     "name": "stdout",
     "output_type": "stream",
     "text": [
      "Fold 4: fitting knn with n_neighbors=7, metric=manhattan, weights=distance\n",
      "Fold 0: fitting knn with n_neighbors=1, metric=manhattan, weights=distance\n",
      "Fold 1: fitting knn with n_neighbors=1, metric=manhattan, weights=distance\n",
      "Fold 2: fitting knn with n_neighbors=1, metric=manhattan, weights=distance\n",
      "Fold 3: fitting knn with n_neighbors=1, metric=manhattan, weights=distance\n"
     ]
    },
    {
     "name": "stderr",
     "output_type": "stream",
     "text": [
      "[I 2024-01-05 13:49:18,337] Trial 58 finished with value: 0.7912961309214762 and parameters: {'classifier': 'knn', 'n_clusters': 512, 'n_neighbors': 1, 'metric': 'manhattan', 'weight': 'distance'}. Best is trial 41 with value: 0.8258873128283941.\n"
     ]
    },
    {
     "name": "stdout",
     "output_type": "stream",
     "text": [
      "Fold 4: fitting knn with n_neighbors=1, metric=manhattan, weights=distance\n",
      "Fold 0: fitting knn with n_neighbors=5, metric=hamming, weights=distance\n",
      "Fold 1: fitting knn with n_neighbors=5, metric=hamming, weights=distance\n",
      "Fold 2: fitting knn with n_neighbors=5, metric=hamming, weights=distance\n",
      "Fold 3: fitting knn with n_neighbors=5, metric=hamming, weights=distance\n"
     ]
    },
    {
     "name": "stderr",
     "output_type": "stream",
     "text": [
      "[I 2024-01-05 13:49:29,963] Trial 59 finished with value: 0.3374336289312095 and parameters: {'classifier': 'knn', 'n_clusters': 256, 'n_neighbors': 5, 'metric': 'hamming', 'weight': 'distance'}. Best is trial 41 with value: 0.8258873128283941.\n"
     ]
    },
    {
     "name": "stdout",
     "output_type": "stream",
     "text": [
      "Fold 4: fitting knn with n_neighbors=5, metric=hamming, weights=distance\n",
      "Fold 0: fitting knn with n_neighbors=10, metric=euclidean, weights=distance\n",
      "Fold 1: fitting knn with n_neighbors=10, metric=euclidean, weights=distance\n",
      "Fold 2: fitting knn with n_neighbors=10, metric=euclidean, weights=distance\n",
      "Fold 3: fitting knn with n_neighbors=10, metric=euclidean, weights=distance\n"
     ]
    },
    {
     "name": "stderr",
     "output_type": "stream",
     "text": [
      "[I 2024-01-05 13:49:49,161] Trial 60 finished with value: 0.7771503534021447 and parameters: {'classifier': 'knn', 'n_clusters': 512, 'n_neighbors': 10, 'metric': 'euclidean', 'weight': 'distance'}. Best is trial 41 with value: 0.8258873128283941.\n"
     ]
    },
    {
     "name": "stdout",
     "output_type": "stream",
     "text": [
      "Fold 4: fitting knn with n_neighbors=10, metric=euclidean, weights=distance\n",
      "Fold 0: fitting knn with n_neighbors=5, metric=manhattan, weights=uniform\n",
      "Fold 1: fitting knn with n_neighbors=5, metric=manhattan, weights=uniform\n",
      "Fold 2: fitting knn with n_neighbors=5, metric=manhattan, weights=uniform\n",
      "Fold 3: fitting knn with n_neighbors=5, metric=manhattan, weights=uniform\n"
     ]
    },
    {
     "name": "stderr",
     "output_type": "stream",
     "text": [
      "[I 2024-01-05 13:50:08,936] Trial 61 finished with value: 0.8247699943926399 and parameters: {'classifier': 'knn', 'n_clusters': 512, 'n_neighbors': 5, 'metric': 'manhattan', 'weight': 'uniform'}. Best is trial 41 with value: 0.8258873128283941.\n"
     ]
    },
    {
     "name": "stdout",
     "output_type": "stream",
     "text": [
      "Fold 4: fitting knn with n_neighbors=5, metric=manhattan, weights=uniform\n",
      "Fold 0: fitting knn with n_neighbors=6, metric=manhattan, weights=uniform\n",
      "Fold 1: fitting knn with n_neighbors=6, metric=manhattan, weights=uniform\n",
      "Fold 2: fitting knn with n_neighbors=6, metric=manhattan, weights=uniform\n",
      "Fold 3: fitting knn with n_neighbors=6, metric=manhattan, weights=uniform\n"
     ]
    },
    {
     "name": "stderr",
     "output_type": "stream",
     "text": [
      "[I 2024-01-05 13:50:28,360] Trial 62 finished with value: 0.8214194236187549 and parameters: {'classifier': 'knn', 'n_clusters': 512, 'n_neighbors': 6, 'metric': 'manhattan', 'weight': 'uniform'}. Best is trial 41 with value: 0.8258873128283941.\n"
     ]
    },
    {
     "name": "stdout",
     "output_type": "stream",
     "text": [
      "Fold 4: fitting knn with n_neighbors=6, metric=manhattan, weights=uniform\n",
      "Fold 0: fitting knn with n_neighbors=4, metric=manhattan, weights=uniform\n",
      "Fold 1: fitting knn with n_neighbors=4, metric=manhattan, weights=uniform\n",
      "Fold 2: fitting knn with n_neighbors=4, metric=manhattan, weights=uniform\n",
      "Fold 3: fitting knn with n_neighbors=4, metric=manhattan, weights=uniform\n"
     ]
    },
    {
     "name": "stderr",
     "output_type": "stream",
     "text": [
      "[I 2024-01-05 13:50:47,766] Trial 63 finished with value: 0.8169605338760704 and parameters: {'classifier': 'knn', 'n_clusters': 512, 'n_neighbors': 4, 'metric': 'manhattan', 'weight': 'uniform'}. Best is trial 41 with value: 0.8258873128283941.\n"
     ]
    },
    {
     "name": "stdout",
     "output_type": "stream",
     "text": [
      "Fold 4: fitting knn with n_neighbors=4, metric=manhattan, weights=uniform\n",
      "Fold 0: fitting knn with n_neighbors=7, metric=manhattan, weights=uniform\n",
      "Fold 1: fitting knn with n_neighbors=7, metric=manhattan, weights=uniform\n",
      "Fold 2: fitting knn with n_neighbors=7, metric=manhattan, weights=uniform\n",
      "Fold 3: fitting knn with n_neighbors=7, metric=manhattan, weights=uniform\n"
     ]
    },
    {
     "name": "stderr",
     "output_type": "stream",
     "text": [
      "[I 2024-01-05 13:51:07,220] Trial 64 finished with value: 0.8214187313520661 and parameters: {'classifier': 'knn', 'n_clusters': 512, 'n_neighbors': 7, 'metric': 'manhattan', 'weight': 'uniform'}. Best is trial 41 with value: 0.8258873128283941.\n"
     ]
    },
    {
     "name": "stdout",
     "output_type": "stream",
     "text": [
      "Fold 4: fitting knn with n_neighbors=7, metric=manhattan, weights=uniform\n",
      "Fold 0: fitting knn with n_neighbors=2, metric=minkowski, weights=distance\n",
      "Fold 1: fitting knn with n_neighbors=2, metric=minkowski, weights=distance\n",
      "Fold 2: fitting knn with n_neighbors=2, metric=minkowski, weights=distance\n",
      "Fold 3: fitting knn with n_neighbors=2, metric=minkowski, weights=distance\n"
     ]
    },
    {
     "name": "stderr",
     "output_type": "stream",
     "text": [
      "[I 2024-01-05 13:51:13,509] Trial 65 finished with value: 0.7090721549569755 and parameters: {'classifier': 'knn', 'n_clusters': 64, 'n_neighbors': 2, 'metric': 'minkowski', 'weight': 'distance'}. Best is trial 41 with value: 0.8258873128283941.\n"
     ]
    },
    {
     "name": "stdout",
     "output_type": "stream",
     "text": [
      "Fold 4: fitting knn with n_neighbors=2, metric=minkowski, weights=distance\n",
      "Fold 0: fitting knn with n_neighbors=5, metric=cosine, weights=uniform\n",
      "Fold 1: fitting knn with n_neighbors=5, metric=cosine, weights=uniform\n",
      "Fold 2: fitting knn with n_neighbors=5, metric=cosine, weights=uniform\n",
      "Fold 3: fitting knn with n_neighbors=5, metric=cosine, weights=uniform\n"
     ]
    },
    {
     "name": "stderr",
     "output_type": "stream",
     "text": [
      "[I 2024-01-05 13:51:19,301] Trial 66 finished with value: 0.7176348016309804 and parameters: {'classifier': 'knn', 'n_clusters': 32, 'n_neighbors': 5, 'metric': 'cosine', 'weight': 'uniform'}. Best is trial 41 with value: 0.8258873128283941.\n"
     ]
    },
    {
     "name": "stdout",
     "output_type": "stream",
     "text": [
      "Fold 4: fitting knn with n_neighbors=5, metric=cosine, weights=uniform\n",
      "Fold 0: fitting knn with n_neighbors=25, metric=manhattan, weights=uniform\n",
      "Fold 1: fitting knn with n_neighbors=25, metric=manhattan, weights=uniform\n",
      "Fold 2: fitting knn with n_neighbors=25, metric=manhattan, weights=uniform\n",
      "Fold 3: fitting knn with n_neighbors=25, metric=manhattan, weights=uniform\n"
     ]
    },
    {
     "name": "stderr",
     "output_type": "stream",
     "text": [
      "[I 2024-01-05 13:51:38,646] Trial 67 finished with value: 0.8121202051878464 and parameters: {'classifier': 'knn', 'n_clusters': 512, 'n_neighbors': 25, 'metric': 'manhattan', 'weight': 'uniform'}. Best is trial 41 with value: 0.8258873128283941.\n"
     ]
    },
    {
     "name": "stdout",
     "output_type": "stream",
     "text": [
      "Fold 4: fitting knn with n_neighbors=25, metric=manhattan, weights=uniform\n",
      "Fold 0: fitting knn with n_neighbors=4, metric=manhattan, weights=distance\n",
      "Fold 1: fitting knn with n_neighbors=4, metric=manhattan, weights=distance\n",
      "Fold 2: fitting knn with n_neighbors=4, metric=manhattan, weights=distance\n",
      "Fold 3: fitting knn with n_neighbors=4, metric=manhattan, weights=distance\n"
     ]
    },
    {
     "name": "stderr",
     "output_type": "stream",
     "text": [
      "[I 2024-01-05 13:51:58,157] Trial 68 finished with value: 0.8203117969166442 and parameters: {'classifier': 'knn', 'n_clusters': 512, 'n_neighbors': 4, 'metric': 'manhattan', 'weight': 'distance'}. Best is trial 41 with value: 0.8258873128283941.\n"
     ]
    },
    {
     "name": "stdout",
     "output_type": "stream",
     "text": [
      "Fold 4: fitting knn with n_neighbors=4, metric=manhattan, weights=distance\n",
      "Fold 0: fitting knn with n_neighbors=3, metric=manhattan, weights=uniform\n",
      "Fold 1: fitting knn with n_neighbors=3, metric=manhattan, weights=uniform\n",
      "Fold 2: fitting knn with n_neighbors=3, metric=manhattan, weights=uniform\n",
      "Fold 3: fitting knn with n_neighbors=3, metric=manhattan, weights=uniform\n",
      "Fold 4: fitting knn with n_neighbors=3, metric=manhattan, weights=uniform\n"
     ]
    },
    {
     "name": "stderr",
     "output_type": "stream",
     "text": [
      "[I 2024-01-05 14:00:22,563] Trial 69 finished with value: 0.7976158335237067 and parameters: {'classifier': 'knn', 'n_clusters': 16384, 'n_neighbors': 3, 'metric': 'manhattan', 'weight': 'uniform'}. Best is trial 41 with value: 0.8258873128283941.\n"
     ]
    },
    {
     "name": "stdout",
     "output_type": "stream",
     "text": [
      "Fold 0: fitting knn with n_neighbors=9, metric=manhattan, weights=distance\n",
      "Fold 1: fitting knn with n_neighbors=9, metric=manhattan, weights=distance\n",
      "Fold 2: fitting knn with n_neighbors=9, metric=manhattan, weights=distance\n",
      "Fold 3: fitting knn with n_neighbors=9, metric=manhattan, weights=distance\n"
     ]
    },
    {
     "name": "stderr",
     "output_type": "stream",
     "text": [
      "[I 2024-01-05 14:00:30,450] Trial 70 finished with value: 0.8031948107689006 and parameters: {'classifier': 'knn', 'n_clusters': 128, 'n_neighbors': 9, 'metric': 'manhattan', 'weight': 'distance'}. Best is trial 41 with value: 0.8258873128283941.\n"
     ]
    },
    {
     "name": "stdout",
     "output_type": "stream",
     "text": [
      "Fold 4: fitting knn with n_neighbors=9, metric=manhattan, weights=distance\n",
      "Fold 0: fitting knn with n_neighbors=5, metric=manhattan, weights=uniform\n",
      "Fold 1: fitting knn with n_neighbors=5, metric=manhattan, weights=uniform\n",
      "Fold 2: fitting knn with n_neighbors=5, metric=manhattan, weights=uniform\n",
      "Fold 3: fitting knn with n_neighbors=5, metric=manhattan, weights=uniform\n"
     ]
    },
    {
     "name": "stderr",
     "output_type": "stream",
     "text": [
      "[I 2024-01-05 14:00:49,925] Trial 71 finished with value: 0.8247699943926399 and parameters: {'classifier': 'knn', 'n_clusters': 512, 'n_neighbors': 5, 'metric': 'manhattan', 'weight': 'uniform'}. Best is trial 41 with value: 0.8258873128283941.\n"
     ]
    },
    {
     "name": "stdout",
     "output_type": "stream",
     "text": [
      "Fold 4: fitting knn with n_neighbors=5, metric=manhattan, weights=uniform\n",
      "Fold 0: fitting knn with n_neighbors=4, metric=manhattan, weights=uniform\n",
      "Fold 1: fitting knn with n_neighbors=4, metric=manhattan, weights=uniform\n",
      "Fold 2: fitting knn with n_neighbors=4, metric=manhattan, weights=uniform\n",
      "Fold 3: fitting knn with n_neighbors=4, metric=manhattan, weights=uniform\n"
     ]
    },
    {
     "name": "stderr",
     "output_type": "stream",
     "text": [
      "[I 2024-01-05 14:01:09,456] Trial 72 finished with value: 0.8169605338760704 and parameters: {'classifier': 'knn', 'n_clusters': 512, 'n_neighbors': 4, 'metric': 'manhattan', 'weight': 'uniform'}. Best is trial 41 with value: 0.8258873128283941.\n"
     ]
    },
    {
     "name": "stdout",
     "output_type": "stream",
     "text": [
      "Fold 4: fitting knn with n_neighbors=4, metric=manhattan, weights=uniform\n",
      "Fold 0: fitting knn with n_neighbors=6, metric=manhattan, weights=uniform\n",
      "Fold 1: fitting knn with n_neighbors=6, metric=manhattan, weights=uniform\n",
      "Fold 2: fitting knn with n_neighbors=6, metric=manhattan, weights=uniform\n",
      "Fold 3: fitting knn with n_neighbors=6, metric=manhattan, weights=uniform\n"
     ]
    },
    {
     "name": "stderr",
     "output_type": "stream",
     "text": [
      "[I 2024-01-05 14:01:28,609] Trial 73 finished with value: 0.8214194236187549 and parameters: {'classifier': 'knn', 'n_clusters': 512, 'n_neighbors': 6, 'metric': 'manhattan', 'weight': 'uniform'}. Best is trial 41 with value: 0.8258873128283941.\n"
     ]
    },
    {
     "name": "stdout",
     "output_type": "stream",
     "text": [
      "Fold 4: fitting knn with n_neighbors=6, metric=manhattan, weights=uniform\n",
      "Fold 0: fitting knn with n_neighbors=7, metric=manhattan, weights=uniform\n",
      "Fold 1: fitting knn with n_neighbors=7, metric=manhattan, weights=uniform\n",
      "Fold 2: fitting knn with n_neighbors=7, metric=manhattan, weights=uniform\n",
      "Fold 3: fitting knn with n_neighbors=7, metric=manhattan, weights=uniform\n"
     ]
    },
    {
     "name": "stderr",
     "output_type": "stream",
     "text": [
      "[I 2024-01-05 14:01:48,040] Trial 74 finished with value: 0.8214187313520661 and parameters: {'classifier': 'knn', 'n_clusters': 512, 'n_neighbors': 7, 'metric': 'manhattan', 'weight': 'uniform'}. Best is trial 41 with value: 0.8258873128283941.\n"
     ]
    },
    {
     "name": "stdout",
     "output_type": "stream",
     "text": [
      "Fold 4: fitting knn with n_neighbors=7, metric=manhattan, weights=uniform\n",
      "Fold 0: fitting knn with n_neighbors=19, metric=manhattan, weights=uniform\n",
      "Fold 1: fitting knn with n_neighbors=19, metric=manhattan, weights=uniform\n",
      "Fold 2: fitting knn with n_neighbors=19, metric=manhattan, weights=uniform\n",
      "Fold 3: fitting knn with n_neighbors=19, metric=manhattan, weights=uniform\n"
     ]
    },
    {
     "name": "stderr",
     "output_type": "stream",
     "text": [
      "[I 2024-01-05 14:01:59,664] Trial 75 finished with value: 0.8098917987165375 and parameters: {'classifier': 'knn', 'n_clusters': 256, 'n_neighbors': 19, 'metric': 'manhattan', 'weight': 'uniform'}. Best is trial 41 with value: 0.8258873128283941.\n"
     ]
    },
    {
     "name": "stdout",
     "output_type": "stream",
     "text": [
      "Fold 4: fitting knn with n_neighbors=19, metric=manhattan, weights=uniform\n",
      "Fold 0: fitting knn with n_neighbors=5, metric=manhattan, weights=uniform\n",
      "Fold 1: fitting knn with n_neighbors=5, metric=manhattan, weights=uniform\n",
      "Fold 2: fitting knn with n_neighbors=5, metric=manhattan, weights=uniform\n",
      "Fold 3: fitting knn with n_neighbors=5, metric=manhattan, weights=uniform\n",
      "Fold 4: fitting knn with n_neighbors=5, metric=manhattan, weights=uniform\n"
     ]
    },
    {
     "name": "stderr",
     "output_type": "stream",
     "text": [
      "[I 2024-01-05 14:02:36,454] Trial 76 finished with value: 0.815465237828221 and parameters: {'classifier': 'knn', 'n_clusters': 1024, 'n_neighbors': 5, 'metric': 'manhattan', 'weight': 'uniform'}. Best is trial 41 with value: 0.8258873128283941.\n"
     ]
    },
    {
     "name": "stdout",
     "output_type": "stream",
     "text": [
      "Fold 0: fitting knn with n_neighbors=2, metric=euclidean, weights=uniform\n",
      "Fold 1: fitting knn with n_neighbors=2, metric=euclidean, weights=uniform\n",
      "Fold 2: fitting knn with n_neighbors=2, metric=euclidean, weights=uniform\n",
      "Fold 3: fitting knn with n_neighbors=2, metric=euclidean, weights=uniform\n"
     ]
    },
    {
     "name": "stderr",
     "output_type": "stream",
     "text": [
      "[I 2024-01-05 14:02:56,056] Trial 77 finished with value: 0.7235896796882031 and parameters: {'classifier': 'knn', 'n_clusters': 512, 'n_neighbors': 2, 'metric': 'euclidean', 'weight': 'uniform'}. Best is trial 41 with value: 0.8258873128283941.\n"
     ]
    },
    {
     "name": "stdout",
     "output_type": "stream",
     "text": [
      "Fold 4: fitting knn with n_neighbors=2, metric=euclidean, weights=uniform\n",
      "Fold 0: fitting knn with n_neighbors=7, metric=hamming, weights=distance\n",
      "Fold 1: fitting knn with n_neighbors=7, metric=hamming, weights=distance\n",
      "Fold 2: fitting knn with n_neighbors=7, metric=hamming, weights=distance\n",
      "Fold 3: fitting knn with n_neighbors=7, metric=hamming, weights=distance\n",
      "Fold 4: fitting knn with n_neighbors=7, metric=hamming, weights=distance\n"
     ]
    },
    {
     "name": "stderr",
     "output_type": "stream",
     "text": [
      "[I 2024-01-05 14:05:07,436] Trial 78 finished with value: 0.23027766816888534 and parameters: {'classifier': 'knn', 'n_clusters': 4096, 'n_neighbors': 7, 'metric': 'hamming', 'weight': 'distance'}. Best is trial 41 with value: 0.8258873128283941.\n"
     ]
    },
    {
     "name": "stdout",
     "output_type": "stream",
     "text": [
      "Fold 0: fitting knn with n_neighbors=3, metric=manhattan, weights=uniform\n",
      "Fold 1: fitting knn with n_neighbors=3, metric=manhattan, weights=uniform\n",
      "Fold 2: fitting knn with n_neighbors=3, metric=manhattan, weights=uniform\n",
      "Fold 3: fitting knn with n_neighbors=3, metric=manhattan, weights=uniform\n"
     ]
    },
    {
     "name": "stderr",
     "output_type": "stream",
     "text": [
      "[I 2024-01-05 14:05:26,817] Trial 79 finished with value: 0.8173315888212775 and parameters: {'classifier': 'knn', 'n_clusters': 512, 'n_neighbors': 3, 'metric': 'manhattan', 'weight': 'uniform'}. Best is trial 41 with value: 0.8258873128283941.\n"
     ]
    },
    {
     "name": "stdout",
     "output_type": "stream",
     "text": [
      "Fold 4: fitting knn with n_neighbors=3, metric=manhattan, weights=uniform\n",
      "Fold 0: fitting knn with n_neighbors=6, metric=minkowski, weights=distance\n",
      "Fold 1: fitting knn with n_neighbors=6, metric=minkowski, weights=distance\n",
      "Fold 2: fitting knn with n_neighbors=6, metric=minkowski, weights=distance\n",
      "Fold 3: fitting knn with n_neighbors=6, metric=minkowski, weights=distance\n",
      "Fold 4: fitting knn with n_neighbors=6, metric=minkowski, weights=distance\n"
     ]
    },
    {
     "name": "stderr",
     "output_type": "stream",
     "text": [
      "[I 2024-01-05 14:09:29,575] Trial 80 finished with value: 0.6268634088596292 and parameters: {'classifier': 'knn', 'n_clusters': 8192, 'n_neighbors': 6, 'metric': 'minkowski', 'weight': 'distance'}. Best is trial 41 with value: 0.8258873128283941.\n"
     ]
    },
    {
     "name": "stdout",
     "output_type": "stream",
     "text": [
      "Fold 0: fitting knn with n_neighbors=5, metric=manhattan, weights=uniform\n",
      "Fold 1: fitting knn with n_neighbors=5, metric=manhattan, weights=uniform\n",
      "Fold 2: fitting knn with n_neighbors=5, metric=manhattan, weights=uniform\n",
      "Fold 3: fitting knn with n_neighbors=5, metric=manhattan, weights=uniform\n"
     ]
    },
    {
     "name": "stderr",
     "output_type": "stream",
     "text": [
      "[I 2024-01-05 14:09:48,996] Trial 81 finished with value: 0.8247699943926399 and parameters: {'classifier': 'knn', 'n_clusters': 512, 'n_neighbors': 5, 'metric': 'manhattan', 'weight': 'uniform'}. Best is trial 41 with value: 0.8258873128283941.\n"
     ]
    },
    {
     "name": "stdout",
     "output_type": "stream",
     "text": [
      "Fold 4: fitting knn with n_neighbors=5, metric=manhattan, weights=uniform\n",
      "Fold 0: fitting knn with n_neighbors=5, metric=manhattan, weights=uniform\n",
      "Fold 1: fitting knn with n_neighbors=5, metric=manhattan, weights=uniform\n",
      "Fold 2: fitting knn with n_neighbors=5, metric=manhattan, weights=uniform\n",
      "Fold 3: fitting knn with n_neighbors=5, metric=manhattan, weights=uniform\n"
     ]
    },
    {
     "name": "stderr",
     "output_type": "stream",
     "text": [
      "[I 2024-01-05 14:10:08,550] Trial 82 finished with value: 0.8247699943926399 and parameters: {'classifier': 'knn', 'n_clusters': 512, 'n_neighbors': 5, 'metric': 'manhattan', 'weight': 'uniform'}. Best is trial 41 with value: 0.8258873128283941.\n"
     ]
    },
    {
     "name": "stdout",
     "output_type": "stream",
     "text": [
      "Fold 4: fitting knn with n_neighbors=5, metric=manhattan, weights=uniform\n",
      "Fold 0: fitting knn with n_neighbors=4, metric=manhattan, weights=uniform\n",
      "Fold 1: fitting knn with n_neighbors=4, metric=manhattan, weights=uniform\n",
      "Fold 2: fitting knn with n_neighbors=4, metric=manhattan, weights=uniform\n",
      "Fold 3: fitting knn with n_neighbors=4, metric=manhattan, weights=uniform\n"
     ]
    },
    {
     "name": "stderr",
     "output_type": "stream",
     "text": [
      "[I 2024-01-05 14:10:28,323] Trial 83 finished with value: 0.8169605338760704 and parameters: {'classifier': 'knn', 'n_clusters': 512, 'n_neighbors': 4, 'metric': 'manhattan', 'weight': 'uniform'}. Best is trial 41 with value: 0.8258873128283941.\n"
     ]
    },
    {
     "name": "stdout",
     "output_type": "stream",
     "text": [
      "Fold 4: fitting knn with n_neighbors=4, metric=manhattan, weights=uniform\n",
      "Fold 0: fitting knn with n_neighbors=6, metric=manhattan, weights=uniform\n",
      "Fold 1: fitting knn with n_neighbors=6, metric=manhattan, weights=uniform\n",
      "Fold 2: fitting knn with n_neighbors=6, metric=manhattan, weights=uniform\n",
      "Fold 3: fitting knn with n_neighbors=6, metric=manhattan, weights=uniform\n"
     ]
    },
    {
     "name": "stderr",
     "output_type": "stream",
     "text": [
      "[I 2024-01-05 14:10:47,814] Trial 84 finished with value: 0.8214194236187549 and parameters: {'classifier': 'knn', 'n_clusters': 512, 'n_neighbors': 6, 'metric': 'manhattan', 'weight': 'uniform'}. Best is trial 41 with value: 0.8258873128283941.\n"
     ]
    },
    {
     "name": "stdout",
     "output_type": "stream",
     "text": [
      "Fold 4: fitting knn with n_neighbors=6, metric=manhattan, weights=uniform\n",
      "Fold 0: fitting knn with n_neighbors=8, metric=cosine, weights=uniform\n",
      "Fold 1: fitting knn with n_neighbors=8, metric=cosine, weights=uniform\n",
      "Fold 2: fitting knn with n_neighbors=8, metric=cosine, weights=uniform\n",
      "Fold 3: fitting knn with n_neighbors=8, metric=cosine, weights=uniform\n"
     ]
    },
    {
     "name": "stderr",
     "output_type": "stream",
     "text": [
      "[I 2024-01-05 14:11:07,179] Trial 85 finished with value: 0.7462738745474307 and parameters: {'classifier': 'knn', 'n_clusters': 512, 'n_neighbors': 8, 'metric': 'cosine', 'weight': 'uniform'}. Best is trial 41 with value: 0.8258873128283941.\n"
     ]
    },
    {
     "name": "stdout",
     "output_type": "stream",
     "text": [
      "Fold 4: fitting knn with n_neighbors=8, metric=cosine, weights=uniform\n",
      "Fold 0: fitting knn with n_neighbors=5, metric=manhattan, weights=uniform\n",
      "Fold 1: fitting knn with n_neighbors=5, metric=manhattan, weights=uniform\n",
      "Fold 2: fitting knn with n_neighbors=5, metric=manhattan, weights=uniform\n",
      "Fold 3: fitting knn with n_neighbors=5, metric=manhattan, weights=uniform\n",
      "Fold 4: fitting knn with n_neighbors=5, metric=manhattan, weights=uniform\n"
     ]
    },
    {
     "name": "stderr",
     "output_type": "stream",
     "text": [
      "[I 2024-01-05 14:12:16,442] Trial 86 finished with value: 0.813607886302119 and parameters: {'classifier': 'knn', 'n_clusters': 2048, 'n_neighbors': 5, 'metric': 'manhattan', 'weight': 'uniform'}. Best is trial 41 with value: 0.8258873128283941.\n"
     ]
    },
    {
     "name": "stdout",
     "output_type": "stream",
     "text": [
      "Fold 0: fitting knn with n_neighbors=4, metric=manhattan, weights=distance\n",
      "Fold 1: fitting knn with n_neighbors=4, metric=manhattan, weights=distance\n",
      "Fold 2: fitting knn with n_neighbors=4, metric=manhattan, weights=distance\n",
      "Fold 3: fitting knn with n_neighbors=4, metric=manhattan, weights=distance\n"
     ]
    },
    {
     "name": "stderr",
     "output_type": "stream",
     "text": [
      "[I 2024-01-05 14:12:35,825] Trial 87 finished with value: 0.8203117969166442 and parameters: {'classifier': 'knn', 'n_clusters': 512, 'n_neighbors': 4, 'metric': 'manhattan', 'weight': 'distance'}. Best is trial 41 with value: 0.8258873128283941.\n"
     ]
    },
    {
     "name": "stdout",
     "output_type": "stream",
     "text": [
      "Fold 4: fitting knn with n_neighbors=4, metric=manhattan, weights=distance\n",
      "Fold 0: fitting knn with n_neighbors=7, metric=manhattan, weights=uniform\n",
      "Fold 1: fitting knn with n_neighbors=7, metric=manhattan, weights=uniform\n",
      "Fold 2: fitting knn with n_neighbors=7, metric=manhattan, weights=uniform\n",
      "Fold 3: fitting knn with n_neighbors=7, metric=manhattan, weights=uniform\n"
     ]
    },
    {
     "name": "stderr",
     "output_type": "stream",
     "text": [
      "[I 2024-01-05 14:12:41,750] Trial 88 finished with value: 0.782360352502198 and parameters: {'classifier': 'knn', 'n_clusters': 64, 'n_neighbors': 7, 'metric': 'manhattan', 'weight': 'uniform'}. Best is trial 41 with value: 0.8258873128283941.\n"
     ]
    },
    {
     "name": "stdout",
     "output_type": "stream",
     "text": [
      "Fold 4: fitting knn with n_neighbors=7, metric=manhattan, weights=uniform\n",
      "Fold 0: fitting knn with n_neighbors=3, metric=manhattan, weights=distance\n",
      "Fold 1: fitting knn with n_neighbors=3, metric=manhattan, weights=distance\n",
      "Fold 2: fitting knn with n_neighbors=3, metric=manhattan, weights=distance\n",
      "Fold 3: fitting knn with n_neighbors=3, metric=manhattan, weights=distance\n"
     ]
    },
    {
     "name": "stderr",
     "output_type": "stream",
     "text": [
      "[I 2024-01-05 14:13:01,152] Trial 89 finished with value: 0.8180778523118246 and parameters: {'classifier': 'knn', 'n_clusters': 512, 'n_neighbors': 3, 'metric': 'manhattan', 'weight': 'distance'}. Best is trial 41 with value: 0.8258873128283941.\n"
     ]
    },
    {
     "name": "stdout",
     "output_type": "stream",
     "text": [
      "Fold 4: fitting knn with n_neighbors=3, metric=manhattan, weights=distance\n",
      "Fold 0: fitting knn with n_neighbors=6, metric=manhattan, weights=uniform\n",
      "Fold 1: fitting knn with n_neighbors=6, metric=manhattan, weights=uniform\n",
      "Fold 2: fitting knn with n_neighbors=6, metric=manhattan, weights=uniform\n",
      "Fold 3: fitting knn with n_neighbors=6, metric=manhattan, weights=uniform\n"
     ]
    },
    {
     "name": "stderr",
     "output_type": "stream",
     "text": [
      "[I 2024-01-05 14:13:20,839] Trial 90 finished with value: 0.8214194236187549 and parameters: {'classifier': 'knn', 'n_clusters': 512, 'n_neighbors': 6, 'metric': 'manhattan', 'weight': 'uniform'}. Best is trial 41 with value: 0.8258873128283941.\n"
     ]
    },
    {
     "name": "stdout",
     "output_type": "stream",
     "text": [
      "Fold 4: fitting knn with n_neighbors=6, metric=manhattan, weights=uniform\n",
      "Fold 0: fitting knn with n_neighbors=5, metric=manhattan, weights=uniform\n",
      "Fold 1: fitting knn with n_neighbors=5, metric=manhattan, weights=uniform\n",
      "Fold 2: fitting knn with n_neighbors=5, metric=manhattan, weights=uniform\n",
      "Fold 3: fitting knn with n_neighbors=5, metric=manhattan, weights=uniform\n"
     ]
    },
    {
     "name": "stderr",
     "output_type": "stream",
     "text": [
      "[I 2024-01-05 14:13:40,039] Trial 91 finished with value: 0.8247699943926399 and parameters: {'classifier': 'knn', 'n_clusters': 512, 'n_neighbors': 5, 'metric': 'manhattan', 'weight': 'uniform'}. Best is trial 41 with value: 0.8258873128283941.\n"
     ]
    },
    {
     "name": "stdout",
     "output_type": "stream",
     "text": [
      "Fold 4: fitting knn with n_neighbors=5, metric=manhattan, weights=uniform\n",
      "Fold 0: fitting knn with n_neighbors=5, metric=manhattan, weights=uniform\n",
      "Fold 1: fitting knn with n_neighbors=5, metric=manhattan, weights=uniform\n",
      "Fold 2: fitting knn with n_neighbors=5, metric=manhattan, weights=uniform\n",
      "Fold 3: fitting knn with n_neighbors=5, metric=manhattan, weights=uniform\n"
     ]
    },
    {
     "name": "stderr",
     "output_type": "stream",
     "text": [
      "[I 2024-01-05 14:13:59,462] Trial 92 finished with value: 0.8247699943926399 and parameters: {'classifier': 'knn', 'n_clusters': 512, 'n_neighbors': 5, 'metric': 'manhattan', 'weight': 'uniform'}. Best is trial 41 with value: 0.8258873128283941.\n"
     ]
    },
    {
     "name": "stdout",
     "output_type": "stream",
     "text": [
      "Fold 4: fitting knn with n_neighbors=5, metric=manhattan, weights=uniform\n",
      "Fold 0: fitting knn with n_neighbors=4, metric=manhattan, weights=uniform\n",
      "Fold 1: fitting knn with n_neighbors=4, metric=manhattan, weights=uniform\n",
      "Fold 2: fitting knn with n_neighbors=4, metric=manhattan, weights=uniform\n",
      "Fold 3: fitting knn with n_neighbors=4, metric=manhattan, weights=uniform\n"
     ]
    },
    {
     "name": "stderr",
     "output_type": "stream",
     "text": [
      "[I 2024-01-05 14:14:18,833] Trial 93 finished with value: 0.8169605338760704 and parameters: {'classifier': 'knn', 'n_clusters': 512, 'n_neighbors': 4, 'metric': 'manhattan', 'weight': 'uniform'}. Best is trial 41 with value: 0.8258873128283941.\n"
     ]
    },
    {
     "name": "stdout",
     "output_type": "stream",
     "text": [
      "Fold 4: fitting knn with n_neighbors=4, metric=manhattan, weights=uniform\n",
      "Fold 0: fitting knn with n_neighbors=6, metric=manhattan, weights=uniform\n",
      "Fold 1: fitting knn with n_neighbors=6, metric=manhattan, weights=uniform\n",
      "Fold 2: fitting knn with n_neighbors=6, metric=manhattan, weights=uniform\n",
      "Fold 3: fitting knn with n_neighbors=6, metric=manhattan, weights=uniform\n"
     ]
    },
    {
     "name": "stderr",
     "output_type": "stream",
     "text": [
      "[I 2024-01-05 14:14:24,045] Trial 94 finished with value: 0.7403245346237185 and parameters: {'classifier': 'knn', 'n_clusters': 32, 'n_neighbors': 6, 'metric': 'manhattan', 'weight': 'uniform'}. Best is trial 41 with value: 0.8258873128283941.\n"
     ]
    },
    {
     "name": "stdout",
     "output_type": "stream",
     "text": [
      "Fold 4: fitting knn with n_neighbors=6, metric=manhattan, weights=uniform\n",
      "Fold 0: fitting knn with n_neighbors=8, metric=manhattan, weights=distance\n",
      "Fold 1: fitting knn with n_neighbors=8, metric=manhattan, weights=distance\n",
      "Fold 2: fitting knn with n_neighbors=8, metric=manhattan, weights=distance\n",
      "Fold 3: fitting knn with n_neighbors=8, metric=manhattan, weights=distance\n"
     ]
    },
    {
     "name": "stderr",
     "output_type": "stream",
     "text": [
      "[I 2024-01-05 14:14:43,731] Trial 95 finished with value: 0.823655445023641 and parameters: {'classifier': 'knn', 'n_clusters': 512, 'n_neighbors': 8, 'metric': 'manhattan', 'weight': 'distance'}. Best is trial 41 with value: 0.8258873128283941.\n"
     ]
    },
    {
     "name": "stdout",
     "output_type": "stream",
     "text": [
      "Fold 4: fitting knn with n_neighbors=8, metric=manhattan, weights=distance\n",
      "Fold 0: fitting knn with n_neighbors=2, metric=manhattan, weights=uniform\n",
      "Fold 1: fitting knn with n_neighbors=2, metric=manhattan, weights=uniform\n",
      "Fold 2: fitting knn with n_neighbors=2, metric=manhattan, weights=uniform\n",
      "Fold 3: fitting knn with n_neighbors=2, metric=manhattan, weights=uniform\n"
     ]
    },
    {
     "name": "stderr",
     "output_type": "stream",
     "text": [
      "[I 2024-01-05 14:15:03,133] Trial 96 finished with value: 0.7775290232809287 and parameters: {'classifier': 'knn', 'n_clusters': 512, 'n_neighbors': 2, 'metric': 'manhattan', 'weight': 'uniform'}. Best is trial 41 with value: 0.8258873128283941.\n"
     ]
    },
    {
     "name": "stdout",
     "output_type": "stream",
     "text": [
      "Fold 4: fitting knn with n_neighbors=2, metric=manhattan, weights=uniform\n",
      "Fold 0: fitting knn with n_neighbors=5, metric=euclidean, weights=distance\n",
      "Fold 1: fitting knn with n_neighbors=5, metric=euclidean, weights=distance\n",
      "Fold 2: fitting knn with n_neighbors=5, metric=euclidean, weights=distance\n",
      "Fold 3: fitting knn with n_neighbors=5, metric=euclidean, weights=distance\n",
      "Fold 4: fitting knn with n_neighbors=5, metric=euclidean, weights=distance\n"
     ]
    },
    {
     "name": "stderr",
     "output_type": "stream",
     "text": [
      "[I 2024-01-05 14:22:58,051] Trial 97 finished with value: 0.4959301641364319 and parameters: {'classifier': 'knn', 'n_clusters': 16384, 'n_neighbors': 5, 'metric': 'euclidean', 'weight': 'distance'}. Best is trial 41 with value: 0.8258873128283941.\n"
     ]
    },
    {
     "name": "stdout",
     "output_type": "stream",
     "text": [
      "Fold 0: fitting knn with n_neighbors=3, metric=manhattan, weights=uniform\n",
      "Fold 1: fitting knn with n_neighbors=3, metric=manhattan, weights=uniform\n",
      "Fold 2: fitting knn with n_neighbors=3, metric=manhattan, weights=uniform\n",
      "Fold 3: fitting knn with n_neighbors=3, metric=manhattan, weights=uniform\n",
      "Fold 4: fitting knn with n_neighbors=3, metric=manhattan, weights=uniform\n"
     ]
    },
    {
     "name": "stderr",
     "output_type": "stream",
     "text": [
      "[I 2024-01-05 14:23:34,275] Trial 98 finished with value: 0.808771711214028 and parameters: {'classifier': 'knn', 'n_clusters': 1024, 'n_neighbors': 3, 'metric': 'manhattan', 'weight': 'uniform'}. Best is trial 41 with value: 0.8258873128283941.\n"
     ]
    },
    {
     "name": "stdout",
     "output_type": "stream",
     "text": [
      "Fold 0: fitting knn with n_neighbors=7, metric=hamming, weights=distance\n",
      "Fold 1: fitting knn with n_neighbors=7, metric=hamming, weights=distance\n",
      "Fold 2: fitting knn with n_neighbors=7, metric=hamming, weights=distance\n",
      "Fold 3: fitting knn with n_neighbors=7, metric=hamming, weights=distance\n"
     ]
    },
    {
     "name": "stderr",
     "output_type": "stream",
     "text": [
      "[I 2024-01-05 14:23:53,384] Trial 99 finished with value: 0.30952351283808577 and parameters: {'classifier': 'knn', 'n_clusters': 512, 'n_neighbors': 7, 'metric': 'hamming', 'weight': 'distance'}. Best is trial 41 with value: 0.8258873128283941.\n"
     ]
    },
    {
     "name": "stdout",
     "output_type": "stream",
     "text": [
      "Fold 4: fitting knn with n_neighbors=7, metric=hamming, weights=distance\n"
     ]
    },
    {
     "data": {
      "text/plain": [
       "{'classifier': 'knn',\n",
       " 'n_clusters': 512,\n",
       " 'n_neighbors': 6,\n",
       " 'metric': 'manhattan',\n",
       " 'weight': 'distance'}"
      ]
     },
     "execution_count": 12,
     "metadata": {},
     "output_type": "execute_result"
    }
   ],
   "source": [
    "def objective(trial):\n",
    "\n",
    "    n_clusters = trial.suggest_categorical('n_clusters', codebook_sizes)\n",
    "    n_neighbors = trial.suggest_int('n_neighbors', 1, 25)\n",
    "    metric = trial.suggest_categorical('metric', ['euclidean', \n",
    "                                                    'minkowski', \n",
    "                                                    'cosine', \n",
    "                                                    'manhattan', \n",
    "                                                    'hamming'])\n",
    "    weight = trial.suggest_categorical('weight', ['uniform', 'distance'])\n",
    "\n",
    "    metrics = []\n",
    "    # Run k-fold cross validation per hyperparameter combination\n",
    "    for i, fold in enumerate(folds, 0):\n",
    "\n",
    "        train_data, train_labels, test_data, test_labels = fold\n",
    "        \n",
    "        codebook = codebooks[f'fold_{i}'][n_clusters]\n",
    "        # create visual words for training data\n",
    "        train_visual_words = create_visual_words(train_data, descriptors_dictionary, codebook)\n",
    "        # create visual words for test data\n",
    "        test_visual_words = create_visual_words(test_data, descriptors_dictionary, codebook)\n",
    "        \n",
    "        # fit kNN classifier\n",
    "        print(f'Fold {i}: fitting knn with n_neighbors={n_neighbors}, metric={metric}, weights={weight}')\n",
    "        knn = KNeighborsClassifier(n_neighbors=n_neighbors,n_jobs=-1,metric=metric, weights=weight)\n",
    "        knn.fit(train_visual_words, train_labels)\n",
    "        # predict labels for test data\n",
    "        pred_labels = knn.predict(test_visual_words)\n",
    "\n",
    "        # get accuracy metric for current run\n",
    "        metrics.append(get_metrics(test_labels, pred_labels)[0])\n",
    "\n",
    "    return sum(metrics)/len(metrics)\n",
    "\n",
    "study = optuna.create_study(direction='maximize')\n",
    "study.optimize(objective, n_trials=100)\n",
    "\n",
    "study.best_params"
   ]
  },
  {
   "cell_type": "markdown",
   "metadata": {},
   "source": [
    "### Gridsearch for SVC parameters ###"
   ]
  },
  {
   "cell_type": "code",
   "execution_count": 13,
   "metadata": {},
   "outputs": [
    {
     "name": "stderr",
     "output_type": "stream",
     "text": [
      "[I 2024-01-05 18:58:13,226] A new study created in memory with name: no-name-1496ce56-3621-4308-939a-1b7fd28d6d1b\n"
     ]
    },
    {
     "name": "stdout",
     "output_type": "stream",
     "text": [
      "Fold 0: fitting svm with C=0.1, kernel=sigmoid, gamma=0.05, n_clusters=1024\n",
      "Fold 1: fitting svm with C=0.1, kernel=sigmoid, gamma=0.05, n_clusters=1024\n",
      "Fold 2: fitting svm with C=0.1, kernel=sigmoid, gamma=0.05, n_clusters=1024\n",
      "Fold 3: fitting svm with C=0.1, kernel=sigmoid, gamma=0.05, n_clusters=1024\n",
      "Fold 4: fitting svm with C=0.1, kernel=sigmoid, gamma=0.05, n_clusters=1024\n"
     ]
    },
    {
     "name": "stderr",
     "output_type": "stream",
     "text": [
      "[I 2024-01-05 18:59:01,688] Trial 0 finished with value: 0.15847507493786908 and parameters: {'n_clusters': 1024, 'svm_kernel': 'sigmoid', 'svm_C': 0.1, 'svm_gamma': 0.05}. Best is trial 0 with value: 0.15847507493786908.\n"
     ]
    },
    {
     "name": "stdout",
     "output_type": "stream",
     "text": [
      "Fold 0: fitting svm with C=1, kernel=sigmoid, gamma=0.05, n_clusters=4096\n",
      "Fold 1: fitting svm with C=1, kernel=sigmoid, gamma=0.05, n_clusters=4096\n",
      "Fold 2: fitting svm with C=1, kernel=sigmoid, gamma=0.05, n_clusters=4096\n",
      "Fold 3: fitting svm with C=1, kernel=sigmoid, gamma=0.05, n_clusters=4096\n",
      "Fold 4: fitting svm with C=1, kernel=sigmoid, gamma=0.05, n_clusters=4096\n"
     ]
    },
    {
     "name": "stderr",
     "output_type": "stream",
     "text": [
      "[I 2024-01-05 19:02:16,225] Trial 1 finished with value: 0.3467356164288731 and parameters: {'n_clusters': 4096, 'svm_kernel': 'sigmoid', 'svm_C': 1, 'svm_gamma': 0.05}. Best is trial 1 with value: 0.3467356164288731.\n"
     ]
    },
    {
     "name": "stdout",
     "output_type": "stream",
     "text": [
      "Fold 0: fitting svm with C=0.1, kernel=sigmoid, gamma=0.1, n_clusters=512\n",
      "Fold 1: fitting svm with C=0.1, kernel=sigmoid, gamma=0.1, n_clusters=512\n",
      "Fold 2: fitting svm with C=0.1, kernel=sigmoid, gamma=0.1, n_clusters=512\n",
      "Fold 3: fitting svm with C=0.1, kernel=sigmoid, gamma=0.1, n_clusters=512\n",
      "Fold 4: fitting svm with C=0.1, kernel=sigmoid, gamma=0.1, n_clusters=512\n"
     ]
    },
    {
     "name": "stderr",
     "output_type": "stream",
     "text": [
      "[I 2024-01-05 19:02:42,246] Trial 2 finished with value: 0.1528981744927416 and parameters: {'n_clusters': 512, 'svm_kernel': 'sigmoid', 'svm_C': 0.1, 'svm_gamma': 0.1}. Best is trial 1 with value: 0.3467356164288731.\n"
     ]
    },
    {
     "name": "stdout",
     "output_type": "stream",
     "text": [
      "Fold 0: fitting svm with C=10, kernel=sigmoid, gamma=0.05, n_clusters=64\n",
      "Fold 1: fitting svm with C=10, kernel=sigmoid, gamma=0.05, n_clusters=64\n",
      "Fold 2: fitting svm with C=10, kernel=sigmoid, gamma=0.05, n_clusters=64\n",
      "Fold 3: fitting svm with C=10, kernel=sigmoid, gamma=0.05, n_clusters=64\n",
      "Fold 4: fitting svm with C=10, kernel=sigmoid, gamma=0.05, n_clusters=64\n"
     ]
    },
    {
     "name": "stderr",
     "output_type": "stream",
     "text": [
      "[I 2024-01-05 19:02:50,067] Trial 3 finished with value: 0.1532699217046375 and parameters: {'n_clusters': 64, 'svm_kernel': 'sigmoid', 'svm_C': 10, 'svm_gamma': 0.05}. Best is trial 1 with value: 0.3467356164288731.\n"
     ]
    },
    {
     "name": "stdout",
     "output_type": "stream",
     "text": [
      "Fold 0: fitting svm with C=1, kernel=rbf, gamma=0.1, n_clusters=256\n",
      "Fold 1: fitting svm with C=1, kernel=rbf, gamma=0.1, n_clusters=256\n",
      "Fold 2: fitting svm with C=1, kernel=rbf, gamma=0.1, n_clusters=256\n",
      "Fold 3: fitting svm with C=1, kernel=rbf, gamma=0.1, n_clusters=256\n",
      "Fold 4: fitting svm with C=1, kernel=rbf, gamma=0.1, n_clusters=256\n"
     ]
    },
    {
     "name": "stderr",
     "output_type": "stream",
     "text": [
      "[I 2024-01-05 19:03:07,592] Trial 4 finished with value: 0.1532706139713263 and parameters: {'n_clusters': 256, 'svm_kernel': 'rbf', 'svm_C': 1, 'svm_gamma': 0.1}. Best is trial 1 with value: 0.3467356164288731.\n"
     ]
    },
    {
     "name": "stdout",
     "output_type": "stream",
     "text": [
      "Fold 0: fitting svm with C=1, kernel=poly, gamma=0.25, n_clusters=1024\n",
      "Fold 1: fitting svm with C=1, kernel=poly, gamma=0.25, n_clusters=1024\n",
      "Fold 2: fitting svm with C=1, kernel=poly, gamma=0.25, n_clusters=1024\n",
      "Fold 3: fitting svm with C=1, kernel=poly, gamma=0.25, n_clusters=1024\n",
      "Fold 4: fitting svm with C=1, kernel=poly, gamma=0.25, n_clusters=1024\n"
     ]
    },
    {
     "name": "stderr",
     "output_type": "stream",
     "text": [
      "[I 2024-01-05 19:03:55,650] Trial 5 finished with value: 0.832958817054682 and parameters: {'n_clusters': 1024, 'svm_kernel': 'poly', 'svm_C': 1, 'svm_gamma': 0.25}. Best is trial 5 with value: 0.832958817054682.\n"
     ]
    },
    {
     "name": "stdout",
     "output_type": "stream",
     "text": [
      "Fold 0: fitting svm with C=100, kernel=sigmoid, gamma=0.05, n_clusters=16384\n",
      "Fold 1: fitting svm with C=100, kernel=sigmoid, gamma=0.05, n_clusters=16384\n",
      "Fold 2: fitting svm with C=100, kernel=sigmoid, gamma=0.05, n_clusters=16384\n",
      "Fold 3: fitting svm with C=100, kernel=sigmoid, gamma=0.05, n_clusters=16384\n",
      "Fold 4: fitting svm with C=100, kernel=sigmoid, gamma=0.05, n_clusters=16384\n"
     ]
    },
    {
     "name": "stderr",
     "output_type": "stream",
     "text": [
      "[I 2024-01-05 19:17:43,810] Trial 6 finished with value: 0.5204620187881179 and parameters: {'n_clusters': 16384, 'svm_kernel': 'sigmoid', 'svm_C': 100, 'svm_gamma': 0.05}. Best is trial 5 with value: 0.832958817054682.\n"
     ]
    },
    {
     "name": "stdout",
     "output_type": "stream",
     "text": [
      "Fold 0: fitting svm with C=0.1, kernel=poly, gamma=0.25, n_clusters=128\n",
      "Fold 1: fitting svm with C=0.1, kernel=poly, gamma=0.25, n_clusters=128\n",
      "Fold 2: fitting svm with C=0.1, kernel=poly, gamma=0.25, n_clusters=128\n",
      "Fold 3: fitting svm with C=0.1, kernel=poly, gamma=0.25, n_clusters=128\n",
      "Fold 4: fitting svm with C=0.1, kernel=poly, gamma=0.25, n_clusters=128\n"
     ]
    },
    {
     "name": "stderr",
     "output_type": "stream",
     "text": [
      "[I 2024-01-05 19:17:53,242] Trial 7 finished with value: 0.8307234879164849 and parameters: {'n_clusters': 128, 'svm_kernel': 'poly', 'svm_C': 0.1, 'svm_gamma': 0.25}. Best is trial 5 with value: 0.832958817054682.\n"
     ]
    },
    {
     "name": "stdout",
     "output_type": "stream",
     "text": [
      "Fold 0: fitting svm with C=0.1, kernel=poly, gamma=0.1, n_clusters=256\n",
      "Fold 1: fitting svm with C=0.1, kernel=poly, gamma=0.1, n_clusters=256\n",
      "Fold 2: fitting svm with C=0.1, kernel=poly, gamma=0.1, n_clusters=256\n",
      "Fold 3: fitting svm with C=0.1, kernel=poly, gamma=0.1, n_clusters=256\n",
      "Fold 4: fitting svm with C=0.1, kernel=poly, gamma=0.1, n_clusters=256\n"
     ]
    },
    {
     "name": "stderr",
     "output_type": "stream",
     "text": [
      "[I 2024-01-05 19:18:08,336] Trial 8 finished with value: 0.8385371020331872 and parameters: {'n_clusters': 256, 'svm_kernel': 'poly', 'svm_C': 0.1, 'svm_gamma': 0.1}. Best is trial 8 with value: 0.8385371020331872.\n"
     ]
    },
    {
     "name": "stdout",
     "output_type": "stream",
     "text": [
      "Fold 0: fitting svm with C=1, kernel=poly, gamma=0.05, n_clusters=16384\n",
      "Fold 1: fitting svm with C=1, kernel=poly, gamma=0.05, n_clusters=16384\n",
      "Fold 2: fitting svm with C=1, kernel=poly, gamma=0.05, n_clusters=16384\n",
      "Fold 3: fitting svm with C=1, kernel=poly, gamma=0.05, n_clusters=16384\n",
      "Fold 4: fitting svm with C=1, kernel=poly, gamma=0.05, n_clusters=16384\n"
     ]
    },
    {
     "name": "stderr",
     "output_type": "stream",
     "text": [
      "[I 2024-01-05 19:39:51,042] Trial 9 finished with value: 0.3526849563525853 and parameters: {'n_clusters': 16384, 'svm_kernel': 'poly', 'svm_C': 1, 'svm_gamma': 0.05}. Best is trial 8 with value: 0.8385371020331872.\n"
     ]
    },
    {
     "name": "stdout",
     "output_type": "stream",
     "text": [
      "Fold 0: fitting svm with C=0.01, kernel=rbf, gamma=0.15, n_clusters=32\n",
      "Fold 1: fitting svm with C=0.01, kernel=rbf, gamma=0.15, n_clusters=32\n",
      "Fold 2: fitting svm with C=0.01, kernel=rbf, gamma=0.15, n_clusters=32\n",
      "Fold 3: fitting svm with C=0.01, kernel=rbf, gamma=0.15, n_clusters=32\n",
      "Fold 4: fitting svm with C=0.01, kernel=rbf, gamma=0.15, n_clusters=32\n"
     ]
    },
    {
     "name": "stderr",
     "output_type": "stream",
     "text": [
      "[I 2024-01-05 19:39:58,611] Trial 10 finished with value: 0.1525264272808457 and parameters: {'n_clusters': 32, 'svm_kernel': 'rbf', 'svm_C': 0.01, 'svm_gamma': 0.15}. Best is trial 8 with value: 0.8385371020331872.\n"
     ]
    },
    {
     "name": "stdout",
     "output_type": "stream",
     "text": [
      "Fold 0: fitting svm with C=0.01, kernel=poly, gamma=0.2, n_clusters=2048\n",
      "Fold 1: fitting svm with C=0.01, kernel=poly, gamma=0.2, n_clusters=2048\n",
      "Fold 2: fitting svm with C=0.01, kernel=poly, gamma=0.2, n_clusters=2048\n",
      "Fold 3: fitting svm with C=0.01, kernel=poly, gamma=0.2, n_clusters=2048\n",
      "Fold 4: fitting svm with C=0.01, kernel=poly, gamma=0.2, n_clusters=2048\n"
     ]
    },
    {
     "name": "stderr",
     "output_type": "stream",
     "text": [
      "[I 2024-01-05 19:41:40,475] Trial 11 finished with value: 0.7775241774141071 and parameters: {'n_clusters': 2048, 'svm_kernel': 'poly', 'svm_C': 0.01, 'svm_gamma': 0.2}. Best is trial 8 with value: 0.8385371020331872.\n"
     ]
    },
    {
     "name": "stdout",
     "output_type": "stream",
     "text": [
      "Fold 0: fitting svm with C=100, kernel=poly, gamma=0.25, n_clusters=256\n",
      "Fold 1: fitting svm with C=100, kernel=poly, gamma=0.25, n_clusters=256\n",
      "Fold 2: fitting svm with C=100, kernel=poly, gamma=0.25, n_clusters=256\n",
      "Fold 3: fitting svm with C=100, kernel=poly, gamma=0.25, n_clusters=256\n",
      "Fold 4: fitting svm with C=100, kernel=poly, gamma=0.25, n_clusters=256\n"
     ]
    },
    {
     "name": "stderr",
     "output_type": "stream",
     "text": [
      "[I 2024-01-05 19:41:56,721] Trial 12 finished with value: 0.8385371020331872 and parameters: {'n_clusters': 256, 'svm_kernel': 'poly', 'svm_C': 100, 'svm_gamma': 0.25}. Best is trial 8 with value: 0.8385371020331872.\n"
     ]
    },
    {
     "name": "stdout",
     "output_type": "stream",
     "text": [
      "Fold 0: fitting svm with C=100, kernel=poly, gamma=0.25, n_clusters=256\n",
      "Fold 1: fitting svm with C=100, kernel=poly, gamma=0.25, n_clusters=256\n",
      "Fold 2: fitting svm with C=100, kernel=poly, gamma=0.25, n_clusters=256\n",
      "Fold 3: fitting svm with C=100, kernel=poly, gamma=0.25, n_clusters=256\n",
      "Fold 4: fitting svm with C=100, kernel=poly, gamma=0.25, n_clusters=256\n"
     ]
    },
    {
     "name": "stderr",
     "output_type": "stream",
     "text": [
      "[I 2024-01-05 19:42:12,931] Trial 13 finished with value: 0.8385371020331872 and parameters: {'n_clusters': 256, 'svm_kernel': 'poly', 'svm_C': 100, 'svm_gamma': 0.25}. Best is trial 8 with value: 0.8385371020331872.\n"
     ]
    },
    {
     "name": "stdout",
     "output_type": "stream",
     "text": [
      "Fold 0: fitting svm with C=100, kernel=poly, gamma=0.1, n_clusters=256\n",
      "Fold 1: fitting svm with C=100, kernel=poly, gamma=0.1, n_clusters=256\n",
      "Fold 2: fitting svm with C=100, kernel=poly, gamma=0.1, n_clusters=256\n",
      "Fold 3: fitting svm with C=100, kernel=poly, gamma=0.1, n_clusters=256\n",
      "Fold 4: fitting svm with C=100, kernel=poly, gamma=0.1, n_clusters=256\n"
     ]
    },
    {
     "name": "stderr",
     "output_type": "stream",
     "text": [
      "[I 2024-01-05 19:42:27,422] Trial 14 finished with value: 0.8385371020331872 and parameters: {'n_clusters': 256, 'svm_kernel': 'poly', 'svm_C': 100, 'svm_gamma': 0.1}. Best is trial 8 with value: 0.8385371020331872.\n"
     ]
    },
    {
     "name": "stdout",
     "output_type": "stream",
     "text": [
      "Fold 0: fitting svm with C=10, kernel=poly, gamma=0.15, n_clusters=8192\n",
      "Fold 1: fitting svm with C=10, kernel=poly, gamma=0.15, n_clusters=8192\n",
      "Fold 2: fitting svm with C=10, kernel=poly, gamma=0.15, n_clusters=8192\n",
      "Fold 3: fitting svm with C=10, kernel=poly, gamma=0.15, n_clusters=8192\n",
      "Fold 4: fitting svm with C=10, kernel=poly, gamma=0.15, n_clusters=8192\n"
     ]
    },
    {
     "name": "stderr",
     "output_type": "stream",
     "text": [
      "[I 2024-01-05 19:48:55,017] Trial 15 finished with value: 0.48029047510262857 and parameters: {'n_clusters': 8192, 'svm_kernel': 'poly', 'svm_C': 10, 'svm_gamma': 0.15}. Best is trial 8 with value: 0.8385371020331872.\n"
     ]
    },
    {
     "name": "stdout",
     "output_type": "stream",
     "text": [
      "Fold 0: fitting svm with C=0.1, kernel=rbf, gamma=0.2, n_clusters=256\n",
      "Fold 1: fitting svm with C=0.1, kernel=rbf, gamma=0.2, n_clusters=256\n",
      "Fold 2: fitting svm with C=0.1, kernel=rbf, gamma=0.2, n_clusters=256\n",
      "Fold 3: fitting svm with C=0.1, kernel=rbf, gamma=0.2, n_clusters=256\n",
      "Fold 4: fitting svm with C=0.1, kernel=rbf, gamma=0.2, n_clusters=256\n"
     ]
    },
    {
     "name": "stderr",
     "output_type": "stream",
     "text": [
      "[I 2024-01-05 19:49:10,218] Trial 16 finished with value: 0.1525264272808457 and parameters: {'n_clusters': 256, 'svm_kernel': 'rbf', 'svm_C': 0.1, 'svm_gamma': 0.2}. Best is trial 8 with value: 0.8385371020331872.\n"
     ]
    },
    {
     "name": "stdout",
     "output_type": "stream",
     "text": [
      "Fold 0: fitting svm with C=100, kernel=poly, gamma=0.25, n_clusters=256\n",
      "Fold 1: fitting svm with C=100, kernel=poly, gamma=0.25, n_clusters=256\n",
      "Fold 2: fitting svm with C=100, kernel=poly, gamma=0.25, n_clusters=256\n",
      "Fold 3: fitting svm with C=100, kernel=poly, gamma=0.25, n_clusters=256\n",
      "Fold 4: fitting svm with C=100, kernel=poly, gamma=0.25, n_clusters=256\n"
     ]
    },
    {
     "name": "stderr",
     "output_type": "stream",
     "text": [
      "[I 2024-01-05 19:49:24,650] Trial 17 finished with value: 0.8385371020331872 and parameters: {'n_clusters': 256, 'svm_kernel': 'poly', 'svm_C': 100, 'svm_gamma': 0.25}. Best is trial 8 with value: 0.8385371020331872.\n"
     ]
    },
    {
     "name": "stdout",
     "output_type": "stream",
     "text": [
      "Fold 0: fitting svm with C=100, kernel=poly, gamma=0.1, n_clusters=64\n",
      "Fold 1: fitting svm with C=100, kernel=poly, gamma=0.1, n_clusters=64\n",
      "Fold 2: fitting svm with C=100, kernel=poly, gamma=0.1, n_clusters=64\n",
      "Fold 3: fitting svm with C=100, kernel=poly, gamma=0.1, n_clusters=64\n"
     ]
    },
    {
     "name": "stderr",
     "output_type": "stream",
     "text": [
      "[I 2024-01-05 19:49:32,013] Trial 18 finished with value: 0.7901781202190332 and parameters: {'n_clusters': 64, 'svm_kernel': 'poly', 'svm_C': 100, 'svm_gamma': 0.1}. Best is trial 8 with value: 0.8385371020331872.\n"
     ]
    },
    {
     "name": "stdout",
     "output_type": "stream",
     "text": [
      "Fold 4: fitting svm with C=100, kernel=poly, gamma=0.1, n_clusters=64\n",
      "Fold 0: fitting svm with C=0.1, kernel=poly, gamma=0.1, n_clusters=4096\n",
      "Fold 1: fitting svm with C=0.1, kernel=poly, gamma=0.1, n_clusters=4096\n",
      "Fold 2: fitting svm with C=0.1, kernel=poly, gamma=0.1, n_clusters=4096\n",
      "Fold 3: fitting svm with C=0.1, kernel=poly, gamma=0.1, n_clusters=4096\n",
      "Fold 4: fitting svm with C=0.1, kernel=poly, gamma=0.1, n_clusters=4096\n"
     ]
    },
    {
     "name": "stderr",
     "output_type": "stream",
     "text": [
      "[I 2024-01-05 19:52:54,632] Trial 19 finished with value: 0.643603801928655 and parameters: {'n_clusters': 4096, 'svm_kernel': 'poly', 'svm_C': 0.1, 'svm_gamma': 0.1}. Best is trial 8 with value: 0.8385371020331872.\n"
     ]
    },
    {
     "name": "stdout",
     "output_type": "stream",
     "text": [
      "Fold 0: fitting svm with C=0.01, kernel=rbf, gamma=0.25, n_clusters=8192\n"
     ]
    },
    {
     "name": "stderr",
     "output_type": "stream",
     "text": [
      "[W 2024-01-05 19:54:55,538] Trial 20 failed with parameters: {'n_clusters': 8192, 'svm_kernel': 'rbf', 'svm_C': 0.01, 'svm_gamma': 0.25} because of the following error: KeyboardInterrupt().\n",
      "Traceback (most recent call last):\n",
      "  File \"/home/georg/projects/university/C2_Optimization_and_Inference/venv/lib/python3.10/site-packages/optuna/study/_optimize.py\", line 200, in _run_trial\n",
      "    value_or_values = func(trial)\n",
      "  File \"/tmp/ipykernel_49809/553763206.py\", line 17, in objective\n",
      "    train_visual_words = create_visual_words(train_data, descriptors_dictionary, codebook)\n",
      "  File \"/tmp/ipykernel_49809/4024483382.py\", line 6, in create_visual_words\n",
      "    labels = codebook.predict(descriptor)\n",
      "  File \"/home/georg/projects/university/C2_Optimization_and_Inference/venv/lib/python3.10/site-packages/sklearn/cluster/_kmeans.py\", line 1111, in predict\n",
      "    labels = _labels_inertia_threadpool_limit(\n",
      "  File \"/home/georg/projects/university/C2_Optimization_and_Inference/venv/lib/python3.10/site-packages/sklearn/cluster/_kmeans.py\", line 820, in _labels_inertia_threadpool_limit\n",
      "    result = _labels_inertia(X, sample_weight, centers, n_threads, return_inertia)\n",
      "  File \"/home/georg/projects/university/C2_Optimization_and_Inference/venv/lib/python3.10/site-packages/sklearn/cluster/_kmeans.py\", line 796, in _labels_inertia\n",
      "    _labels(\n",
      "KeyboardInterrupt\n",
      "[W 2024-01-05 19:54:55,539] Trial 20 failed with value None.\n"
     ]
    },
    {
     "ename": "KeyboardInterrupt",
     "evalue": "",
     "output_type": "error",
     "traceback": [
      "\u001b[0;31m---------------------------------------------------------------------------\u001b[0m",
      "\u001b[0;31mKeyboardInterrupt\u001b[0m                         Traceback (most recent call last)",
      "Cell \u001b[0;32mIn[13], line 35\u001b[0m\n\u001b[1;32m     32\u001b[0m     \u001b[38;5;28;01mreturn\u001b[39;00m \u001b[38;5;28msum\u001b[39m(metrics)\u001b[38;5;241m/\u001b[39m\u001b[38;5;28mlen\u001b[39m(metrics)\n\u001b[1;32m     34\u001b[0m study \u001b[38;5;241m=\u001b[39m optuna\u001b[38;5;241m.\u001b[39mcreate_study(direction\u001b[38;5;241m=\u001b[39m\u001b[38;5;124m'\u001b[39m\u001b[38;5;124mmaximize\u001b[39m\u001b[38;5;124m'\u001b[39m)\n\u001b[0;32m---> 35\u001b[0m \u001b[43mstudy\u001b[49m\u001b[38;5;241;43m.\u001b[39;49m\u001b[43moptimize\u001b[49m\u001b[43m(\u001b[49m\u001b[43mobjective\u001b[49m\u001b[43m,\u001b[49m\u001b[43m \u001b[49m\u001b[43mn_trials\u001b[49m\u001b[38;5;241;43m=\u001b[39;49m\u001b[38;5;241;43m100\u001b[39;49m\u001b[43m)\u001b[49m\n\u001b[1;32m     37\u001b[0m study\u001b[38;5;241m.\u001b[39mbest_params\n",
      "File \u001b[0;32m~/projects/university/C2_Optimization_and_Inference/venv/lib/python3.10/site-packages/optuna/study/study.py:451\u001b[0m, in \u001b[0;36mStudy.optimize\u001b[0;34m(self, func, n_trials, timeout, n_jobs, catch, callbacks, gc_after_trial, show_progress_bar)\u001b[0m\n\u001b[1;32m    348\u001b[0m \u001b[38;5;28;01mdef\u001b[39;00m \u001b[38;5;21moptimize\u001b[39m(\n\u001b[1;32m    349\u001b[0m     \u001b[38;5;28mself\u001b[39m,\n\u001b[1;32m    350\u001b[0m     func: ObjectiveFuncType,\n\u001b[0;32m   (...)\u001b[0m\n\u001b[1;32m    357\u001b[0m     show_progress_bar: \u001b[38;5;28mbool\u001b[39m \u001b[38;5;241m=\u001b[39m \u001b[38;5;28;01mFalse\u001b[39;00m,\n\u001b[1;32m    358\u001b[0m ) \u001b[38;5;241m-\u001b[39m\u001b[38;5;241m>\u001b[39m \u001b[38;5;28;01mNone\u001b[39;00m:\n\u001b[1;32m    359\u001b[0m \u001b[38;5;250m    \u001b[39m\u001b[38;5;124;03m\"\"\"Optimize an objective function.\u001b[39;00m\n\u001b[1;32m    360\u001b[0m \n\u001b[1;32m    361\u001b[0m \u001b[38;5;124;03m    Optimization is done by choosing a suitable set of hyperparameter values from a given\u001b[39;00m\n\u001b[0;32m   (...)\u001b[0m\n\u001b[1;32m    449\u001b[0m \u001b[38;5;124;03m            If nested invocation of this method occurs.\u001b[39;00m\n\u001b[1;32m    450\u001b[0m \u001b[38;5;124;03m    \"\"\"\u001b[39;00m\n\u001b[0;32m--> 451\u001b[0m     \u001b[43m_optimize\u001b[49m\u001b[43m(\u001b[49m\n\u001b[1;32m    452\u001b[0m \u001b[43m        \u001b[49m\u001b[43mstudy\u001b[49m\u001b[38;5;241;43m=\u001b[39;49m\u001b[38;5;28;43mself\u001b[39;49m\u001b[43m,\u001b[49m\n\u001b[1;32m    453\u001b[0m \u001b[43m        \u001b[49m\u001b[43mfunc\u001b[49m\u001b[38;5;241;43m=\u001b[39;49m\u001b[43mfunc\u001b[49m\u001b[43m,\u001b[49m\n\u001b[1;32m    454\u001b[0m \u001b[43m        \u001b[49m\u001b[43mn_trials\u001b[49m\u001b[38;5;241;43m=\u001b[39;49m\u001b[43mn_trials\u001b[49m\u001b[43m,\u001b[49m\n\u001b[1;32m    455\u001b[0m \u001b[43m        \u001b[49m\u001b[43mtimeout\u001b[49m\u001b[38;5;241;43m=\u001b[39;49m\u001b[43mtimeout\u001b[49m\u001b[43m,\u001b[49m\n\u001b[1;32m    456\u001b[0m \u001b[43m        \u001b[49m\u001b[43mn_jobs\u001b[49m\u001b[38;5;241;43m=\u001b[39;49m\u001b[43mn_jobs\u001b[49m\u001b[43m,\u001b[49m\n\u001b[1;32m    457\u001b[0m \u001b[43m        \u001b[49m\u001b[43mcatch\u001b[49m\u001b[38;5;241;43m=\u001b[39;49m\u001b[38;5;28;43mtuple\u001b[39;49m\u001b[43m(\u001b[49m\u001b[43mcatch\u001b[49m\u001b[43m)\u001b[49m\u001b[43m \u001b[49m\u001b[38;5;28;43;01mif\u001b[39;49;00m\u001b[43m \u001b[49m\u001b[38;5;28;43misinstance\u001b[39;49m\u001b[43m(\u001b[49m\u001b[43mcatch\u001b[49m\u001b[43m,\u001b[49m\u001b[43m \u001b[49m\u001b[43mIterable\u001b[49m\u001b[43m)\u001b[49m\u001b[43m \u001b[49m\u001b[38;5;28;43;01melse\u001b[39;49;00m\u001b[43m \u001b[49m\u001b[43m(\u001b[49m\u001b[43mcatch\u001b[49m\u001b[43m,\u001b[49m\u001b[43m)\u001b[49m\u001b[43m,\u001b[49m\n\u001b[1;32m    458\u001b[0m \u001b[43m        \u001b[49m\u001b[43mcallbacks\u001b[49m\u001b[38;5;241;43m=\u001b[39;49m\u001b[43mcallbacks\u001b[49m\u001b[43m,\u001b[49m\n\u001b[1;32m    459\u001b[0m \u001b[43m        \u001b[49m\u001b[43mgc_after_trial\u001b[49m\u001b[38;5;241;43m=\u001b[39;49m\u001b[43mgc_after_trial\u001b[49m\u001b[43m,\u001b[49m\n\u001b[1;32m    460\u001b[0m \u001b[43m        \u001b[49m\u001b[43mshow_progress_bar\u001b[49m\u001b[38;5;241;43m=\u001b[39;49m\u001b[43mshow_progress_bar\u001b[49m\u001b[43m,\u001b[49m\n\u001b[1;32m    461\u001b[0m \u001b[43m    \u001b[49m\u001b[43m)\u001b[49m\n",
      "File \u001b[0;32m~/projects/university/C2_Optimization_and_Inference/venv/lib/python3.10/site-packages/optuna/study/_optimize.py:66\u001b[0m, in \u001b[0;36m_optimize\u001b[0;34m(study, func, n_trials, timeout, n_jobs, catch, callbacks, gc_after_trial, show_progress_bar)\u001b[0m\n\u001b[1;32m     64\u001b[0m \u001b[38;5;28;01mtry\u001b[39;00m:\n\u001b[1;32m     65\u001b[0m     \u001b[38;5;28;01mif\u001b[39;00m n_jobs \u001b[38;5;241m==\u001b[39m \u001b[38;5;241m1\u001b[39m:\n\u001b[0;32m---> 66\u001b[0m         \u001b[43m_optimize_sequential\u001b[49m\u001b[43m(\u001b[49m\n\u001b[1;32m     67\u001b[0m \u001b[43m            \u001b[49m\u001b[43mstudy\u001b[49m\u001b[43m,\u001b[49m\n\u001b[1;32m     68\u001b[0m \u001b[43m            \u001b[49m\u001b[43mfunc\u001b[49m\u001b[43m,\u001b[49m\n\u001b[1;32m     69\u001b[0m \u001b[43m            \u001b[49m\u001b[43mn_trials\u001b[49m\u001b[43m,\u001b[49m\n\u001b[1;32m     70\u001b[0m \u001b[43m            \u001b[49m\u001b[43mtimeout\u001b[49m\u001b[43m,\u001b[49m\n\u001b[1;32m     71\u001b[0m \u001b[43m            \u001b[49m\u001b[43mcatch\u001b[49m\u001b[43m,\u001b[49m\n\u001b[1;32m     72\u001b[0m \u001b[43m            \u001b[49m\u001b[43mcallbacks\u001b[49m\u001b[43m,\u001b[49m\n\u001b[1;32m     73\u001b[0m \u001b[43m            \u001b[49m\u001b[43mgc_after_trial\u001b[49m\u001b[43m,\u001b[49m\n\u001b[1;32m     74\u001b[0m \u001b[43m            \u001b[49m\u001b[43mreseed_sampler_rng\u001b[49m\u001b[38;5;241;43m=\u001b[39;49m\u001b[38;5;28;43;01mFalse\u001b[39;49;00m\u001b[43m,\u001b[49m\n\u001b[1;32m     75\u001b[0m \u001b[43m            \u001b[49m\u001b[43mtime_start\u001b[49m\u001b[38;5;241;43m=\u001b[39;49m\u001b[38;5;28;43;01mNone\u001b[39;49;00m\u001b[43m,\u001b[49m\n\u001b[1;32m     76\u001b[0m \u001b[43m            \u001b[49m\u001b[43mprogress_bar\u001b[49m\u001b[38;5;241;43m=\u001b[39;49m\u001b[43mprogress_bar\u001b[49m\u001b[43m,\u001b[49m\n\u001b[1;32m     77\u001b[0m \u001b[43m        \u001b[49m\u001b[43m)\u001b[49m\n\u001b[1;32m     78\u001b[0m     \u001b[38;5;28;01melse\u001b[39;00m:\n\u001b[1;32m     79\u001b[0m         \u001b[38;5;28;01mif\u001b[39;00m n_jobs \u001b[38;5;241m==\u001b[39m \u001b[38;5;241m-\u001b[39m\u001b[38;5;241m1\u001b[39m:\n",
      "File \u001b[0;32m~/projects/university/C2_Optimization_and_Inference/venv/lib/python3.10/site-packages/optuna/study/_optimize.py:163\u001b[0m, in \u001b[0;36m_optimize_sequential\u001b[0;34m(study, func, n_trials, timeout, catch, callbacks, gc_after_trial, reseed_sampler_rng, time_start, progress_bar)\u001b[0m\n\u001b[1;32m    160\u001b[0m         \u001b[38;5;28;01mbreak\u001b[39;00m\n\u001b[1;32m    162\u001b[0m \u001b[38;5;28;01mtry\u001b[39;00m:\n\u001b[0;32m--> 163\u001b[0m     frozen_trial \u001b[38;5;241m=\u001b[39m \u001b[43m_run_trial\u001b[49m\u001b[43m(\u001b[49m\u001b[43mstudy\u001b[49m\u001b[43m,\u001b[49m\u001b[43m \u001b[49m\u001b[43mfunc\u001b[49m\u001b[43m,\u001b[49m\u001b[43m \u001b[49m\u001b[43mcatch\u001b[49m\u001b[43m)\u001b[49m\n\u001b[1;32m    164\u001b[0m \u001b[38;5;28;01mfinally\u001b[39;00m:\n\u001b[1;32m    165\u001b[0m     \u001b[38;5;66;03m# The following line mitigates memory problems that can be occurred in some\u001b[39;00m\n\u001b[1;32m    166\u001b[0m     \u001b[38;5;66;03m# environments (e.g., services that use computing containers such as GitHub Actions).\u001b[39;00m\n\u001b[1;32m    167\u001b[0m     \u001b[38;5;66;03m# Please refer to the following PR for further details:\u001b[39;00m\n\u001b[1;32m    168\u001b[0m     \u001b[38;5;66;03m# https://github.com/optuna/optuna/pull/325.\u001b[39;00m\n\u001b[1;32m    169\u001b[0m     \u001b[38;5;28;01mif\u001b[39;00m gc_after_trial:\n",
      "File \u001b[0;32m~/projects/university/C2_Optimization_and_Inference/venv/lib/python3.10/site-packages/optuna/study/_optimize.py:251\u001b[0m, in \u001b[0;36m_run_trial\u001b[0;34m(study, func, catch)\u001b[0m\n\u001b[1;32m    244\u001b[0m         \u001b[38;5;28;01massert\u001b[39;00m \u001b[38;5;28;01mFalse\u001b[39;00m, \u001b[38;5;124m\"\u001b[39m\u001b[38;5;124mShould not reach.\u001b[39m\u001b[38;5;124m\"\u001b[39m\n\u001b[1;32m    246\u001b[0m \u001b[38;5;28;01mif\u001b[39;00m (\n\u001b[1;32m    247\u001b[0m     frozen_trial\u001b[38;5;241m.\u001b[39mstate \u001b[38;5;241m==\u001b[39m TrialState\u001b[38;5;241m.\u001b[39mFAIL\n\u001b[1;32m    248\u001b[0m     \u001b[38;5;129;01mand\u001b[39;00m func_err \u001b[38;5;129;01mis\u001b[39;00m \u001b[38;5;129;01mnot\u001b[39;00m \u001b[38;5;28;01mNone\u001b[39;00m\n\u001b[1;32m    249\u001b[0m     \u001b[38;5;129;01mand\u001b[39;00m \u001b[38;5;129;01mnot\u001b[39;00m \u001b[38;5;28misinstance\u001b[39m(func_err, catch)\n\u001b[1;32m    250\u001b[0m ):\n\u001b[0;32m--> 251\u001b[0m     \u001b[38;5;28;01mraise\u001b[39;00m func_err\n\u001b[1;32m    252\u001b[0m \u001b[38;5;28;01mreturn\u001b[39;00m frozen_trial\n",
      "File \u001b[0;32m~/projects/university/C2_Optimization_and_Inference/venv/lib/python3.10/site-packages/optuna/study/_optimize.py:200\u001b[0m, in \u001b[0;36m_run_trial\u001b[0;34m(study, func, catch)\u001b[0m\n\u001b[1;32m    198\u001b[0m \u001b[38;5;28;01mwith\u001b[39;00m get_heartbeat_thread(trial\u001b[38;5;241m.\u001b[39m_trial_id, study\u001b[38;5;241m.\u001b[39m_storage):\n\u001b[1;32m    199\u001b[0m     \u001b[38;5;28;01mtry\u001b[39;00m:\n\u001b[0;32m--> 200\u001b[0m         value_or_values \u001b[38;5;241m=\u001b[39m \u001b[43mfunc\u001b[49m\u001b[43m(\u001b[49m\u001b[43mtrial\u001b[49m\u001b[43m)\u001b[49m\n\u001b[1;32m    201\u001b[0m     \u001b[38;5;28;01mexcept\u001b[39;00m exceptions\u001b[38;5;241m.\u001b[39mTrialPruned \u001b[38;5;28;01mas\u001b[39;00m e:\n\u001b[1;32m    202\u001b[0m         \u001b[38;5;66;03m# TODO(mamu): Handle multi-objective cases.\u001b[39;00m\n\u001b[1;32m    203\u001b[0m         state \u001b[38;5;241m=\u001b[39m TrialState\u001b[38;5;241m.\u001b[39mPRUNED\n",
      "Cell \u001b[0;32mIn[13], line 17\u001b[0m, in \u001b[0;36mobjective\u001b[0;34m(trial)\u001b[0m\n\u001b[1;32m     15\u001b[0m codebook \u001b[38;5;241m=\u001b[39m codebooks[\u001b[38;5;124mf\u001b[39m\u001b[38;5;124m'\u001b[39m\u001b[38;5;124mfold_\u001b[39m\u001b[38;5;132;01m{\u001b[39;00mi\u001b[38;5;132;01m}\u001b[39;00m\u001b[38;5;124m'\u001b[39m][n_clusters]\n\u001b[1;32m     16\u001b[0m \u001b[38;5;66;03m# create visual words for training data\u001b[39;00m\n\u001b[0;32m---> 17\u001b[0m train_visual_words \u001b[38;5;241m=\u001b[39m \u001b[43mcreate_visual_words\u001b[49m\u001b[43m(\u001b[49m\u001b[43mtrain_data\u001b[49m\u001b[43m,\u001b[49m\u001b[43m \u001b[49m\u001b[43mdescriptors_dictionary\u001b[49m\u001b[43m,\u001b[49m\u001b[43m \u001b[49m\u001b[43mcodebook\u001b[49m\u001b[43m)\u001b[49m\n\u001b[1;32m     18\u001b[0m \u001b[38;5;66;03m# create visual words for test data\u001b[39;00m\n\u001b[1;32m     19\u001b[0m test_visual_words \u001b[38;5;241m=\u001b[39m create_visual_words(test_data, descriptors_dictionary, codebook)\n",
      "Cell \u001b[0;32mIn[5], line 6\u001b[0m, in \u001b[0;36mcreate_visual_words\u001b[0;34m(image_paths, descriptors_dictionary, codebook)\u001b[0m\n\u001b[1;32m      4\u001b[0m \u001b[38;5;28;01mfor\u001b[39;00m image_path \u001b[38;5;129;01min\u001b[39;00m image_paths:\n\u001b[1;32m      5\u001b[0m     descriptor \u001b[38;5;241m=\u001b[39m descriptors_dictionary[image_path]\n\u001b[0;32m----> 6\u001b[0m     labels \u001b[38;5;241m=\u001b[39m \u001b[43mcodebook\u001b[49m\u001b[38;5;241;43m.\u001b[39;49m\u001b[43mpredict\u001b[49m\u001b[43m(\u001b[49m\u001b[43mdescriptor\u001b[49m\u001b[43m)\u001b[49m\n\u001b[1;32m      7\u001b[0m     visual_words[image_path] \u001b[38;5;241m=\u001b[39m np\u001b[38;5;241m.\u001b[39mbincount(labels, minlength\u001b[38;5;241m=\u001b[39mcodebook\u001b[38;5;241m.\u001b[39mn_clusters)\n\u001b[1;32m      8\u001b[0m \u001b[38;5;28;01mreturn\u001b[39;00m np\u001b[38;5;241m.\u001b[39marray(\u001b[38;5;28mlist\u001b[39m(visual_words\u001b[38;5;241m.\u001b[39mvalues()))\n",
      "File \u001b[0;32m~/projects/university/C2_Optimization_and_Inference/venv/lib/python3.10/site-packages/sklearn/cluster/_kmeans.py:1111\u001b[0m, in \u001b[0;36m_BaseKMeans.predict\u001b[0;34m(self, X, sample_weight)\u001b[0m\n\u001b[1;32m   1108\u001b[0m \u001b[38;5;28;01melse\u001b[39;00m:\n\u001b[1;32m   1109\u001b[0m     sample_weight \u001b[38;5;241m=\u001b[39m _check_sample_weight(\u001b[38;5;28;01mNone\u001b[39;00m, X, dtype\u001b[38;5;241m=\u001b[39mX\u001b[38;5;241m.\u001b[39mdtype)\n\u001b[0;32m-> 1111\u001b[0m labels \u001b[38;5;241m=\u001b[39m \u001b[43m_labels_inertia_threadpool_limit\u001b[49m\u001b[43m(\u001b[49m\n\u001b[1;32m   1112\u001b[0m \u001b[43m    \u001b[49m\u001b[43mX\u001b[49m\u001b[43m,\u001b[49m\n\u001b[1;32m   1113\u001b[0m \u001b[43m    \u001b[49m\u001b[43msample_weight\u001b[49m\u001b[43m,\u001b[49m\n\u001b[1;32m   1114\u001b[0m \u001b[43m    \u001b[49m\u001b[38;5;28;43mself\u001b[39;49m\u001b[38;5;241;43m.\u001b[39;49m\u001b[43mcluster_centers_\u001b[49m\u001b[43m,\u001b[49m\n\u001b[1;32m   1115\u001b[0m \u001b[43m    \u001b[49m\u001b[43mn_threads\u001b[49m\u001b[38;5;241;43m=\u001b[39;49m\u001b[38;5;28;43mself\u001b[39;49m\u001b[38;5;241;43m.\u001b[39;49m\u001b[43m_n_threads\u001b[49m\u001b[43m,\u001b[49m\n\u001b[1;32m   1116\u001b[0m \u001b[43m    \u001b[49m\u001b[43mreturn_inertia\u001b[49m\u001b[38;5;241;43m=\u001b[39;49m\u001b[38;5;28;43;01mFalse\u001b[39;49;00m\u001b[43m,\u001b[49m\n\u001b[1;32m   1117\u001b[0m \u001b[43m\u001b[49m\u001b[43m)\u001b[49m\n\u001b[1;32m   1119\u001b[0m \u001b[38;5;28;01mreturn\u001b[39;00m labels\n",
      "File \u001b[0;32m~/projects/university/C2_Optimization_and_Inference/venv/lib/python3.10/site-packages/sklearn/cluster/_kmeans.py:820\u001b[0m, in \u001b[0;36m_labels_inertia_threadpool_limit\u001b[0;34m(X, sample_weight, centers, n_threads, return_inertia)\u001b[0m\n\u001b[1;32m    818\u001b[0m \u001b[38;5;250m\u001b[39m\u001b[38;5;124;03m\"\"\"Same as _labels_inertia but in a threadpool_limits context.\"\"\"\u001b[39;00m\n\u001b[1;32m    819\u001b[0m \u001b[38;5;28;01mwith\u001b[39;00m threadpool_limits(limits\u001b[38;5;241m=\u001b[39m\u001b[38;5;241m1\u001b[39m, user_api\u001b[38;5;241m=\u001b[39m\u001b[38;5;124m\"\u001b[39m\u001b[38;5;124mblas\u001b[39m\u001b[38;5;124m\"\u001b[39m):\n\u001b[0;32m--> 820\u001b[0m     result \u001b[38;5;241m=\u001b[39m \u001b[43m_labels_inertia\u001b[49m\u001b[43m(\u001b[49m\u001b[43mX\u001b[49m\u001b[43m,\u001b[49m\u001b[43m \u001b[49m\u001b[43msample_weight\u001b[49m\u001b[43m,\u001b[49m\u001b[43m \u001b[49m\u001b[43mcenters\u001b[49m\u001b[43m,\u001b[49m\u001b[43m \u001b[49m\u001b[43mn_threads\u001b[49m\u001b[43m,\u001b[49m\u001b[43m \u001b[49m\u001b[43mreturn_inertia\u001b[49m\u001b[43m)\u001b[49m\n\u001b[1;32m    822\u001b[0m \u001b[38;5;28;01mreturn\u001b[39;00m result\n",
      "File \u001b[0;32m~/projects/university/C2_Optimization_and_Inference/venv/lib/python3.10/site-packages/sklearn/cluster/_kmeans.py:796\u001b[0m, in \u001b[0;36m_labels_inertia\u001b[0;34m(X, sample_weight, centers, n_threads, return_inertia)\u001b[0m\n\u001b[1;32m    793\u001b[0m     _labels \u001b[38;5;241m=\u001b[39m lloyd_iter_chunked_dense\n\u001b[1;32m    794\u001b[0m     _inertia \u001b[38;5;241m=\u001b[39m _inertia_dense\n\u001b[0;32m--> 796\u001b[0m \u001b[43m_labels\u001b[49m\u001b[43m(\u001b[49m\n\u001b[1;32m    797\u001b[0m \u001b[43m    \u001b[49m\u001b[43mX\u001b[49m\u001b[43m,\u001b[49m\n\u001b[1;32m    798\u001b[0m \u001b[43m    \u001b[49m\u001b[43msample_weight\u001b[49m\u001b[43m,\u001b[49m\n\u001b[1;32m    799\u001b[0m \u001b[43m    \u001b[49m\u001b[43mcenters\u001b[49m\u001b[43m,\u001b[49m\n\u001b[1;32m    800\u001b[0m \u001b[43m    \u001b[49m\u001b[43mcenters_new\u001b[49m\u001b[38;5;241;43m=\u001b[39;49m\u001b[38;5;28;43;01mNone\u001b[39;49;00m\u001b[43m,\u001b[49m\n\u001b[1;32m    801\u001b[0m \u001b[43m    \u001b[49m\u001b[43mweight_in_clusters\u001b[49m\u001b[38;5;241;43m=\u001b[39;49m\u001b[38;5;28;43;01mNone\u001b[39;49;00m\u001b[43m,\u001b[49m\n\u001b[1;32m    802\u001b[0m \u001b[43m    \u001b[49m\u001b[43mlabels\u001b[49m\u001b[38;5;241;43m=\u001b[39;49m\u001b[43mlabels\u001b[49m\u001b[43m,\u001b[49m\n\u001b[1;32m    803\u001b[0m \u001b[43m    \u001b[49m\u001b[43mcenter_shift\u001b[49m\u001b[38;5;241;43m=\u001b[39;49m\u001b[43mcenter_shift\u001b[49m\u001b[43m,\u001b[49m\n\u001b[1;32m    804\u001b[0m \u001b[43m    \u001b[49m\u001b[43mn_threads\u001b[49m\u001b[38;5;241;43m=\u001b[39;49m\u001b[43mn_threads\u001b[49m\u001b[43m,\u001b[49m\n\u001b[1;32m    805\u001b[0m \u001b[43m    \u001b[49m\u001b[43mupdate_centers\u001b[49m\u001b[38;5;241;43m=\u001b[39;49m\u001b[38;5;28;43;01mFalse\u001b[39;49;00m\u001b[43m,\u001b[49m\n\u001b[1;32m    806\u001b[0m \u001b[43m\u001b[49m\u001b[43m)\u001b[49m\n\u001b[1;32m    808\u001b[0m \u001b[38;5;28;01mif\u001b[39;00m return_inertia:\n\u001b[1;32m    809\u001b[0m     inertia \u001b[38;5;241m=\u001b[39m _inertia(X, sample_weight, centers, labels, n_threads)\n",
      "\u001b[0;31mKeyboardInterrupt\u001b[0m: "
     ]
    }
   ],
   "source": [
    "def objective(trial):\n",
    "\n",
    "    n_clusters = trial.suggest_categorical('n_clusters', codebook_sizes)\n",
    "\n",
    "    svm_kernel = trial.suggest_categorical('svm_kernel', ['rbf', 'poly', 'sigmoid'])\n",
    "    svm_C = trial.suggest_categorical('svm_C', [0.01, 0.1, 1, 10, 100])\n",
    "    svm_gamma = trial.suggest_categorical('svm_gamma', [0.05, 0.1, 0.15, 0.2, 0.25])\n",
    "\n",
    "    metrics = []\n",
    "    # Run k-fold cross validation per hyperparameter combination\n",
    "    for i, fold in enumerate(folds, 0):\n",
    "\n",
    "        train_data, train_labels, test_data, test_labels = fold\n",
    "        \n",
    "        codebook = codebooks[f'fold_{i}'][n_clusters]\n",
    "        # create visual words for training data\n",
    "        train_visual_words = create_visual_words(train_data, descriptors_dictionary, codebook)\n",
    "        # create visual words for test data\n",
    "        test_visual_words = create_visual_words(test_data, descriptors_dictionary, codebook)\n",
    "        \n",
    "        \n",
    "        # fit SVM classifier\n",
    "        print(f'Fold {i}: fitting svm with C={svm_C}, kernel={svm_kernel}, gamma={svm_gamma}, n_clusters={n_clusters}')\n",
    "        svm = SVC(C=svm_C, kernel=svm_kernel, gamma=svm_gamma)\n",
    "        svm.fit(train_visual_words, train_labels)\n",
    "        # predict labels for test data\n",
    "        pred_labels = svm.predict(test_visual_words)\n",
    "    \n",
    "        # get accuracy metric for current run\n",
    "        metrics.append(get_metrics(test_labels, pred_labels)[0])\n",
    "\n",
    "    return sum(metrics)/len(metrics)\n",
    "\n",
    "study = optuna.create_study(direction='maximize')\n",
    "study.optimize(objective, n_trials=100)\n",
    "\n",
    "study.best_params"
   ]
  },
  {
   "cell_type": "code",
   "execution_count": 26,
   "metadata": {},
   "outputs": [
    {
     "name": "stderr",
     "output_type": "stream",
     "text": [
      "Creating Codebooks for fold 0: 100%|██████████| 6/6 [01:06<00:00, 11.02s/it]\n",
      "Creating Codebooks for fold 1: 100%|██████████| 6/6 [01:08<00:00, 11.34s/it]\n",
      "Creating Codebooks for fold 2: 100%|██████████| 6/6 [01:14<00:00, 12.42s/it]\n",
      "Creating Codebooks for fold 3: 100%|██████████| 6/6 [01:06<00:00, 11.01s/it]\n",
      "Creating Codebooks for fold 4: 100%|██████████| 6/6 [01:08<00:00, 11.38s/it]\n"
     ]
    }
   ],
   "source": [
    "# initialize a dictionary to store the codebooks for each fold\n",
    "codebooks = {'fold_0': {}, 'fold_1': {}, 'fold_2': {}, 'fold_3': {}, 'fold_4': {}}\n",
    "\n",
    "# define the codebook sizes we want to test\n",
    "codebook_sizes = [32, 64, 128, 256, 512, 1024]\n",
    "\n",
    "# loop over folds\n",
    "for i, fold in enumerate(folds):\n",
    "    train_data, train_labels, test_data, test_labels = fold\n",
    "    train_descriptors = []\n",
    "\n",
    "    # fetch the descriptors for the training images in the current fold\n",
    "    for file in train_data:\n",
    "        train_descriptors.append(descriptors_dictionary[file])\n",
    "\n",
    "    # stack the descriptors vertically to create a single numpy array for clustering\n",
    "    train_D = np.vstack(list(train_descriptors)) \n",
    "\n",
    "    # loop over codebook sizes\n",
    "    for k in tqdm(codebook_sizes, desc=f'Creating Codebooks for fold {i}'):\n",
    "        # initialize the codebook\n",
    "        codebook = MiniBatchKMeans(n_clusters=k, \n",
    "                           verbose=False, \n",
    "                           batch_size=2150,\n",
    "                           compute_labels=False,\n",
    "                           reassignment_ratio=0.01,\n",
    "                           random_state=42)\n",
    "        # fit the codebook\n",
    "        codebook.fit(train_D)\n",
    "        # store the codebook in the dictionary\n",
    "        codebooks[f'fold_{i}'][k] = codebook"
   ]
  },
  {
   "cell_type": "markdown",
   "metadata": {},
   "source": [
    "The previous kernel has been interrupted because it was run on a different device and took too long to re-run. The outputs can be found in SVC_gridsearch.ipynb"
   ]
  },
  {
   "cell_type": "markdown",
   "metadata": {},
   "source": [
    "### Gridsearch PCA parameters for KNN ###"
   ]
  },
  {
   "cell_type": "code",
   "execution_count": 27,
   "metadata": {},
   "outputs": [
    {
     "name": "stdout",
     "output_type": "stream",
     "text": [
      "\n",
      "PCA Components = 16\n",
      "Fold 0 accuracy: 76.95167286245353\n",
      "Fold 1 accuracy: 79.5539033457249\n",
      "Fold 2 accuracy: 73.97769516728626\n",
      "Fold 3 accuracy: 77.09497206703911\n",
      "Fold 4 accuracy: 75.23277467411546\n",
      "Average Accuracy:  76.56220362332385\n",
      "\n",
      "PCA Components = 32\n",
      "Fold 0 accuracy: 79.182156133829\n",
      "Fold 1 accuracy: 79.73977695167285\n",
      "Fold 2 accuracy: 77.32342007434944\n",
      "Fold 3 accuracy: 76.16387337057728\n",
      "Fold 4 accuracy: 78.02607076350093\n",
      "Average Accuracy:  78.08705945878589\n",
      "\n",
      "PCA Components = 64\n",
      "Fold 0 accuracy: 79.36802973977694\n",
      "Fold 1 accuracy: 77.88104089219331\n",
      "Fold 2 accuracy: 74.90706319702602\n",
      "Fold 3 accuracy: 74.86033519553072\n",
      "Fold 4 accuracy: 76.35009310986965\n",
      "Average Accuracy:  76.67331242687933\n",
      "\n",
      "PCA Components = 128\n",
      "Fold 0 accuracy: 75.46468401486989\n",
      "Fold 1 accuracy: 77.32342007434944\n",
      "Fold 2 accuracy: 73.23420074349443\n",
      "Fold 3 accuracy: 75.41899441340783\n",
      "Fold 4 accuracy: 76.35009310986965\n",
      "Average Accuracy:  75.55827847119825\n",
      "\n",
      "PCA Components = 256\n",
      "Fold 0 accuracy: 75.09293680297398\n",
      "Fold 1 accuracy: 75.8364312267658\n",
      "Fold 2 accuracy: 74.34944237918215\n",
      "Fold 3 accuracy: 75.41899441340783\n",
      "Fold 4 accuracy: 72.8119180633147\n",
      "Average Accuracy:  74.7019445771289\n"
     ]
    }
   ],
   "source": [
    "pca_param = [16, 32, 64, 128, 256]\n",
    "n_clusters = 512\n",
    "n_neighbors = 6\n",
    "distance = 'manhattan'\n",
    "weights = 'distance'\n",
    "\n",
    "for val in pca_param:\n",
    "    pca_accuracies = []\n",
    "    print(f\"\\nPCA Components = {val}\")\n",
    "    for i, fold in enumerate(folds, 0):\n",
    "\n",
    "        train_data, train_labels, test_data, test_labels = fold\n",
    "        \n",
    "        codebook = codebooks[f'fold_{i}'][n_clusters]\n",
    "        # create visual words for training data\n",
    "        train_visual_words = create_visual_words(train_data, descriptors_dictionary, codebook)\n",
    "        # create visual words for test data\n",
    "        test_visual_words = create_visual_words(test_data, descriptors_dictionary, codebook)\n",
    "\n",
    "        pca = PCA(n_components=int(val))\n",
    "        VWpca = pca.fit_transform(train_visual_words)\n",
    "        knnpca = KNeighborsClassifier(n_neighbors=n_neighbors, weights=weights, metric=distance)\n",
    "        knnpca.fit(VWpca, train_labels) \n",
    "        vwtestpca = pca.transform(test_visual_words)\n",
    "        accuracy = 100*knnpca.score(vwtestpca, test_labels)\n",
    "\n",
    "        print(f'Fold {i} accuracy: {accuracy}')\n",
    "        pca_accuracies.append(accuracy)\n",
    "\n",
    "    print('Average Accuracy: ', np.mean(pca_accuracies))"
   ]
  },
  {
   "cell_type": "markdown",
   "metadata": {},
   "source": [
    "### Gridsearch LDA parameters for KNN ###"
   ]
  },
  {
   "cell_type": "code",
   "execution_count": 28,
   "metadata": {},
   "outputs": [
    {
     "name": "stdout",
     "output_type": "stream",
     "text": [
      "\n",
      "LDA Components = 1\n",
      "Fold 0 accuracy: 35.87360594795539\n",
      "Fold 1 accuracy: 29.739776951672862\n",
      "Fold 2 accuracy: 36.43122676579926\n",
      "Fold 3 accuracy: 32.774674115456236\n",
      "Fold 4 accuracy: 30.353817504655495\n",
      "Average Accuracy:  33.034620257107846\n",
      "\n",
      "LDA Components = 3\n",
      "Fold 0 accuracy: 72.11895910780669\n",
      "Fold 1 accuracy: 70.4460966542751\n",
      "Fold 2 accuracy: 70.817843866171\n",
      "Fold 3 accuracy: 70.94972067039106\n",
      "Fold 4 accuracy: 68.15642458100558\n",
      "Average Accuracy:  70.49780897592989\n",
      "\n",
      "LDA Components = 5\n",
      "Fold 0 accuracy: 81.78438661710037\n",
      "Fold 1 accuracy: 81.22676579925651\n",
      "Fold 2 accuracy: 80.29739776951673\n",
      "Fold 3 accuracy: 78.2122905027933\n",
      "Fold 4 accuracy: 80.07448789571696\n",
      "Average Accuracy:  80.31906571687678\n",
      "\n",
      "LDA Components = 7\n",
      "Fold 0 accuracy: 85.50185873605948\n",
      "Fold 1 accuracy: 83.45724907063197\n",
      "Fold 2 accuracy: 81.59851301115242\n",
      "Fold 3 accuracy: 81.75046554934823\n",
      "Fold 4 accuracy: 82.68156424581005\n",
      "Average Accuracy:  82.99793012260042\n"
     ]
    }
   ],
   "source": [
    "\n",
    "lda_param = [1, 3, 5, 7]\n",
    "      \n",
    "for val in lda_param:\n",
    "        lda_accuracies = []\n",
    "        print(f\"\\nLDA Components = {val}\")\n",
    "        for i, fold in enumerate(folds, 0):\n",
    "\n",
    "                train_data, train_labels, test_data, test_labels = fold\n",
    "                \n",
    "                codebook = codebooks[f'fold_{i}'][n_clusters]\n",
    "                # create visual words for training data\n",
    "                train_visual_words = create_visual_words(train_data, descriptors_dictionary, codebook)\n",
    "                # create visual words for test data\n",
    "                test_visual_words = create_visual_words(test_data, descriptors_dictionary, codebook)\n",
    "\n",
    "                \n",
    "                lda = LinearDiscriminantAnalysis(n_components=val)\n",
    "                VWlda = lda.fit_transform(train_visual_words, train_labels)\n",
    "                knnlda = KNeighborsClassifier(n_neighbors=n_neighbors, weights=weights, metric=distance)\n",
    "                knnlda.fit(VWlda, train_labels) \n",
    "                vwtestlda = lda.transform(test_visual_words)\n",
    "                accuracy = 100*knnlda.score(vwtestlda, test_labels)\n",
    "\n",
    "                \n",
    "                print(f'Fold {i} accuracy: {accuracy}')\n",
    "                lda_accuracies.append(accuracy)\n",
    "\n",
    "        print('Average Accuracy: ', np.mean(lda_accuracies))"
   ]
  },
  {
   "cell_type": "markdown",
   "metadata": {},
   "source": [
    "### Gridsearch PCA parameters for SVM ###"
   ]
  },
  {
   "cell_type": "code",
   "execution_count": 29,
   "metadata": {},
   "outputs": [
    {
     "name": "stdout",
     "output_type": "stream",
     "text": [
      "\n",
      "PCA Components = 16\n",
      "Fold 0 accuracy: 83.08550185873605\n",
      "Fold 1 accuracy: 85.31598513011153\n",
      "Fold 2 accuracy: 78.81040892193309\n",
      "Fold 3 accuracy: 79.14338919925513\n",
      "Fold 4 accuracy: 79.70204841713222\n",
      "Average Accuracy:  81.2114667054336\n",
      "\n",
      "PCA Components = 32\n",
      "Fold 0 accuracy: 83.27137546468401\n",
      "Fold 1 accuracy: 85.87360594795538\n",
      "Fold 2 accuracy: 80.29739776951673\n",
      "Fold 3 accuracy: 81.00558659217877\n",
      "Fold 4 accuracy: 81.00558659217877\n",
      "Average Accuracy:  82.29071047330272\n",
      "\n",
      "PCA Components = 64\n",
      "Fold 0 accuracy: 85.31598513011153\n",
      "Fold 1 accuracy: 83.27137546468401\n",
      "Fold 2 accuracy: 80.66914498141264\n",
      "Fold 3 accuracy: 83.9851024208566\n",
      "Fold 4 accuracy: 82.12290502793296\n",
      "Average Accuracy:  83.07290260499954\n",
      "\n",
      "PCA Components = 128\n",
      "Fold 0 accuracy: 86.05947955390334\n",
      "Fold 1 accuracy: 84.20074349442379\n",
      "Fold 2 accuracy: 81.59851301115242\n",
      "Fold 3 accuracy: 82.49534450651768\n",
      "Fold 4 accuracy: 83.42644320297951\n",
      "Average Accuracy:  83.55610475379535\n",
      "\n",
      "PCA Components = 256\n",
      "Fold 0 accuracy: 86.80297397769516\n",
      "Fold 1 accuracy: 85.68773234200744\n",
      "Fold 2 accuracy: 83.45724907063197\n",
      "Fold 3 accuracy: 82.86778398510242\n",
      "Fold 4 accuracy: 82.12290502793296\n",
      "Average Accuracy:  84.187728880674\n"
     ]
    }
   ],
   "source": [
    "#best combination parameters\n",
    "n_clusters = 1024\n",
    "pca_param = [16, 32, 64, 128, 256]\n",
    "svc_C = 0.01\n",
    "svc_gamma = 0.2\n",
    "svc_kernel = 'linear'           \n",
    "\n",
    "for val in pca_param:\n",
    "        pca_accuracies = []\n",
    "        print(f\"\\nPCA Components = {val}\")\n",
    "        for i, fold in enumerate(folds, 0):\n",
    "\n",
    "                train_data, train_labels, test_data, test_labels = fold\n",
    "                \n",
    "                codebook = codebooks[f'fold_{i}'][n_clusters]\n",
    "                # create visual words for training data\n",
    "                train_visual_words = create_visual_words(train_data, descriptors_dictionary, codebook)\n",
    "                # create visual words for test data\n",
    "                test_visual_words = create_visual_words(test_data, descriptors_dictionary, codebook)\n",
    "\n",
    "\n",
    "                pca = PCA(n_components=val)\n",
    "                VWpca = pca.fit_transform(train_visual_words)\n",
    "                svcpca = SVC(kernel=svc_kernel, C=svc_C, gamma=svc_gamma)\n",
    "                svcpca.fit(VWpca, train_labels) \n",
    "                vwtestpca = pca.transform(test_visual_words)\n",
    "                accuracy = 100*svcpca.score(vwtestpca, test_labels)\n",
    "\n",
    "                print(f'Fold {i} accuracy: {accuracy}')\n",
    "                pca_accuracies.append(accuracy)\n",
    "\n",
    "        print('Average Accuracy: ', np.mean(pca_accuracies))"
   ]
  },
  {
   "cell_type": "markdown",
   "metadata": {},
   "source": [
    "### Gridsearch LDA parameters for SVM ###"
   ]
  },
  {
   "cell_type": "code",
   "execution_count": 30,
   "metadata": {},
   "outputs": [
    {
     "name": "stdout",
     "output_type": "stream",
     "text": [
      "\n",
      "LDA Components = 1\n",
      "Fold 0 accuracy: 36.2453531598513\n",
      "Fold 1 accuracy: 29.182156133828997\n",
      "Fold 2 accuracy: 36.43122676579926\n",
      "Fold 3 accuracy: 33.33333333333333\n",
      "Fold 4 accuracy: 32.02979515828678\n",
      "Average Accuracy:  33.44437291021993\n",
      "\n",
      "LDA Components = 3\n",
      "Fold 0 accuracy: 70.4460966542751\n",
      "Fold 1 accuracy: 67.84386617100373\n",
      "Fold 2 accuracy: 65.05576208178438\n",
      "Fold 3 accuracy: 63.128491620111724\n",
      "Fold 4 accuracy: 67.59776536312849\n",
      "Average Accuracy:  66.81439637806068\n",
      "\n",
      "LDA Components = 5\n",
      "Fold 0 accuracy: 79.73977695167285\n",
      "Fold 1 accuracy: 77.5092936802974\n",
      "Fold 2 accuracy: 75.8364312267658\n",
      "Fold 3 accuracy: 73.9292364990689\n",
      "Fold 4 accuracy: 74.11545623836126\n",
      "Average Accuracy:  76.22603891923325\n",
      "\n",
      "LDA Components = 7\n",
      "Fold 0 accuracy: 82.15613382899627\n",
      "Fold 1 accuracy: 76.95167286245353\n",
      "Fold 2 accuracy: 79.5539033457249\n",
      "Fold 3 accuracy: 76.72253258845437\n",
      "Fold 4 accuracy: 81.00558659217877\n",
      "Average Accuracy:  79.27796584356157\n"
     ]
    }
   ],
   "source": [
    "#best combination parameters\n",
    "n_clusters = 1024\n",
    "lda_param = [1, 3, 5, 7]\n",
    "svc_C = 0.01\n",
    "svc_gamma = 0.2\n",
    "svc_kernel = 'linear'           \n",
    "\n",
    "for val in lda_param:\n",
    "        lda_accuracies = []\n",
    "        print(f\"\\nLDA Components = {val}\")\n",
    "        for i, fold in enumerate(folds, 0):\n",
    "\n",
    "                train_data, train_labels, test_data, test_labels = fold\n",
    "                \n",
    "                codebook = codebooks[f'fold_{i}'][n_clusters]\n",
    "                # create visual words for training data\n",
    "                train_visual_words = create_visual_words(train_data, descriptors_dictionary, codebook)\n",
    "                # create visual words for test data\n",
    "                test_visual_words = create_visual_words(test_data, descriptors_dictionary, codebook)\n",
    "\n",
    "                \n",
    "                lda = LinearDiscriminantAnalysis(n_components=val)\n",
    "                VWlda = lda.fit_transform(train_visual_words, train_labels)\n",
    "                svclda = SVC(kernel=svc_kernel, C=svc_C, gamma=svc_gamma)\n",
    "                svclda.fit(VWlda, train_labels) \n",
    "                vwtestlda = lda.transform(test_visual_words)\n",
    "                accuracy = 100*svclda.score(vwtestlda, test_labels)\n",
    "\n",
    "                \n",
    "                print(f'Fold {i} accuracy: {accuracy}')\n",
    "                lda_accuracies.append(accuracy)\n",
    "\n",
    "        print('Average Accuracy: ', np.mean(lda_accuracies))"
   ]
  },
  {
   "cell_type": "markdown",
   "metadata": {},
   "source": [
    "### Test Spatial Pyramids for KNN ###"
   ]
  },
  {
   "cell_type": "code",
   "execution_count": 31,
   "metadata": {},
   "outputs": [
    {
     "name": "stdout",
     "output_type": "stream",
     "text": [
      "Spatial Pyramid with 3 levels.\n"
     ]
    },
    {
     "name": "stderr",
     "output_type": "stream",
     "text": [
      "  0%|          | 0/2688 [00:00<?, ?it/s]"
     ]
    },
    {
     "name": "stderr",
     "output_type": "stream",
     "text": [
      "100%|██████████| 2688/2688 [04:40<00:00,  9.58it/s]\n"
     ]
    },
    {
     "name": "stdout",
     "output_type": "stream",
     "text": [
      "Fold 0 accuracy: 0.8327137546468402\n",
      "Fold 1 accuracy: 0.8234200743494424\n",
      "Fold 2 accuracy: 0.7973977695167286\n",
      "Fold 3 accuracy: 0.7970204841713222\n",
      "Fold 4 accuracy: 0.8286778398510242\n",
      "Average accuracy 0.8158459845070715\n"
     ]
    }
   ],
   "source": [
    "codebooks = {'fold_0': {}, 'fold_1': {}, 'fold_2': {}, 'fold_3': {}, 'fold_4': {}}\n",
    "codebook_size = 512\n",
    "levels = 3\n",
    "\n",
    "Training_descriptors = {}\n",
    "\n",
    "print(f'Spatial Pyramid with {levels} levels.')\n",
    "\n",
    "for filename in tqdm(all_data):\n",
    "\n",
    "    image = cv2.imread(filename)\n",
    "    gray = cv2.cvtColor(image, cv2.COLOR_BGR2GRAY)\n",
    "    \n",
    "    descriptors = []\n",
    "\n",
    "    for level in range(levels):\n",
    "        # Calculate the size of each cell in the pyramid\n",
    "        cell_size = (image.shape[0] // (2 ** level), image.shape[1] // (2 ** level))\n",
    "\n",
    "        # Divide the image into cells\n",
    "        for i in range(0, image.shape[0], cell_size[0]):\n",
    "            for j in range(0, image.shape[1], cell_size[1]):\n",
    "                cell = image[i:i+cell_size[0], j:j+cell_size[1]]  # Extract cell\n",
    "                # Perform feature extraction (You can use any desired method here, e.g., SIFT, SURF, HOG)\n",
    "                # Example: using ORB feature detector\n",
    "                descriptor = dense_sift(cell, step_size=8, kp_scale=12)\n",
    "                if descriptor is not None:\n",
    "                    descriptors.append(descriptor)  # Store descriptors for each cell\n",
    "\n",
    "    # Combine features (Example: using concatenation)\n",
    "    combined_features = np.concatenate(descriptors, axis=0)\n",
    "    \n",
    "    Training_descriptors[filename] = combined_features\n",
    "\n",
    "metrics = []\n",
    "\n",
    "for i, fold in enumerate(folds):\n",
    "    train_data, train_labels, test_data, test_labels = fold\n",
    "    train_descriptors = []\n",
    "\n",
    "    for file in train_data:\n",
    "        train_descriptors.append(Training_descriptors[file])\n",
    "    train_D = np.vstack(list(train_descriptors)) \n",
    "\n",
    "\n",
    "    codebook = MiniBatchKMeans(n_clusters=codebook_size, \n",
    "                        verbose=False, \n",
    "                        batch_size=2150,\n",
    "                        compute_labels=False,\n",
    "                        reassignment_ratio=0.01,\n",
    "                        random_state=42)\n",
    "    \n",
    "    codebook.fit(train_D)\n",
    "\n",
    "    train_visual_words = create_visual_words(train_data, descriptors_dictionary, codebook)\n",
    "    test_visual_words = create_visual_words(test_data, descriptors_dictionary, codebook)\n",
    "    \n",
    "    knn = KNeighborsClassifier(n_neighbors=6, n_jobs=-1, metric='manhattan', weights='distance')\n",
    "    knn.fit(train_visual_words, train_labels)\n",
    "    pred_labels = knn.predict(test_visual_words)\n",
    "\n",
    "    accuracy = get_metrics(test_labels, pred_labels)[0]\n",
    "    print(f'Fold {i} accuracy: {accuracy}')\n",
    "    metrics.append(accuracy)\n",
    "\n",
    "print('Average accuracy', np.mean(metrics))\n"
   ]
  },
  {
   "cell_type": "markdown",
   "metadata": {},
   "source": [
    "### Test Spatial Pyramids for SVC ###"
   ]
  },
  {
   "cell_type": "code",
   "execution_count": 32,
   "metadata": {},
   "outputs": [
    {
     "name": "stdout",
     "output_type": "stream",
     "text": [
      "Spatial Pyramid with 3 levels.\n"
     ]
    },
    {
     "name": "stderr",
     "output_type": "stream",
     "text": [
      "100%|██████████| 2688/2688 [04:41<00:00,  9.53it/s]\n"
     ]
    },
    {
     "name": "stdout",
     "output_type": "stream",
     "text": [
      "Fold 0 accuracy: 0.8568773234200744\n",
      "Fold 1 accuracy: 0.8513011152416357\n",
      "Fold 2 accuracy: 0.828996282527881\n",
      "Fold 3 accuracy: 0.8286778398510242\n",
      "Fold 4 accuracy: 0.8342644320297952\n",
      "Average accuracy 0.840023398614082\n"
     ]
    }
   ],
   "source": [
    "codebooks = {'fold_0': {}, 'fold_1': {}, 'fold_2': {}, 'fold_3': {}, 'fold_4': {}}\n",
    "codebook_size = 1024\n",
    "levels = 3\n",
    "\n",
    "Training_descriptors = {}\n",
    "\n",
    "print(f'Spatial Pyramid with {levels} levels.')\n",
    "\n",
    "for filename in tqdm(all_data):\n",
    "\n",
    "    image = cv2.imread(filename)\n",
    "    gray = cv2.cvtColor(image, cv2.COLOR_BGR2GRAY)\n",
    "    \n",
    "    descriptors = []\n",
    "\n",
    "    for level in range(levels):\n",
    "        # Calculate the size of each cell in the pyramid\n",
    "        cell_size = (image.shape[0] // (2 ** level), image.shape[1] // (2 ** level))\n",
    "\n",
    "        # Divide the image into cells\n",
    "        for i in range(0, image.shape[0], cell_size[0]):\n",
    "            for j in range(0, image.shape[1], cell_size[1]):\n",
    "                cell = image[i:i+cell_size[0], j:j+cell_size[1]]  # Extract cell\n",
    "                # Perform feature extraction (You can use any desired method here, e.g., SIFT, SURF, HOG)\n",
    "                # Example: using ORB feature detector\n",
    "                descriptor = dense_sift(cell, step_size=8, kp_scale=12)\n",
    "                if descriptor is not None:\n",
    "                    descriptors.append(descriptor)  # Store descriptors for each cell\n",
    "\n",
    "    # Combine features (Example: using concatenation)\n",
    "    combined_features = np.concatenate(descriptors, axis=0)\n",
    "    \n",
    "    Training_descriptors[filename] = combined_features\n",
    "    \n",
    "metrics = []\n",
    "for i, fold in enumerate(folds):\n",
    "    train_data, train_labels, test_data, test_labels = fold\n",
    "    train_descriptors = []\n",
    "\n",
    "    for file in train_data:\n",
    "        train_descriptors.append(Training_descriptors[file])\n",
    "    train_D = np.vstack(list(train_descriptors)) \n",
    "\n",
    "\n",
    "    codebook = MiniBatchKMeans(n_clusters=codebook_size, \n",
    "                        verbose=False, \n",
    "                        batch_size=2150,\n",
    "                        compute_labels=False,\n",
    "                        reassignment_ratio=0.01,\n",
    "                        random_state=42)\n",
    "    \n",
    "    codebook.fit(train_D)\n",
    "\n",
    "    train_visual_words = create_visual_words(train_data, descriptors_dictionary, codebook)\n",
    "    test_visual_words = create_visual_words(test_data, descriptors_dictionary, codebook)\n",
    "    \n",
    "    svm = SVC(kernel=svc_kernel, C=svc_C, gamma=svc_gamma)\n",
    "    svm.fit(train_visual_words, train_labels)\n",
    "\n",
    "    pred_labels = svm.predict(test_visual_words)\n",
    "\n",
    "    accuracy = get_metrics(test_labels, pred_labels)[0]\n",
    "    print(f'Fold {i} accuracy: {accuracy}')\n",
    "    metrics.append(accuracy)\n",
    "\n",
    "print('Average accuracy', np.mean(metrics))"
   ]
  }
 ],
 "metadata": {
  "kernelspec": {
   "display_name": "venv",
   "language": "python",
   "name": "python3"
  },
  "language_info": {
   "codemirror_mode": {
    "name": "ipython",
    "version": 3
   },
   "file_extension": ".py",
   "mimetype": "text/x-python",
   "name": "python",
   "nbconvert_exporter": "python",
   "pygments_lexer": "ipython3",
   "version": "3.10.12"
  }
 },
 "nbformat": 4,
 "nbformat_minor": 2
}
