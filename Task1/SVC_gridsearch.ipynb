{
 "cells": [
  {
   "cell_type": "code",
   "execution_count": 1,
   "metadata": {},
   "outputs": [],
   "source": [
    "import numpy as np\n",
    "import matplotlib.pyplot as plt\n",
    "import os\n",
    "import cv2\n",
    "import pickle\n",
    "from pprint import pprint\n",
    "from tqdm import tqdm\n",
    "from sklearn.cluster import MiniBatchKMeans, KMeans\n",
    "from sklearn.neighbors import KNeighborsClassifier\n",
    "from sklearn.svm import SVC\n",
    "from sklearn.decomposition import PCA\n",
    "from sklearn.discriminant_analysis import LinearDiscriminantAnalysis\n",
    "from sklearn.metrics import accuracy_score, recall_score, precision_score, f1_score, confusion_matrix\n",
    "from sklearn.model_selection import KFold, GridSearchCV\n",
    "import optuna\n",
    "\n",
    "from utils import load_data_from_directory, split_into_K_folds, get_metrics\n",
    "import warnings\n",
    "warnings.simplefilter(action='ignore', category=FutureWarning)\n",
    "warnings.filterwarnings(\"ignore\")\n"
   ]
  },
  {
   "cell_type": "code",
   "execution_count": 2,
   "metadata": {},
   "outputs": [],
   "source": [
    "train_images_filenames = pickle.load(open('../MIT_split/train_images_filenames.dat','rb'))\n",
    "test_images_filenames = pickle.load(open('../MIT_split/test_images_filenames.dat','rb'))\n",
    "train_images_filenames = ['..' + n[15:] for n in train_images_filenames]\n",
    "test_images_filenames  = ['..' + n[15:] for n in test_images_filenames]\n",
    "train_labels = pickle.load(open('../MIT_split/train_labels.dat','rb')) \n",
    "test_labels = pickle.load(open('../MIT_split/test_labels.dat','rb'))"
   ]
  },
  {
   "cell_type": "code",
   "execution_count": 3,
   "metadata": {},
   "outputs": [
    {
     "name": "stdout",
     "output_type": "stream",
     "text": [
      "Fold 1:\n",
      "Number of samples in train set: 2150\n",
      "Number of samples in test set: 538\n",
      "Number of labels in train set: 2150\n",
      "Number of labels in test set: 538\n",
      "\n",
      "Fold 2:\n",
      "Number of samples in train set: 2150\n",
      "Number of samples in test set: 538\n",
      "Number of labels in train set: 2150\n",
      "Number of labels in test set: 538\n",
      "\n",
      "Fold 3:\n",
      "Number of samples in train set: 2150\n",
      "Number of samples in test set: 538\n",
      "Number of labels in train set: 2150\n",
      "Number of labels in test set: 538\n",
      "\n",
      "Fold 4:\n",
      "Number of samples in train set: 2151\n",
      "Number of samples in test set: 537\n",
      "Number of labels in train set: 2151\n",
      "Number of labels in test set: 537\n",
      "\n",
      "Fold 5:\n",
      "Number of samples in train set: 2151\n",
      "Number of samples in test set: 537\n",
      "Number of labels in train set: 2151\n",
      "Number of labels in test set: 537\n",
      "\n"
     ]
    }
   ],
   "source": [
    "# Since we want to do k-fold cross validation, we need to merge the training and test data and then re-split it into k folds\n",
    "\n",
    "all_data = train_images_filenames + test_images_filenames\n",
    "all_labels = train_labels + test_labels\n",
    "\n",
    "k = 5  # number of folds\n",
    "# split data into 5 folds using custom function\n",
    "folds = split_into_K_folds(all_data, all_labels, k)\n",
    "\n",
    "# Now each fold in the 'folds' list contains the training and test data for that fold in the format: (train_data, train_labels, test_data, test_labels)\n",
    "for fold_index, fold in enumerate(folds):\n",
    "    train_data, train_labels, test_data, test_labels = fold\n",
    "    print(f\"Fold {fold_index + 1}:\")\n",
    "    print(f\"Number of samples in train set: {len(train_data)}\")\n",
    "    print(f\"Number of samples in test set: {len(test_data)}\")\n",
    "    print(f\"Number of labels in train set: {len(train_labels)}\")\n",
    "    print(f\"Number of labels in test set: {len(test_labels)}\")\n",
    "    print()"
   ]
  },
  {
   "cell_type": "code",
   "execution_count": 4,
   "metadata": {},
   "outputs": [
    {
     "name": "stderr",
     "output_type": "stream",
     "text": [
      "  0%|          | 0/2688 [00:00<?, ?it/s]"
     ]
    },
    {
     "name": "stderr",
     "output_type": "stream",
     "text": [
      "100%|██████████| 2688/2688 [00:40<00:00, 66.48it/s]\n"
     ]
    }
   ],
   "source": [
    "# Define Dense SIFT and Dense KAZE descriptors\n",
    "def dense_sift(image, step_size=8, kp_scale=16):\n",
    "    if len(image.shape) == 3:\n",
    "        image = cv2.cvtColor(image, cv2.COLOR_BGR2GRAY)\n",
    "    dense_sift = cv2.SIFT_create()\n",
    "    keypoints = [cv2.KeyPoint(x, y, kp_scale) for y in range(0, image.shape[0], step_size) for x in range(0, image.shape[1], step_size)]\n",
    "    _, descriptor = dense_sift.compute(image, keypoints)\n",
    "    return descriptor\n",
    "\n",
    "# generate descriptors for all images and store in dictionary to access them later in each fold without having to recompute them\n",
    "def generate_descriptors(image_paths, descriptor_type, **kwargs):\n",
    "    descriptors = {}\n",
    "    for image_path in tqdm(image_paths):\n",
    "        image = cv2.imread(image_path)\n",
    "        gray_image = cv2.cvtColor(image, cv2.COLOR_BGR2GRAY)\n",
    "        if descriptor_type == 'sift':\n",
    "            sift = cv2.SIFT_create()\n",
    "            _, descriptor = sift.detectAndCompute(gray_image, None)\n",
    "        elif descriptor_type == 'kaze':\n",
    "            kaze = cv2.KAZE_create(threshold=kwargs['threshold'])\n",
    "            _, descriptor = kaze.detectAndCompute(gray_image, None)\n",
    "        elif descriptor_type == 'dense_sift':\n",
    "            descriptor = dense_sift(image, step_size=kwargs['step_size'], kp_scale=kwargs['kp_scale'])\n",
    "        else:\n",
    "            raise Exception('Unknown descriptor type')\n",
    "        descriptors[image_path] = descriptor\n",
    "    return descriptors\n",
    "\n",
    "descriptors_dictionary = generate_descriptors(all_data, 'dense_sift', step_size=16, kp_scale=16, threshold=0.0001)\n"
   ]
  },
  {
   "cell_type": "code",
   "execution_count": 5,
   "metadata": {},
   "outputs": [],
   "source": [
    "# create a dictionary linking a histogram of visual words to the corresponding images images:\n",
    "def create_visual_words(image_paths, descriptors_dictionary, codebook):\n",
    "    visual_words = {}\n",
    "    for image_path in image_paths:\n",
    "        descriptor = descriptors_dictionary[image_path]\n",
    "        labels = codebook.predict(descriptor)\n",
    "        visual_words[image_path] = np.bincount(labels, minlength=codebook.n_clusters)\n",
    "    return np.array(list(visual_words.values()))\n"
   ]
  },
  {
   "cell_type": "code",
   "execution_count": 6,
   "metadata": {},
   "outputs": [
    {
     "name": "stderr",
     "output_type": "stream",
     "text": [
      "Creating Codebooks for fold 0: 100%|██████████| 6/6 [00:24<00:00,  4.11s/it]\n",
      "Creating Codebooks for fold 1: 100%|██████████| 6/6 [00:25<00:00,  4.20s/it]\n",
      "Creating Codebooks for fold 2: 100%|██████████| 6/6 [00:30<00:00,  5.15s/it]\n",
      "Creating Codebooks for fold 3: 100%|██████████| 6/6 [00:29<00:00,  4.85s/it]\n",
      "Creating Codebooks for fold 4: 100%|██████████| 6/6 [00:29<00:00,  4.84s/it]\n"
     ]
    }
   ],
   "source": [
    "codebooks = {'fold_0': {}, 'fold_1': {}, 'fold_2': {}, 'fold_3': {}, 'fold_4': {}}\n",
    "codebook_sizes = [32, 64, 128, 256, 512, 1024] #, 2048, 4096, 8192]\n",
    "\n",
    "for i, fold in enumerate(folds):\n",
    "    train_data, train_labels, test_data, test_labels = fold\n",
    "    train_descriptors = []\n",
    "\n",
    "    for file in train_data:\n",
    "        train_descriptors.append(descriptors_dictionary[file])\n",
    "    train_D = np.vstack(list(train_descriptors)) \n",
    "    for k in tqdm(codebook_sizes, desc=f'Creating Codebooks for fold {i}'):\n",
    "\n",
    "        codebook = MiniBatchKMeans(n_clusters=k, \n",
    "                           verbose=False, \n",
    "                           batch_size=2150,\n",
    "                           compute_labels=False,\n",
    "                           reassignment_ratio=0.01,\n",
    "                           random_state=42)\n",
    "        \n",
    "        codebook.fit(train_D)\n",
    "\n",
    "        codebooks[f'fold_{i}'][k] = codebook\n"
   ]
  },
  {
   "cell_type": "code",
   "execution_count": 8,
   "metadata": {},
   "outputs": [
    {
     "name": "stderr",
     "output_type": "stream",
     "text": [
      "[I 2024-01-04 23:52:35,420] A new study created in memory with name: no-name-56f7c4ff-c71f-405d-8cd2-562ee200e547\n"
     ]
    },
    {
     "name": "stdout",
     "output_type": "stream",
     "text": [
      "Fold 0: fitting svm with C=100, kernel=rbf, gamma=0.1, n_clusters=64\n",
      "Fold 1: fitting svm with C=100, kernel=rbf, gamma=0.1, n_clusters=64\n",
      "Fold 2: fitting svm with C=100, kernel=rbf, gamma=0.1, n_clusters=64\n",
      "Fold 3: fitting svm with C=100, kernel=rbf, gamma=0.1, n_clusters=64\n",
      "Fold 4: fitting svm with C=100, kernel=rbf, gamma=0.1, n_clusters=64\n"
     ]
    },
    {
     "name": "stderr",
     "output_type": "stream",
     "text": [
      "[I 2024-01-04 23:52:45,525] Trial 0 finished with value: 0.15326161450437165 and parameters: {'n_clusters': 64, 'svm_kernel': 'rbf', 'svm_C': 100, 'svm_gamma': 0.1}. Best is trial 0 with value: 0.15326161450437165.\n"
     ]
    },
    {
     "name": "stdout",
     "output_type": "stream",
     "text": [
      "Fold 0: fitting svm with C=0.1, kernel=poly, gamma=0.1, n_clusters=128\n",
      "Fold 1: fitting svm with C=0.1, kernel=poly, gamma=0.1, n_clusters=128\n",
      "Fold 2: fitting svm with C=0.1, kernel=poly, gamma=0.1, n_clusters=128\n",
      "Fold 3: fitting svm with C=0.1, kernel=poly, gamma=0.1, n_clusters=128\n",
      "Fold 4: fitting svm with C=0.1, kernel=poly, gamma=0.1, n_clusters=128\n"
     ]
    },
    {
     "name": "stderr",
     "output_type": "stream",
     "text": [
      "[I 2024-01-04 23:52:53,722] Trial 1 finished with value: 0.8084179629360415 and parameters: {'n_clusters': 128, 'svm_kernel': 'poly', 'svm_C': 0.1, 'svm_gamma': 0.1}. Best is trial 1 with value: 0.8084179629360415.\n"
     ]
    },
    {
     "name": "stdout",
     "output_type": "stream",
     "text": [
      "Fold 0: fitting svm with C=0.1, kernel=rbf, gamma=0.2, n_clusters=1024\n",
      "Fold 1: fitting svm with C=0.1, kernel=rbf, gamma=0.2, n_clusters=1024\n",
      "Fold 2: fitting svm with C=0.1, kernel=rbf, gamma=0.2, n_clusters=1024\n",
      "Fold 3: fitting svm with C=0.1, kernel=rbf, gamma=0.2, n_clusters=1024\n",
      "Fold 4: fitting svm with C=0.1, kernel=rbf, gamma=0.2, n_clusters=1024\n"
     ]
    },
    {
     "name": "stderr",
     "output_type": "stream",
     "text": [
      "[I 2024-01-04 23:53:33,764] Trial 2 finished with value: 0.15251742781389105 and parameters: {'n_clusters': 1024, 'svm_kernel': 'rbf', 'svm_C': 0.1, 'svm_gamma': 0.2}. Best is trial 1 with value: 0.8084179629360415.\n"
     ]
    },
    {
     "name": "stdout",
     "output_type": "stream",
     "text": [
      "Fold 0: fitting svm with C=1, kernel=rbf, gamma=0.1, n_clusters=256\n",
      "Fold 1: fitting svm with C=1, kernel=rbf, gamma=0.1, n_clusters=256\n",
      "Fold 2: fitting svm with C=1, kernel=rbf, gamma=0.1, n_clusters=256\n",
      "Fold 3: fitting svm with C=1, kernel=rbf, gamma=0.1, n_clusters=256\n",
      "Fold 4: fitting svm with C=1, kernel=rbf, gamma=0.1, n_clusters=256\n"
     ]
    },
    {
     "name": "stderr",
     "output_type": "stream",
     "text": [
      "[I 2024-01-04 23:53:47,782] Trial 3 finished with value: 0.15326161450437165 and parameters: {'n_clusters': 256, 'svm_kernel': 'rbf', 'svm_C': 1, 'svm_gamma': 0.1}. Best is trial 1 with value: 0.8084179629360415.\n"
     ]
    },
    {
     "name": "stdout",
     "output_type": "stream",
     "text": [
      "Fold 0: fitting svm with C=1, kernel=poly, gamma=0.1, n_clusters=256\n",
      "Fold 1: fitting svm with C=1, kernel=poly, gamma=0.1, n_clusters=256\n",
      "Fold 2: fitting svm with C=1, kernel=poly, gamma=0.1, n_clusters=256\n",
      "Fold 3: fitting svm with C=1, kernel=poly, gamma=0.1, n_clusters=256\n",
      "Fold 4: fitting svm with C=1, kernel=poly, gamma=0.1, n_clusters=256\n"
     ]
    },
    {
     "name": "stderr",
     "output_type": "stream",
     "text": [
      "[I 2024-01-04 23:53:59,257] Trial 4 finished with value: 0.8218057084311161 and parameters: {'n_clusters': 256, 'svm_kernel': 'poly', 'svm_C': 1, 'svm_gamma': 0.1}. Best is trial 4 with value: 0.8218057084311161.\n"
     ]
    },
    {
     "name": "stdout",
     "output_type": "stream",
     "text": [
      "Fold 0: fitting svm with C=100, kernel=rbf, gamma=0.05, n_clusters=32\n",
      "Fold 1: fitting svm with C=100, kernel=rbf, gamma=0.05, n_clusters=32\n",
      "Fold 2: fitting svm with C=100, kernel=rbf, gamma=0.05, n_clusters=32\n",
      "Fold 3: fitting svm with C=100, kernel=rbf, gamma=0.05, n_clusters=32\n",
      "Fold 4: fitting svm with C=100, kernel=rbf, gamma=0.05, n_clusters=32\n"
     ]
    },
    {
     "name": "stderr",
     "output_type": "stream",
     "text": [
      "[I 2024-01-04 23:54:08,131] Trial 5 finished with value: 0.15437754840674822 and parameters: {'n_clusters': 32, 'svm_kernel': 'rbf', 'svm_C': 100, 'svm_gamma': 0.05}. Best is trial 4 with value: 0.8218057084311161.\n"
     ]
    },
    {
     "name": "stdout",
     "output_type": "stream",
     "text": [
      "Fold 0: fitting svm with C=100, kernel=sigmoid, gamma=0.05, n_clusters=32\n",
      "Fold 1: fitting svm with C=100, kernel=sigmoid, gamma=0.05, n_clusters=32\n",
      "Fold 2: fitting svm with C=100, kernel=sigmoid, gamma=0.05, n_clusters=32\n",
      "Fold 3: fitting svm with C=100, kernel=sigmoid, gamma=0.05, n_clusters=32\n",
      "Fold 4: fitting svm with C=100, kernel=sigmoid, gamma=0.05, n_clusters=32\n"
     ]
    },
    {
     "name": "stderr",
     "output_type": "stream",
     "text": [
      "[I 2024-01-04 23:54:14,954] Trial 6 finished with value: 0.17597557683121848 and parameters: {'n_clusters': 32, 'svm_kernel': 'sigmoid', 'svm_C': 100, 'svm_gamma': 0.05}. Best is trial 4 with value: 0.8218057084311161.\n"
     ]
    },
    {
     "name": "stdout",
     "output_type": "stream",
     "text": [
      "Fold 0: fitting svm with C=10, kernel=rbf, gamma=0.1, n_clusters=512\n",
      "Fold 1: fitting svm with C=10, kernel=rbf, gamma=0.1, n_clusters=512\n",
      "Fold 2: fitting svm with C=10, kernel=rbf, gamma=0.1, n_clusters=512\n",
      "Fold 3: fitting svm with C=10, kernel=rbf, gamma=0.1, n_clusters=512\n",
      "Fold 4: fitting svm with C=10, kernel=rbf, gamma=0.1, n_clusters=512\n"
     ]
    },
    {
     "name": "stderr",
     "output_type": "stream",
     "text": [
      "[I 2024-01-04 23:54:36,458] Trial 7 finished with value: 0.15326161450437165 and parameters: {'n_clusters': 512, 'svm_kernel': 'rbf', 'svm_C': 10, 'svm_gamma': 0.1}. Best is trial 4 with value: 0.8218057084311161.\n"
     ]
    },
    {
     "name": "stdout",
     "output_type": "stream",
     "text": [
      "Fold 0: fitting svm with C=10, kernel=sigmoid, gamma=0.25, n_clusters=256\n",
      "Fold 1: fitting svm with C=10, kernel=sigmoid, gamma=0.25, n_clusters=256\n",
      "Fold 2: fitting svm with C=10, kernel=sigmoid, gamma=0.25, n_clusters=256\n",
      "Fold 3: fitting svm with C=10, kernel=sigmoid, gamma=0.25, n_clusters=256\n",
      "Fold 4: fitting svm with C=10, kernel=sigmoid, gamma=0.25, n_clusters=256\n"
     ]
    },
    {
     "name": "stderr",
     "output_type": "stream",
     "text": [
      "[I 2024-01-04 23:54:48,318] Trial 8 finished with value: 0.24146539012689247 and parameters: {'n_clusters': 256, 'svm_kernel': 'sigmoid', 'svm_C': 10, 'svm_gamma': 0.25}. Best is trial 4 with value: 0.8218057084311161.\n"
     ]
    },
    {
     "name": "stdout",
     "output_type": "stream",
     "text": [
      "Fold 0: fitting svm with C=1, kernel=poly, gamma=0.25, n_clusters=128\n",
      "Fold 1: fitting svm with C=1, kernel=poly, gamma=0.25, n_clusters=128\n",
      "Fold 2: fitting svm with C=1, kernel=poly, gamma=0.25, n_clusters=128\n",
      "Fold 3: fitting svm with C=1, kernel=poly, gamma=0.25, n_clusters=128\n",
      "Fold 4: fitting svm with C=1, kernel=poly, gamma=0.25, n_clusters=128\n"
     ]
    },
    {
     "name": "stderr",
     "output_type": "stream",
     "text": [
      "[I 2024-01-04 23:54:56,648] Trial 9 finished with value: 0.8084179629360415 and parameters: {'n_clusters': 128, 'svm_kernel': 'poly', 'svm_C': 1, 'svm_gamma': 0.25}. Best is trial 4 with value: 0.8218057084311161.\n"
     ]
    },
    {
     "name": "stdout",
     "output_type": "stream",
     "text": [
      "Fold 0: fitting svm with C=0.01, kernel=linear, gamma=0.15, n_clusters=256\n",
      "Fold 1: fitting svm with C=0.01, kernel=linear, gamma=0.15, n_clusters=256\n",
      "Fold 2: fitting svm with C=0.01, kernel=linear, gamma=0.15, n_clusters=256\n",
      "Fold 3: fitting svm with C=0.01, kernel=linear, gamma=0.15, n_clusters=256\n",
      "Fold 4: fitting svm with C=0.01, kernel=linear, gamma=0.15, n_clusters=256\n"
     ]
    },
    {
     "name": "stderr",
     "output_type": "stream",
     "text": [
      "[I 2024-01-04 23:55:07,047] Trial 10 finished with value: 0.8069268204883249 and parameters: {'n_clusters': 256, 'svm_kernel': 'linear', 'svm_C': 0.01, 'svm_gamma': 0.15}. Best is trial 4 with value: 0.8218057084311161.\n"
     ]
    },
    {
     "name": "stdout",
     "output_type": "stream",
     "text": [
      "Fold 0: fitting svm with C=0.1, kernel=poly, gamma=0.1, n_clusters=128\n",
      "Fold 1: fitting svm with C=0.1, kernel=poly, gamma=0.1, n_clusters=128\n",
      "Fold 2: fitting svm with C=0.1, kernel=poly, gamma=0.1, n_clusters=128\n",
      "Fold 3: fitting svm with C=0.1, kernel=poly, gamma=0.1, n_clusters=128\n",
      "Fold 4: fitting svm with C=0.1, kernel=poly, gamma=0.1, n_clusters=128\n"
     ]
    },
    {
     "name": "stderr",
     "output_type": "stream",
     "text": [
      "[I 2024-01-04 23:55:15,342] Trial 11 finished with value: 0.8084179629360415 and parameters: {'n_clusters': 128, 'svm_kernel': 'poly', 'svm_C': 0.1, 'svm_gamma': 0.1}. Best is trial 4 with value: 0.8218057084311161.\n"
     ]
    },
    {
     "name": "stdout",
     "output_type": "stream",
     "text": [
      "Fold 0: fitting svm with C=1, kernel=poly, gamma=0.1, n_clusters=128\n",
      "Fold 1: fitting svm with C=1, kernel=poly, gamma=0.1, n_clusters=128\n",
      "Fold 2: fitting svm with C=1, kernel=poly, gamma=0.1, n_clusters=128\n",
      "Fold 3: fitting svm with C=1, kernel=poly, gamma=0.1, n_clusters=128\n",
      "Fold 4: fitting svm with C=1, kernel=poly, gamma=0.1, n_clusters=128\n"
     ]
    },
    {
     "name": "stderr",
     "output_type": "stream",
     "text": [
      "[I 2024-01-04 23:55:23,648] Trial 12 finished with value: 0.8084179629360415 and parameters: {'n_clusters': 128, 'svm_kernel': 'poly', 'svm_C': 1, 'svm_gamma': 0.1}. Best is trial 4 with value: 0.8218057084311161.\n"
     ]
    },
    {
     "name": "stdout",
     "output_type": "stream",
     "text": [
      "Fold 0: fitting svm with C=0.1, kernel=poly, gamma=0.15, n_clusters=512\n",
      "Fold 1: fitting svm with C=0.1, kernel=poly, gamma=0.15, n_clusters=512\n",
      "Fold 2: fitting svm with C=0.1, kernel=poly, gamma=0.15, n_clusters=512\n",
      "Fold 3: fitting svm with C=0.1, kernel=poly, gamma=0.15, n_clusters=512\n",
      "Fold 4: fitting svm with C=0.1, kernel=poly, gamma=0.15, n_clusters=512\n"
     ]
    },
    {
     "name": "stderr",
     "output_type": "stream",
     "text": [
      "[I 2024-01-04 23:55:42,295] Trial 13 finished with value: 0.8288737513239599 and parameters: {'n_clusters': 512, 'svm_kernel': 'poly', 'svm_C': 0.1, 'svm_gamma': 0.15}. Best is trial 13 with value: 0.8288737513239599.\n"
     ]
    },
    {
     "name": "stdout",
     "output_type": "stream",
     "text": [
      "Fold 0: fitting svm with C=0.01, kernel=poly, gamma=0.15, n_clusters=512\n",
      "Fold 1: fitting svm with C=0.01, kernel=poly, gamma=0.15, n_clusters=512\n",
      "Fold 2: fitting svm with C=0.01, kernel=poly, gamma=0.15, n_clusters=512\n",
      "Fold 3: fitting svm with C=0.01, kernel=poly, gamma=0.15, n_clusters=512\n",
      "Fold 4: fitting svm with C=0.01, kernel=poly, gamma=0.15, n_clusters=512\n"
     ]
    },
    {
     "name": "stderr",
     "output_type": "stream",
     "text": [
      "[I 2024-01-04 23:56:01,416] Trial 14 finished with value: 0.8288737513239599 and parameters: {'n_clusters': 512, 'svm_kernel': 'poly', 'svm_C': 0.01, 'svm_gamma': 0.15}. Best is trial 13 with value: 0.8288737513239599.\n"
     ]
    },
    {
     "name": "stdout",
     "output_type": "stream",
     "text": [
      "Fold 0: fitting svm with C=0.01, kernel=linear, gamma=0.15, n_clusters=512\n",
      "Fold 1: fitting svm with C=0.01, kernel=linear, gamma=0.15, n_clusters=512\n",
      "Fold 2: fitting svm with C=0.01, kernel=linear, gamma=0.15, n_clusters=512\n",
      "Fold 3: fitting svm with C=0.01, kernel=linear, gamma=0.15, n_clusters=512\n",
      "Fold 4: fitting svm with C=0.01, kernel=linear, gamma=0.15, n_clusters=512\n"
     ]
    },
    {
     "name": "stderr",
     "output_type": "stream",
     "text": [
      "[I 2024-01-04 23:56:16,491] Trial 15 finished with value: 0.8095304355049739 and parameters: {'n_clusters': 512, 'svm_kernel': 'linear', 'svm_C': 0.01, 'svm_gamma': 0.15}. Best is trial 13 with value: 0.8288737513239599.\n"
     ]
    },
    {
     "name": "stdout",
     "output_type": "stream",
     "text": [
      "Fold 0: fitting svm with C=0.01, kernel=poly, gamma=0.15, n_clusters=512\n",
      "Fold 1: fitting svm with C=0.01, kernel=poly, gamma=0.15, n_clusters=512\n",
      "Fold 2: fitting svm with C=0.01, kernel=poly, gamma=0.15, n_clusters=512\n",
      "Fold 3: fitting svm with C=0.01, kernel=poly, gamma=0.15, n_clusters=512\n",
      "Fold 4: fitting svm with C=0.01, kernel=poly, gamma=0.15, n_clusters=512\n"
     ]
    },
    {
     "name": "stderr",
     "output_type": "stream",
     "text": [
      "[I 2024-01-04 23:56:34,949] Trial 16 finished with value: 0.8288737513239599 and parameters: {'n_clusters': 512, 'svm_kernel': 'poly', 'svm_C': 0.01, 'svm_gamma': 0.15}. Best is trial 13 with value: 0.8288737513239599.\n"
     ]
    },
    {
     "name": "stdout",
     "output_type": "stream",
     "text": [
      "Fold 0: fitting svm with C=0.01, kernel=poly, gamma=0.15, n_clusters=512\n",
      "Fold 1: fitting svm with C=0.01, kernel=poly, gamma=0.15, n_clusters=512\n",
      "Fold 2: fitting svm with C=0.01, kernel=poly, gamma=0.15, n_clusters=512\n",
      "Fold 3: fitting svm with C=0.01, kernel=poly, gamma=0.15, n_clusters=512\n",
      "Fold 4: fitting svm with C=0.01, kernel=poly, gamma=0.15, n_clusters=512\n"
     ]
    },
    {
     "name": "stderr",
     "output_type": "stream",
     "text": [
      "[I 2024-01-04 23:56:53,688] Trial 17 finished with value: 0.8288737513239599 and parameters: {'n_clusters': 512, 'svm_kernel': 'poly', 'svm_C': 0.01, 'svm_gamma': 0.15}. Best is trial 13 with value: 0.8288737513239599.\n"
     ]
    },
    {
     "name": "stdout",
     "output_type": "stream",
     "text": [
      "Fold 0: fitting svm with C=0.1, kernel=poly, gamma=0.15, n_clusters=512\n",
      "Fold 1: fitting svm with C=0.1, kernel=poly, gamma=0.15, n_clusters=512\n",
      "Fold 2: fitting svm with C=0.1, kernel=poly, gamma=0.15, n_clusters=512\n",
      "Fold 3: fitting svm with C=0.1, kernel=poly, gamma=0.15, n_clusters=512\n",
      "Fold 4: fitting svm with C=0.1, kernel=poly, gamma=0.15, n_clusters=512\n"
     ]
    },
    {
     "name": "stderr",
     "output_type": "stream",
     "text": [
      "[I 2024-01-04 23:57:12,319] Trial 18 finished with value: 0.8288737513239599 and parameters: {'n_clusters': 512, 'svm_kernel': 'poly', 'svm_C': 0.1, 'svm_gamma': 0.15}. Best is trial 13 with value: 0.8288737513239599.\n"
     ]
    },
    {
     "name": "stdout",
     "output_type": "stream",
     "text": [
      "Fold 0: fitting svm with C=0.01, kernel=linear, gamma=0.2, n_clusters=1024\n",
      "Fold 1: fitting svm with C=0.01, kernel=linear, gamma=0.2, n_clusters=1024\n",
      "Fold 2: fitting svm with C=0.01, kernel=linear, gamma=0.2, n_clusters=1024\n",
      "Fold 3: fitting svm with C=0.01, kernel=linear, gamma=0.2, n_clusters=1024\n",
      "Fold 4: fitting svm with C=0.01, kernel=linear, gamma=0.2, n_clusters=1024\n"
     ]
    },
    {
     "name": "stderr",
     "output_type": "stream",
     "text": [
      "[I 2024-01-04 23:57:39,964] Trial 19 finished with value: 0.839292364990689 and parameters: {'n_clusters': 1024, 'svm_kernel': 'linear', 'svm_C': 0.01, 'svm_gamma': 0.2}. Best is trial 19 with value: 0.839292364990689.\n"
     ]
    },
    {
     "name": "stdout",
     "output_type": "stream",
     "text": [
      "Fold 0: fitting svm with C=0.1, kernel=linear, gamma=0.2, n_clusters=1024\n",
      "Fold 1: fitting svm with C=0.1, kernel=linear, gamma=0.2, n_clusters=1024\n",
      "Fold 2: fitting svm with C=0.1, kernel=linear, gamma=0.2, n_clusters=1024\n",
      "Fold 3: fitting svm with C=0.1, kernel=linear, gamma=0.2, n_clusters=1024\n",
      "Fold 4: fitting svm with C=0.1, kernel=linear, gamma=0.2, n_clusters=1024\n"
     ]
    },
    {
     "name": "stderr",
     "output_type": "stream",
     "text": [
      "[I 2024-01-04 23:58:07,708] Trial 20 finished with value: 0.838920617778793 and parameters: {'n_clusters': 1024, 'svm_kernel': 'linear', 'svm_C': 0.1, 'svm_gamma': 0.2}. Best is trial 19 with value: 0.839292364990689.\n"
     ]
    },
    {
     "name": "stdout",
     "output_type": "stream",
     "text": [
      "Fold 0: fitting svm with C=0.1, kernel=linear, gamma=0.2, n_clusters=1024\n",
      "Fold 1: fitting svm with C=0.1, kernel=linear, gamma=0.2, n_clusters=1024\n",
      "Fold 2: fitting svm with C=0.1, kernel=linear, gamma=0.2, n_clusters=1024\n",
      "Fold 3: fitting svm with C=0.1, kernel=linear, gamma=0.2, n_clusters=1024\n",
      "Fold 4: fitting svm with C=0.1, kernel=linear, gamma=0.2, n_clusters=1024\n"
     ]
    },
    {
     "name": "stderr",
     "output_type": "stream",
     "text": [
      "[I 2024-01-04 23:58:35,751] Trial 21 finished with value: 0.838920617778793 and parameters: {'n_clusters': 1024, 'svm_kernel': 'linear', 'svm_C': 0.1, 'svm_gamma': 0.2}. Best is trial 19 with value: 0.839292364990689.\n"
     ]
    },
    {
     "name": "stdout",
     "output_type": "stream",
     "text": [
      "Fold 0: fitting svm with C=0.1, kernel=linear, gamma=0.2, n_clusters=1024\n",
      "Fold 1: fitting svm with C=0.1, kernel=linear, gamma=0.2, n_clusters=1024\n",
      "Fold 2: fitting svm with C=0.1, kernel=linear, gamma=0.2, n_clusters=1024\n",
      "Fold 3: fitting svm with C=0.1, kernel=linear, gamma=0.2, n_clusters=1024\n",
      "Fold 4: fitting svm with C=0.1, kernel=linear, gamma=0.2, n_clusters=1024\n"
     ]
    },
    {
     "name": "stderr",
     "output_type": "stream",
     "text": [
      "[I 2024-01-04 23:59:03,990] Trial 22 finished with value: 0.838920617778793 and parameters: {'n_clusters': 1024, 'svm_kernel': 'linear', 'svm_C': 0.1, 'svm_gamma': 0.2}. Best is trial 19 with value: 0.839292364990689.\n"
     ]
    },
    {
     "name": "stdout",
     "output_type": "stream",
     "text": [
      "Fold 0: fitting svm with C=0.1, kernel=linear, gamma=0.2, n_clusters=1024\n",
      "Fold 1: fitting svm with C=0.1, kernel=linear, gamma=0.2, n_clusters=1024\n",
      "Fold 2: fitting svm with C=0.1, kernel=linear, gamma=0.2, n_clusters=1024\n",
      "Fold 3: fitting svm with C=0.1, kernel=linear, gamma=0.2, n_clusters=1024\n",
      "Fold 4: fitting svm with C=0.1, kernel=linear, gamma=0.2, n_clusters=1024\n"
     ]
    },
    {
     "name": "stderr",
     "output_type": "stream",
     "text": [
      "[I 2024-01-04 23:59:31,662] Trial 23 finished with value: 0.838920617778793 and parameters: {'n_clusters': 1024, 'svm_kernel': 'linear', 'svm_C': 0.1, 'svm_gamma': 0.2}. Best is trial 19 with value: 0.839292364990689.\n"
     ]
    },
    {
     "name": "stdout",
     "output_type": "stream",
     "text": [
      "Fold 0: fitting svm with C=0.1, kernel=linear, gamma=0.2, n_clusters=1024\n",
      "Fold 1: fitting svm with C=0.1, kernel=linear, gamma=0.2, n_clusters=1024\n",
      "Fold 2: fitting svm with C=0.1, kernel=linear, gamma=0.2, n_clusters=1024\n",
      "Fold 3: fitting svm with C=0.1, kernel=linear, gamma=0.2, n_clusters=1024\n",
      "Fold 4: fitting svm with C=0.1, kernel=linear, gamma=0.2, n_clusters=1024\n"
     ]
    },
    {
     "name": "stderr",
     "output_type": "stream",
     "text": [
      "[I 2024-01-04 23:59:58,906] Trial 24 finished with value: 0.838920617778793 and parameters: {'n_clusters': 1024, 'svm_kernel': 'linear', 'svm_C': 0.1, 'svm_gamma': 0.2}. Best is trial 19 with value: 0.839292364990689.\n"
     ]
    },
    {
     "name": "stdout",
     "output_type": "stream",
     "text": [
      "Fold 0: fitting svm with C=10, kernel=linear, gamma=0.2, n_clusters=1024\n",
      "Fold 1: fitting svm with C=10, kernel=linear, gamma=0.2, n_clusters=1024\n",
      "Fold 2: fitting svm with C=10, kernel=linear, gamma=0.2, n_clusters=1024\n",
      "Fold 3: fitting svm with C=10, kernel=linear, gamma=0.2, n_clusters=1024\n",
      "Fold 4: fitting svm with C=10, kernel=linear, gamma=0.2, n_clusters=1024\n"
     ]
    },
    {
     "name": "stderr",
     "output_type": "stream",
     "text": [
      "[I 2024-01-05 00:00:26,474] Trial 25 finished with value: 0.838920617778793 and parameters: {'n_clusters': 1024, 'svm_kernel': 'linear', 'svm_C': 10, 'svm_gamma': 0.2}. Best is trial 19 with value: 0.839292364990689.\n"
     ]
    },
    {
     "name": "stdout",
     "output_type": "stream",
     "text": [
      "Fold 0: fitting svm with C=0.01, kernel=linear, gamma=0.2, n_clusters=1024\n",
      "Fold 1: fitting svm with C=0.01, kernel=linear, gamma=0.2, n_clusters=1024\n",
      "Fold 2: fitting svm with C=0.01, kernel=linear, gamma=0.2, n_clusters=1024\n",
      "Fold 3: fitting svm with C=0.01, kernel=linear, gamma=0.2, n_clusters=1024\n",
      "Fold 4: fitting svm with C=0.01, kernel=linear, gamma=0.2, n_clusters=1024\n"
     ]
    },
    {
     "name": "stderr",
     "output_type": "stream",
     "text": [
      "[I 2024-01-05 00:00:54,054] Trial 26 finished with value: 0.839292364990689 and parameters: {'n_clusters': 1024, 'svm_kernel': 'linear', 'svm_C': 0.01, 'svm_gamma': 0.2}. Best is trial 19 with value: 0.839292364990689.\n"
     ]
    },
    {
     "name": "stdout",
     "output_type": "stream",
     "text": [
      "Fold 0: fitting svm with C=0.01, kernel=linear, gamma=0.2, n_clusters=1024\n",
      "Fold 1: fitting svm with C=0.01, kernel=linear, gamma=0.2, n_clusters=1024\n",
      "Fold 2: fitting svm with C=0.01, kernel=linear, gamma=0.2, n_clusters=1024\n",
      "Fold 3: fitting svm with C=0.01, kernel=linear, gamma=0.2, n_clusters=1024\n",
      "Fold 4: fitting svm with C=0.01, kernel=linear, gamma=0.2, n_clusters=1024\n"
     ]
    },
    {
     "name": "stderr",
     "output_type": "stream",
     "text": [
      "[I 2024-01-05 00:01:21,275] Trial 27 finished with value: 0.839292364990689 and parameters: {'n_clusters': 1024, 'svm_kernel': 'linear', 'svm_C': 0.01, 'svm_gamma': 0.2}. Best is trial 19 with value: 0.839292364990689.\n"
     ]
    },
    {
     "name": "stdout",
     "output_type": "stream",
     "text": [
      "Fold 0: fitting svm with C=0.01, kernel=linear, gamma=0.2, n_clusters=64\n",
      "Fold 1: fitting svm with C=0.01, kernel=linear, gamma=0.2, n_clusters=64\n",
      "Fold 2: fitting svm with C=0.01, kernel=linear, gamma=0.2, n_clusters=64\n",
      "Fold 3: fitting svm with C=0.01, kernel=linear, gamma=0.2, n_clusters=64\n"
     ]
    },
    {
     "name": "stderr",
     "output_type": "stream",
     "text": [
      "[I 2024-01-05 00:01:28,023] Trial 28 finished with value: 0.7808913625885235 and parameters: {'n_clusters': 64, 'svm_kernel': 'linear', 'svm_C': 0.01, 'svm_gamma': 0.2}. Best is trial 19 with value: 0.839292364990689.\n"
     ]
    },
    {
     "name": "stdout",
     "output_type": "stream",
     "text": [
      "Fold 4: fitting svm with C=0.01, kernel=linear, gamma=0.2, n_clusters=64\n",
      "Fold 0: fitting svm with C=0.01, kernel=linear, gamma=0.2, n_clusters=64\n",
      "Fold 1: fitting svm with C=0.01, kernel=linear, gamma=0.2, n_clusters=64\n",
      "Fold 2: fitting svm with C=0.01, kernel=linear, gamma=0.2, n_clusters=64\n",
      "Fold 3: fitting svm with C=0.01, kernel=linear, gamma=0.2, n_clusters=64\n"
     ]
    },
    {
     "name": "stderr",
     "output_type": "stream",
     "text": [
      "[I 2024-01-05 00:01:34,796] Trial 29 finished with value: 0.7808913625885235 and parameters: {'n_clusters': 64, 'svm_kernel': 'linear', 'svm_C': 0.01, 'svm_gamma': 0.2}. Best is trial 19 with value: 0.839292364990689.\n"
     ]
    },
    {
     "name": "stdout",
     "output_type": "stream",
     "text": [
      "Fold 4: fitting svm with C=0.01, kernel=linear, gamma=0.2, n_clusters=64\n",
      "Fold 0: fitting svm with C=0.01, kernel=sigmoid, gamma=0.2, n_clusters=1024\n",
      "Fold 1: fitting svm with C=0.01, kernel=sigmoid, gamma=0.2, n_clusters=1024\n",
      "Fold 2: fitting svm with C=0.01, kernel=sigmoid, gamma=0.2, n_clusters=1024\n",
      "Fold 3: fitting svm with C=0.01, kernel=sigmoid, gamma=0.2, n_clusters=1024\n",
      "Fold 4: fitting svm with C=0.01, kernel=sigmoid, gamma=0.2, n_clusters=1024\n"
     ]
    },
    {
     "name": "stderr",
     "output_type": "stream",
     "text": [
      "[I 2024-01-05 00:02:13,297] Trial 30 finished with value: 0.18302285172339794 and parameters: {'n_clusters': 1024, 'svm_kernel': 'sigmoid', 'svm_C': 0.01, 'svm_gamma': 0.2}. Best is trial 19 with value: 0.839292364990689.\n"
     ]
    },
    {
     "name": "stdout",
     "output_type": "stream",
     "text": [
      "Fold 0: fitting svm with C=0.01, kernel=linear, gamma=0.2, n_clusters=1024\n",
      "Fold 1: fitting svm with C=0.01, kernel=linear, gamma=0.2, n_clusters=1024\n",
      "Fold 2: fitting svm with C=0.01, kernel=linear, gamma=0.2, n_clusters=1024\n",
      "Fold 3: fitting svm with C=0.01, kernel=linear, gamma=0.2, n_clusters=1024\n",
      "Fold 4: fitting svm with C=0.01, kernel=linear, gamma=0.2, n_clusters=1024\n"
     ]
    },
    {
     "name": "stderr",
     "output_type": "stream",
     "text": [
      "[I 2024-01-05 00:02:43,729] Trial 31 finished with value: 0.839292364990689 and parameters: {'n_clusters': 1024, 'svm_kernel': 'linear', 'svm_C': 0.01, 'svm_gamma': 0.2}. Best is trial 19 with value: 0.839292364990689.\n"
     ]
    },
    {
     "name": "stdout",
     "output_type": "stream",
     "text": [
      "Fold 0: fitting svm with C=0.01, kernel=linear, gamma=0.2, n_clusters=1024\n",
      "Fold 1: fitting svm with C=0.01, kernel=linear, gamma=0.2, n_clusters=1024\n",
      "Fold 2: fitting svm with C=0.01, kernel=linear, gamma=0.2, n_clusters=1024\n",
      "Fold 3: fitting svm with C=0.01, kernel=linear, gamma=0.2, n_clusters=1024\n",
      "Fold 4: fitting svm with C=0.01, kernel=linear, gamma=0.2, n_clusters=1024\n"
     ]
    },
    {
     "name": "stderr",
     "output_type": "stream",
     "text": [
      "[I 2024-01-05 00:03:14,129] Trial 32 finished with value: 0.839292364990689 and parameters: {'n_clusters': 1024, 'svm_kernel': 'linear', 'svm_C': 0.01, 'svm_gamma': 0.2}. Best is trial 19 with value: 0.839292364990689.\n"
     ]
    },
    {
     "name": "stdout",
     "output_type": "stream",
     "text": [
      "Fold 0: fitting svm with C=0.01, kernel=linear, gamma=0.2, n_clusters=1024\n",
      "Fold 1: fitting svm with C=0.01, kernel=linear, gamma=0.2, n_clusters=1024\n",
      "Fold 2: fitting svm with C=0.01, kernel=linear, gamma=0.2, n_clusters=1024\n",
      "Fold 3: fitting svm with C=0.01, kernel=linear, gamma=0.2, n_clusters=1024\n",
      "Fold 4: fitting svm with C=0.01, kernel=linear, gamma=0.2, n_clusters=1024\n"
     ]
    },
    {
     "name": "stderr",
     "output_type": "stream",
     "text": [
      "[I 2024-01-05 00:03:42,286] Trial 33 finished with value: 0.839292364990689 and parameters: {'n_clusters': 1024, 'svm_kernel': 'linear', 'svm_C': 0.01, 'svm_gamma': 0.2}. Best is trial 19 with value: 0.839292364990689.\n"
     ]
    },
    {
     "name": "stdout",
     "output_type": "stream",
     "text": [
      "Fold 0: fitting svm with C=0.01, kernel=linear, gamma=0.2, n_clusters=1024\n",
      "Fold 1: fitting svm with C=0.01, kernel=linear, gamma=0.2, n_clusters=1024\n",
      "Fold 2: fitting svm with C=0.01, kernel=linear, gamma=0.2, n_clusters=1024\n",
      "Fold 3: fitting svm with C=0.01, kernel=linear, gamma=0.2, n_clusters=1024\n",
      "Fold 4: fitting svm with C=0.01, kernel=linear, gamma=0.2, n_clusters=1024\n"
     ]
    },
    {
     "name": "stderr",
     "output_type": "stream",
     "text": [
      "[I 2024-01-05 00:04:09,624] Trial 34 finished with value: 0.839292364990689 and parameters: {'n_clusters': 1024, 'svm_kernel': 'linear', 'svm_C': 0.01, 'svm_gamma': 0.2}. Best is trial 19 with value: 0.839292364990689.\n"
     ]
    },
    {
     "name": "stdout",
     "output_type": "stream",
     "text": [
      "Fold 0: fitting svm with C=0.01, kernel=linear, gamma=0.05, n_clusters=1024\n",
      "Fold 1: fitting svm with C=0.01, kernel=linear, gamma=0.05, n_clusters=1024\n",
      "Fold 2: fitting svm with C=0.01, kernel=linear, gamma=0.05, n_clusters=1024\n",
      "Fold 3: fitting svm with C=0.01, kernel=linear, gamma=0.05, n_clusters=1024\n",
      "Fold 4: fitting svm with C=0.01, kernel=linear, gamma=0.05, n_clusters=1024\n"
     ]
    },
    {
     "name": "stderr",
     "output_type": "stream",
     "text": [
      "[I 2024-01-05 00:04:36,047] Trial 35 finished with value: 0.839292364990689 and parameters: {'n_clusters': 1024, 'svm_kernel': 'linear', 'svm_C': 0.01, 'svm_gamma': 0.05}. Best is trial 19 with value: 0.839292364990689.\n"
     ]
    },
    {
     "name": "stdout",
     "output_type": "stream",
     "text": [
      "Fold 0: fitting svm with C=100, kernel=linear, gamma=0.25, n_clusters=1024\n",
      "Fold 1: fitting svm with C=100, kernel=linear, gamma=0.25, n_clusters=1024\n",
      "Fold 2: fitting svm with C=100, kernel=linear, gamma=0.25, n_clusters=1024\n",
      "Fold 3: fitting svm with C=100, kernel=linear, gamma=0.25, n_clusters=1024\n",
      "Fold 4: fitting svm with C=100, kernel=linear, gamma=0.25, n_clusters=1024\n"
     ]
    },
    {
     "name": "stderr",
     "output_type": "stream",
     "text": [
      "[I 2024-01-05 00:05:02,532] Trial 36 finished with value: 0.838920617778793 and parameters: {'n_clusters': 1024, 'svm_kernel': 'linear', 'svm_C': 100, 'svm_gamma': 0.25}. Best is trial 19 with value: 0.839292364990689.\n"
     ]
    },
    {
     "name": "stdout",
     "output_type": "stream",
     "text": [
      "Fold 0: fitting svm with C=0.01, kernel=rbf, gamma=0.2, n_clusters=32\n",
      "Fold 1: fitting svm with C=0.01, kernel=rbf, gamma=0.2, n_clusters=32\n",
      "Fold 2: fitting svm with C=0.01, kernel=rbf, gamma=0.2, n_clusters=32\n",
      "Fold 3: fitting svm with C=0.01, kernel=rbf, gamma=0.2, n_clusters=32\n",
      "Fold 4: fitting svm with C=0.01, kernel=rbf, gamma=0.2, n_clusters=32\n"
     ]
    },
    {
     "name": "stderr",
     "output_type": "stream",
     "text": [
      "[I 2024-01-05 00:05:10,835] Trial 37 finished with value: 0.15251742781389105 and parameters: {'n_clusters': 32, 'svm_kernel': 'rbf', 'svm_C': 0.01, 'svm_gamma': 0.2}. Best is trial 19 with value: 0.839292364990689.\n"
     ]
    },
    {
     "name": "stdout",
     "output_type": "stream",
     "text": [
      "Fold 0: fitting svm with C=0.01, kernel=linear, gamma=0.2, n_clusters=1024\n",
      "Fold 1: fitting svm with C=0.01, kernel=linear, gamma=0.2, n_clusters=1024\n",
      "Fold 2: fitting svm with C=0.01, kernel=linear, gamma=0.2, n_clusters=1024\n",
      "Fold 3: fitting svm with C=0.01, kernel=linear, gamma=0.2, n_clusters=1024\n",
      "Fold 4: fitting svm with C=0.01, kernel=linear, gamma=0.2, n_clusters=1024\n"
     ]
    },
    {
     "name": "stderr",
     "output_type": "stream",
     "text": [
      "[I 2024-01-05 00:05:38,351] Trial 38 finished with value: 0.839292364990689 and parameters: {'n_clusters': 1024, 'svm_kernel': 'linear', 'svm_C': 0.01, 'svm_gamma': 0.2}. Best is trial 19 with value: 0.839292364990689.\n"
     ]
    },
    {
     "name": "stdout",
     "output_type": "stream",
     "text": [
      "Fold 0: fitting svm with C=100, kernel=sigmoid, gamma=0.05, n_clusters=64\n",
      "Fold 1: fitting svm with C=100, kernel=sigmoid, gamma=0.05, n_clusters=64\n",
      "Fold 2: fitting svm with C=100, kernel=sigmoid, gamma=0.05, n_clusters=64\n",
      "Fold 3: fitting svm with C=100, kernel=sigmoid, gamma=0.05, n_clusters=64\n",
      "Fold 4: fitting svm with C=100, kernel=sigmoid, gamma=0.05, n_clusters=64\n"
     ]
    },
    {
     "name": "stderr",
     "output_type": "stream",
     "text": [
      "[I 2024-01-05 00:05:46,748] Trial 39 finished with value: 0.2135518127003247 and parameters: {'n_clusters': 64, 'svm_kernel': 'sigmoid', 'svm_C': 100, 'svm_gamma': 0.05}. Best is trial 19 with value: 0.839292364990689.\n"
     ]
    },
    {
     "name": "stdout",
     "output_type": "stream",
     "text": [
      "Fold 0: fitting svm with C=0.01, kernel=rbf, gamma=0.2, n_clusters=32\n",
      "Fold 1: fitting svm with C=0.01, kernel=rbf, gamma=0.2, n_clusters=32\n",
      "Fold 2: fitting svm with C=0.01, kernel=rbf, gamma=0.2, n_clusters=32\n",
      "Fold 3: fitting svm with C=0.01, kernel=rbf, gamma=0.2, n_clusters=32\n",
      "Fold 4: fitting svm with C=0.01, kernel=rbf, gamma=0.2, n_clusters=32\n"
     ]
    },
    {
     "name": "stderr",
     "output_type": "stream",
     "text": [
      "[I 2024-01-05 00:05:55,845] Trial 40 finished with value: 0.15251742781389105 and parameters: {'n_clusters': 32, 'svm_kernel': 'rbf', 'svm_C': 0.01, 'svm_gamma': 0.2}. Best is trial 19 with value: 0.839292364990689.\n"
     ]
    },
    {
     "name": "stdout",
     "output_type": "stream",
     "text": [
      "Fold 0: fitting svm with C=0.01, kernel=linear, gamma=0.2, n_clusters=1024\n",
      "Fold 1: fitting svm with C=0.01, kernel=linear, gamma=0.2, n_clusters=1024\n",
      "Fold 2: fitting svm with C=0.01, kernel=linear, gamma=0.2, n_clusters=1024\n",
      "Fold 3: fitting svm with C=0.01, kernel=linear, gamma=0.2, n_clusters=1024\n",
      "Fold 4: fitting svm with C=0.01, kernel=linear, gamma=0.2, n_clusters=1024\n"
     ]
    },
    {
     "name": "stderr",
     "output_type": "stream",
     "text": [
      "[I 2024-01-05 00:06:24,875] Trial 41 finished with value: 0.839292364990689 and parameters: {'n_clusters': 1024, 'svm_kernel': 'linear', 'svm_C': 0.01, 'svm_gamma': 0.2}. Best is trial 19 with value: 0.839292364990689.\n"
     ]
    },
    {
     "name": "stdout",
     "output_type": "stream",
     "text": [
      "Fold 0: fitting svm with C=0.01, kernel=linear, gamma=0.2, n_clusters=1024\n",
      "Fold 1: fitting svm with C=0.01, kernel=linear, gamma=0.2, n_clusters=1024\n",
      "Fold 2: fitting svm with C=0.01, kernel=linear, gamma=0.2, n_clusters=1024\n",
      "Fold 3: fitting svm with C=0.01, kernel=linear, gamma=0.2, n_clusters=1024\n",
      "Fold 4: fitting svm with C=0.01, kernel=linear, gamma=0.2, n_clusters=1024\n"
     ]
    },
    {
     "name": "stderr",
     "output_type": "stream",
     "text": [
      "[I 2024-01-05 00:06:54,297] Trial 42 finished with value: 0.839292364990689 and parameters: {'n_clusters': 1024, 'svm_kernel': 'linear', 'svm_C': 0.01, 'svm_gamma': 0.2}. Best is trial 19 with value: 0.839292364990689.\n"
     ]
    },
    {
     "name": "stdout",
     "output_type": "stream",
     "text": [
      "Fold 0: fitting svm with C=0.01, kernel=linear, gamma=0.2, n_clusters=1024\n",
      "Fold 1: fitting svm with C=0.01, kernel=linear, gamma=0.2, n_clusters=1024\n",
      "Fold 2: fitting svm with C=0.01, kernel=linear, gamma=0.2, n_clusters=1024\n",
      "Fold 3: fitting svm with C=0.01, kernel=linear, gamma=0.2, n_clusters=1024\n",
      "Fold 4: fitting svm with C=0.01, kernel=linear, gamma=0.2, n_clusters=1024\n"
     ]
    },
    {
     "name": "stderr",
     "output_type": "stream",
     "text": [
      "[I 2024-01-05 00:07:23,307] Trial 43 finished with value: 0.839292364990689 and parameters: {'n_clusters': 1024, 'svm_kernel': 'linear', 'svm_C': 0.01, 'svm_gamma': 0.2}. Best is trial 19 with value: 0.839292364990689.\n"
     ]
    },
    {
     "name": "stdout",
     "output_type": "stream",
     "text": [
      "Fold 0: fitting svm with C=10, kernel=linear, gamma=0.25, n_clusters=256\n",
      "Fold 1: fitting svm with C=10, kernel=linear, gamma=0.25, n_clusters=256\n",
      "Fold 2: fitting svm with C=10, kernel=linear, gamma=0.25, n_clusters=256\n",
      "Fold 3: fitting svm with C=10, kernel=linear, gamma=0.25, n_clusters=256\n",
      "Fold 4: fitting svm with C=10, kernel=linear, gamma=0.25, n_clusters=256\n"
     ]
    },
    {
     "name": "stderr",
     "output_type": "stream",
     "text": [
      "[I 2024-01-05 00:07:34,995] Trial 44 finished with value: 0.7983731732812748 and parameters: {'n_clusters': 256, 'svm_kernel': 'linear', 'svm_C': 10, 'svm_gamma': 0.25}. Best is trial 19 with value: 0.839292364990689.\n"
     ]
    },
    {
     "name": "stdout",
     "output_type": "stream",
     "text": [
      "Fold 0: fitting svm with C=1, kernel=linear, gamma=0.2, n_clusters=1024\n",
      "Fold 1: fitting svm with C=1, kernel=linear, gamma=0.2, n_clusters=1024\n",
      "Fold 2: fitting svm with C=1, kernel=linear, gamma=0.2, n_clusters=1024\n",
      "Fold 3: fitting svm with C=1, kernel=linear, gamma=0.2, n_clusters=1024\n",
      "Fold 4: fitting svm with C=1, kernel=linear, gamma=0.2, n_clusters=1024\n"
     ]
    },
    {
     "name": "stderr",
     "output_type": "stream",
     "text": [
      "[I 2024-01-05 00:08:04,587] Trial 45 finished with value: 0.838920617778793 and parameters: {'n_clusters': 1024, 'svm_kernel': 'linear', 'svm_C': 1, 'svm_gamma': 0.2}. Best is trial 19 with value: 0.839292364990689.\n"
     ]
    },
    {
     "name": "stdout",
     "output_type": "stream",
     "text": [
      "Fold 0: fitting svm with C=0.01, kernel=sigmoid, gamma=0.1, n_clusters=128\n",
      "Fold 1: fitting svm with C=0.01, kernel=sigmoid, gamma=0.1, n_clusters=128\n",
      "Fold 2: fitting svm with C=0.01, kernel=sigmoid, gamma=0.1, n_clusters=128\n",
      "Fold 3: fitting svm with C=0.01, kernel=sigmoid, gamma=0.1, n_clusters=128\n",
      "Fold 4: fitting svm with C=0.01, kernel=sigmoid, gamma=0.1, n_clusters=128\n"
     ]
    },
    {
     "name": "stderr",
     "output_type": "stream",
     "text": [
      "[I 2024-01-05 00:08:15,188] Trial 46 finished with value: 0.15326161450437165 and parameters: {'n_clusters': 128, 'svm_kernel': 'sigmoid', 'svm_C': 0.01, 'svm_gamma': 0.1}. Best is trial 19 with value: 0.839292364990689.\n"
     ]
    },
    {
     "name": "stdout",
     "output_type": "stream",
     "text": [
      "Fold 0: fitting svm with C=0.01, kernel=linear, gamma=0.2, n_clusters=1024\n",
      "Fold 1: fitting svm with C=0.01, kernel=linear, gamma=0.2, n_clusters=1024\n",
      "Fold 2: fitting svm with C=0.01, kernel=linear, gamma=0.2, n_clusters=1024\n",
      "Fold 3: fitting svm with C=0.01, kernel=linear, gamma=0.2, n_clusters=1024\n",
      "Fold 4: fitting svm with C=0.01, kernel=linear, gamma=0.2, n_clusters=1024\n"
     ]
    },
    {
     "name": "stderr",
     "output_type": "stream",
     "text": [
      "[I 2024-01-05 00:08:44,141] Trial 47 finished with value: 0.839292364990689 and parameters: {'n_clusters': 1024, 'svm_kernel': 'linear', 'svm_C': 0.01, 'svm_gamma': 0.2}. Best is trial 19 with value: 0.839292364990689.\n"
     ]
    },
    {
     "name": "stdout",
     "output_type": "stream",
     "text": [
      "Fold 0: fitting svm with C=1, kernel=rbf, gamma=0.05, n_clusters=1024\n",
      "Fold 1: fitting svm with C=1, kernel=rbf, gamma=0.05, n_clusters=1024\n",
      "Fold 2: fitting svm with C=1, kernel=rbf, gamma=0.05, n_clusters=1024\n",
      "Fold 3: fitting svm with C=1, kernel=rbf, gamma=0.05, n_clusters=1024\n",
      "Fold 4: fitting svm with C=1, kernel=rbf, gamma=0.05, n_clusters=1024\n"
     ]
    },
    {
     "name": "stderr",
     "output_type": "stream",
     "text": [
      "[I 2024-01-05 00:09:26,380] Trial 48 finished with value: 0.1536340539829564 and parameters: {'n_clusters': 1024, 'svm_kernel': 'rbf', 'svm_C': 1, 'svm_gamma': 0.05}. Best is trial 19 with value: 0.839292364990689.\n"
     ]
    },
    {
     "name": "stdout",
     "output_type": "stream",
     "text": [
      "Fold 0: fitting svm with C=100, kernel=linear, gamma=0.2, n_clusters=256\n",
      "Fold 1: fitting svm with C=100, kernel=linear, gamma=0.2, n_clusters=256\n",
      "Fold 2: fitting svm with C=100, kernel=linear, gamma=0.2, n_clusters=256\n",
      "Fold 3: fitting svm with C=100, kernel=linear, gamma=0.2, n_clusters=256\n",
      "Fold 4: fitting svm with C=100, kernel=linear, gamma=0.2, n_clusters=256\n"
     ]
    },
    {
     "name": "stderr",
     "output_type": "stream",
     "text": [
      "[I 2024-01-05 00:09:37,632] Trial 49 finished with value: 0.7983731732812748 and parameters: {'n_clusters': 256, 'svm_kernel': 'linear', 'svm_C': 100, 'svm_gamma': 0.2}. Best is trial 19 with value: 0.839292364990689.\n"
     ]
    },
    {
     "name": "stdout",
     "output_type": "stream",
     "text": [
      "Fold 0: fitting svm with C=0.01, kernel=linear, gamma=0.25, n_clusters=32\n",
      "Fold 1: fitting svm with C=0.01, kernel=linear, gamma=0.25, n_clusters=32\n",
      "Fold 2: fitting svm with C=0.01, kernel=linear, gamma=0.25, n_clusters=32\n",
      "Fold 3: fitting svm with C=0.01, kernel=linear, gamma=0.25, n_clusters=32\n",
      "Fold 4: fitting svm with C=0.01, kernel=linear, gamma=0.25, n_clusters=32\n"
     ]
    },
    {
     "name": "stderr",
     "output_type": "stream",
     "text": [
      "[I 2024-01-05 00:09:44,841] Trial 50 finished with value: 0.739212062054786 and parameters: {'n_clusters': 32, 'svm_kernel': 'linear', 'svm_C': 0.01, 'svm_gamma': 0.25}. Best is trial 19 with value: 0.839292364990689.\n"
     ]
    },
    {
     "name": "stdout",
     "output_type": "stream",
     "text": [
      "Fold 0: fitting svm with C=0.01, kernel=linear, gamma=0.2, n_clusters=1024\n",
      "Fold 1: fitting svm with C=0.01, kernel=linear, gamma=0.2, n_clusters=1024\n",
      "Fold 2: fitting svm with C=0.01, kernel=linear, gamma=0.2, n_clusters=1024\n",
      "Fold 3: fitting svm with C=0.01, kernel=linear, gamma=0.2, n_clusters=1024\n",
      "Fold 4: fitting svm with C=0.01, kernel=linear, gamma=0.2, n_clusters=1024\n"
     ]
    },
    {
     "name": "stderr",
     "output_type": "stream",
     "text": [
      "[I 2024-01-05 00:10:15,041] Trial 51 finished with value: 0.839292364990689 and parameters: {'n_clusters': 1024, 'svm_kernel': 'linear', 'svm_C': 0.01, 'svm_gamma': 0.2}. Best is trial 19 with value: 0.839292364990689.\n"
     ]
    },
    {
     "name": "stdout",
     "output_type": "stream",
     "text": [
      "Fold 0: fitting svm with C=0.01, kernel=linear, gamma=0.2, n_clusters=1024\n",
      "Fold 1: fitting svm with C=0.01, kernel=linear, gamma=0.2, n_clusters=1024\n",
      "Fold 2: fitting svm with C=0.01, kernel=linear, gamma=0.2, n_clusters=1024\n",
      "Fold 3: fitting svm with C=0.01, kernel=linear, gamma=0.2, n_clusters=1024\n",
      "Fold 4: fitting svm with C=0.01, kernel=linear, gamma=0.2, n_clusters=1024\n"
     ]
    },
    {
     "name": "stderr",
     "output_type": "stream",
     "text": [
      "[I 2024-01-05 00:10:43,569] Trial 52 finished with value: 0.839292364990689 and parameters: {'n_clusters': 1024, 'svm_kernel': 'linear', 'svm_C': 0.01, 'svm_gamma': 0.2}. Best is trial 19 with value: 0.839292364990689.\n"
     ]
    },
    {
     "name": "stdout",
     "output_type": "stream",
     "text": [
      "Fold 0: fitting svm with C=0.01, kernel=linear, gamma=0.2, n_clusters=1024\n",
      "Fold 1: fitting svm with C=0.01, kernel=linear, gamma=0.2, n_clusters=1024\n",
      "Fold 2: fitting svm with C=0.01, kernel=linear, gamma=0.2, n_clusters=1024\n",
      "Fold 3: fitting svm with C=0.01, kernel=linear, gamma=0.2, n_clusters=1024\n",
      "Fold 4: fitting svm with C=0.01, kernel=linear, gamma=0.2, n_clusters=1024\n"
     ]
    },
    {
     "name": "stderr",
     "output_type": "stream",
     "text": [
      "[I 2024-01-05 00:11:10,525] Trial 53 finished with value: 0.839292364990689 and parameters: {'n_clusters': 1024, 'svm_kernel': 'linear', 'svm_C': 0.01, 'svm_gamma': 0.2}. Best is trial 19 with value: 0.839292364990689.\n"
     ]
    },
    {
     "name": "stdout",
     "output_type": "stream",
     "text": [
      "Fold 0: fitting svm with C=0.01, kernel=linear, gamma=0.2, n_clusters=1024\n",
      "Fold 1: fitting svm with C=0.01, kernel=linear, gamma=0.2, n_clusters=1024\n",
      "Fold 2: fitting svm with C=0.01, kernel=linear, gamma=0.2, n_clusters=1024\n",
      "Fold 3: fitting svm with C=0.01, kernel=linear, gamma=0.2, n_clusters=1024\n",
      "Fold 4: fitting svm with C=0.01, kernel=linear, gamma=0.2, n_clusters=1024\n"
     ]
    },
    {
     "name": "stderr",
     "output_type": "stream",
     "text": [
      "[I 2024-01-05 00:11:41,627] Trial 54 finished with value: 0.839292364990689 and parameters: {'n_clusters': 1024, 'svm_kernel': 'linear', 'svm_C': 0.01, 'svm_gamma': 0.2}. Best is trial 19 with value: 0.839292364990689.\n"
     ]
    },
    {
     "name": "stdout",
     "output_type": "stream",
     "text": [
      "Fold 0: fitting svm with C=10, kernel=linear, gamma=0.1, n_clusters=128\n",
      "Fold 1: fitting svm with C=10, kernel=linear, gamma=0.1, n_clusters=128\n",
      "Fold 2: fitting svm with C=10, kernel=linear, gamma=0.1, n_clusters=128\n",
      "Fold 3: fitting svm with C=10, kernel=linear, gamma=0.1, n_clusters=128\n",
      "Fold 4: fitting svm with C=10, kernel=linear, gamma=0.1, n_clusters=128\n"
     ]
    },
    {
     "name": "stderr",
     "output_type": "stream",
     "text": [
      "[I 2024-01-05 00:13:42,229] Trial 55 finished with value: 0.7663849141243173 and parameters: {'n_clusters': 128, 'svm_kernel': 'linear', 'svm_C': 10, 'svm_gamma': 0.1}. Best is trial 19 with value: 0.839292364990689.\n"
     ]
    },
    {
     "name": "stdout",
     "output_type": "stream",
     "text": [
      "Fold 0: fitting svm with C=0.01, kernel=linear, gamma=0.2, n_clusters=1024\n",
      "Fold 1: fitting svm with C=0.01, kernel=linear, gamma=0.2, n_clusters=1024\n",
      "Fold 2: fitting svm with C=0.01, kernel=linear, gamma=0.2, n_clusters=1024\n",
      "Fold 3: fitting svm with C=0.01, kernel=linear, gamma=0.2, n_clusters=1024\n",
      "Fold 4: fitting svm with C=0.01, kernel=linear, gamma=0.2, n_clusters=1024\n"
     ]
    },
    {
     "name": "stderr",
     "output_type": "stream",
     "text": [
      "[I 2024-01-05 00:14:09,467] Trial 56 finished with value: 0.839292364990689 and parameters: {'n_clusters': 1024, 'svm_kernel': 'linear', 'svm_C': 0.01, 'svm_gamma': 0.2}. Best is trial 19 with value: 0.839292364990689.\n"
     ]
    },
    {
     "name": "stdout",
     "output_type": "stream",
     "text": [
      "Fold 0: fitting svm with C=0.01, kernel=sigmoid, gamma=0.2, n_clusters=1024\n",
      "Fold 1: fitting svm with C=0.01, kernel=sigmoid, gamma=0.2, n_clusters=1024\n",
      "Fold 2: fitting svm with C=0.01, kernel=sigmoid, gamma=0.2, n_clusters=1024\n",
      "Fold 3: fitting svm with C=0.01, kernel=sigmoid, gamma=0.2, n_clusters=1024\n",
      "Fold 4: fitting svm with C=0.01, kernel=sigmoid, gamma=0.2, n_clusters=1024\n"
     ]
    },
    {
     "name": "stderr",
     "output_type": "stream",
     "text": [
      "[I 2024-01-05 00:14:47,134] Trial 57 finished with value: 0.18302285172339794 and parameters: {'n_clusters': 1024, 'svm_kernel': 'sigmoid', 'svm_C': 0.01, 'svm_gamma': 0.2}. Best is trial 19 with value: 0.839292364990689.\n"
     ]
    },
    {
     "name": "stdout",
     "output_type": "stream",
     "text": [
      "Fold 0: fitting svm with C=0.01, kernel=linear, gamma=0.2, n_clusters=1024\n",
      "Fold 1: fitting svm with C=0.01, kernel=linear, gamma=0.2, n_clusters=1024\n",
      "Fold 2: fitting svm with C=0.01, kernel=linear, gamma=0.2, n_clusters=1024\n",
      "Fold 3: fitting svm with C=0.01, kernel=linear, gamma=0.2, n_clusters=1024\n",
      "Fold 4: fitting svm with C=0.01, kernel=linear, gamma=0.2, n_clusters=1024\n"
     ]
    },
    {
     "name": "stderr",
     "output_type": "stream",
     "text": [
      "[I 2024-01-05 00:15:14,358] Trial 58 finished with value: 0.839292364990689 and parameters: {'n_clusters': 1024, 'svm_kernel': 'linear', 'svm_C': 0.01, 'svm_gamma': 0.2}. Best is trial 19 with value: 0.839292364990689.\n"
     ]
    },
    {
     "name": "stdout",
     "output_type": "stream",
     "text": [
      "Fold 0: fitting svm with C=1, kernel=rbf, gamma=0.2, n_clusters=64\n",
      "Fold 1: fitting svm with C=1, kernel=rbf, gamma=0.2, n_clusters=64\n",
      "Fold 2: fitting svm with C=1, kernel=rbf, gamma=0.2, n_clusters=64\n",
      "Fold 3: fitting svm with C=1, kernel=rbf, gamma=0.2, n_clusters=64\n",
      "Fold 4: fitting svm with C=1, kernel=rbf, gamma=0.2, n_clusters=64\n"
     ]
    },
    {
     "name": "stderr",
     "output_type": "stream",
     "text": [
      "[I 2024-01-05 00:15:25,119] Trial 59 finished with value: 0.15326161450437165 and parameters: {'n_clusters': 64, 'svm_kernel': 'rbf', 'svm_C': 1, 'svm_gamma': 0.2}. Best is trial 19 with value: 0.839292364990689.\n"
     ]
    },
    {
     "name": "stdout",
     "output_type": "stream",
     "text": [
      "Fold 0: fitting svm with C=0.01, kernel=linear, gamma=0.05, n_clusters=1024\n",
      "Fold 1: fitting svm with C=0.01, kernel=linear, gamma=0.05, n_clusters=1024\n",
      "Fold 2: fitting svm with C=0.01, kernel=linear, gamma=0.05, n_clusters=1024\n",
      "Fold 3: fitting svm with C=0.01, kernel=linear, gamma=0.05, n_clusters=1024\n",
      "Fold 4: fitting svm with C=0.01, kernel=linear, gamma=0.05, n_clusters=1024\n"
     ]
    },
    {
     "name": "stderr",
     "output_type": "stream",
     "text": [
      "[I 2024-01-05 00:15:55,924] Trial 60 finished with value: 0.839292364990689 and parameters: {'n_clusters': 1024, 'svm_kernel': 'linear', 'svm_C': 0.01, 'svm_gamma': 0.05}. Best is trial 19 with value: 0.839292364990689.\n"
     ]
    },
    {
     "name": "stdout",
     "output_type": "stream",
     "text": [
      "Fold 0: fitting svm with C=0.01, kernel=linear, gamma=0.2, n_clusters=1024\n",
      "Fold 1: fitting svm with C=0.01, kernel=linear, gamma=0.2, n_clusters=1024\n",
      "Fold 2: fitting svm with C=0.01, kernel=linear, gamma=0.2, n_clusters=1024\n",
      "Fold 3: fitting svm with C=0.01, kernel=linear, gamma=0.2, n_clusters=1024\n",
      "Fold 4: fitting svm with C=0.01, kernel=linear, gamma=0.2, n_clusters=1024\n"
     ]
    },
    {
     "name": "stderr",
     "output_type": "stream",
     "text": [
      "[I 2024-01-05 00:16:25,315] Trial 61 finished with value: 0.839292364990689 and parameters: {'n_clusters': 1024, 'svm_kernel': 'linear', 'svm_C': 0.01, 'svm_gamma': 0.2}. Best is trial 19 with value: 0.839292364990689.\n"
     ]
    },
    {
     "name": "stdout",
     "output_type": "stream",
     "text": [
      "Fold 0: fitting svm with C=0.01, kernel=linear, gamma=0.2, n_clusters=1024\n",
      "Fold 1: fitting svm with C=0.01, kernel=linear, gamma=0.2, n_clusters=1024\n",
      "Fold 2: fitting svm with C=0.01, kernel=linear, gamma=0.2, n_clusters=1024\n",
      "Fold 3: fitting svm with C=0.01, kernel=linear, gamma=0.2, n_clusters=1024\n",
      "Fold 4: fitting svm with C=0.01, kernel=linear, gamma=0.2, n_clusters=1024\n"
     ]
    },
    {
     "name": "stderr",
     "output_type": "stream",
     "text": [
      "[I 2024-01-05 00:16:54,515] Trial 62 finished with value: 0.839292364990689 and parameters: {'n_clusters': 1024, 'svm_kernel': 'linear', 'svm_C': 0.01, 'svm_gamma': 0.2}. Best is trial 19 with value: 0.839292364990689.\n"
     ]
    },
    {
     "name": "stdout",
     "output_type": "stream",
     "text": [
      "Fold 0: fitting svm with C=0.01, kernel=linear, gamma=0.2, n_clusters=1024\n",
      "Fold 1: fitting svm with C=0.01, kernel=linear, gamma=0.2, n_clusters=1024\n",
      "Fold 2: fitting svm with C=0.01, kernel=linear, gamma=0.2, n_clusters=1024\n",
      "Fold 3: fitting svm with C=0.01, kernel=linear, gamma=0.2, n_clusters=1024\n",
      "Fold 4: fitting svm with C=0.01, kernel=linear, gamma=0.2, n_clusters=1024\n"
     ]
    },
    {
     "name": "stderr",
     "output_type": "stream",
     "text": [
      "[I 2024-01-05 00:17:23,343] Trial 63 finished with value: 0.839292364990689 and parameters: {'n_clusters': 1024, 'svm_kernel': 'linear', 'svm_C': 0.01, 'svm_gamma': 0.2}. Best is trial 19 with value: 0.839292364990689.\n"
     ]
    },
    {
     "name": "stdout",
     "output_type": "stream",
     "text": [
      "Fold 0: fitting svm with C=0.01, kernel=linear, gamma=0.2, n_clusters=1024\n",
      "Fold 1: fitting svm with C=0.01, kernel=linear, gamma=0.2, n_clusters=1024\n",
      "Fold 2: fitting svm with C=0.01, kernel=linear, gamma=0.2, n_clusters=1024\n",
      "Fold 3: fitting svm with C=0.01, kernel=linear, gamma=0.2, n_clusters=1024\n",
      "Fold 4: fitting svm with C=0.01, kernel=linear, gamma=0.2, n_clusters=1024\n"
     ]
    },
    {
     "name": "stderr",
     "output_type": "stream",
     "text": [
      "[I 2024-01-05 00:17:51,275] Trial 64 finished with value: 0.839292364990689 and parameters: {'n_clusters': 1024, 'svm_kernel': 'linear', 'svm_C': 0.01, 'svm_gamma': 0.2}. Best is trial 19 with value: 0.839292364990689.\n"
     ]
    },
    {
     "name": "stdout",
     "output_type": "stream",
     "text": [
      "Fold 0: fitting svm with C=0.01, kernel=linear, gamma=0.2, n_clusters=256\n",
      "Fold 1: fitting svm with C=0.01, kernel=linear, gamma=0.2, n_clusters=256\n",
      "Fold 2: fitting svm with C=0.01, kernel=linear, gamma=0.2, n_clusters=256\n",
      "Fold 3: fitting svm with C=0.01, kernel=linear, gamma=0.2, n_clusters=256\n",
      "Fold 4: fitting svm with C=0.01, kernel=linear, gamma=0.2, n_clusters=256\n"
     ]
    },
    {
     "name": "stderr",
     "output_type": "stream",
     "text": [
      "[I 2024-01-05 00:18:01,433] Trial 65 finished with value: 0.8069268204883249 and parameters: {'n_clusters': 256, 'svm_kernel': 'linear', 'svm_C': 0.01, 'svm_gamma': 0.2}. Best is trial 19 with value: 0.839292364990689.\n"
     ]
    },
    {
     "name": "stdout",
     "output_type": "stream",
     "text": [
      "Fold 0: fitting svm with C=0.01, kernel=poly, gamma=0.15, n_clusters=1024\n",
      "Fold 1: fitting svm with C=0.01, kernel=poly, gamma=0.15, n_clusters=1024\n",
      "Fold 2: fitting svm with C=0.01, kernel=poly, gamma=0.15, n_clusters=1024\n",
      "Fold 3: fitting svm with C=0.01, kernel=poly, gamma=0.15, n_clusters=1024\n",
      "Fold 4: fitting svm with C=0.01, kernel=poly, gamma=0.15, n_clusters=1024\n"
     ]
    },
    {
     "name": "stderr",
     "output_type": "stream",
     "text": [
      "[I 2024-01-05 00:18:37,682] Trial 66 finished with value: 0.8028320630239595 and parameters: {'n_clusters': 1024, 'svm_kernel': 'poly', 'svm_C': 0.01, 'svm_gamma': 0.15}. Best is trial 19 with value: 0.839292364990689.\n"
     ]
    },
    {
     "name": "stdout",
     "output_type": "stream",
     "text": [
      "Fold 0: fitting svm with C=100, kernel=linear, gamma=0.1, n_clusters=1024\n",
      "Fold 1: fitting svm with C=100, kernel=linear, gamma=0.1, n_clusters=1024\n",
      "Fold 2: fitting svm with C=100, kernel=linear, gamma=0.1, n_clusters=1024\n",
      "Fold 3: fitting svm with C=100, kernel=linear, gamma=0.1, n_clusters=1024\n",
      "Fold 4: fitting svm with C=100, kernel=linear, gamma=0.1, n_clusters=1024\n"
     ]
    },
    {
     "name": "stderr",
     "output_type": "stream",
     "text": [
      "[I 2024-01-05 00:19:05,508] Trial 67 finished with value: 0.838920617778793 and parameters: {'n_clusters': 1024, 'svm_kernel': 'linear', 'svm_C': 100, 'svm_gamma': 0.1}. Best is trial 19 with value: 0.839292364990689.\n"
     ]
    },
    {
     "name": "stdout",
     "output_type": "stream",
     "text": [
      "Fold 0: fitting svm with C=10, kernel=linear, gamma=0.2, n_clusters=512\n",
      "Fold 1: fitting svm with C=10, kernel=linear, gamma=0.2, n_clusters=512\n",
      "Fold 2: fitting svm with C=10, kernel=linear, gamma=0.2, n_clusters=512\n",
      "Fold 3: fitting svm with C=10, kernel=linear, gamma=0.2, n_clusters=512\n",
      "Fold 4: fitting svm with C=10, kernel=linear, gamma=0.2, n_clusters=512\n"
     ]
    },
    {
     "name": "stderr",
     "output_type": "stream",
     "text": [
      "[I 2024-01-05 00:19:22,342] Trial 68 finished with value: 0.8054363703072973 and parameters: {'n_clusters': 512, 'svm_kernel': 'linear', 'svm_C': 10, 'svm_gamma': 0.2}. Best is trial 19 with value: 0.839292364990689.\n"
     ]
    },
    {
     "name": "stdout",
     "output_type": "stream",
     "text": [
      "Fold 0: fitting svm with C=0.01, kernel=linear, gamma=0.25, n_clusters=128\n",
      "Fold 1: fitting svm with C=0.01, kernel=linear, gamma=0.25, n_clusters=128\n",
      "Fold 2: fitting svm with C=0.01, kernel=linear, gamma=0.25, n_clusters=128\n",
      "Fold 3: fitting svm with C=0.01, kernel=linear, gamma=0.25, n_clusters=128\n"
     ]
    },
    {
     "name": "stderr",
     "output_type": "stream",
     "text": [
      "[I 2024-01-05 00:19:30,925] Trial 69 finished with value: 0.7972620852457201 and parameters: {'n_clusters': 128, 'svm_kernel': 'linear', 'svm_C': 0.01, 'svm_gamma': 0.25}. Best is trial 19 with value: 0.839292364990689.\n"
     ]
    },
    {
     "name": "stdout",
     "output_type": "stream",
     "text": [
      "Fold 4: fitting svm with C=0.01, kernel=linear, gamma=0.25, n_clusters=128\n",
      "Fold 0: fitting svm with C=0.01, kernel=sigmoid, gamma=0.2, n_clusters=32\n",
      "Fold 1: fitting svm with C=0.01, kernel=sigmoid, gamma=0.2, n_clusters=32\n",
      "Fold 2: fitting svm with C=0.01, kernel=sigmoid, gamma=0.2, n_clusters=32\n",
      "Fold 3: fitting svm with C=0.01, kernel=sigmoid, gamma=0.2, n_clusters=32\n",
      "Fold 4: fitting svm with C=0.01, kernel=sigmoid, gamma=0.2, n_clusters=32\n"
     ]
    },
    {
     "name": "stderr",
     "output_type": "stream",
     "text": [
      "[I 2024-01-05 00:19:37,864] Trial 70 finished with value: 0.15251742781389105 and parameters: {'n_clusters': 32, 'svm_kernel': 'sigmoid', 'svm_C': 0.01, 'svm_gamma': 0.2}. Best is trial 19 with value: 0.839292364990689.\n"
     ]
    },
    {
     "name": "stdout",
     "output_type": "stream",
     "text": [
      "Fold 0: fitting svm with C=0.01, kernel=linear, gamma=0.05, n_clusters=1024\n",
      "Fold 1: fitting svm with C=0.01, kernel=linear, gamma=0.05, n_clusters=1024\n",
      "Fold 2: fitting svm with C=0.01, kernel=linear, gamma=0.05, n_clusters=1024\n",
      "Fold 3: fitting svm with C=0.01, kernel=linear, gamma=0.05, n_clusters=1024\n",
      "Fold 4: fitting svm with C=0.01, kernel=linear, gamma=0.05, n_clusters=1024\n"
     ]
    },
    {
     "name": "stderr",
     "output_type": "stream",
     "text": [
      "[I 2024-01-05 00:20:05,856] Trial 71 finished with value: 0.839292364990689 and parameters: {'n_clusters': 1024, 'svm_kernel': 'linear', 'svm_C': 0.01, 'svm_gamma': 0.05}. Best is trial 19 with value: 0.839292364990689.\n"
     ]
    },
    {
     "name": "stdout",
     "output_type": "stream",
     "text": [
      "Fold 0: fitting svm with C=0.01, kernel=linear, gamma=0.05, n_clusters=1024\n",
      "Fold 1: fitting svm with C=0.01, kernel=linear, gamma=0.05, n_clusters=1024\n",
      "Fold 2: fitting svm with C=0.01, kernel=linear, gamma=0.05, n_clusters=1024\n",
      "Fold 3: fitting svm with C=0.01, kernel=linear, gamma=0.05, n_clusters=1024\n",
      "Fold 4: fitting svm with C=0.01, kernel=linear, gamma=0.05, n_clusters=1024\n"
     ]
    },
    {
     "name": "stderr",
     "output_type": "stream",
     "text": [
      "[I 2024-01-05 00:20:35,484] Trial 72 finished with value: 0.839292364990689 and parameters: {'n_clusters': 1024, 'svm_kernel': 'linear', 'svm_C': 0.01, 'svm_gamma': 0.05}. Best is trial 19 with value: 0.839292364990689.\n"
     ]
    },
    {
     "name": "stdout",
     "output_type": "stream",
     "text": [
      "Fold 0: fitting svm with C=0.01, kernel=linear, gamma=0.05, n_clusters=1024\n",
      "Fold 1: fitting svm with C=0.01, kernel=linear, gamma=0.05, n_clusters=1024\n",
      "Fold 2: fitting svm with C=0.01, kernel=linear, gamma=0.05, n_clusters=1024\n",
      "Fold 3: fitting svm with C=0.01, kernel=linear, gamma=0.05, n_clusters=1024\n",
      "Fold 4: fitting svm with C=0.01, kernel=linear, gamma=0.05, n_clusters=1024\n"
     ]
    },
    {
     "name": "stderr",
     "output_type": "stream",
     "text": [
      "[I 2024-01-05 00:21:05,043] Trial 73 finished with value: 0.839292364990689 and parameters: {'n_clusters': 1024, 'svm_kernel': 'linear', 'svm_C': 0.01, 'svm_gamma': 0.05}. Best is trial 19 with value: 0.839292364990689.\n"
     ]
    },
    {
     "name": "stdout",
     "output_type": "stream",
     "text": [
      "Fold 0: fitting svm with C=0.01, kernel=linear, gamma=0.05, n_clusters=1024\n",
      "Fold 1: fitting svm with C=0.01, kernel=linear, gamma=0.05, n_clusters=1024\n",
      "Fold 2: fitting svm with C=0.01, kernel=linear, gamma=0.05, n_clusters=1024\n",
      "Fold 3: fitting svm with C=0.01, kernel=linear, gamma=0.05, n_clusters=1024\n",
      "Fold 4: fitting svm with C=0.01, kernel=linear, gamma=0.05, n_clusters=1024\n"
     ]
    },
    {
     "name": "stderr",
     "output_type": "stream",
     "text": [
      "[I 2024-01-05 00:21:35,249] Trial 74 finished with value: 0.839292364990689 and parameters: {'n_clusters': 1024, 'svm_kernel': 'linear', 'svm_C': 0.01, 'svm_gamma': 0.05}. Best is trial 19 with value: 0.839292364990689.\n"
     ]
    },
    {
     "name": "stdout",
     "output_type": "stream",
     "text": [
      "Fold 0: fitting svm with C=0.01, kernel=linear, gamma=0.2, n_clusters=1024\n",
      "Fold 1: fitting svm with C=0.01, kernel=linear, gamma=0.2, n_clusters=1024\n",
      "Fold 2: fitting svm with C=0.01, kernel=linear, gamma=0.2, n_clusters=1024\n",
      "Fold 3: fitting svm with C=0.01, kernel=linear, gamma=0.2, n_clusters=1024\n",
      "Fold 4: fitting svm with C=0.01, kernel=linear, gamma=0.2, n_clusters=1024\n"
     ]
    },
    {
     "name": "stderr",
     "output_type": "stream",
     "text": [
      "[I 2024-01-05 00:22:03,135] Trial 75 finished with value: 0.839292364990689 and parameters: {'n_clusters': 1024, 'svm_kernel': 'linear', 'svm_C': 0.01, 'svm_gamma': 0.2}. Best is trial 19 with value: 0.839292364990689.\n"
     ]
    },
    {
     "name": "stdout",
     "output_type": "stream",
     "text": [
      "Fold 0: fitting svm with C=0.01, kernel=linear, gamma=0.2, n_clusters=64\n",
      "Fold 1: fitting svm with C=0.01, kernel=linear, gamma=0.2, n_clusters=64\n",
      "Fold 2: fitting svm with C=0.01, kernel=linear, gamma=0.2, n_clusters=64\n",
      "Fold 3: fitting svm with C=0.01, kernel=linear, gamma=0.2, n_clusters=64\n"
     ]
    },
    {
     "name": "stderr",
     "output_type": "stream",
     "text": [
      "[I 2024-01-05 00:22:09,744] Trial 76 finished with value: 0.7808913625885235 and parameters: {'n_clusters': 64, 'svm_kernel': 'linear', 'svm_C': 0.01, 'svm_gamma': 0.2}. Best is trial 19 with value: 0.839292364990689.\n"
     ]
    },
    {
     "name": "stdout",
     "output_type": "stream",
     "text": [
      "Fold 4: fitting svm with C=0.01, kernel=linear, gamma=0.2, n_clusters=64\n",
      "Fold 0: fitting svm with C=1, kernel=poly, gamma=0.15, n_clusters=1024\n",
      "Fold 1: fitting svm with C=1, kernel=poly, gamma=0.15, n_clusters=1024\n",
      "Fold 2: fitting svm with C=1, kernel=poly, gamma=0.15, n_clusters=1024\n",
      "Fold 3: fitting svm with C=1, kernel=poly, gamma=0.15, n_clusters=1024\n",
      "Fold 4: fitting svm with C=1, kernel=poly, gamma=0.15, n_clusters=1024\n"
     ]
    },
    {
     "name": "stderr",
     "output_type": "stream",
     "text": [
      "[I 2024-01-05 00:22:46,245] Trial 77 finished with value: 0.8028320630239595 and parameters: {'n_clusters': 1024, 'svm_kernel': 'poly', 'svm_C': 1, 'svm_gamma': 0.15}. Best is trial 19 with value: 0.839292364990689.\n"
     ]
    },
    {
     "name": "stdout",
     "output_type": "stream",
     "text": [
      "Fold 0: fitting svm with C=0.01, kernel=rbf, gamma=0.05, n_clusters=1024\n",
      "Fold 1: fitting svm with C=0.01, kernel=rbf, gamma=0.05, n_clusters=1024\n",
      "Fold 2: fitting svm with C=0.01, kernel=rbf, gamma=0.05, n_clusters=1024\n",
      "Fold 3: fitting svm with C=0.01, kernel=rbf, gamma=0.05, n_clusters=1024\n",
      "Fold 4: fitting svm with C=0.01, kernel=rbf, gamma=0.05, n_clusters=1024\n"
     ]
    },
    {
     "name": "stderr",
     "output_type": "stream",
     "text": [
      "[I 2024-01-05 00:23:29,072] Trial 78 finished with value: 0.15251742781389105 and parameters: {'n_clusters': 1024, 'svm_kernel': 'rbf', 'svm_C': 0.01, 'svm_gamma': 0.05}. Best is trial 19 with value: 0.839292364990689.\n"
     ]
    },
    {
     "name": "stdout",
     "output_type": "stream",
     "text": [
      "Fold 0: fitting svm with C=0.1, kernel=linear, gamma=0.2, n_clusters=1024\n",
      "Fold 1: fitting svm with C=0.1, kernel=linear, gamma=0.2, n_clusters=1024\n",
      "Fold 2: fitting svm with C=0.1, kernel=linear, gamma=0.2, n_clusters=1024\n",
      "Fold 3: fitting svm with C=0.1, kernel=linear, gamma=0.2, n_clusters=1024\n",
      "Fold 4: fitting svm with C=0.1, kernel=linear, gamma=0.2, n_clusters=1024\n"
     ]
    },
    {
     "name": "stderr",
     "output_type": "stream",
     "text": [
      "[I 2024-01-05 00:23:58,492] Trial 79 finished with value: 0.838920617778793 and parameters: {'n_clusters': 1024, 'svm_kernel': 'linear', 'svm_C': 0.1, 'svm_gamma': 0.2}. Best is trial 19 with value: 0.839292364990689.\n"
     ]
    },
    {
     "name": "stdout",
     "output_type": "stream",
     "text": [
      "Fold 0: fitting svm with C=100, kernel=linear, gamma=0.2, n_clusters=512\n",
      "Fold 1: fitting svm with C=100, kernel=linear, gamma=0.2, n_clusters=512\n",
      "Fold 2: fitting svm with C=100, kernel=linear, gamma=0.2, n_clusters=512\n",
      "Fold 3: fitting svm with C=100, kernel=linear, gamma=0.2, n_clusters=512\n",
      "Fold 4: fitting svm with C=100, kernel=linear, gamma=0.2, n_clusters=512\n"
     ]
    },
    {
     "name": "stderr",
     "output_type": "stream",
     "text": [
      "[I 2024-01-05 00:24:14,840] Trial 80 finished with value: 0.8054363703072973 and parameters: {'n_clusters': 512, 'svm_kernel': 'linear', 'svm_C': 100, 'svm_gamma': 0.2}. Best is trial 19 with value: 0.839292364990689.\n"
     ]
    },
    {
     "name": "stdout",
     "output_type": "stream",
     "text": [
      "Fold 0: fitting svm with C=0.01, kernel=linear, gamma=0.2, n_clusters=1024\n",
      "Fold 1: fitting svm with C=0.01, kernel=linear, gamma=0.2, n_clusters=1024\n",
      "Fold 2: fitting svm with C=0.01, kernel=linear, gamma=0.2, n_clusters=1024\n",
      "Fold 3: fitting svm with C=0.01, kernel=linear, gamma=0.2, n_clusters=1024\n",
      "Fold 4: fitting svm with C=0.01, kernel=linear, gamma=0.2, n_clusters=1024\n"
     ]
    },
    {
     "name": "stderr",
     "output_type": "stream",
     "text": [
      "[I 2024-01-05 00:24:42,669] Trial 81 finished with value: 0.839292364990689 and parameters: {'n_clusters': 1024, 'svm_kernel': 'linear', 'svm_C': 0.01, 'svm_gamma': 0.2}. Best is trial 19 with value: 0.839292364990689.\n"
     ]
    },
    {
     "name": "stdout",
     "output_type": "stream",
     "text": [
      "Fold 0: fitting svm with C=0.01, kernel=linear, gamma=0.2, n_clusters=1024\n",
      "Fold 1: fitting svm with C=0.01, kernel=linear, gamma=0.2, n_clusters=1024\n",
      "Fold 2: fitting svm with C=0.01, kernel=linear, gamma=0.2, n_clusters=1024\n",
      "Fold 3: fitting svm with C=0.01, kernel=linear, gamma=0.2, n_clusters=1024\n",
      "Fold 4: fitting svm with C=0.01, kernel=linear, gamma=0.2, n_clusters=1024\n"
     ]
    },
    {
     "name": "stderr",
     "output_type": "stream",
     "text": [
      "[I 2024-01-05 00:25:09,340] Trial 82 finished with value: 0.839292364990689 and parameters: {'n_clusters': 1024, 'svm_kernel': 'linear', 'svm_C': 0.01, 'svm_gamma': 0.2}. Best is trial 19 with value: 0.839292364990689.\n"
     ]
    },
    {
     "name": "stdout",
     "output_type": "stream",
     "text": [
      "Fold 0: fitting svm with C=0.01, kernel=linear, gamma=0.2, n_clusters=1024\n",
      "Fold 1: fitting svm with C=0.01, kernel=linear, gamma=0.2, n_clusters=1024\n",
      "Fold 2: fitting svm with C=0.01, kernel=linear, gamma=0.2, n_clusters=1024\n",
      "Fold 3: fitting svm with C=0.01, kernel=linear, gamma=0.2, n_clusters=1024\n",
      "Fold 4: fitting svm with C=0.01, kernel=linear, gamma=0.2, n_clusters=1024\n"
     ]
    },
    {
     "name": "stderr",
     "output_type": "stream",
     "text": [
      "[I 2024-01-05 00:25:37,640] Trial 83 finished with value: 0.839292364990689 and parameters: {'n_clusters': 1024, 'svm_kernel': 'linear', 'svm_C': 0.01, 'svm_gamma': 0.2}. Best is trial 19 with value: 0.839292364990689.\n"
     ]
    },
    {
     "name": "stdout",
     "output_type": "stream",
     "text": [
      "Fold 0: fitting svm with C=0.01, kernel=linear, gamma=0.2, n_clusters=1024\n",
      "Fold 1: fitting svm with C=0.01, kernel=linear, gamma=0.2, n_clusters=1024\n",
      "Fold 2: fitting svm with C=0.01, kernel=linear, gamma=0.2, n_clusters=1024\n",
      "Fold 3: fitting svm with C=0.01, kernel=linear, gamma=0.2, n_clusters=1024\n",
      "Fold 4: fitting svm with C=0.01, kernel=linear, gamma=0.2, n_clusters=1024\n"
     ]
    },
    {
     "name": "stderr",
     "output_type": "stream",
     "text": [
      "[I 2024-01-05 00:26:06,053] Trial 84 finished with value: 0.839292364990689 and parameters: {'n_clusters': 1024, 'svm_kernel': 'linear', 'svm_C': 0.01, 'svm_gamma': 0.2}. Best is trial 19 with value: 0.839292364990689.\n"
     ]
    },
    {
     "name": "stdout",
     "output_type": "stream",
     "text": [
      "Fold 0: fitting svm with C=0.01, kernel=linear, gamma=0.2, n_clusters=256\n",
      "Fold 1: fitting svm with C=0.01, kernel=linear, gamma=0.2, n_clusters=256\n",
      "Fold 2: fitting svm with C=0.01, kernel=linear, gamma=0.2, n_clusters=256\n",
      "Fold 3: fitting svm with C=0.01, kernel=linear, gamma=0.2, n_clusters=256\n",
      "Fold 4: fitting svm with C=0.01, kernel=linear, gamma=0.2, n_clusters=256\n"
     ]
    },
    {
     "name": "stderr",
     "output_type": "stream",
     "text": [
      "[I 2024-01-05 00:26:16,572] Trial 85 finished with value: 0.8069268204883249 and parameters: {'n_clusters': 256, 'svm_kernel': 'linear', 'svm_C': 0.01, 'svm_gamma': 0.2}. Best is trial 19 with value: 0.839292364990689.\n"
     ]
    },
    {
     "name": "stdout",
     "output_type": "stream",
     "text": [
      "Fold 0: fitting svm with C=10, kernel=linear, gamma=0.25, n_clusters=1024\n",
      "Fold 1: fitting svm with C=10, kernel=linear, gamma=0.25, n_clusters=1024\n",
      "Fold 2: fitting svm with C=10, kernel=linear, gamma=0.25, n_clusters=1024\n",
      "Fold 3: fitting svm with C=10, kernel=linear, gamma=0.25, n_clusters=1024\n",
      "Fold 4: fitting svm with C=10, kernel=linear, gamma=0.25, n_clusters=1024\n"
     ]
    },
    {
     "name": "stderr",
     "output_type": "stream",
     "text": [
      "[I 2024-01-05 00:26:46,548] Trial 86 finished with value: 0.838920617778793 and parameters: {'n_clusters': 1024, 'svm_kernel': 'linear', 'svm_C': 10, 'svm_gamma': 0.25}. Best is trial 19 with value: 0.839292364990689.\n"
     ]
    },
    {
     "name": "stdout",
     "output_type": "stream",
     "text": [
      "Fold 0: fitting svm with C=0.01, kernel=linear, gamma=0.1, n_clusters=1024\n",
      "Fold 1: fitting svm with C=0.01, kernel=linear, gamma=0.1, n_clusters=1024\n",
      "Fold 2: fitting svm with C=0.01, kernel=linear, gamma=0.1, n_clusters=1024\n",
      "Fold 3: fitting svm with C=0.01, kernel=linear, gamma=0.1, n_clusters=1024\n",
      "Fold 4: fitting svm with C=0.01, kernel=linear, gamma=0.1, n_clusters=1024\n"
     ]
    },
    {
     "name": "stderr",
     "output_type": "stream",
     "text": [
      "[I 2024-01-05 00:27:15,574] Trial 87 finished with value: 0.839292364990689 and parameters: {'n_clusters': 1024, 'svm_kernel': 'linear', 'svm_C': 0.01, 'svm_gamma': 0.1}. Best is trial 19 with value: 0.839292364990689.\n"
     ]
    },
    {
     "name": "stdout",
     "output_type": "stream",
     "text": [
      "Fold 0: fitting svm with C=0.01, kernel=sigmoid, gamma=0.2, n_clusters=32\n",
      "Fold 1: fitting svm with C=0.01, kernel=sigmoid, gamma=0.2, n_clusters=32\n",
      "Fold 2: fitting svm with C=0.01, kernel=sigmoid, gamma=0.2, n_clusters=32\n",
      "Fold 3: fitting svm with C=0.01, kernel=sigmoid, gamma=0.2, n_clusters=32\n",
      "Fold 4: fitting svm with C=0.01, kernel=sigmoid, gamma=0.2, n_clusters=32\n"
     ]
    },
    {
     "name": "stderr",
     "output_type": "stream",
     "text": [
      "[I 2024-01-05 00:27:22,963] Trial 88 finished with value: 0.15251742781389105 and parameters: {'n_clusters': 32, 'svm_kernel': 'sigmoid', 'svm_C': 0.01, 'svm_gamma': 0.2}. Best is trial 19 with value: 0.839292364990689.\n"
     ]
    },
    {
     "name": "stdout",
     "output_type": "stream",
     "text": [
      "Fold 0: fitting svm with C=0.01, kernel=linear, gamma=0.2, n_clusters=1024\n",
      "Fold 1: fitting svm with C=0.01, kernel=linear, gamma=0.2, n_clusters=1024\n",
      "Fold 2: fitting svm with C=0.01, kernel=linear, gamma=0.2, n_clusters=1024\n",
      "Fold 3: fitting svm with C=0.01, kernel=linear, gamma=0.2, n_clusters=1024\n",
      "Fold 4: fitting svm with C=0.01, kernel=linear, gamma=0.2, n_clusters=1024\n"
     ]
    },
    {
     "name": "stderr",
     "output_type": "stream",
     "text": [
      "[I 2024-01-05 00:27:52,186] Trial 89 finished with value: 0.839292364990689 and parameters: {'n_clusters': 1024, 'svm_kernel': 'linear', 'svm_C': 0.01, 'svm_gamma': 0.2}. Best is trial 19 with value: 0.839292364990689.\n"
     ]
    },
    {
     "name": "stdout",
     "output_type": "stream",
     "text": [
      "Fold 0: fitting svm with C=0.01, kernel=rbf, gamma=0.2, n_clusters=128\n",
      "Fold 1: fitting svm with C=0.01, kernel=rbf, gamma=0.2, n_clusters=128\n",
      "Fold 2: fitting svm with C=0.01, kernel=rbf, gamma=0.2, n_clusters=128\n",
      "Fold 3: fitting svm with C=0.01, kernel=rbf, gamma=0.2, n_clusters=128\n",
      "Fold 4: fitting svm with C=0.01, kernel=rbf, gamma=0.2, n_clusters=128\n"
     ]
    },
    {
     "name": "stderr",
     "output_type": "stream",
     "text": [
      "[I 2024-01-05 00:28:03,772] Trial 90 finished with value: 0.15251742781389105 and parameters: {'n_clusters': 128, 'svm_kernel': 'rbf', 'svm_C': 0.01, 'svm_gamma': 0.2}. Best is trial 19 with value: 0.839292364990689.\n"
     ]
    },
    {
     "name": "stdout",
     "output_type": "stream",
     "text": [
      "Fold 0: fitting svm with C=0.01, kernel=linear, gamma=0.2, n_clusters=1024\n",
      "Fold 1: fitting svm with C=0.01, kernel=linear, gamma=0.2, n_clusters=1024\n",
      "Fold 2: fitting svm with C=0.01, kernel=linear, gamma=0.2, n_clusters=1024\n",
      "Fold 3: fitting svm with C=0.01, kernel=linear, gamma=0.2, n_clusters=1024\n",
      "Fold 4: fitting svm with C=0.01, kernel=linear, gamma=0.2, n_clusters=1024\n"
     ]
    },
    {
     "name": "stderr",
     "output_type": "stream",
     "text": [
      "[I 2024-01-05 00:28:33,596] Trial 91 finished with value: 0.839292364990689 and parameters: {'n_clusters': 1024, 'svm_kernel': 'linear', 'svm_C': 0.01, 'svm_gamma': 0.2}. Best is trial 19 with value: 0.839292364990689.\n"
     ]
    },
    {
     "name": "stdout",
     "output_type": "stream",
     "text": [
      "Fold 0: fitting svm with C=0.01, kernel=linear, gamma=0.2, n_clusters=1024\n",
      "Fold 1: fitting svm with C=0.01, kernel=linear, gamma=0.2, n_clusters=1024\n",
      "Fold 2: fitting svm with C=0.01, kernel=linear, gamma=0.2, n_clusters=1024\n",
      "Fold 3: fitting svm with C=0.01, kernel=linear, gamma=0.2, n_clusters=1024\n",
      "Fold 4: fitting svm with C=0.01, kernel=linear, gamma=0.2, n_clusters=1024\n"
     ]
    },
    {
     "name": "stderr",
     "output_type": "stream",
     "text": [
      "[I 2024-01-05 00:29:04,174] Trial 92 finished with value: 0.839292364990689 and parameters: {'n_clusters': 1024, 'svm_kernel': 'linear', 'svm_C': 0.01, 'svm_gamma': 0.2}. Best is trial 19 with value: 0.839292364990689.\n"
     ]
    },
    {
     "name": "stdout",
     "output_type": "stream",
     "text": [
      "Fold 0: fitting svm with C=0.01, kernel=linear, gamma=0.2, n_clusters=1024\n",
      "Fold 1: fitting svm with C=0.01, kernel=linear, gamma=0.2, n_clusters=1024\n",
      "Fold 2: fitting svm with C=0.01, kernel=linear, gamma=0.2, n_clusters=1024\n",
      "Fold 3: fitting svm with C=0.01, kernel=linear, gamma=0.2, n_clusters=1024\n",
      "Fold 4: fitting svm with C=0.01, kernel=linear, gamma=0.2, n_clusters=1024\n"
     ]
    },
    {
     "name": "stderr",
     "output_type": "stream",
     "text": [
      "[I 2024-01-05 00:29:33,100] Trial 93 finished with value: 0.839292364990689 and parameters: {'n_clusters': 1024, 'svm_kernel': 'linear', 'svm_C': 0.01, 'svm_gamma': 0.2}. Best is trial 19 with value: 0.839292364990689.\n"
     ]
    },
    {
     "name": "stdout",
     "output_type": "stream",
     "text": [
      "Fold 0: fitting svm with C=0.01, kernel=linear, gamma=0.2, n_clusters=1024\n",
      "Fold 1: fitting svm with C=0.01, kernel=linear, gamma=0.2, n_clusters=1024\n",
      "Fold 2: fitting svm with C=0.01, kernel=linear, gamma=0.2, n_clusters=1024\n",
      "Fold 3: fitting svm with C=0.01, kernel=linear, gamma=0.2, n_clusters=1024\n",
      "Fold 4: fitting svm with C=0.01, kernel=linear, gamma=0.2, n_clusters=1024\n"
     ]
    },
    {
     "name": "stderr",
     "output_type": "stream",
     "text": [
      "[I 2024-01-05 00:30:02,061] Trial 94 finished with value: 0.839292364990689 and parameters: {'n_clusters': 1024, 'svm_kernel': 'linear', 'svm_C': 0.01, 'svm_gamma': 0.2}. Best is trial 19 with value: 0.839292364990689.\n"
     ]
    },
    {
     "name": "stdout",
     "output_type": "stream",
     "text": [
      "Fold 0: fitting svm with C=0.01, kernel=linear, gamma=0.2, n_clusters=1024\n",
      "Fold 1: fitting svm with C=0.01, kernel=linear, gamma=0.2, n_clusters=1024\n",
      "Fold 2: fitting svm with C=0.01, kernel=linear, gamma=0.2, n_clusters=1024\n",
      "Fold 3: fitting svm with C=0.01, kernel=linear, gamma=0.2, n_clusters=1024\n",
      "Fold 4: fitting svm with C=0.01, kernel=linear, gamma=0.2, n_clusters=1024\n"
     ]
    },
    {
     "name": "stderr",
     "output_type": "stream",
     "text": [
      "[I 2024-01-05 00:30:32,273] Trial 95 finished with value: 0.839292364990689 and parameters: {'n_clusters': 1024, 'svm_kernel': 'linear', 'svm_C': 0.01, 'svm_gamma': 0.2}. Best is trial 19 with value: 0.839292364990689.\n"
     ]
    },
    {
     "name": "stdout",
     "output_type": "stream",
     "text": [
      "Fold 0: fitting svm with C=1, kernel=linear, gamma=0.05, n_clusters=1024\n",
      "Fold 1: fitting svm with C=1, kernel=linear, gamma=0.05, n_clusters=1024\n",
      "Fold 2: fitting svm with C=1, kernel=linear, gamma=0.05, n_clusters=1024\n",
      "Fold 3: fitting svm with C=1, kernel=linear, gamma=0.05, n_clusters=1024\n",
      "Fold 4: fitting svm with C=1, kernel=linear, gamma=0.05, n_clusters=1024\n"
     ]
    },
    {
     "name": "stderr",
     "output_type": "stream",
     "text": [
      "[I 2024-01-05 00:31:02,843] Trial 96 finished with value: 0.838920617778793 and parameters: {'n_clusters': 1024, 'svm_kernel': 'linear', 'svm_C': 1, 'svm_gamma': 0.05}. Best is trial 19 with value: 0.839292364990689.\n"
     ]
    },
    {
     "name": "stdout",
     "output_type": "stream",
     "text": [
      "Fold 0: fitting svm with C=0.1, kernel=poly, gamma=0.2, n_clusters=64\n",
      "Fold 1: fitting svm with C=0.1, kernel=poly, gamma=0.2, n_clusters=64\n",
      "Fold 2: fitting svm with C=0.1, kernel=poly, gamma=0.2, n_clusters=64\n",
      "Fold 3: fitting svm with C=0.1, kernel=poly, gamma=0.2, n_clusters=64\n"
     ]
    },
    {
     "name": "stderr",
     "output_type": "stream",
     "text": [
      "[I 2024-01-05 00:31:10,867] Trial 97 finished with value: 0.7782870553051857 and parameters: {'n_clusters': 64, 'svm_kernel': 'poly', 'svm_C': 0.1, 'svm_gamma': 0.2}. Best is trial 19 with value: 0.839292364990689.\n"
     ]
    },
    {
     "name": "stdout",
     "output_type": "stream",
     "text": [
      "Fold 4: fitting svm with C=0.1, kernel=poly, gamma=0.2, n_clusters=64\n",
      "Fold 0: fitting svm with C=0.01, kernel=linear, gamma=0.15, n_clusters=1024\n",
      "Fold 1: fitting svm with C=0.01, kernel=linear, gamma=0.15, n_clusters=1024\n",
      "Fold 2: fitting svm with C=0.01, kernel=linear, gamma=0.15, n_clusters=1024\n",
      "Fold 3: fitting svm with C=0.01, kernel=linear, gamma=0.15, n_clusters=1024\n",
      "Fold 4: fitting svm with C=0.01, kernel=linear, gamma=0.15, n_clusters=1024\n"
     ]
    },
    {
     "name": "stderr",
     "output_type": "stream",
     "text": [
      "[I 2024-01-05 00:31:41,762] Trial 98 finished with value: 0.839292364990689 and parameters: {'n_clusters': 1024, 'svm_kernel': 'linear', 'svm_C': 0.01, 'svm_gamma': 0.15}. Best is trial 19 with value: 0.839292364990689.\n"
     ]
    },
    {
     "name": "stdout",
     "output_type": "stream",
     "text": [
      "Fold 0: fitting svm with C=0.01, kernel=linear, gamma=0.2, n_clusters=1024\n",
      "Fold 1: fitting svm with C=0.01, kernel=linear, gamma=0.2, n_clusters=1024\n",
      "Fold 2: fitting svm with C=0.01, kernel=linear, gamma=0.2, n_clusters=1024\n",
      "Fold 3: fitting svm with C=0.01, kernel=linear, gamma=0.2, n_clusters=1024\n",
      "Fold 4: fitting svm with C=0.01, kernel=linear, gamma=0.2, n_clusters=1024\n"
     ]
    },
    {
     "name": "stderr",
     "output_type": "stream",
     "text": [
      "[I 2024-01-05 00:32:10,367] Trial 99 finished with value: 0.839292364990689 and parameters: {'n_clusters': 1024, 'svm_kernel': 'linear', 'svm_C': 0.01, 'svm_gamma': 0.2}. Best is trial 19 with value: 0.839292364990689.\n"
     ]
    },
    {
     "data": {
      "text/plain": [
       "{'n_clusters': 1024, 'svm_kernel': 'linear', 'svm_C': 0.01, 'svm_gamma': 0.2}"
      ]
     },
     "execution_count": 8,
     "metadata": {},
     "output_type": "execute_result"
    }
   ],
   "source": [
    "gamma_vals = [0.05, 0.1, 0.15, 0.2, 0.25]\n",
    "c_vals = [0.01, 0.1, 1, 10, 100]\n",
    "#pca_comp = [8, 16, 32, 64]\n",
    "\n",
    "def objective(trial):\n",
    "\n",
    "    n_clusters = trial.suggest_categorical('n_clusters', codebook_sizes)\n",
    "    #dimensionality_reduction = trial.suggest_categorical('dimensionality_reduction', ['pca', 'lda', 'none'])\n",
    "\n",
    "    svm_kernel = trial.suggest_categorical('svm_kernel', ['linear', 'rbf', 'poly', 'sigmoid'])\n",
    "    svm_C = trial.suggest_categorical('svm_C', c_vals)\n",
    "    svm_gamma = trial.suggest_categorical('svm_gamma', gamma_vals)\n",
    "\n",
    "    \n",
    "    #if dimensionality_reduction == 'pca':\n",
    "    #    pca_n_components = trial.suggest_int('pca_n_components', 1, n_clusters, step=32)\n",
    "    #elif dimensionality_reduction == 'lda':\n",
    "    #    lda_n_components = trial.suggest_int('lda_n_components', 1, 7)\n",
    "\n",
    "    metrics = []\n",
    "    # Run k-fold cross validation per hyperparameter combination\n",
    "    for i, fold in enumerate(folds, 0):\n",
    "\n",
    "        train_data, train_labels, test_data, test_labels = fold\n",
    "        \n",
    "        codebook = codebooks[f'fold_{i}'][n_clusters]\n",
    "        # create visual words for training data\n",
    "        train_visual_words = create_visual_words(train_data, descriptors_dictionary, codebook)\n",
    "        # create visual words for test data\n",
    "        test_visual_words = create_visual_words(test_data, descriptors_dictionary, codebook)\n",
    "        \n",
    "        \n",
    "        # fit SVM classifier\n",
    "        print(f'Fold {i}: fitting svm with C={svm_C}, kernel={svm_kernel}, gamma={svm_gamma}, n_clusters={n_clusters}')\n",
    "        svm = SVC(C=svm_C, kernel=svm_kernel, gamma=svm_gamma)\n",
    "        svm.fit(train_visual_words, train_labels)\n",
    "        # predict labels for test data\n",
    "        pred_labels = svm.predict(test_visual_words)\n",
    "    \n",
    "        # get accuracy metric for current run\n",
    "        metrics.append(get_metrics(test_labels, pred_labels)[0])\n",
    "\n",
    "    return sum(metrics)/len(metrics)\n",
    "\n",
    "study = optuna.create_study(direction='maximize')\n",
    "study.optimize(objective, n_trials=100)\n",
    "\n",
    "study.best_params"
   ]
  }
 ],
 "metadata": {
  "kernelspec": {
   "display_name": "venv",
   "language": "python",
   "name": "python3"
  },
  "language_info": {
   "codemirror_mode": {
    "name": "ipython",
    "version": 3
   },
   "file_extension": ".py",
   "mimetype": "text/x-python",
   "name": "python",
   "nbconvert_exporter": "python",
   "pygments_lexer": "ipython3",
   "version": "3.9.18"
  }
 },
 "nbformat": 4,
 "nbformat_minor": 2
}
