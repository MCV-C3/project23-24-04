{
 "cells": [
  {
   "cell_type": "code",
   "execution_count": 29,
   "metadata": {},
   "outputs": [
    {
     "name": "stdout",
     "output_type": "stream",
     "text": [
      "Requirement already satisfied: pip in /home/georg/projects/.venv/lib/python3.10/site-packages (23.3.2)\n"
     ]
    }
   ],
   "source": [
    "from utils.long_residuals_mlp import *\n",
    "from utils.utils import *\n",
    "! pip install --upgrade pip\n",
    "import cv2\n",
    "from utils.utils import *\n",
    "from utils.MLP import *\n",
    "from utils.long_residuals_mlp import *\n",
    "from utils.short_residuals_mlp import *\n",
    "\n",
    "from sklearn.cluster import MiniBatchKMeans, KMeans\n",
    "from sklearn.neighbors import KNeighborsClassifier\n",
    "from sklearn.metrics import accuracy_score, recall_score, precision_score, f1_score"
   ]
  },
  {
   "cell_type": "code",
   "execution_count": 25,
   "metadata": {},
   "outputs": [],
   "source": [
    "PATCH_SIZE = 32\n",
    "CLASSES      = ['coast','forest','highway','inside_city','mountain','Opencountry','street','tallbuilding']\n",
    "\n",
    "MODEL_WEIGHTS = '/home/georg/projects/university/C3_ML_for_CV/project23-24-04/Task2/long_residuals-4096-32-1e-05/long_residuals-4096-32-1e-05_best.h5'\n",
    "\n",
    "images_directory = '/home/georg/projects/university/C3_ML_for_CV/MIT_split/'\n"
   ]
  },
  {
   "cell_type": "code",
   "execution_count": 8,
   "metadata": {},
   "outputs": [
    {
     "name": "stderr",
     "output_type": "stream",
     "text": [
      "2024-01-14 14:38:39.064640: E external/local_xla/xla/stream_executor/cuda/cuda_driver.cc:274] failed call to cuInit: CUDA_ERROR_NO_DEVICE: no CUDA-capable device is detected\n"
     ]
    },
    {
     "name": "stdout",
     "output_type": "stream",
     "text": [
      "Model: \"model\"\n",
      "__________________________________________________________________________________________________\n",
      " Layer (type)                Output Shape                 Param #   Connected to                  \n",
      "==================================================================================================\n",
      " input_1 (InputLayer)        [(None, 32, 32, 3)]          0         []                            \n",
      "                                                                                                  \n",
      " flatten (Flatten)           (None, 3072)                 0         ['input_1[0][0]']             \n",
      "                                                                                                  \n",
      " dense (Dense)               (None, 4096)                 1258700   ['flatten[0][0]']             \n",
      "                                                          8                                       \n",
      "                                                                                                  \n",
      " dense_1 (Dense)             (None, 4096)                 1678131   ['dense[0][0]']               \n",
      "                                                          2                                       \n",
      "                                                                                                  \n",
      " dense_2 (Dense)             (None, 1024)                 4195328   ['dense_1[0][0]']             \n",
      "                                                                                                  \n",
      " dense_3 (Dense)             (None, 1024)                 1049600   ['dense_2[0][0]']             \n",
      "                                                                                                  \n",
      " dense_4 (Dense)             (None, 256)                  262400    ['dense_3[0][0]']             \n",
      "                                                                                                  \n",
      " dense_5 (Dense)             (None, 256)                  65792     ['dense_4[0][0]']             \n",
      "                                                                                                  \n",
      " concatenate (Concatenate)   (None, 1280)                 0         ['dense_5[0][0]',             \n",
      "                                                                     'dense_3[0][0]']             \n",
      "                                                                                                  \n",
      " dense_6 (Dense)             (None, 1024)                 1311744   ['concatenate[0][0]']         \n",
      "                                                                                                  \n",
      " dense_7 (Dense)             (None, 1024)                 1049600   ['dense_6[0][0]']             \n",
      "                                                                                                  \n",
      " concatenate_1 (Concatenate  (None, 5120)                 0         ['dense_7[0][0]',             \n",
      " )                                                                   'dense_1[0][0]']             \n",
      "                                                                                                  \n",
      " dense_8 (Dense)             (None, 4096)                 2097561   ['concatenate_1[0][0]']       \n",
      "                                                          6                                       \n",
      "                                                                                                  \n",
      " dense_9 (Dense)             (None, 4096)                 1678131   ['dense_8[0][0]']             \n",
      "                                                          2                                       \n",
      "                                                                                                  \n",
      " concatenate_2 (Concatenate  (None, 7168)                 0         ['dense_9[0][0]',             \n",
      " )                                                                   'flatten[0][0]']             \n",
      "                                                                                                  \n",
      " activation (Activation)     (None, 7168)                 0         ['concatenate_2[0][0]']       \n",
      "                                                                                                  \n",
      " dense_10 (Dense)            (None, 8)                    57352     ['activation[0][0]']          \n",
      "                                                                                                  \n",
      "==================================================================================================\n",
      "Total params: 75117064 (286.55 MB)\n",
      "Trainable params: 75117064 (286.55 MB)\n",
      "Non-trainable params: 0 (0.00 Byte)\n",
      "__________________________________________________________________________________________________\n",
      "None\n",
      "You must install pydot (`pip install pydot`) and install graphviz (see instructions at https://graphviz.gitlab.io/download/) for plot_model to work.\n"
     ]
    }
   ],
   "source": [
    "from tensorflow.keras.models import Sequential, Model\n",
    "from tensorflow.keras.layers import Flatten, Dense, Reshape\n",
    "\n",
    "model = build_long_residuals_mlp(input_shape=(PATCH_SIZE, PATCH_SIZE, 3),\n",
    "                                  activation='relu', \n",
    "                                  regularization_coeff=0.00001, \n",
    "                                  num_units=4096, \n",
    "                                  filename='myMLP.png')\n",
    "\n",
    "model.load_weights(MODEL_WEIGHTS)\n",
    "\n",
    "model_layer = Model(inputs=model.input, outputs=model.get_layer('dense_5').output)\n",
    "\n",
    "for subdir1 in os.listdir(images_directory):\n",
    "    for subdir2 in os.listdir(os.path.join(images_directory, subdir1)):\n",
    "        for file in os.listdir(os.path.join(images_directory, subdir1, subdir2)):\n",
    "            img = load_and_preprocess_image(image_path=os.path.join(images_directory, subdir1, subdir2, file),\n",
    "                                            target_size=(256, 256,3))\n",
    "            \n",
    "\n",
    "            patches = split_image_into_patches(img, PATCH_SIZE)\n",
    "            print(patches.shape)\n",
    "            patch_embeddings = []\n",
    "            for patch in patches:\n",
    "                layer_output = model_layer.predict(patch)\n",
    "                patch_embeddings.append(layer_output)\n",
    "            layer_output = np.array(patch_embeddings).squeeze(axis=1)\n",
    "            print(layer_output.shape)\n",
    "            # save np array to csv file\n",
    "            np.savetxt(os.path.join('/home/gherodes/projects/tf_test/project23-24-04/Task2/embeddings/32', file.split('.')[0]+'.csv'), layer_output, delimiter=',')\n"
   ]
  },
  {
   "cell_type": "code",
   "execution_count": 26,
   "metadata": {},
   "outputs": [],
   "source": [
    "EMBEDDINGS_DIR = '/home/georg/projects/university/C3_ML_for_CV/project23-24-04/Task2/embeddings'\n",
    "PATCH_SIZE = 32\n",
    "\n",
    "\n",
    "N_CLUSTERS=128\n",
    "N_NEIGHBORS = 5\n",
    "METRIC = 'euclidean'\n",
    "WEIGHT = 'distance'"
   ]
  },
  {
   "cell_type": "code",
   "execution_count": 27,
   "metadata": {},
   "outputs": [
    {
     "name": "stdout",
     "output_type": "stream",
     "text": [
      "(120384, 256)\n",
      "(51648, 256)\n"
     ]
    }
   ],
   "source": [
    "embeddings_dict = read_embeddings(directory=os.path.join(EMBEDDINGS_DIR, str(PATCH_SIZE)))\n",
    "\n",
    "training_files, training_labels = load_data_from_directory('/home/georg/projects/university/C3_ML_for_CV/MIT_split/train')\n",
    "test_files, test_labels = load_data_from_directory('/home/georg/projects/university/C3_ML_for_CV/MIT_split/test')\n",
    "\n",
    "training_embeddings = np.array([embeddings_dict[os.path.basename(file)] for file in training_files])\n",
    "test_embeddings = np.array([embeddings_dict[os.path.basename(file)] for file in test_files])\n",
    "\n",
    "training_embeddings = training_embeddings.reshape((1881 * 64, 256))\n",
    "test_embeddings = test_embeddings.reshape((807 * 64, 256))\n",
    "\n",
    "print(training_embeddings.shape)\n",
    "print(test_embeddings.shape)"
   ]
  },
  {
   "cell_type": "code",
   "execution_count": 31,
   "metadata": {},
   "outputs": [
    {
     "name": "stderr",
     "output_type": "stream",
     "text": [
      "/home/georg/projects/.venv/lib/python3.10/site-packages/sklearn/cluster/_kmeans.py:1934: FutureWarning: The default value of `n_init` will change from 3 to 'auto' in 1.4. Set the value of `n_init` explicitly to suppress the warning\n",
      "  super()._check_params_vs_input(X, default_n_init=3)\n"
     ]
    }
   ],
   "source": [
    "def create_visual_words(image_paths, descriptors_dictionary, codebook):\n",
    "    visual_words = {}\n",
    "    for image_path in image_paths:\n",
    "        descriptor = descriptors_dictionary[os.path.basename(image_path)]\n",
    "        labels = codebook.predict(descriptor)\n",
    "        visual_words[image_path] = np.bincount(labels, minlength=codebook.n_clusters)\n",
    "    return np.array(list(visual_words.values()))\n",
    "\n",
    "codebook = MiniBatchKMeans(n_clusters=N_CLUSTERS,\n",
    "                           verbose=False, \n",
    "                           batch_size=2150,\n",
    "                           compute_labels=False,\n",
    "                           reassignment_ratio=0.01,\n",
    "                           random_state=42)\n",
    "\n",
    "codebook.fit(training_embeddings)\n",
    "# create visual words for training data\n",
    "train_visual_words = create_visual_words(training_files, embeddings_dict, codebook)\n",
    "# create visual words for test data\n",
    "test_visual_words = create_visual_words(test_files, embeddings_dict, codebook)"
   ]
  },
  {
   "cell_type": "code",
   "execution_count": 32,
   "metadata": {},
   "outputs": [
    {
     "name": "stdout",
     "output_type": "stream",
     "text": [
      "Fitting knn with n_neighbors=5, metric=euclidean, weights=distance\n",
      "(0.5055762081784386, 0.5259822822889195, 0.538203993940126, 0.5093570721672362)\n"
     ]
    }
   ],
   "source": [
    "# fit kNN classifier\n",
    "print(f'Fitting knn with n_neighbors={N_NEIGHBORS}, metric={METRIC}, weights={WEIGHT}')\n",
    "knn = KNeighborsClassifier(n_neighbors=N_NEIGHBORS,n_jobs=-1,metric=METRIC, weights=WEIGHT)\n",
    "knn.fit(train_visual_words, training_labels)\n",
    "# predict labels for test data\n",
    "pred_labels = knn.predict(test_visual_words)\n",
    "\n",
    "# get accuracy metric for current run\n",
    "print(get_metrics(test_labels, pred_labels))\n"
   ]
  }
 ],
 "metadata": {
  "kernelspec": {
   "display_name": ".venv",
   "language": "python",
   "name": "python3"
  },
  "language_info": {
   "codemirror_mode": {
    "name": "ipython",
    "version": 3
   },
   "file_extension": ".py",
   "mimetype": "text/x-python",
   "name": "python",
   "nbconvert_exporter": "python",
   "pygments_lexer": "ipython3",
   "version": "3.10.12"
  }
 },
 "nbformat": 4,
 "nbformat_minor": 2
}
