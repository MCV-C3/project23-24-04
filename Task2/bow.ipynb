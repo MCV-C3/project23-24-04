{
 "cells": [
  {
   "cell_type": "code",
   "execution_count": 23,
   "metadata": {},
   "outputs": [],
   "source": [
    "from utils.long_residuals_mlp import *\n",
    "from utils.utils import *\n",
    "! pip install --upgrade pip\n",
    "import cv2\n",
    "from utils.utils import *\n",
    "from utils.MLP import *\n",
    "from utils.long_residuals_mlp import *\n",
    "from utils.short_residuals_mlp import *\n",
    "\n",
    "from sklearn.cluster import MiniBatchKMeans, KMeans\n",
    "from sklearn.neighbors import KNeighborsClassifier\n",
    "from sklearn.metrics import accuracy_score, recall_score, precision_score, f1_score"
   ]
  },
  {
   "cell_type": "code",
   "execution_count": 18,
   "metadata": {},
   "outputs": [],
   "source": [
    "PATCH_SIZE = 32\n",
    "CLASSES      = ['coast','forest','highway','inside_city','mountain','Opencountry','street','tallbuilding']\n",
    "\n",
    "MODEL_WEIGHTS = '/home/georg/projects/university/C3_ML_for_CV/project23-24-04/Task2/long_residuals-4096-32-1e-05/long_residuals-4096-32-1e-05_best.h5'\n",
    "\n",
    "images_directory = '/home/georg/projects/university/C3_ML_for_CV/MIT_split/'\n"
   ]
  },
  {
   "cell_type": "code",
   "execution_count": 8,
   "metadata": {},
   "outputs": [
    {
     "name": "stderr",
     "output_type": "stream",
     "text": [
      "2024-01-14 14:38:39.064640: E external/local_xla/xla/stream_executor/cuda/cuda_driver.cc:274] failed call to cuInit: CUDA_ERROR_NO_DEVICE: no CUDA-capable device is detected\n"
     ]
    },
    {
     "name": "stdout",
     "output_type": "stream",
     "text": [
      "Model: \"model\"\n",
      "__________________________________________________________________________________________________\n",
      " Layer (type)                Output Shape                 Param #   Connected to                  \n",
      "==================================================================================================\n",
      " input_1 (InputLayer)        [(None, 32, 32, 3)]          0         []                            \n",
      "                                                                                                  \n",
      " flatten (Flatten)           (None, 3072)                 0         ['input_1[0][0]']             \n",
      "                                                                                                  \n",
      " dense (Dense)               (None, 4096)                 1258700   ['flatten[0][0]']             \n",
      "                                                          8                                       \n",
      "                                                                                                  \n",
      " dense_1 (Dense)             (None, 4096)                 1678131   ['dense[0][0]']               \n",
      "                                                          2                                       \n",
      "                                                                                                  \n",
      " dense_2 (Dense)             (None, 1024)                 4195328   ['dense_1[0][0]']             \n",
      "                                                                                                  \n",
      " dense_3 (Dense)             (None, 1024)                 1049600   ['dense_2[0][0]']             \n",
      "                                                                                                  \n",
      " dense_4 (Dense)             (None, 256)                  262400    ['dense_3[0][0]']             \n",
      "                                                                                                  \n",
      " dense_5 (Dense)             (None, 256)                  65792     ['dense_4[0][0]']             \n",
      "                                                                                                  \n",
      " concatenate (Concatenate)   (None, 1280)                 0         ['dense_5[0][0]',             \n",
      "                                                                     'dense_3[0][0]']             \n",
      "                                                                                                  \n",
      " dense_6 (Dense)             (None, 1024)                 1311744   ['concatenate[0][0]']         \n",
      "                                                                                                  \n",
      " dense_7 (Dense)             (None, 1024)                 1049600   ['dense_6[0][0]']             \n",
      "                                                                                                  \n",
      " concatenate_1 (Concatenate  (None, 5120)                 0         ['dense_7[0][0]',             \n",
      " )                                                                   'dense_1[0][0]']             \n",
      "                                                                                                  \n",
      " dense_8 (Dense)             (None, 4096)                 2097561   ['concatenate_1[0][0]']       \n",
      "                                                          6                                       \n",
      "                                                                                                  \n",
      " dense_9 (Dense)             (None, 4096)                 1678131   ['dense_8[0][0]']             \n",
      "                                                          2                                       \n",
      "                                                                                                  \n",
      " concatenate_2 (Concatenate  (None, 7168)                 0         ['dense_9[0][0]',             \n",
      " )                                                                   'flatten[0][0]']             \n",
      "                                                                                                  \n",
      " activation (Activation)     (None, 7168)                 0         ['concatenate_2[0][0]']       \n",
      "                                                                                                  \n",
      " dense_10 (Dense)            (None, 8)                    57352     ['activation[0][0]']          \n",
      "                                                                                                  \n",
      "==================================================================================================\n",
      "Total params: 75117064 (286.55 MB)\n",
      "Trainable params: 75117064 (286.55 MB)\n",
      "Non-trainable params: 0 (0.00 Byte)\n",
      "__________________________________________________________________________________________________\n",
      "None\n",
      "You must install pydot (`pip install pydot`) and install graphviz (see instructions at https://graphviz.gitlab.io/download/) for plot_model to work.\n"
     ]
    }
   ],
   "source": [
    "from tensorflow.keras.models import Sequential, Model\n",
    "from tensorflow.keras.layers import Flatten, Dense, Reshape\n",
    "\n",
    "model = build_long_residuals_mlp(input_shape=(PATCH_SIZE, PATCH_SIZE, 3),\n",
    "                                  activation='relu', \n",
    "                                  regularization_coeff=0.00001, \n",
    "                                  num_units=4096, \n",
    "                                  filename='myMLP.png')\n",
    "\n",
    "model.load_weights(MODEL_WEIGHTS)\n",
    "\n",
    "model_layer = Model(inputs=model.input, outputs=model.get_layer('dense_5').output)\n"
   ]
  },
  {
   "cell_type": "code",
   "execution_count": 19,
   "metadata": {},
   "outputs": [],
   "source": [
    "EMBEDDINGS_DIR = '/home/georg/projects/university/C3_ML_for_CV/project23-24-04/Task2/embeddings'\n",
    "PATCH_SIZE = 32\n",
    "\n",
    "\n",
    "N_CLUSTERS=128\n",
    "N_NEIGHBORS = 5\n",
    "METRIC = 'euclidean'\n",
    "WEIGHT = 'distance'"
   ]
  },
  {
   "cell_type": "code",
   "execution_count": 20,
   "metadata": {},
   "outputs": [
    {
     "name": "stdout",
     "output_type": "stream",
     "text": [
      "(120384, 256)\n",
      "(51648, 256)\n"
     ]
    }
   ],
   "source": [
    "embeddings_dict = read_embeddings(directory=os.path.join(EMBEDDINGS_DIR, str(PATCH_SIZE)))\n",
    "\n",
    "training_files, training_labels = load_data_from_directory('/home/georg/projects/university/C3_ML_for_CV/MIT_split/train')\n",
    "test_files, test_labels = load_data_from_directory('/home/georg/projects/university/C3_ML_for_CV/MIT_split/test')\n",
    "\n",
    "training_embeddings = np.array([embeddings_dict[os.path.basename(file)] for file in training_files])\n",
    "test_embeddings = np.array([embeddings_dict[os.path.basename(file)] for file in test_files])\n",
    "\n",
    "training_embeddings = training_embeddings.reshape((1881 * 64, 256))\n",
    "test_embeddings = test_embeddings.reshape((807 * 64, 256))\n",
    "\n",
    "print(training_embeddings.shape)\n",
    "print(test_embeddings.shape)"
   ]
  },
  {
   "cell_type": "code",
   "execution_count": 21,
   "metadata": {},
   "outputs": [
    {
     "name": "stderr",
     "output_type": "stream",
     "text": [
      "/home/georg/projects/.venv/lib/python3.10/site-packages/sklearn/cluster/_kmeans.py:1934: FutureWarning: The default value of `n_init` will change from 3 to 'auto' in 1.4. Set the value of `n_init` explicitly to suppress the warning\n",
      "  super()._check_params_vs_input(X, default_n_init=3)\n"
     ]
    },
    {
     "ename": "KeyError",
     "evalue": "'/home/georg/projects/university/C3_ML_for_CV/MIT_split/train/mountain/nat1046.jpg'",
     "output_type": "error",
     "traceback": [
      "\u001b[0;31m---------------------------------------------------------------------------\u001b[0m",
      "\u001b[0;31mKeyError\u001b[0m                                  Traceback (most recent call last)",
      "Cell \u001b[0;32mIn[21], line 10\u001b[0m\n\u001b[1;32m      8\u001b[0m codebook\u001b[38;5;241m.\u001b[39mfit(training_embeddings)\n\u001b[1;32m      9\u001b[0m \u001b[38;5;66;03m# create visual words for training data\u001b[39;00m\n\u001b[0;32m---> 10\u001b[0m train_visual_words \u001b[38;5;241m=\u001b[39m \u001b[43mcreate_visual_words\u001b[49m\u001b[43m(\u001b[49m\u001b[43mtraining_files\u001b[49m\u001b[43m,\u001b[49m\u001b[43m \u001b[49m\u001b[43membeddings_dict\u001b[49m\u001b[43m,\u001b[49m\u001b[43m \u001b[49m\u001b[43mcodebook\u001b[49m\u001b[43m)\u001b[49m\n\u001b[1;32m     11\u001b[0m \u001b[38;5;66;03m# create visual words for test data\u001b[39;00m\n\u001b[1;32m     12\u001b[0m test_visual_words \u001b[38;5;241m=\u001b[39m create_visual_words(test_files, embeddings_dict, codebook)\n",
      "File \u001b[0;32m~/projects/university/C3_ML_for_CV/project23-24-04/Task2/utils/utils.py:115\u001b[0m, in \u001b[0;36mcreate_visual_words\u001b[0;34m(image_paths, descriptors_dictionary, codebook)\u001b[0m\n\u001b[1;32m    113\u001b[0m visual_words \u001b[38;5;241m=\u001b[39m {}\n\u001b[1;32m    114\u001b[0m \u001b[38;5;28;01mfor\u001b[39;00m image_path \u001b[38;5;129;01min\u001b[39;00m image_paths:\n\u001b[0;32m--> 115\u001b[0m     descriptor \u001b[38;5;241m=\u001b[39m \u001b[43mdescriptors_dictionary\u001b[49m\u001b[43m[\u001b[49m\u001b[43mimage_path\u001b[49m\u001b[43m]\u001b[49m\n\u001b[1;32m    116\u001b[0m     labels \u001b[38;5;241m=\u001b[39m codebook\u001b[38;5;241m.\u001b[39mpredict(descriptor)\n\u001b[1;32m    117\u001b[0m     visual_words[image_path] \u001b[38;5;241m=\u001b[39m np\u001b[38;5;241m.\u001b[39mbincount(labels, minlength\u001b[38;5;241m=\u001b[39mcodebook\u001b[38;5;241m.\u001b[39mn_clusters)\n",
      "\u001b[0;31mKeyError\u001b[0m: '/home/georg/projects/university/C3_ML_for_CV/MIT_split/train/mountain/nat1046.jpg'"
     ]
    }
   ],
   "source": [
    "codebook = MiniBatchKMeans(n_clusters=N_CLUSTERS,\n",
    "                           verbose=False, \n",
    "                           batch_size=2150,\n",
    "                           compute_labels=False,\n",
    "                           reassignment_ratio=0.01,\n",
    "                           random_state=42)\n",
    "\n",
    "codebook.fit(training_embeddings)\n",
    "# create visual words for training data\n",
    "train_visual_words = create_visual_words(training_files, embeddings_dict, codebook)\n",
    "# create visual words for test data\n",
    "test_visual_words = create_visual_words(test_files, embeddings_dict, codebook)"
   ]
  },
  {
   "cell_type": "code",
   "execution_count": null,
   "metadata": {},
   "outputs": [],
   "source": [
    "# fit kNN classifier\n",
    "print(f'Fitting knn with n_neighbors={N_NEIGHBORS}, metric={METRIC}, weights={WEIGHT}')\n",
    "knn = KNeighborsClassifier(n_neighbors=N_NEIGHBORS,n_jobs=-1,metric=METRIC, weights=WEIGHT)\n",
    "knn.fit(train_visual_words, training_labels)\n",
    "# predict labels for test data\n",
    "pred_labels = knn.predict(test_visual_words)\n",
    "\n",
    "# get accuracy metric for current run\n",
    "print(get_metrics(test_labels, pred_labels))\n"
   ]
  }
 ],
 "metadata": {
  "kernelspec": {
   "display_name": ".venv",
   "language": "python",
   "name": "python3"
  },
  "language_info": {
   "codemirror_mode": {
    "name": "ipython",
    "version": 3
   },
   "file_extension": ".py",
   "mimetype": "text/x-python",
   "name": "python",
   "nbconvert_exporter": "python",
   "pygments_lexer": "ipython3",
   "version": "3.10.12"
  }
 },
 "nbformat": 4,
 "nbformat_minor": 2
}
