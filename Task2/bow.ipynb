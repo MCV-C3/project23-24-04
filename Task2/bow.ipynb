{
 "cells": [
  {
   "cell_type": "code",
   "execution_count": 5,
   "metadata": {},
   "outputs": [
    {
     "name": "stdout",
     "output_type": "stream",
     "text": [
      "Defaulting to user installation because normal site-packages is not writeable\n",
      "Requirement already satisfied: pip in /home/merles/.sage/local/lib/python3.10/site-packages (23.3.2)\n"
     ]
    }
   ],
   "source": [
    "from utils.long_residuals_mlp import *\n",
    "from utils.utils import *\n",
    "! pip install --upgrade pip\n",
    "import cv2\n",
    "from utils.utils import *\n",
    "from utils.MLP import *\n",
    "from utils.long_residuals_mlp import *\n",
    "from utils.short_residuals_mlp import *\n",
    "\n",
    "from sklearn.cluster import MiniBatchKMeans, KMeans\n",
    "from sklearn.neighbors import KNeighborsClassifier\n",
    "from sklearn.metrics import accuracy_score, recall_score, precision_score, f1_score"
   ]
  },
  {
   "cell_type": "code",
   "execution_count": 6,
   "metadata": {},
   "outputs": [],
   "source": [
    "PATCH_SIZE = 32\n",
    "CLASSES      = ['coast','forest','highway','inside_city','mountain','Opencountry','street','tallbuilding']\n",
    "\n",
    "MODEL_WEIGHTS = '/home/merles/Baixades/mast/C3/W2 C3/Task2/my_first_mlp.h5'\n",
    "\n",
    "images_directory = '/home/merles/Baixades/mast/C3/W2 C3/MIT_split'"
   ]
  },
  {
   "cell_type": "markdown",
   "metadata": {},
   "source": [
    "The following cell is NOT to be run!!!!!!"
   ]
  },
  {
   "cell_type": "raw",
   "metadata": {},
   "source": [
    "from tensorflow.keras.models import Sequential, Model\n",
    "from tensorflow.keras.layers import Flatten, Dense, Reshape\n",
    "\n",
    "model = build_long_residuals_mlp(input_shape=(PATCH_SIZE, PATCH_SIZE, 3),\n",
    "                                  activation='relu', \n",
    "                                  regularization_coeff=0.00001, \n",
    "                                  num_units=4096, \n",
    "                                  filename='myMLP.png')\n",
    "\n",
    "model.load_weights(MODEL_WEIGHTS)\n",
    "\n",
    "model_layer = Model(inputs=model.input, outputs=model.get_layer('dense_5').output)\n",
    "\n",
    "for subdir1 in os.listdir(images_directory):\n",
    "    for subdir2 in os.listdir(os.path.join(images_directory, subdir1)):\n",
    "        for file in os.listdir(os.path.join(images_directory, subdir1, subdir2)):\n",
    "            img = load_and_preprocess_image(image_path=os.path.join(images_directory, subdir1, subdir2, file),\n",
    "                                            target_size=(256, 256,3))\n",
    "            \n",
    "\n",
    "            patches = split_image_into_patches(img, PATCH_SIZE)\n",
    "            print(patches.shape)\n",
    "            patch_embeddings = []\n",
    "            for patch in patches:\n",
    "                layer_output = model_layer.predict(patch)\n",
    "                patch_embeddings.append(layer_output)\n",
    "            layer_output = np.array(patch_embeddings).squeeze(axis=1)\n",
    "            print(layer_output.shape)\n",
    "            # save np array to csv file\n",
    "            np.savetxt(os.path.join('/home/gherodes/projects/tf_test/project23-24-04/Task2/embeddings/32', file.split('.')[0]+'.csv'), layer_output, delimiter=',')\n"
   ]
  },
  {
   "cell_type": "code",
   "execution_count": 7,
   "metadata": {},
   "outputs": [],
   "source": [
    "EMBEDDINGS_DIR = '/home/merles/Baixades/mast/C3/W2 C3/Task2/embeddings'\n",
    "PATCH_SIZE = 32\n",
    "\n",
    "N_CLUSTERS=128\n",
    "N_NEIGHBORS = 5\n",
    "METRIC = 'euclidean'\n",
    "WEIGHT = 'distance'"
   ]
  },
  {
   "cell_type": "code",
   "execution_count": 8,
   "metadata": {},
   "outputs": [
    {
     "name": "stdout",
     "output_type": "stream",
     "text": [
      "(120384, 256)\n",
      "(51648, 256)\n"
     ]
    }
   ],
   "source": [
    "embeddings_dict = read_embeddings(directory=os.path.join(EMBEDDINGS_DIR, str(PATCH_SIZE)))\n",
    "\n",
    "training_files, training_labels = load_data_from_directory('/home/merles/Baixades/mast/C3/W2 C3/MIT_split/train')\n",
    "test_files, test_labels = load_data_from_directory('/home/merles/Baixades/mast/C3/W2 C3/MIT_split/test')\n",
    "\n",
    "training_embeddings = np.array([embeddings_dict[os.path.basename(file)] for file in training_files])\n",
    "test_embeddings = np.array([embeddings_dict[os.path.basename(file)] for file in test_files])\n",
    "\n",
    "training_embeddings = training_embeddings.reshape((1881 * 64, 256))\n",
    "test_embeddings = test_embeddings.reshape((807 * 64, 256))\n",
    "\n",
    "print(training_embeddings.shape)\n",
    "print(test_embeddings.shape)"
   ]
  },
  {
   "cell_type": "code",
   "execution_count": 9,
   "metadata": {},
   "outputs": [
    {
     "name": "stderr",
     "output_type": "stream",
     "text": [
      "/home/merles/.sage/local/lib/python3.10/site-packages/sklearn/cluster/_kmeans.py:1934: FutureWarning: The default value of `n_init` will change from 3 to 'auto' in 1.4. Set the value of `n_init` explicitly to suppress the warning\n",
      "  super()._check_params_vs_input(X, default_n_init=3)\n"
     ]
    }
   ],
   "source": [
    "def create_visual_words(image_paths, descriptors_dictionary, codebook):\n",
    "    visual_words = {}\n",
    "    for image_path in image_paths:\n",
    "        descriptor = descriptors_dictionary[os.path.basename(image_path)]\n",
    "        labels = codebook.predict(descriptor)\n",
    "        visual_words[image_path] = np.bincount(labels, minlength=codebook.n_clusters)\n",
    "    return np.array(list(visual_words.values()))\n",
    "\n",
    "codebook = MiniBatchKMeans(n_clusters=N_CLUSTERS,\n",
    "                           verbose=False, \n",
    "                           batch_size=2150,\n",
    "                           compute_labels=False,\n",
    "                           reassignment_ratio=0.01,\n",
    "                           random_state=42)\n",
    "\n",
    "codebook.fit(training_embeddings)\n",
    "# create visual words for training data\n",
    "train_visual_words = create_visual_words(training_files, embeddings_dict, codebook)\n",
    "# create visual words for test data\n",
    "test_visual_words = create_visual_words(test_files, embeddings_dict, codebook)"
   ]
  },
  {
   "cell_type": "code",
   "execution_count": 43,
   "metadata": {},
   "outputs": [],
   "source": [
    "N_CLUSTERS=128\n",
    "N_NEIGHBORS = 5\n",
    "METRIC = 'manhattan'\n",
    "# Metrics can be: minkowski, manhattan (L1), chebyshev, euclidean (L2), cosine (or custom)\n",
    "WEIGHT = 'uniform'\n",
    "# wheight can be: uniform, distance (or custom) -> aquí agafo ja distance i prou\n",
    "\n",
    "n_neighbors_values = list(range(1, 26))\n",
    "accuracy_values_manhattan = []\n",
    "\n",
    "for i in n_neighbors_values:\n",
    "    N_NEIGHBORS = i#+1\n",
    "    # fit kNN classifier\n",
    "    knn = KNeighborsClassifier(n_neighbors=N_NEIGHBORS,n_jobs=-1,metric=METRIC, weights=WEIGHT)\n",
    "    knn.fit(train_visual_words, training_labels)\n",
    "    # predict labels for test data\n",
    "    pred_labels = knn.predict(test_visual_words)\n",
    "    # get accuracy metric for current run\n",
    "    accuracy, recall, precision, f1 = get_metrics(test_labels, pred_labels)\n",
    "    accuracy_values_manhattan.append(accuracy)"
   ]
  },
  {
   "cell_type": "code",
   "execution_count": 44,
   "metadata": {},
   "outputs": [],
   "source": [
    "N_CLUSTERS=128\n",
    "N_NEIGHBORS = 5\n",
    "METRIC = 'euclidean'\n",
    "# Metrics can be: minkowski, manhattan (L1), chebyshev, euclidean (L2), cosine (or custom)\n",
    "WEIGHT = 'uniform'\n",
    "# wheight can be: uniform, distance (or custom) -> aquí agafo ja distance i prou\n",
    "\n",
    "n_neighbors_values = list(range(1, 26))\n",
    "accuracy_values_euclidean = []\n",
    "\n",
    "for i in n_neighbors_values:\n",
    "    N_NEIGHBORS = i#+1\n",
    "    # fit kNN classifier\n",
    "    knn = KNeighborsClassifier(n_neighbors=N_NEIGHBORS,n_jobs=-1,metric=METRIC, weights=WEIGHT)\n",
    "    knn.fit(train_visual_words, training_labels)\n",
    "    # predict labels for test data\n",
    "    pred_labels = knn.predict(test_visual_words)\n",
    "    # get accuracy metric for current run\n",
    "    accuracy, recall, precision, f1 = get_metrics(test_labels, pred_labels)\n",
    "    accuracy_values_euclidean.append(accuracy)"
   ]
  },
  {
   "cell_type": "code",
   "execution_count": 45,
   "metadata": {},
   "outputs": [
    {
     "data": {
      "image/png": "[encoded data removed]",
      "text/plain": [
       "<Figure size 720x432 with 1 Axes>"
      ]
     },
     "metadata": {
      "needs_background": "light"
     },
     "output_type": "display_data"
    }
   ],
   "source": [
    "# Plotting\n",
    "plt.figure(figsize=(10, 6))\n",
    "plt.plot(n_neighbors_values, accuracy_values_manhattan, marker='o', linestyle='-', label='Manhattan Distance')\n",
    "plt.plot(n_neighbors_values, accuracy_values_euclidean, marker='o', linestyle='-', label='Euclidean Distance')\n",
    "plt.title('Accuracy for n_neighbors')\n",
    "plt.xlabel('n_neighbors')\n",
    "plt.ylabel('Accuracy')\n",
    "plt.xticks(n_neighbors_values)\n",
    "plt.legend()  # Adding legend\n",
    "plt.grid(True)\n",
    "plt.show()"
   ]
  },
  {
   "cell_type": "code",
   "execution_count": null,
   "metadata": {},
   "outputs": [],
   "source": []
  }
 ],
 "metadata": {
  "kernelspec": {
   "display_name": "Python 3 (ipykernel)",
   "language": "python",
   "name": "python3"
  },
  "language_info": {
   "codemirror_mode": {
    "name": "ipython",
    "version": 3
   },
   "file_extension": ".py",
   "mimetype": "text/x-python",
   "name": "python",
   "nbconvert_exporter": "python",
   "pygments_lexer": "ipython3",
   "version": "3.10.12"
  }
 },
 "nbformat": 4,
 "nbformat_minor": 2
}
