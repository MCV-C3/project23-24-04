{
 "cells": [
  {
   "cell_type": "code",
   "execution_count": 1,
   "metadata": {},
   "outputs": [
    {
     "name": "stderr",
     "output_type": "stream",
     "text": [
      "2024-01-14 15:29:22.794837: I external/local_tsl/tsl/cuda/cudart_stub.cc:31] Could not find cuda drivers on your machine, GPU will not be used.\n",
      "2024-01-14 15:29:22.840272: E external/local_xla/xla/stream_executor/cuda/cuda_dnn.cc:9261] Unable to register cuDNN factory: Attempting to register factory for plugin cuDNN when one has already been registered\n",
      "2024-01-14 15:29:22.840340: E external/local_xla/xla/stream_executor/cuda/cuda_fft.cc:607] Unable to register cuFFT factory: Attempting to register factory for plugin cuFFT when one has already been registered\n",
      "2024-01-14 15:29:22.841436: E external/local_xla/xla/stream_executor/cuda/cuda_blas.cc:1515] Unable to register cuBLAS factory: Attempting to register factory for plugin cuBLAS when one has already been registered\n",
      "2024-01-14 15:29:22.847657: I external/local_tsl/tsl/cuda/cudart_stub.cc:31] Could not find cuda drivers on your machine, GPU will not be used.\n",
      "2024-01-14 15:29:22.848088: I tensorflow/core/platform/cpu_feature_guard.cc:182] This TensorFlow binary is optimized to use available CPU instructions in performance-critical operations.\n",
      "To enable the following instructions: AVX2 FMA, in other operations, rebuild TensorFlow with the appropriate compiler flags.\n",
      "2024-01-14 15:29:23.742535: W tensorflow/compiler/tf2tensorrt/utils/py_utils.cc:38] TF-TRT Warning: Could not find TensorRT\n"
     ]
    }
   ],
   "source": [
    "from utils.long_residuals_mlp import *\n",
    "from utils.utils import *\n",
    "import cv2\n",
    "from sklearn.svm import SVC\n"
   ]
  },
  {
   "cell_type": "code",
   "execution_count": null,
   "metadata": {},
   "outputs": [],
   "source": [
    "from tensorflow.keras.models import Sequential, Model\n",
    "from tensorflow.keras.layers import Flatten, Dense, Reshape\n",
    "\n",
    "PATCH_SIZE = 32\n",
    "CLASSES      = ['coast','forest','highway','inside_city','mountain','Opencountry','street','tallbuilding']\n",
    "\n",
    "MODEL_WEIGHTS = '/home/georg/projects/university/C3_ML_for_CV/project23-24-04/Task2/long_residuals-4096-32-1e-05/long_residuals-4096-32-1e-05_best.h5'\n",
    "images_directory = '/home/georg/projects/university/C3_ML_for_CV/MIT_split/'\n",
    "\n",
    "\n",
    "model = build_long_residuals_mlp(input_shape=(PATCH_SIZE, PATCH_SIZE, 3),\n",
    "                                  activation='relu', \n",
    "                                  regularization_coeff=0.00001, \n",
    "                                  num_units=4096, \n",
    "                                  filename='myMLP.png')\n",
    "\n",
    "model.load_weights(MODEL_WEIGHTS)\n",
    "\n",
    "model_layer = Model(inputs=model.input, outputs=model.get_layer('dense_38').output)\n",
    "\n",
    "\n",
    "\n",
    "for subdir1 in os.listdir(images_directory):\n",
    "    for subdir2 in os.listdir(os.path.join(images_directory, subdir1)):\n",
    "        for file in os.listdir(os.path.join(images_directory, subdir1, subdir2)):\n",
    "            img = load_and_preprocess_image(image_path=os.path.join(images_directory, subdir1, subdir2, file),\n",
    "                                            target_size=(32, 32,3))\n",
    "            \n",
    "            layer_output = model_layer.predict(img)\n",
    "            layer_output = np.array(layer_output)\n",
    "            print(layer_output.shape)\n",
    "            # save np array to csv file\n",
    "            np.savetxt(os.path.join('/home/georg/projects/university/C3_ML_for_CV/project23-24-04/Task2/embeddings/image', file.split('.')[0]+'.csv'), layer_output, delimiter=',')"
   ]
  },
  {
   "cell_type": "code",
   "execution_count": 25,
   "metadata": {},
   "outputs": [],
   "source": [
    "EMBEDDINGS_DIR = '/home/georg/projects/university/C3_ML_for_CV/project23-24-04/Task2/embeddings/image'\n",
    "PATCH_SIZE = 32\n",
    "\n",
    "SVM_C = 1e-3\n",
    "SVM_KERNEL = 'linear'\n",
    "SVM_GAMMA = 'scale'\n"
   ]
  },
  {
   "cell_type": "code",
   "execution_count": 7,
   "metadata": {},
   "outputs": [
    {
     "name": "stdout",
     "output_type": "stream",
     "text": [
      "(1881, 256)\n",
      "(807, 256)\n"
     ]
    }
   ],
   "source": [
    "embeddings_dict = read_embeddings(directory=EMBEDDINGS_DIR)\n",
    "\n",
    "training_files, training_labels = load_data_from_directory('/home/georg/projects/university/C3_ML_for_CV/MIT_split/train/')\n",
    "test_files, test_labels = load_data_from_directory('/home/georg/projects/university/C3_ML_for_CV/MIT_split/test/')\n",
    "\n",
    "\n",
    "training_embeddings = np.array([embeddings_dict[os.path.basename(file)] for file in training_files])\n",
    "test_embeddings = np.array([embeddings_dict[os.path.basename(file)] for file in test_files])\n",
    "\n",
    "print(training_embeddings.shape)\n",
    "print(test_embeddings.shape)"
   ]
  },
  {
   "cell_type": "code",
   "execution_count": 26,
   "metadata": {},
   "outputs": [
    {
     "name": "stdout",
     "output_type": "stream",
     "text": [
      "Fitting svm with C=0.001, kernel=linear, gamma=scale\n",
      "(0.4250309789343247, 0.41030224034343876, 0.4946766485828986, 0.3904486249117256)\n"
     ]
    },
    {
     "name": "stderr",
     "output_type": "stream",
     "text": [
      "/home/georg/projects/.venv/lib/python3.10/site-packages/sklearn/metrics/_classification.py:1471: UndefinedMetricWarning: Precision is ill-defined and being set to 0.0 in labels with no predicted samples. Use `zero_division` parameter to control this behavior.\n",
      "  _warn_prf(average, modifier, msg_start, len(result))\n"
     ]
    }
   ],
   "source": [
    "print(f'Fitting svm with C={SVM_C}, kernel={SVM_KERNEL}, gamma={SVM_GAMMA}')\n",
    "svm = SVC(C=SVM_C, kernel=SVM_KERNEL, gamma=SVM_GAMMA)\n",
    "svm.fit(training_embeddings, training_labels)\n",
    "# predict labels for test data\n",
    "pred_labels = svm.predict(test_embeddings)\n",
    "\n",
    "# get accuracy metric for current run\n",
    "print(get_metrics(test_labels, pred_labels))"
   ]
  }
 ],
 "metadata": {
  "kernelspec": {
   "display_name": ".venv",
   "language": "python",
   "name": "python3"
  },
  "language_info": {
   "codemirror_mode": {
    "name": "ipython",
    "version": 3
   },
   "file_extension": ".py",
   "mimetype": "text/x-python",
   "name": "python",
   "nbconvert_exporter": "python",
   "pygments_lexer": "ipython3",
   "version": "3.10.12"
  }
 },
 "nbformat": 4,
 "nbformat_minor": 2
}
