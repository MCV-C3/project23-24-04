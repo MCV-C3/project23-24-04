{
 "cells": [
  {
   "cell_type": "code",
   "execution_count": 21,
   "metadata": {},
   "outputs": [],
   "source": [
    "from utils.long_residuals_mlp import *\n",
    "from utils.utils import *\n",
    "from tensorflow.keras.models import Sequential, Model\n",
    "from tensorflow.keras.layers import Flatten, Dense, Reshape\n",
    "import cv2\n",
    "from sklearn.svm import SVC\n",
    "import optuna\n",
    "import pickle\n",
    "\n",
    "import warnings\n",
    "warnings.simplefilter(action='ignore', category=FutureWarning)\n",
    "warnings.filterwarnings(\"ignore\")\n"
   ]
  },
  {
   "cell_type": "code",
   "execution_count": null,
   "metadata": {},
   "outputs": [],
   "source": [
    "\n",
    "PATCH_SIZE = 32\n",
    "CLASSES      = ['coast','forest','highway','inside_city','mountain','Opencountry','street','tallbuilding']\n",
    "\n",
    "MODEL_WEIGHTS = '/home/georg/projects/university/C3_ML_for_CV/project23-24-04/Task2/long_residuals-4096-32-1e-05/long_residuals-4096-32-1e-05_best.h5'\n",
    "images_directory = '/home/georg/projects/university/C3_ML_for_CV/MIT_split/'\n",
    "\n",
    "\n",
    "model = build_long_residuals_mlp(input_shape=(PATCH_SIZE, PATCH_SIZE, 3),\n",
    "                                  activation='relu', \n",
    "                                  regularization_coeff=0.00001, \n",
    "                                  num_units=4096, \n",
    "                                  filename='myMLP.png')\n",
    "\n",
    "model.load_weights(MODEL_WEIGHTS)\n",
    "\n",
    "model_layer = Model(inputs=model.input, outputs=model.get_layer('dense_38').output)\n",
    "\n",
    "\n",
    "\n",
    "for subdir1 in os.listdir(images_directory):\n",
    "    for subdir2 in os.listdir(os.path.join(images_directory, subdir1)):\n",
    "        for file in os.listdir(os.path.join(images_directory, subdir1, subdir2)):\n",
    "            img = load_and_preprocess_image(image_path=os.path.join(images_directory, subdir1, subdir2, file),\n",
    "                                            target_size=(32, 32,3))\n",
    "            \n",
    "            layer_output = model_layer.predict(img)\n",
    "            layer_output = np.array(layer_output)\n",
    "            print(layer_output.shape)\n",
    "            # save np array to csv file\n",
    "            np.savetxt(os.path.join('/home/georg/projects/university/C3_ML_for_CV/project23-24-04/Task2/embeddings/image', file.split('.')[0]+'.csv'), layer_output, delimiter=',')"
   ]
  },
  {
   "cell_type": "code",
   "execution_count": 2,
   "metadata": {},
   "outputs": [],
   "source": [
    "EMBEDDINGS_DIR = '/image'\n",
    "PATCH_SIZE = 32\n",
    "\n",
    "SVM_C = 1e-3\n",
    "SVM_KERNEL = 'linear'\n",
    "SVM_GAMMA = 'scale'\n"
   ]
  },
  {
   "cell_type": "code",
   "execution_count": 7,
   "metadata": {},
   "outputs": [
    {
     "name": "stdout",
     "output_type": "stream",
     "text": [
      "(1881, 256)\n",
      "(807, 256)\n"
     ]
    }
   ],
   "source": [
    "train_images_filenames = pickle.load(open('../MIT_split/train_images_filenames.dat','rb'))\n",
    "test_images_filenames = pickle.load(open('../MIT_split/test_images_filenames.dat','rb'))\n",
    "train_images_filenames = ['..' + n[15:] for n in train_images_filenames]\n",
    "test_images_filenames  = ['..' + n[15:] for n in test_images_filenames]\n",
    "train_labels = pickle.load(open('../MIT_split/train_labels.dat','rb')) \n",
    "test_labels = pickle.load(open('../MIT_split/test_labels.dat','rb'))\n",
    "\n",
    "embeddings_dict = read_embeddings(directory='./image')\n",
    "\n",
    "training_embeddings = np.array([embeddings_dict[os.path.basename(file)] for file in train_images_filenames])\n",
    "test_embeddings = np.array([embeddings_dict[os.path.basename(file)] for file in test_images_filenames])\n",
    "\n",
    "print(training_embeddings.shape)\n",
    "print(test_embeddings.shape)"
   ]
  },
  {
   "cell_type": "code",
   "execution_count": 9,
   "metadata": {},
   "outputs": [],
   "source": [
    "def split_into_K_folds(x, y, k=5):\n",
    "    k = 5  # number of folds\n",
    "    kf = KFold(n_splits=k, shuffle=True)\n",
    "\n",
    "    folds = []\n",
    "    for train_index, test_index in kf.split(x):\n",
    "        train_data = [x[i] for i in train_index]\n",
    "        train_labels = [y[i] for i in train_index]\n",
    "        test_data = [x[i] for i in test_index]\n",
    "        test_labels = [y[i] for i in test_index]\n",
    "        folds.append((train_data, train_labels, test_data, test_labels))\n",
    "    return folds"
   ]
  },
  {
   "cell_type": "code",
   "execution_count": 10,
   "metadata": {},
   "outputs": [
    {
     "name": "stdout",
     "output_type": "stream",
     "text": [
      "Preparing k-fold cross validation...\n",
      "Fold 1:\n",
      "Number of samples in train set: 2150\n",
      "Number of samples in test set: 538\n",
      "Number of labels in train set: 2150\n",
      "Number of labels in test set: 538\n",
      "\n",
      "Fold 2:\n",
      "Number of samples in train set: 2150\n",
      "Number of samples in test set: 538\n",
      "Number of labels in train set: 2150\n",
      "Number of labels in test set: 538\n",
      "\n",
      "Fold 3:\n",
      "Number of samples in train set: 2150\n",
      "Number of samples in test set: 538\n",
      "Number of labels in train set: 2150\n",
      "Number of labels in test set: 538\n",
      "\n",
      "Fold 4:\n",
      "Number of samples in train set: 2151\n",
      "Number of samples in test set: 537\n",
      "Number of labels in train set: 2151\n",
      "Number of labels in test set: 537\n",
      "\n",
      "Fold 5:\n",
      "Number of samples in train set: 2151\n",
      "Number of samples in test set: 537\n",
      "Number of labels in train set: 2151\n",
      "Number of labels in test set: 537\n",
      "\n"
     ]
    }
   ],
   "source": [
    "print('Preparing k-fold cross validation...')\n",
    "\n",
    "all_data = train_images_filenames + test_images_filenames\n",
    "all_labels = train_labels + test_labels\n",
    "\n",
    "k = 5  # number of folds\n",
    "# split data into 5 folds using custom function\n",
    "folds = split_into_K_folds(all_data, all_labels, k)\n",
    "\n",
    "# Now each fold in the 'folds' list contains the training and test data for that fold in the format: (train_data, train_labels, test_data, test_labels)\n",
    "for fold_index, fold in enumerate(folds):\n",
    "    train_data, train_labels, test_data, test_labels = fold\n",
    "    print(f\"Fold {fold_index + 1}:\")\n",
    "    print(f\"Number of samples in train set: {len(train_data)}\")\n",
    "    print(f\"Number of samples in test set: {len(test_data)}\")\n",
    "    print(f\"Number of labels in train set: {len(train_labels)}\")\n",
    "    print(f\"Number of labels in test set: {len(test_labels)}\")\n",
    "    print()"
   ]
  },
  {
   "cell_type": "code",
   "execution_count": 24,
   "metadata": {},
   "outputs": [
    {
     "name": "stderr",
     "output_type": "stream",
     "text": [
      "[I 2024-01-14 22:47:13,975] A new study created in memory with name: no-name-6f5c7651-efdc-4165-bc2b-80df53fbea10\n"
     ]
    },
    {
     "name": "stdout",
     "output_type": "stream",
     "text": [
      "Running GridSearch on SVM parameters...\n",
      "Fold 0: fitting svm with C=0.5, kernel=rbf, gamma=0.05\n",
      "Fold 1: fitting svm with C=0.5, kernel=rbf, gamma=0.05\n",
      "Fold 2: fitting svm with C=0.5, kernel=rbf, gamma=0.05\n",
      "Fold 3: fitting svm with C=0.5, kernel=rbf, gamma=0.05\n",
      "Fold 4: fitting svm with C=0.5, kernel=rbf, gamma=0.05\n"
     ]
    },
    {
     "name": "stderr",
     "output_type": "stream",
     "text": [
      "[I 2024-01-14 22:47:16,845] Trial 0 finished with value: 0.6365399126359439 and parameters: {'svm_kernel': 'rbf', 'svm_C': 0.5, 'svm_gamma': 0.05}. Best is trial 0 with value: 0.6365399126359439.\n"
     ]
    },
    {
     "name": "stdout",
     "output_type": "stream",
     "text": [
      "Fold 0: fitting svm with C=10, kernel=linear, gamma=0.05\n",
      "Fold 1: fitting svm with C=10, kernel=linear, gamma=0.05\n",
      "Fold 2: fitting svm with C=10, kernel=linear, gamma=0.05\n",
      "Fold 3: fitting svm with C=10, kernel=linear, gamma=0.05\n",
      "Fold 4: fitting svm with C=10, kernel=linear, gamma=0.05\n"
     ]
    },
    {
     "name": "stderr",
     "output_type": "stream",
     "text": [
      "[I 2024-01-14 22:47:21,409] Trial 1 finished with value: 0.5539317286591487 and parameters: {'svm_kernel': 'linear', 'svm_C': 10, 'svm_gamma': 0.05}. Best is trial 0 with value: 0.6365399126359439.\n"
     ]
    },
    {
     "name": "stdout",
     "output_type": "stream",
     "text": [
      "Fold 0: fitting svm with C=0.01, kernel=rbf, gamma=0.2\n",
      "Fold 1: fitting svm with C=0.01, kernel=rbf, gamma=0.2\n",
      "Fold 2: fitting svm with C=0.01, kernel=rbf, gamma=0.2\n",
      "Fold 3: fitting svm with C=0.01, kernel=rbf, gamma=0.2\n",
      "Fold 4: fitting svm with C=0.01, kernel=rbf, gamma=0.2\n"
     ]
    },
    {
     "name": "stderr",
     "output_type": "stream",
     "text": [
      "[I 2024-01-14 22:47:25,889] Trial 2 finished with value: 0.15252573501415684 and parameters: {'svm_kernel': 'rbf', 'svm_C': 0.01, 'svm_gamma': 0.2}. Best is trial 0 with value: 0.6365399126359439.\n"
     ]
    },
    {
     "name": "stdout",
     "output_type": "stream",
     "text": [
      "Fold 0: fitting svm with C=10, kernel=poly, gamma=0.1\n",
      "Fold 1: fitting svm with C=10, kernel=poly, gamma=0.1\n",
      "Fold 2: fitting svm with C=10, kernel=poly, gamma=0.1\n",
      "Fold 3: fitting svm with C=10, kernel=poly, gamma=0.1\n",
      "Fold 4: fitting svm with C=10, kernel=poly, gamma=0.1\n"
     ]
    },
    {
     "name": "stderr",
     "output_type": "stream",
     "text": [
      "[I 2024-01-14 22:47:28,024] Trial 3 finished with value: 0.5721646487092688 and parameters: {'svm_kernel': 'poly', 'svm_C': 10, 'svm_gamma': 0.1}. Best is trial 0 with value: 0.6365399126359439.\n"
     ]
    },
    {
     "name": "stdout",
     "output_type": "stream",
     "text": [
      "Fold 0: fitting svm with C=1, kernel=rbf, gamma=0.2\n",
      "Fold 1: fitting svm with C=1, kernel=rbf, gamma=0.2\n",
      "Fold 2: fitting svm with C=1, kernel=rbf, gamma=0.2\n",
      "Fold 3: fitting svm with C=1, kernel=rbf, gamma=0.2\n",
      "Fold 4: fitting svm with C=1, kernel=rbf, gamma=0.2\n"
     ]
    },
    {
     "name": "stderr",
     "output_type": "stream",
     "text": [
      "[I 2024-01-14 22:47:32,361] Trial 4 finished with value: 0.6417381432022873 and parameters: {'svm_kernel': 'rbf', 'svm_C': 1, 'svm_gamma': 0.2}. Best is trial 4 with value: 0.6417381432022873.\n"
     ]
    },
    {
     "name": "stdout",
     "output_type": "stream",
     "text": [
      "Fold 0: fitting svm with C=100, kernel=rbf, gamma=0.1\n",
      "Fold 1: fitting svm with C=100, kernel=rbf, gamma=0.1\n",
      "Fold 2: fitting svm with C=100, kernel=rbf, gamma=0.1\n",
      "Fold 3: fitting svm with C=100, kernel=rbf, gamma=0.1\n",
      "Fold 4: fitting svm with C=100, kernel=rbf, gamma=0.1\n"
     ]
    },
    {
     "name": "stderr",
     "output_type": "stream",
     "text": [
      "[I 2024-01-14 22:47:36,137] Trial 5 finished with value: 0.6350397707212727 and parameters: {'svm_kernel': 'rbf', 'svm_C': 100, 'svm_gamma': 0.1}. Best is trial 4 with value: 0.6417381432022873.\n"
     ]
    },
    {
     "name": "stdout",
     "output_type": "stream",
     "text": [
      "Fold 0: fitting svm with C=10, kernel=poly, gamma=0.1\n",
      "Fold 1: fitting svm with C=10, kernel=poly, gamma=0.1\n",
      "Fold 2: fitting svm with C=10, kernel=poly, gamma=0.1\n",
      "Fold 3: fitting svm with C=10, kernel=poly, gamma=0.1\n",
      "Fold 4: fitting svm with C=10, kernel=poly, gamma=0.1\n"
     ]
    },
    {
     "name": "stderr",
     "output_type": "stream",
     "text": [
      "[I 2024-01-14 22:47:38,231] Trial 6 finished with value: 0.5721646487092688 and parameters: {'svm_kernel': 'poly', 'svm_C': 10, 'svm_gamma': 0.1}. Best is trial 4 with value: 0.6417381432022873.\n"
     ]
    },
    {
     "name": "stdout",
     "output_type": "stream",
     "text": [
      "Fold 0: fitting svm with C=0.01, kernel=poly, gamma=0.15\n",
      "Fold 1: fitting svm with C=0.01, kernel=poly, gamma=0.15\n",
      "Fold 2: fitting svm with C=0.01, kernel=poly, gamma=0.15\n",
      "Fold 3: fitting svm with C=0.01, kernel=poly, gamma=0.15\n",
      "Fold 4: fitting svm with C=0.01, kernel=poly, gamma=0.15\n"
     ]
    },
    {
     "name": "stderr",
     "output_type": "stream",
     "text": [
      "[I 2024-01-14 22:47:39,974] Trial 7 finished with value: 0.6324375402380013 and parameters: {'svm_kernel': 'poly', 'svm_C': 0.01, 'svm_gamma': 0.15}. Best is trial 4 with value: 0.6417381432022873.\n"
     ]
    },
    {
     "name": "stdout",
     "output_type": "stream",
     "text": [
      "Fold 0: fitting svm with C=1, kernel=poly, gamma=0.1\n",
      "Fold 1: fitting svm with C=1, kernel=poly, gamma=0.1\n",
      "Fold 2: fitting svm with C=1, kernel=poly, gamma=0.1\n",
      "Fold 3: fitting svm with C=1, kernel=poly, gamma=0.1\n",
      "Fold 4: fitting svm with C=1, kernel=poly, gamma=0.1\n"
     ]
    },
    {
     "name": "stderr",
     "output_type": "stream",
     "text": [
      "[I 2024-01-14 22:47:42,037] Trial 8 finished with value: 0.5840688666902037 and parameters: {'svm_kernel': 'poly', 'svm_C': 1, 'svm_gamma': 0.1}. Best is trial 4 with value: 0.6417381432022873.\n"
     ]
    },
    {
     "name": "stdout",
     "output_type": "stream",
     "text": [
      "Fold 0: fitting svm with C=0.1, kernel=linear, gamma=0.25\n",
      "Fold 1: fitting svm with C=0.1, kernel=linear, gamma=0.25\n",
      "Fold 2: fitting svm with C=0.1, kernel=linear, gamma=0.25\n",
      "Fold 3: fitting svm with C=0.1, kernel=linear, gamma=0.25\n",
      "Fold 4: fitting svm with C=0.1, kernel=linear, gamma=0.25\n"
     ]
    },
    {
     "name": "stderr",
     "output_type": "stream",
     "text": [
      "[I 2024-01-14 22:47:43,712] Trial 9 finished with value: 0.6209078385357175 and parameters: {'svm_kernel': 'linear', 'svm_C': 0.1, 'svm_gamma': 0.25}. Best is trial 4 with value: 0.6417381432022873.\n"
     ]
    },
    {
     "name": "stdout",
     "output_type": "stream",
     "text": [
      "Fold 0: fitting svm with C=1, kernel=sigmoid, gamma=0.2\n",
      "Fold 1: fitting svm with C=1, kernel=sigmoid, gamma=0.2\n",
      "Fold 2: fitting svm with C=1, kernel=sigmoid, gamma=0.2\n",
      "Fold 3: fitting svm with C=1, kernel=sigmoid, gamma=0.2\n",
      "Fold 4: fitting svm with C=1, kernel=sigmoid, gamma=0.2\n"
     ]
    },
    {
     "name": "stderr",
     "output_type": "stream",
     "text": [
      "[I 2024-01-14 22:47:48,329] Trial 10 finished with value: 0.16331678815947057 and parameters: {'svm_kernel': 'sigmoid', 'svm_C': 1, 'svm_gamma': 0.2}. Best is trial 4 with value: 0.6417381432022873.\n"
     ]
    },
    {
     "name": "stdout",
     "output_type": "stream",
     "text": [
      "Fold 0: fitting svm with C=0.5, kernel=rbf, gamma=0.05\n",
      "Fold 1: fitting svm with C=0.5, kernel=rbf, gamma=0.05\n",
      "Fold 2: fitting svm with C=0.5, kernel=rbf, gamma=0.05\n",
      "Fold 3: fitting svm with C=0.5, kernel=rbf, gamma=0.05\n",
      "Fold 4: fitting svm with C=0.5, kernel=rbf, gamma=0.05\n"
     ]
    },
    {
     "name": "stderr",
     "output_type": "stream",
     "text": [
      "[I 2024-01-14 22:47:51,063] Trial 11 finished with value: 0.6365399126359439 and parameters: {'svm_kernel': 'rbf', 'svm_C': 0.5, 'svm_gamma': 0.05}. Best is trial 4 with value: 0.6417381432022873.\n"
     ]
    },
    {
     "name": "stdout",
     "output_type": "stream",
     "text": [
      "Fold 0: fitting svm with C=0.05, kernel=rbf, gamma=0.05\n",
      "Fold 1: fitting svm with C=0.05, kernel=rbf, gamma=0.05\n",
      "Fold 2: fitting svm with C=0.05, kernel=rbf, gamma=0.05\n",
      "Fold 3: fitting svm with C=0.05, kernel=rbf, gamma=0.05\n",
      "Fold 4: fitting svm with C=0.05, kernel=rbf, gamma=0.05\n"
     ]
    },
    {
     "name": "stderr",
     "output_type": "stream",
     "text": [
      "[I 2024-01-14 22:47:54,894] Trial 12 finished with value: 0.5699417803714703 and parameters: {'svm_kernel': 'rbf', 'svm_C': 0.05, 'svm_gamma': 0.05}. Best is trial 4 with value: 0.6417381432022873.\n"
     ]
    },
    {
     "name": "stdout",
     "output_type": "stream",
     "text": [
      "Fold 0: fitting svm with C=0.5, kernel=rbf, gamma=0.2\n",
      "Fold 1: fitting svm with C=0.5, kernel=rbf, gamma=0.2\n",
      "Fold 2: fitting svm with C=0.5, kernel=rbf, gamma=0.2\n",
      "Fold 3: fitting svm with C=0.5, kernel=rbf, gamma=0.2\n",
      "Fold 4: fitting svm with C=0.5, kernel=rbf, gamma=0.2\n"
     ]
    },
    {
     "name": "stderr",
     "output_type": "stream",
     "text": [
      "[I 2024-01-14 22:47:58,714] Trial 13 finished with value: 0.6272303102047032 and parameters: {'svm_kernel': 'rbf', 'svm_C': 0.5, 'svm_gamma': 0.2}. Best is trial 4 with value: 0.6417381432022873.\n"
     ]
    },
    {
     "name": "stdout",
     "output_type": "stream",
     "text": [
      "Fold 0: fitting svm with C=0.5, kernel=sigmoid, gamma=0.25\n",
      "Fold 1: fitting svm with C=0.5, kernel=sigmoid, gamma=0.25\n",
      "Fold 2: fitting svm with C=0.5, kernel=sigmoid, gamma=0.25\n",
      "Fold 3: fitting svm with C=0.5, kernel=sigmoid, gamma=0.25\n",
      "Fold 4: fitting svm with C=0.5, kernel=sigmoid, gamma=0.25\n"
     ]
    },
    {
     "name": "stderr",
     "output_type": "stream",
     "text": [
      "[I 2024-01-14 22:48:03,328] Trial 14 finished with value: 0.15289886675943037 and parameters: {'svm_kernel': 'sigmoid', 'svm_C': 0.5, 'svm_gamma': 0.25}. Best is trial 4 with value: 0.6417381432022873.\n"
     ]
    },
    {
     "name": "stdout",
     "output_type": "stream",
     "text": [
      "Fold 0: fitting svm with C=1, kernel=rbf, gamma=0.15\n",
      "Fold 1: fitting svm with C=1, kernel=rbf, gamma=0.15\n",
      "Fold 2: fitting svm with C=1, kernel=rbf, gamma=0.15\n",
      "Fold 3: fitting svm with C=1, kernel=rbf, gamma=0.15\n",
      "Fold 4: fitting svm with C=1, kernel=rbf, gamma=0.15\n"
     ]
    },
    {
     "name": "stderr",
     "output_type": "stream",
     "text": [
      "[I 2024-01-14 22:48:06,933] Trial 15 finished with value: 0.6458342852000304 and parameters: {'svm_kernel': 'rbf', 'svm_C': 1, 'svm_gamma': 0.15}. Best is trial 15 with value: 0.6458342852000304.\n"
     ]
    },
    {
     "name": "stdout",
     "output_type": "stream",
     "text": [
      "Fold 0: fitting svm with C=1, kernel=rbf, gamma=0.15\n",
      "Fold 1: fitting svm with C=1, kernel=rbf, gamma=0.15\n",
      "Fold 2: fitting svm with C=1, kernel=rbf, gamma=0.15\n",
      "Fold 3: fitting svm with C=1, kernel=rbf, gamma=0.15\n",
      "Fold 4: fitting svm with C=1, kernel=rbf, gamma=0.15\n"
     ]
    },
    {
     "name": "stderr",
     "output_type": "stream",
     "text": [
      "[I 2024-01-14 22:48:10,690] Trial 16 finished with value: 0.6458342852000304 and parameters: {'svm_kernel': 'rbf', 'svm_C': 1, 'svm_gamma': 0.15}. Best is trial 15 with value: 0.6458342852000304.\n"
     ]
    },
    {
     "name": "stdout",
     "output_type": "stream",
     "text": [
      "Fold 0: fitting svm with C=1, kernel=rbf, gamma=0.15\n",
      "Fold 1: fitting svm with C=1, kernel=rbf, gamma=0.15\n",
      "Fold 2: fitting svm with C=1, kernel=rbf, gamma=0.15\n",
      "Fold 3: fitting svm with C=1, kernel=rbf, gamma=0.15\n",
      "Fold 4: fitting svm with C=1, kernel=rbf, gamma=0.15\n"
     ]
    },
    {
     "name": "stderr",
     "output_type": "stream",
     "text": [
      "[I 2024-01-14 22:48:14,362] Trial 17 finished with value: 0.6458342852000304 and parameters: {'svm_kernel': 'rbf', 'svm_C': 1, 'svm_gamma': 0.15}. Best is trial 15 with value: 0.6458342852000304.\n"
     ]
    },
    {
     "name": "stdout",
     "output_type": "stream",
     "text": [
      "Fold 0: fitting svm with C=1, kernel=linear, gamma=0.15\n",
      "Fold 1: fitting svm with C=1, kernel=linear, gamma=0.15\n",
      "Fold 2: fitting svm with C=1, kernel=linear, gamma=0.15\n",
      "Fold 3: fitting svm with C=1, kernel=linear, gamma=0.15\n",
      "Fold 4: fitting svm with C=1, kernel=linear, gamma=0.15\n"
     ]
    },
    {
     "name": "stderr",
     "output_type": "stream",
     "text": [
      "[I 2024-01-14 22:48:16,461] Trial 18 finished with value: 0.5941191944784809 and parameters: {'svm_kernel': 'linear', 'svm_C': 1, 'svm_gamma': 0.15}. Best is trial 15 with value: 0.6458342852000304.\n"
     ]
    },
    {
     "name": "stdout",
     "output_type": "stream",
     "text": [
      "Fold 0: fitting svm with C=0.1, kernel=sigmoid, gamma=0.15\n",
      "Fold 1: fitting svm with C=0.1, kernel=sigmoid, gamma=0.15\n",
      "Fold 2: fitting svm with C=0.1, kernel=sigmoid, gamma=0.15\n",
      "Fold 3: fitting svm with C=0.1, kernel=sigmoid, gamma=0.15\n",
      "Fold 4: fitting svm with C=0.1, kernel=sigmoid, gamma=0.15\n"
     ]
    },
    {
     "name": "stderr",
     "output_type": "stream",
     "text": [
      "[I 2024-01-14 22:48:21,072] Trial 19 finished with value: 0.15252642728084567 and parameters: {'svm_kernel': 'sigmoid', 'svm_C': 0.1, 'svm_gamma': 0.15}. Best is trial 15 with value: 0.6458342852000304.\n"
     ]
    },
    {
     "name": "stdout",
     "output_type": "stream",
     "text": [
      "Fold 0: fitting svm with C=100, kernel=rbf, gamma=0.15\n",
      "Fold 1: fitting svm with C=100, kernel=rbf, gamma=0.15\n",
      "Fold 2: fitting svm with C=100, kernel=rbf, gamma=0.15\n",
      "Fold 3: fitting svm with C=100, kernel=rbf, gamma=0.15\n",
      "Fold 4: fitting svm with C=100, kernel=rbf, gamma=0.15\n"
     ]
    },
    {
     "name": "stderr",
     "output_type": "stream",
     "text": [
      "[I 2024-01-14 22:48:25,441] Trial 20 finished with value: 0.6409939565118066 and parameters: {'svm_kernel': 'rbf', 'svm_C': 100, 'svm_gamma': 0.15}. Best is trial 15 with value: 0.6458342852000304.\n"
     ]
    },
    {
     "name": "stdout",
     "output_type": "stream",
     "text": [
      "Fold 0: fitting svm with C=1, kernel=rbf, gamma=0.15\n",
      "Fold 1: fitting svm with C=1, kernel=rbf, gamma=0.15\n",
      "Fold 2: fitting svm with C=1, kernel=rbf, gamma=0.15\n",
      "Fold 3: fitting svm with C=1, kernel=rbf, gamma=0.15\n",
      "Fold 4: fitting svm with C=1, kernel=rbf, gamma=0.15\n"
     ]
    },
    {
     "name": "stderr",
     "output_type": "stream",
     "text": [
      "[I 2024-01-14 22:48:29,179] Trial 21 finished with value: 0.6458342852000304 and parameters: {'svm_kernel': 'rbf', 'svm_C': 1, 'svm_gamma': 0.15}. Best is trial 15 with value: 0.6458342852000304.\n"
     ]
    },
    {
     "name": "stdout",
     "output_type": "stream",
     "text": [
      "Fold 0: fitting svm with C=1, kernel=rbf, gamma=0.15\n",
      "Fold 1: fitting svm with C=1, kernel=rbf, gamma=0.15\n",
      "Fold 2: fitting svm with C=1, kernel=rbf, gamma=0.15\n",
      "Fold 3: fitting svm with C=1, kernel=rbf, gamma=0.15\n",
      "Fold 4: fitting svm with C=1, kernel=rbf, gamma=0.15\n"
     ]
    },
    {
     "name": "stderr",
     "output_type": "stream",
     "text": [
      "[I 2024-01-14 22:48:32,976] Trial 22 finished with value: 0.6458342852000304 and parameters: {'svm_kernel': 'rbf', 'svm_C': 1, 'svm_gamma': 0.15}. Best is trial 15 with value: 0.6458342852000304.\n"
     ]
    },
    {
     "name": "stdout",
     "output_type": "stream",
     "text": [
      "Fold 0: fitting svm with C=1, kernel=rbf, gamma=0.15\n",
      "Fold 1: fitting svm with C=1, kernel=rbf, gamma=0.15\n",
      "Fold 2: fitting svm with C=1, kernel=rbf, gamma=0.15\n",
      "Fold 3: fitting svm with C=1, kernel=rbf, gamma=0.15\n",
      "Fold 4: fitting svm with C=1, kernel=rbf, gamma=0.15\n"
     ]
    },
    {
     "name": "stderr",
     "output_type": "stream",
     "text": [
      "[I 2024-01-14 22:48:36,578] Trial 23 finished with value: 0.6458342852000304 and parameters: {'svm_kernel': 'rbf', 'svm_C': 1, 'svm_gamma': 0.15}. Best is trial 15 with value: 0.6458342852000304.\n"
     ]
    },
    {
     "name": "stdout",
     "output_type": "stream",
     "text": [
      "Fold 0: fitting svm with C=0.05, kernel=rbf, gamma=0.15\n",
      "Fold 1: fitting svm with C=0.05, kernel=rbf, gamma=0.15\n",
      "Fold 2: fitting svm with C=0.05, kernel=rbf, gamma=0.15\n",
      "Fold 3: fitting svm with C=0.05, kernel=rbf, gamma=0.15\n",
      "Fold 4: fitting svm with C=0.05, kernel=rbf, gamma=0.15\n"
     ]
    },
    {
     "name": "stderr",
     "output_type": "stream",
     "text": [
      "[I 2024-01-14 22:48:40,875] Trial 24 finished with value: 0.37388216236422916 and parameters: {'svm_kernel': 'rbf', 'svm_C': 0.05, 'svm_gamma': 0.15}. Best is trial 15 with value: 0.6458342852000304.\n"
     ]
    },
    {
     "name": "stdout",
     "output_type": "stream",
     "text": [
      "Fold 0: fitting svm with C=1, kernel=rbf, gamma=0.15\n",
      "Fold 1: fitting svm with C=1, kernel=rbf, gamma=0.15\n",
      "Fold 2: fitting svm with C=1, kernel=rbf, gamma=0.15\n",
      "Fold 3: fitting svm with C=1, kernel=rbf, gamma=0.15\n",
      "Fold 4: fitting svm with C=1, kernel=rbf, gamma=0.15\n"
     ]
    },
    {
     "name": "stderr",
     "output_type": "stream",
     "text": [
      "[I 2024-01-14 22:48:44,498] Trial 25 finished with value: 0.6458342852000304 and parameters: {'svm_kernel': 'rbf', 'svm_C': 1, 'svm_gamma': 0.15}. Best is trial 15 with value: 0.6458342852000304.\n"
     ]
    },
    {
     "name": "stdout",
     "output_type": "stream",
     "text": [
      "Fold 0: fitting svm with C=1, kernel=rbf, gamma=0.15\n",
      "Fold 1: fitting svm with C=1, kernel=rbf, gamma=0.15\n",
      "Fold 2: fitting svm with C=1, kernel=rbf, gamma=0.15\n",
      "Fold 3: fitting svm with C=1, kernel=rbf, gamma=0.15\n",
      "Fold 4: fitting svm with C=1, kernel=rbf, gamma=0.15\n"
     ]
    },
    {
     "name": "stderr",
     "output_type": "stream",
     "text": [
      "[I 2024-01-14 22:48:48,263] Trial 26 finished with value: 0.6458342852000304 and parameters: {'svm_kernel': 'rbf', 'svm_C': 1, 'svm_gamma': 0.15}. Best is trial 15 with value: 0.6458342852000304.\n"
     ]
    },
    {
     "name": "stdout",
     "output_type": "stream",
     "text": [
      "Fold 0: fitting svm with C=1, kernel=linear, gamma=0.15\n",
      "Fold 1: fitting svm with C=1, kernel=linear, gamma=0.15\n",
      "Fold 2: fitting svm with C=1, kernel=linear, gamma=0.15\n",
      "Fold 3: fitting svm with C=1, kernel=linear, gamma=0.15\n",
      "Fold 4: fitting svm with C=1, kernel=linear, gamma=0.15\n"
     ]
    },
    {
     "name": "stderr",
     "output_type": "stream",
     "text": [
      "[I 2024-01-14 22:48:50,316] Trial 27 finished with value: 0.5941191944784809 and parameters: {'svm_kernel': 'linear', 'svm_C': 1, 'svm_gamma': 0.15}. Best is trial 15 with value: 0.6458342852000304.\n"
     ]
    },
    {
     "name": "stdout",
     "output_type": "stream",
     "text": [
      "Fold 0: fitting svm with C=1, kernel=sigmoid, gamma=0.25\n",
      "Fold 1: fitting svm with C=1, kernel=sigmoid, gamma=0.25\n",
      "Fold 2: fitting svm with C=1, kernel=sigmoid, gamma=0.25\n",
      "Fold 3: fitting svm with C=1, kernel=sigmoid, gamma=0.25\n",
      "Fold 4: fitting svm with C=1, kernel=sigmoid, gamma=0.25\n"
     ]
    },
    {
     "name": "stderr",
     "output_type": "stream",
     "text": [
      "[I 2024-01-14 22:48:54,969] Trial 28 finished with value: 0.15438793240708049 and parameters: {'svm_kernel': 'sigmoid', 'svm_C': 1, 'svm_gamma': 0.25}. Best is trial 15 with value: 0.6458342852000304.\n"
     ]
    },
    {
     "name": "stdout",
     "output_type": "stream",
     "text": [
      "Fold 0: fitting svm with C=0.1, kernel=rbf, gamma=0.15\n",
      "Fold 1: fitting svm with C=0.1, kernel=rbf, gamma=0.15\n",
      "Fold 2: fitting svm with C=0.1, kernel=rbf, gamma=0.15\n",
      "Fold 3: fitting svm with C=0.1, kernel=rbf, gamma=0.15\n",
      "Fold 4: fitting svm with C=0.1, kernel=rbf, gamma=0.15\n"
     ]
    },
    {
     "name": "stderr",
     "output_type": "stream",
     "text": [
      "[I 2024-01-14 22:48:59,034] Trial 29 finished with value: 0.5558022332523381 and parameters: {'svm_kernel': 'rbf', 'svm_C': 0.1, 'svm_gamma': 0.15}. Best is trial 15 with value: 0.6458342852000304.\n"
     ]
    },
    {
     "name": "stdout",
     "output_type": "stream",
     "text": [
      "Fold 0: fitting svm with C=0.01, kernel=rbf, gamma=0.15\n",
      "Fold 1: fitting svm with C=0.01, kernel=rbf, gamma=0.15\n",
      "Fold 2: fitting svm with C=0.01, kernel=rbf, gamma=0.15\n",
      "Fold 3: fitting svm with C=0.01, kernel=rbf, gamma=0.15\n",
      "Fold 4: fitting svm with C=0.01, kernel=rbf, gamma=0.15\n"
     ]
    },
    {
     "name": "stderr",
     "output_type": "stream",
     "text": [
      "[I 2024-01-14 22:49:03,584] Trial 30 finished with value: 0.15252573501415684 and parameters: {'svm_kernel': 'rbf', 'svm_C': 0.01, 'svm_gamma': 0.15}. Best is trial 15 with value: 0.6458342852000304.\n"
     ]
    },
    {
     "name": "stdout",
     "output_type": "stream",
     "text": [
      "Fold 0: fitting svm with C=1, kernel=rbf, gamma=0.15\n",
      "Fold 1: fitting svm with C=1, kernel=rbf, gamma=0.15\n",
      "Fold 2: fitting svm with C=1, kernel=rbf, gamma=0.15\n",
      "Fold 3: fitting svm with C=1, kernel=rbf, gamma=0.15\n",
      "Fold 4: fitting svm with C=1, kernel=rbf, gamma=0.15\n"
     ]
    },
    {
     "name": "stderr",
     "output_type": "stream",
     "text": [
      "[I 2024-01-14 22:49:07,160] Trial 31 finished with value: 0.6458342852000304 and parameters: {'svm_kernel': 'rbf', 'svm_C': 1, 'svm_gamma': 0.15}. Best is trial 15 with value: 0.6458342852000304.\n"
     ]
    },
    {
     "name": "stdout",
     "output_type": "stream",
     "text": [
      "Fold 0: fitting svm with C=1, kernel=rbf, gamma=0.15\n",
      "Fold 1: fitting svm with C=1, kernel=rbf, gamma=0.15\n",
      "Fold 2: fitting svm with C=1, kernel=rbf, gamma=0.15\n",
      "Fold 3: fitting svm with C=1, kernel=rbf, gamma=0.15\n",
      "Fold 4: fitting svm with C=1, kernel=rbf, gamma=0.15\n"
     ]
    },
    {
     "name": "stderr",
     "output_type": "stream",
     "text": [
      "[I 2024-01-14 22:49:10,868] Trial 32 finished with value: 0.6458342852000304 and parameters: {'svm_kernel': 'rbf', 'svm_C': 1, 'svm_gamma': 0.15}. Best is trial 15 with value: 0.6458342852000304.\n"
     ]
    },
    {
     "name": "stdout",
     "output_type": "stream",
     "text": [
      "Fold 0: fitting svm with C=1, kernel=rbf, gamma=0.15\n",
      "Fold 1: fitting svm with C=1, kernel=rbf, gamma=0.15\n",
      "Fold 2: fitting svm with C=1, kernel=rbf, gamma=0.15\n",
      "Fold 3: fitting svm with C=1, kernel=rbf, gamma=0.15\n",
      "Fold 4: fitting svm with C=1, kernel=rbf, gamma=0.15\n"
     ]
    },
    {
     "name": "stderr",
     "output_type": "stream",
     "text": [
      "[I 2024-01-14 22:49:14,561] Trial 33 finished with value: 0.6458342852000304 and parameters: {'svm_kernel': 'rbf', 'svm_C': 1, 'svm_gamma': 0.15}. Best is trial 15 with value: 0.6458342852000304.\n"
     ]
    },
    {
     "name": "stdout",
     "output_type": "stream",
     "text": [
      "Fold 0: fitting svm with C=0.05, kernel=rbf, gamma=0.05\n",
      "Fold 1: fitting svm with C=0.05, kernel=rbf, gamma=0.05\n",
      "Fold 2: fitting svm with C=0.05, kernel=rbf, gamma=0.05\n",
      "Fold 3: fitting svm with C=0.05, kernel=rbf, gamma=0.05\n",
      "Fold 4: fitting svm with C=0.05, kernel=rbf, gamma=0.05\n"
     ]
    },
    {
     "name": "stderr",
     "output_type": "stream",
     "text": [
      "[I 2024-01-14 22:49:18,587] Trial 34 finished with value: 0.5699417803714703 and parameters: {'svm_kernel': 'rbf', 'svm_C': 0.05, 'svm_gamma': 0.05}. Best is trial 15 with value: 0.6458342852000304.\n"
     ]
    },
    {
     "name": "stdout",
     "output_type": "stream",
     "text": [
      "Fold 0: fitting svm with C=10, kernel=linear, gamma=0.15\n",
      "Fold 1: fitting svm with C=10, kernel=linear, gamma=0.15\n",
      "Fold 2: fitting svm with C=10, kernel=linear, gamma=0.15\n",
      "Fold 3: fitting svm with C=10, kernel=linear, gamma=0.15\n",
      "Fold 4: fitting svm with C=10, kernel=linear, gamma=0.15\n"
     ]
    },
    {
     "name": "stderr",
     "output_type": "stream",
     "text": [
      "[I 2024-01-14 22:49:23,047] Trial 35 finished with value: 0.5539317286591487 and parameters: {'svm_kernel': 'linear', 'svm_C': 10, 'svm_gamma': 0.15}. Best is trial 15 with value: 0.6458342852000304.\n"
     ]
    },
    {
     "name": "stdout",
     "output_type": "stream",
     "text": [
      "Fold 0: fitting svm with C=100, kernel=rbf, gamma=0.15\n",
      "Fold 1: fitting svm with C=100, kernel=rbf, gamma=0.15\n",
      "Fold 2: fitting svm with C=100, kernel=rbf, gamma=0.15\n",
      "Fold 3: fitting svm with C=100, kernel=rbf, gamma=0.15\n",
      "Fold 4: fitting svm with C=100, kernel=rbf, gamma=0.15\n"
     ]
    },
    {
     "name": "stderr",
     "output_type": "stream",
     "text": [
      "[I 2024-01-14 22:49:27,479] Trial 36 finished with value: 0.6409939565118066 and parameters: {'svm_kernel': 'rbf', 'svm_C': 100, 'svm_gamma': 0.15}. Best is trial 15 with value: 0.6458342852000304.\n"
     ]
    },
    {
     "name": "stdout",
     "output_type": "stream",
     "text": [
      "Fold 0: fitting svm with C=1, kernel=poly, gamma=0.2\n",
      "Fold 1: fitting svm with C=1, kernel=poly, gamma=0.2\n",
      "Fold 2: fitting svm with C=1, kernel=poly, gamma=0.2\n",
      "Fold 3: fitting svm with C=1, kernel=poly, gamma=0.2\n",
      "Fold 4: fitting svm with C=1, kernel=poly, gamma=0.2\n"
     ]
    },
    {
     "name": "stderr",
     "output_type": "stream",
     "text": [
      "[I 2024-01-14 22:49:29,587] Trial 37 finished with value: 0.57216395644258 and parameters: {'svm_kernel': 'poly', 'svm_C': 1, 'svm_gamma': 0.2}. Best is trial 15 with value: 0.6458342852000304.\n"
     ]
    },
    {
     "name": "stdout",
     "output_type": "stream",
     "text": [
      "Fold 0: fitting svm with C=0.01, kernel=rbf, gamma=0.1\n",
      "Fold 1: fitting svm with C=0.01, kernel=rbf, gamma=0.1\n",
      "Fold 2: fitting svm with C=0.01, kernel=rbf, gamma=0.1\n",
      "Fold 3: fitting svm with C=0.01, kernel=rbf, gamma=0.1\n",
      "Fold 4: fitting svm with C=0.01, kernel=rbf, gamma=0.1\n"
     ]
    },
    {
     "name": "stderr",
     "output_type": "stream",
     "text": [
      "[I 2024-01-14 22:49:33,953] Trial 38 finished with value: 0.15252573501415684 and parameters: {'svm_kernel': 'rbf', 'svm_C': 0.01, 'svm_gamma': 0.1}. Best is trial 15 with value: 0.6458342852000304.\n"
     ]
    },
    {
     "name": "stdout",
     "output_type": "stream",
     "text": [
      "Fold 0: fitting svm with C=10, kernel=rbf, gamma=0.25\n",
      "Fold 1: fitting svm with C=10, kernel=rbf, gamma=0.25\n",
      "Fold 2: fitting svm with C=10, kernel=rbf, gamma=0.25\n",
      "Fold 3: fitting svm with C=10, kernel=rbf, gamma=0.25\n",
      "Fold 4: fitting svm with C=10, kernel=rbf, gamma=0.25\n"
     ]
    },
    {
     "name": "stderr",
     "output_type": "stream",
     "text": [
      "[I 2024-01-14 22:49:38,681] Trial 39 finished with value: 0.6376475393380545 and parameters: {'svm_kernel': 'rbf', 'svm_C': 10, 'svm_gamma': 0.25}. Best is trial 15 with value: 0.6458342852000304.\n"
     ]
    },
    {
     "name": "stdout",
     "output_type": "stream",
     "text": [
      "Fold 0: fitting svm with C=1, kernel=poly, gamma=0.15\n",
      "Fold 1: fitting svm with C=1, kernel=poly, gamma=0.15\n",
      "Fold 2: fitting svm with C=1, kernel=poly, gamma=0.15\n",
      "Fold 3: fitting svm with C=1, kernel=poly, gamma=0.15\n",
      "Fold 4: fitting svm with C=1, kernel=poly, gamma=0.15\n"
     ]
    },
    {
     "name": "stderr",
     "output_type": "stream",
     "text": [
      "[I 2024-01-14 22:49:40,787] Trial 40 finished with value: 0.5740247693021259 and parameters: {'svm_kernel': 'poly', 'svm_C': 1, 'svm_gamma': 0.15}. Best is trial 15 with value: 0.6458342852000304.\n"
     ]
    },
    {
     "name": "stdout",
     "output_type": "stream",
     "text": [
      "Fold 0: fitting svm with C=1, kernel=rbf, gamma=0.15\n",
      "Fold 1: fitting svm with C=1, kernel=rbf, gamma=0.15\n",
      "Fold 2: fitting svm with C=1, kernel=rbf, gamma=0.15\n",
      "Fold 3: fitting svm with C=1, kernel=rbf, gamma=0.15\n",
      "Fold 4: fitting svm with C=1, kernel=rbf, gamma=0.15\n"
     ]
    },
    {
     "name": "stderr",
     "output_type": "stream",
     "text": [
      "[I 2024-01-14 22:49:44,413] Trial 41 finished with value: 0.6458342852000304 and parameters: {'svm_kernel': 'rbf', 'svm_C': 1, 'svm_gamma': 0.15}. Best is trial 15 with value: 0.6458342852000304.\n"
     ]
    },
    {
     "name": "stdout",
     "output_type": "stream",
     "text": [
      "Fold 0: fitting svm with C=1, kernel=rbf, gamma=0.15\n",
      "Fold 1: fitting svm with C=1, kernel=rbf, gamma=0.15\n",
      "Fold 2: fitting svm with C=1, kernel=rbf, gamma=0.15\n",
      "Fold 3: fitting svm with C=1, kernel=rbf, gamma=0.15\n",
      "Fold 4: fitting svm with C=1, kernel=rbf, gamma=0.15\n"
     ]
    },
    {
     "name": "stderr",
     "output_type": "stream",
     "text": [
      "[I 2024-01-14 22:49:47,998] Trial 42 finished with value: 0.6458342852000304 and parameters: {'svm_kernel': 'rbf', 'svm_C': 1, 'svm_gamma': 0.15}. Best is trial 15 with value: 0.6458342852000304.\n"
     ]
    },
    {
     "name": "stdout",
     "output_type": "stream",
     "text": [
      "Fold 0: fitting svm with C=1, kernel=rbf, gamma=0.15\n",
      "Fold 1: fitting svm with C=1, kernel=rbf, gamma=0.15\n",
      "Fold 2: fitting svm with C=1, kernel=rbf, gamma=0.15\n",
      "Fold 3: fitting svm with C=1, kernel=rbf, gamma=0.15\n",
      "Fold 4: fitting svm with C=1, kernel=rbf, gamma=0.15\n"
     ]
    },
    {
     "name": "stderr",
     "output_type": "stream",
     "text": [
      "[I 2024-01-14 22:49:51,577] Trial 43 finished with value: 0.6458342852000304 and parameters: {'svm_kernel': 'rbf', 'svm_C': 1, 'svm_gamma': 0.15}. Best is trial 15 with value: 0.6458342852000304.\n"
     ]
    },
    {
     "name": "stdout",
     "output_type": "stream",
     "text": [
      "Fold 0: fitting svm with C=1, kernel=rbf, gamma=0.1\n",
      "Fold 1: fitting svm with C=1, kernel=rbf, gamma=0.1\n",
      "Fold 2: fitting svm with C=1, kernel=rbf, gamma=0.1\n",
      "Fold 3: fitting svm with C=1, kernel=rbf, gamma=0.1\n",
      "Fold 4: fitting svm with C=1, kernel=rbf, gamma=0.1\n"
     ]
    },
    {
     "name": "stderr",
     "output_type": "stream",
     "text": [
      "[I 2024-01-14 22:49:54,575] Trial 44 finished with value: 0.6450900985095498 and parameters: {'svm_kernel': 'rbf', 'svm_C': 1, 'svm_gamma': 0.1}. Best is trial 15 with value: 0.6458342852000304.\n"
     ]
    },
    {
     "name": "stdout",
     "output_type": "stream",
     "text": [
      "Fold 0: fitting svm with C=1, kernel=rbf, gamma=0.05\n",
      "Fold 1: fitting svm with C=1, kernel=rbf, gamma=0.05\n",
      "Fold 2: fitting svm with C=1, kernel=rbf, gamma=0.05\n",
      "Fold 3: fitting svm with C=1, kernel=rbf, gamma=0.05\n",
      "Fold 4: fitting svm with C=1, kernel=rbf, gamma=0.05\n"
     ]
    },
    {
     "name": "stderr",
     "output_type": "stream",
     "text": [
      "[I 2024-01-14 22:49:57,287] Trial 45 finished with value: 0.648811031961953 and parameters: {'svm_kernel': 'rbf', 'svm_C': 1, 'svm_gamma': 0.05}. Best is trial 45 with value: 0.648811031961953.\n"
     ]
    },
    {
     "name": "stdout",
     "output_type": "stream",
     "text": [
      "Fold 0: fitting svm with C=100, kernel=rbf, gamma=0.05\n",
      "Fold 1: fitting svm with C=100, kernel=rbf, gamma=0.05\n",
      "Fold 2: fitting svm with C=100, kernel=rbf, gamma=0.05\n",
      "Fold 3: fitting svm with C=100, kernel=rbf, gamma=0.05\n",
      "Fold 4: fitting svm with C=100, kernel=rbf, gamma=0.05\n"
     ]
    },
    {
     "name": "stderr",
     "output_type": "stream",
     "text": [
      "[I 2024-01-14 22:50:00,590] Trial 46 finished with value: 0.6168096197379078 and parameters: {'svm_kernel': 'rbf', 'svm_C': 100, 'svm_gamma': 0.05}. Best is trial 45 with value: 0.648811031961953.\n"
     ]
    },
    {
     "name": "stdout",
     "output_type": "stream",
     "text": [
      "Fold 0: fitting svm with C=0.5, kernel=sigmoid, gamma=0.05\n",
      "Fold 1: fitting svm with C=0.5, kernel=sigmoid, gamma=0.05\n",
      "Fold 2: fitting svm with C=0.5, kernel=sigmoid, gamma=0.05\n",
      "Fold 3: fitting svm with C=0.5, kernel=sigmoid, gamma=0.05\n",
      "Fold 4: fitting svm with C=0.5, kernel=sigmoid, gamma=0.05\n"
     ]
    },
    {
     "name": "stderr",
     "output_type": "stream",
     "text": [
      "[I 2024-01-14 22:50:03,769] Trial 47 finished with value: 0.30505839269520185 and parameters: {'svm_kernel': 'sigmoid', 'svm_C': 0.5, 'svm_gamma': 0.05}. Best is trial 45 with value: 0.648811031961953.\n"
     ]
    },
    {
     "name": "stdout",
     "output_type": "stream",
     "text": [
      "Fold 0: fitting svm with C=1, kernel=linear, gamma=0.05\n",
      "Fold 1: fitting svm with C=1, kernel=linear, gamma=0.05\n",
      "Fold 2: fitting svm with C=1, kernel=linear, gamma=0.05\n",
      "Fold 3: fitting svm with C=1, kernel=linear, gamma=0.05\n",
      "Fold 4: fitting svm with C=1, kernel=linear, gamma=0.05\n"
     ]
    },
    {
     "name": "stderr",
     "output_type": "stream",
     "text": [
      "[I 2024-01-14 22:50:05,761] Trial 48 finished with value: 0.5941191944784809 and parameters: {'svm_kernel': 'linear', 'svm_C': 1, 'svm_gamma': 0.05}. Best is trial 45 with value: 0.648811031961953.\n"
     ]
    },
    {
     "name": "stdout",
     "output_type": "stream",
     "text": [
      "Fold 0: fitting svm with C=0.1, kernel=poly, gamma=0.05\n",
      "Fold 1: fitting svm with C=0.1, kernel=poly, gamma=0.05\n",
      "Fold 2: fitting svm with C=0.1, kernel=poly, gamma=0.05\n",
      "Fold 3: fitting svm with C=0.1, kernel=poly, gamma=0.05\n",
      "Fold 4: fitting svm with C=0.1, kernel=poly, gamma=0.05\n"
     ]
    },
    {
     "name": "stderr",
     "output_type": "stream",
     "text": [
      "[I 2024-01-14 22:50:07,677] Trial 49 finished with value: 0.6279668819616069 and parameters: {'svm_kernel': 'poly', 'svm_C': 0.1, 'svm_gamma': 0.05}. Best is trial 45 with value: 0.648811031961953.\n"
     ]
    },
    {
     "name": "stdout",
     "output_type": "stream",
     "text": [
      "Fold 0: fitting svm with C=1, kernel=rbf, gamma=0.2\n",
      "Fold 1: fitting svm with C=1, kernel=rbf, gamma=0.2\n",
      "Fold 2: fitting svm with C=1, kernel=rbf, gamma=0.2\n",
      "Fold 3: fitting svm with C=1, kernel=rbf, gamma=0.2\n",
      "Fold 4: fitting svm with C=1, kernel=rbf, gamma=0.2\n"
     ]
    },
    {
     "name": "stderr",
     "output_type": "stream",
     "text": [
      "[I 2024-01-14 22:50:12,336] Trial 50 finished with value: 0.6417381432022873 and parameters: {'svm_kernel': 'rbf', 'svm_C': 1, 'svm_gamma': 0.2}. Best is trial 45 with value: 0.648811031961953.\n"
     ]
    },
    {
     "name": "stdout",
     "output_type": "stream",
     "text": [
      "Fold 0: fitting svm with C=1, kernel=rbf, gamma=0.15\n",
      "Fold 1: fitting svm with C=1, kernel=rbf, gamma=0.15\n",
      "Fold 2: fitting svm with C=1, kernel=rbf, gamma=0.15\n",
      "Fold 3: fitting svm with C=1, kernel=rbf, gamma=0.15\n",
      "Fold 4: fitting svm with C=1, kernel=rbf, gamma=0.15\n"
     ]
    },
    {
     "name": "stderr",
     "output_type": "stream",
     "text": [
      "[I 2024-01-14 22:50:16,211] Trial 51 finished with value: 0.6458342852000304 and parameters: {'svm_kernel': 'rbf', 'svm_C': 1, 'svm_gamma': 0.15}. Best is trial 45 with value: 0.648811031961953.\n"
     ]
    },
    {
     "name": "stdout",
     "output_type": "stream",
     "text": [
      "Fold 0: fitting svm with C=1, kernel=rbf, gamma=0.05\n",
      "Fold 1: fitting svm with C=1, kernel=rbf, gamma=0.05\n",
      "Fold 2: fitting svm with C=1, kernel=rbf, gamma=0.05\n",
      "Fold 3: fitting svm with C=1, kernel=rbf, gamma=0.05\n",
      "Fold 4: fitting svm with C=1, kernel=rbf, gamma=0.05\n"
     ]
    },
    {
     "name": "stderr",
     "output_type": "stream",
     "text": [
      "[I 2024-01-14 22:50:18,964] Trial 52 finished with value: 0.648811031961953 and parameters: {'svm_kernel': 'rbf', 'svm_C': 1, 'svm_gamma': 0.05}. Best is trial 45 with value: 0.648811031961953.\n"
     ]
    },
    {
     "name": "stdout",
     "output_type": "stream",
     "text": [
      "Fold 0: fitting svm with C=1, kernel=rbf, gamma=0.05\n",
      "Fold 1: fitting svm with C=1, kernel=rbf, gamma=0.05\n",
      "Fold 2: fitting svm with C=1, kernel=rbf, gamma=0.05\n",
      "Fold 3: fitting svm with C=1, kernel=rbf, gamma=0.05\n",
      "Fold 4: fitting svm with C=1, kernel=rbf, gamma=0.05\n"
     ]
    },
    {
     "name": "stderr",
     "output_type": "stream",
     "text": [
      "[I 2024-01-14 22:50:21,764] Trial 53 finished with value: 0.648811031961953 and parameters: {'svm_kernel': 'rbf', 'svm_C': 1, 'svm_gamma': 0.05}. Best is trial 45 with value: 0.648811031961953.\n"
     ]
    },
    {
     "name": "stdout",
     "output_type": "stream",
     "text": [
      "Fold 0: fitting svm with C=0.01, kernel=rbf, gamma=0.05\n",
      "Fold 1: fitting svm with C=0.01, kernel=rbf, gamma=0.05\n",
      "Fold 2: fitting svm with C=0.01, kernel=rbf, gamma=0.05\n",
      "Fold 3: fitting svm with C=0.01, kernel=rbf, gamma=0.05\n",
      "Fold 4: fitting svm with C=0.01, kernel=rbf, gamma=0.05\n"
     ]
    },
    {
     "name": "stderr",
     "output_type": "stream",
     "text": [
      "[I 2024-01-14 22:50:26,433] Trial 54 finished with value: 0.15326922943794866 and parameters: {'svm_kernel': 'rbf', 'svm_C': 0.01, 'svm_gamma': 0.05}. Best is trial 45 with value: 0.648811031961953.\n"
     ]
    },
    {
     "name": "stdout",
     "output_type": "stream",
     "text": [
      "Fold 0: fitting svm with C=0.05, kernel=rbf, gamma=0.05\n",
      "Fold 1: fitting svm with C=0.05, kernel=rbf, gamma=0.05\n",
      "Fold 2: fitting svm with C=0.05, kernel=rbf, gamma=0.05\n",
      "Fold 3: fitting svm with C=0.05, kernel=rbf, gamma=0.05\n",
      "Fold 4: fitting svm with C=0.05, kernel=rbf, gamma=0.05\n"
     ]
    },
    {
     "name": "stderr",
     "output_type": "stream",
     "text": [
      "[I 2024-01-14 22:50:30,525] Trial 55 finished with value: 0.5699417803714703 and parameters: {'svm_kernel': 'rbf', 'svm_C': 0.05, 'svm_gamma': 0.05}. Best is trial 45 with value: 0.648811031961953.\n"
     ]
    },
    {
     "name": "stdout",
     "output_type": "stream",
     "text": [
      "Fold 0: fitting svm with C=1, kernel=rbf, gamma=0.05\n",
      "Fold 1: fitting svm with C=1, kernel=rbf, gamma=0.05\n",
      "Fold 2: fitting svm with C=1, kernel=rbf, gamma=0.05\n",
      "Fold 3: fitting svm with C=1, kernel=rbf, gamma=0.05\n",
      "Fold 4: fitting svm with C=1, kernel=rbf, gamma=0.05\n"
     ]
    },
    {
     "name": "stderr",
     "output_type": "stream",
     "text": [
      "[I 2024-01-14 22:50:33,314] Trial 56 finished with value: 0.648811031961953 and parameters: {'svm_kernel': 'rbf', 'svm_C': 1, 'svm_gamma': 0.05}. Best is trial 45 with value: 0.648811031961953.\n"
     ]
    },
    {
     "name": "stdout",
     "output_type": "stream",
     "text": [
      "Fold 0: fitting svm with C=10, kernel=sigmoid, gamma=0.05\n",
      "Fold 1: fitting svm with C=10, kernel=sigmoid, gamma=0.05\n",
      "Fold 2: fitting svm with C=10, kernel=sigmoid, gamma=0.05\n",
      "Fold 3: fitting svm with C=10, kernel=sigmoid, gamma=0.05\n",
      "Fold 4: fitting svm with C=10, kernel=sigmoid, gamma=0.05\n"
     ]
    },
    {
     "name": "stderr",
     "output_type": "stream",
     "text": [
      "[I 2024-01-14 22:50:35,548] Trial 57 finished with value: 0.23474348057845806 and parameters: {'svm_kernel': 'sigmoid', 'svm_C': 10, 'svm_gamma': 0.05}. Best is trial 45 with value: 0.648811031961953.\n"
     ]
    },
    {
     "name": "stdout",
     "output_type": "stream",
     "text": [
      "Fold 0: fitting svm with C=1, kernel=rbf, gamma=0.05\n",
      "Fold 1: fitting svm with C=1, kernel=rbf, gamma=0.05\n",
      "Fold 2: fitting svm with C=1, kernel=rbf, gamma=0.05\n",
      "Fold 3: fitting svm with C=1, kernel=rbf, gamma=0.05\n",
      "Fold 4: fitting svm with C=1, kernel=rbf, gamma=0.05\n"
     ]
    },
    {
     "name": "stderr",
     "output_type": "stream",
     "text": [
      "[I 2024-01-14 22:50:38,291] Trial 58 finished with value: 0.648811031961953 and parameters: {'svm_kernel': 'rbf', 'svm_C': 1, 'svm_gamma': 0.05}. Best is trial 45 with value: 0.648811031961953.\n"
     ]
    },
    {
     "name": "stdout",
     "output_type": "stream",
     "text": [
      "Fold 0: fitting svm with C=0.5, kernel=rbf, gamma=0.05\n",
      "Fold 1: fitting svm with C=0.5, kernel=rbf, gamma=0.05\n",
      "Fold 2: fitting svm with C=0.5, kernel=rbf, gamma=0.05\n",
      "Fold 3: fitting svm with C=0.5, kernel=rbf, gamma=0.05\n",
      "Fold 4: fitting svm with C=0.5, kernel=rbf, gamma=0.05\n"
     ]
    },
    {
     "name": "stderr",
     "output_type": "stream",
     "text": [
      "[I 2024-01-14 22:50:41,228] Trial 59 finished with value: 0.6365399126359439 and parameters: {'svm_kernel': 'rbf', 'svm_C': 0.5, 'svm_gamma': 0.05}. Best is trial 45 with value: 0.648811031961953.\n"
     ]
    },
    {
     "name": "stdout",
     "output_type": "stream",
     "text": [
      "Fold 0: fitting svm with C=1, kernel=rbf, gamma=0.05\n",
      "Fold 1: fitting svm with C=1, kernel=rbf, gamma=0.05\n",
      "Fold 2: fitting svm with C=1, kernel=rbf, gamma=0.05\n",
      "Fold 3: fitting svm with C=1, kernel=rbf, gamma=0.05\n",
      "Fold 4: fitting svm with C=1, kernel=rbf, gamma=0.05\n"
     ]
    },
    {
     "name": "stderr",
     "output_type": "stream",
     "text": [
      "[I 2024-01-14 22:50:44,006] Trial 60 finished with value: 0.648811031961953 and parameters: {'svm_kernel': 'rbf', 'svm_C': 1, 'svm_gamma': 0.05}. Best is trial 45 with value: 0.648811031961953.\n"
     ]
    },
    {
     "name": "stdout",
     "output_type": "stream",
     "text": [
      "Fold 0: fitting svm with C=1, kernel=rbf, gamma=0.05\n",
      "Fold 1: fitting svm with C=1, kernel=rbf, gamma=0.05\n",
      "Fold 2: fitting svm with C=1, kernel=rbf, gamma=0.05\n",
      "Fold 3: fitting svm with C=1, kernel=rbf, gamma=0.05\n",
      "Fold 4: fitting svm with C=1, kernel=rbf, gamma=0.05\n"
     ]
    },
    {
     "name": "stderr",
     "output_type": "stream",
     "text": [
      "[I 2024-01-14 22:50:46,838] Trial 61 finished with value: 0.648811031961953 and parameters: {'svm_kernel': 'rbf', 'svm_C': 1, 'svm_gamma': 0.05}. Best is trial 45 with value: 0.648811031961953.\n"
     ]
    },
    {
     "name": "stdout",
     "output_type": "stream",
     "text": [
      "Fold 0: fitting svm with C=1, kernel=rbf, gamma=0.05\n",
      "Fold 1: fitting svm with C=1, kernel=rbf, gamma=0.05\n",
      "Fold 2: fitting svm with C=1, kernel=rbf, gamma=0.05\n",
      "Fold 3: fitting svm with C=1, kernel=rbf, gamma=0.05\n",
      "Fold 4: fitting svm with C=1, kernel=rbf, gamma=0.05\n"
     ]
    },
    {
     "name": "stderr",
     "output_type": "stream",
     "text": [
      "[I 2024-01-14 22:50:49,645] Trial 62 finished with value: 0.648811031961953 and parameters: {'svm_kernel': 'rbf', 'svm_C': 1, 'svm_gamma': 0.05}. Best is trial 45 with value: 0.648811031961953.\n"
     ]
    },
    {
     "name": "stdout",
     "output_type": "stream",
     "text": [
      "Fold 0: fitting svm with C=1, kernel=rbf, gamma=0.05\n",
      "Fold 1: fitting svm with C=1, kernel=rbf, gamma=0.05\n",
      "Fold 2: fitting svm with C=1, kernel=rbf, gamma=0.05\n",
      "Fold 3: fitting svm with C=1, kernel=rbf, gamma=0.05\n",
      "Fold 4: fitting svm with C=1, kernel=rbf, gamma=0.05\n"
     ]
    },
    {
     "name": "stderr",
     "output_type": "stream",
     "text": [
      "[I 2024-01-14 22:50:52,433] Trial 63 finished with value: 0.648811031961953 and parameters: {'svm_kernel': 'rbf', 'svm_C': 1, 'svm_gamma': 0.05}. Best is trial 45 with value: 0.648811031961953.\n"
     ]
    },
    {
     "name": "stdout",
     "output_type": "stream",
     "text": [
      "Fold 0: fitting svm with C=1, kernel=rbf, gamma=0.05\n",
      "Fold 1: fitting svm with C=1, kernel=rbf, gamma=0.05\n",
      "Fold 2: fitting svm with C=1, kernel=rbf, gamma=0.05\n",
      "Fold 3: fitting svm with C=1, kernel=rbf, gamma=0.05\n",
      "Fold 4: fitting svm with C=1, kernel=rbf, gamma=0.05\n"
     ]
    },
    {
     "name": "stderr",
     "output_type": "stream",
     "text": [
      "[I 2024-01-14 22:50:55,259] Trial 64 finished with value: 0.648811031961953 and parameters: {'svm_kernel': 'rbf', 'svm_C': 1, 'svm_gamma': 0.05}. Best is trial 45 with value: 0.648811031961953.\n"
     ]
    },
    {
     "name": "stdout",
     "output_type": "stream",
     "text": [
      "Fold 0: fitting svm with C=1, kernel=rbf, gamma=0.05\n",
      "Fold 1: fitting svm with C=1, kernel=rbf, gamma=0.05\n",
      "Fold 2: fitting svm with C=1, kernel=rbf, gamma=0.05\n",
      "Fold 3: fitting svm with C=1, kernel=rbf, gamma=0.05\n",
      "Fold 4: fitting svm with C=1, kernel=rbf, gamma=0.05\n"
     ]
    },
    {
     "name": "stderr",
     "output_type": "stream",
     "text": [
      "[I 2024-01-14 22:50:58,051] Trial 65 finished with value: 0.648811031961953 and parameters: {'svm_kernel': 'rbf', 'svm_C': 1, 'svm_gamma': 0.05}. Best is trial 45 with value: 0.648811031961953.\n"
     ]
    },
    {
     "name": "stdout",
     "output_type": "stream",
     "text": [
      "Fold 0: fitting svm with C=1, kernel=linear, gamma=0.05\n",
      "Fold 1: fitting svm with C=1, kernel=linear, gamma=0.05\n",
      "Fold 2: fitting svm with C=1, kernel=linear, gamma=0.05\n",
      "Fold 3: fitting svm with C=1, kernel=linear, gamma=0.05\n",
      "Fold 4: fitting svm with C=1, kernel=linear, gamma=0.05\n"
     ]
    },
    {
     "name": "stderr",
     "output_type": "stream",
     "text": [
      "[I 2024-01-14 22:51:00,148] Trial 66 finished with value: 0.5941191944784809 and parameters: {'svm_kernel': 'linear', 'svm_C': 1, 'svm_gamma': 0.05}. Best is trial 45 with value: 0.648811031961953.\n"
     ]
    },
    {
     "name": "stdout",
     "output_type": "stream",
     "text": [
      "Fold 0: fitting svm with C=0.1, kernel=poly, gamma=0.05\n",
      "Fold 1: fitting svm with C=0.1, kernel=poly, gamma=0.05\n",
      "Fold 2: fitting svm with C=0.1, kernel=poly, gamma=0.05\n",
      "Fold 3: fitting svm with C=0.1, kernel=poly, gamma=0.05\n",
      "Fold 4: fitting svm with C=0.1, kernel=poly, gamma=0.05\n"
     ]
    },
    {
     "name": "stderr",
     "output_type": "stream",
     "text": [
      "[I 2024-01-14 22:51:02,053] Trial 67 finished with value: 0.6279668819616069 and parameters: {'svm_kernel': 'poly', 'svm_C': 0.1, 'svm_gamma': 0.05}. Best is trial 45 with value: 0.648811031961953.\n"
     ]
    },
    {
     "name": "stdout",
     "output_type": "stream",
     "text": [
      "Fold 0: fitting svm with C=1, kernel=rbf, gamma=0.05\n",
      "Fold 1: fitting svm with C=1, kernel=rbf, gamma=0.05\n",
      "Fold 2: fitting svm with C=1, kernel=rbf, gamma=0.05\n",
      "Fold 3: fitting svm with C=1, kernel=rbf, gamma=0.05\n",
      "Fold 4: fitting svm with C=1, kernel=rbf, gamma=0.05\n"
     ]
    },
    {
     "name": "stderr",
     "output_type": "stream",
     "text": [
      "[I 2024-01-14 22:51:04,748] Trial 68 finished with value: 0.648811031961953 and parameters: {'svm_kernel': 'rbf', 'svm_C': 1, 'svm_gamma': 0.05}. Best is trial 45 with value: 0.648811031961953.\n"
     ]
    },
    {
     "name": "stdout",
     "output_type": "stream",
     "text": [
      "Fold 0: fitting svm with C=1, kernel=rbf, gamma=0.05\n",
      "Fold 1: fitting svm with C=1, kernel=rbf, gamma=0.05\n",
      "Fold 2: fitting svm with C=1, kernel=rbf, gamma=0.05\n",
      "Fold 3: fitting svm with C=1, kernel=rbf, gamma=0.05\n",
      "Fold 4: fitting svm with C=1, kernel=rbf, gamma=0.05\n"
     ]
    },
    {
     "name": "stderr",
     "output_type": "stream",
     "text": [
      "[I 2024-01-14 22:51:07,458] Trial 69 finished with value: 0.648811031961953 and parameters: {'svm_kernel': 'rbf', 'svm_C': 1, 'svm_gamma': 0.05}. Best is trial 45 with value: 0.648811031961953.\n"
     ]
    },
    {
     "name": "stdout",
     "output_type": "stream",
     "text": [
      "Fold 0: fitting svm with C=100, kernel=rbf, gamma=0.05\n",
      "Fold 1: fitting svm with C=100, kernel=rbf, gamma=0.05\n",
      "Fold 2: fitting svm with C=100, kernel=rbf, gamma=0.05\n",
      "Fold 3: fitting svm with C=100, kernel=rbf, gamma=0.05\n",
      "Fold 4: fitting svm with C=100, kernel=rbf, gamma=0.05\n"
     ]
    },
    {
     "name": "stderr",
     "output_type": "stream",
     "text": [
      "[I 2024-01-14 22:51:10,847] Trial 70 finished with value: 0.6168096197379078 and parameters: {'svm_kernel': 'rbf', 'svm_C': 100, 'svm_gamma': 0.05}. Best is trial 45 with value: 0.648811031961953.\n"
     ]
    },
    {
     "name": "stdout",
     "output_type": "stream",
     "text": [
      "Fold 0: fitting svm with C=1, kernel=rbf, gamma=0.05\n",
      "Fold 1: fitting svm with C=1, kernel=rbf, gamma=0.05\n",
      "Fold 2: fitting svm with C=1, kernel=rbf, gamma=0.05\n",
      "Fold 3: fitting svm with C=1, kernel=rbf, gamma=0.05\n",
      "Fold 4: fitting svm with C=1, kernel=rbf, gamma=0.05\n"
     ]
    },
    {
     "name": "stderr",
     "output_type": "stream",
     "text": [
      "[I 2024-01-14 22:51:13,568] Trial 71 finished with value: 0.648811031961953 and parameters: {'svm_kernel': 'rbf', 'svm_C': 1, 'svm_gamma': 0.05}. Best is trial 45 with value: 0.648811031961953.\n"
     ]
    },
    {
     "name": "stdout",
     "output_type": "stream",
     "text": [
      "Fold 0: fitting svm with C=1, kernel=rbf, gamma=0.05\n",
      "Fold 1: fitting svm with C=1, kernel=rbf, gamma=0.05\n",
      "Fold 2: fitting svm with C=1, kernel=rbf, gamma=0.05\n",
      "Fold 3: fitting svm with C=1, kernel=rbf, gamma=0.05\n",
      "Fold 4: fitting svm with C=1, kernel=rbf, gamma=0.05\n"
     ]
    },
    {
     "name": "stderr",
     "output_type": "stream",
     "text": [
      "[I 2024-01-14 22:51:16,203] Trial 72 finished with value: 0.648811031961953 and parameters: {'svm_kernel': 'rbf', 'svm_C': 1, 'svm_gamma': 0.05}. Best is trial 45 with value: 0.648811031961953.\n"
     ]
    },
    {
     "name": "stdout",
     "output_type": "stream",
     "text": [
      "Fold 0: fitting svm with C=1, kernel=rbf, gamma=0.05\n",
      "Fold 1: fitting svm with C=1, kernel=rbf, gamma=0.05\n",
      "Fold 2: fitting svm with C=1, kernel=rbf, gamma=0.05\n",
      "Fold 3: fitting svm with C=1, kernel=rbf, gamma=0.05\n",
      "Fold 4: fitting svm with C=1, kernel=rbf, gamma=0.05\n"
     ]
    },
    {
     "name": "stderr",
     "output_type": "stream",
     "text": [
      "[I 2024-01-14 22:51:18,797] Trial 73 finished with value: 0.648811031961953 and parameters: {'svm_kernel': 'rbf', 'svm_C': 1, 'svm_gamma': 0.05}. Best is trial 45 with value: 0.648811031961953.\n"
     ]
    },
    {
     "name": "stdout",
     "output_type": "stream",
     "text": [
      "Fold 0: fitting svm with C=1, kernel=rbf, gamma=0.05\n",
      "Fold 1: fitting svm with C=1, kernel=rbf, gamma=0.05\n",
      "Fold 2: fitting svm with C=1, kernel=rbf, gamma=0.05\n",
      "Fold 3: fitting svm with C=1, kernel=rbf, gamma=0.05\n",
      "Fold 4: fitting svm with C=1, kernel=rbf, gamma=0.05\n"
     ]
    },
    {
     "name": "stderr",
     "output_type": "stream",
     "text": [
      "[I 2024-01-14 22:51:21,478] Trial 74 finished with value: 0.648811031961953 and parameters: {'svm_kernel': 'rbf', 'svm_C': 1, 'svm_gamma': 0.05}. Best is trial 45 with value: 0.648811031961953.\n"
     ]
    },
    {
     "name": "stdout",
     "output_type": "stream",
     "text": [
      "Fold 0: fitting svm with C=1, kernel=rbf, gamma=0.05\n",
      "Fold 1: fitting svm with C=1, kernel=rbf, gamma=0.05\n",
      "Fold 2: fitting svm with C=1, kernel=rbf, gamma=0.05\n",
      "Fold 3: fitting svm with C=1, kernel=rbf, gamma=0.05\n",
      "Fold 4: fitting svm with C=1, kernel=rbf, gamma=0.05\n"
     ]
    },
    {
     "name": "stderr",
     "output_type": "stream",
     "text": [
      "[I 2024-01-14 22:51:24,121] Trial 75 finished with value: 0.648811031961953 and parameters: {'svm_kernel': 'rbf', 'svm_C': 1, 'svm_gamma': 0.05}. Best is trial 45 with value: 0.648811031961953.\n"
     ]
    },
    {
     "name": "stdout",
     "output_type": "stream",
     "text": [
      "Fold 0: fitting svm with C=1, kernel=sigmoid, gamma=0.05\n",
      "Fold 1: fitting svm with C=1, kernel=sigmoid, gamma=0.05\n",
      "Fold 2: fitting svm with C=1, kernel=sigmoid, gamma=0.05\n",
      "Fold 3: fitting svm with C=1, kernel=sigmoid, gamma=0.05\n",
      "Fold 4: fitting svm with C=1, kernel=sigmoid, gamma=0.05\n"
     ]
    },
    {
     "name": "stderr",
     "output_type": "stream",
     "text": [
      "[I 2024-01-14 22:51:26,760] Trial 76 finished with value: 0.2648792340761355 and parameters: {'svm_kernel': 'sigmoid', 'svm_C': 1, 'svm_gamma': 0.05}. Best is trial 45 with value: 0.648811031961953.\n"
     ]
    },
    {
     "name": "stdout",
     "output_type": "stream",
     "text": [
      "Fold 0: fitting svm with C=0.05, kernel=rbf, gamma=0.25\n",
      "Fold 1: fitting svm with C=0.05, kernel=rbf, gamma=0.25\n",
      "Fold 2: fitting svm with C=0.05, kernel=rbf, gamma=0.25\n",
      "Fold 3: fitting svm with C=0.05, kernel=rbf, gamma=0.25\n",
      "Fold 4: fitting svm with C=0.05, kernel=rbf, gamma=0.25\n"
     ]
    },
    {
     "name": "stderr",
     "output_type": "stream",
     "text": [
      "[I 2024-01-14 22:51:31,228] Trial 77 finished with value: 0.18972607007123427 and parameters: {'svm_kernel': 'rbf', 'svm_C': 0.05, 'svm_gamma': 0.25}. Best is trial 45 with value: 0.648811031961953.\n"
     ]
    },
    {
     "name": "stdout",
     "output_type": "stream",
     "text": [
      "Fold 0: fitting svm with C=0.01, kernel=rbf, gamma=0.05\n",
      "Fold 1: fitting svm with C=0.01, kernel=rbf, gamma=0.05\n",
      "Fold 2: fitting svm with C=0.01, kernel=rbf, gamma=0.05\n",
      "Fold 3: fitting svm with C=0.01, kernel=rbf, gamma=0.05\n",
      "Fold 4: fitting svm with C=0.01, kernel=rbf, gamma=0.05\n"
     ]
    },
    {
     "name": "stderr",
     "output_type": "stream",
     "text": [
      "[I 2024-01-14 22:51:35,581] Trial 78 finished with value: 0.15326922943794866 and parameters: {'svm_kernel': 'rbf', 'svm_C': 0.01, 'svm_gamma': 0.05}. Best is trial 45 with value: 0.648811031961953.\n"
     ]
    },
    {
     "name": "stdout",
     "output_type": "stream",
     "text": [
      "Fold 0: fitting svm with C=1, kernel=rbf, gamma=0.1\n",
      "Fold 1: fitting svm with C=1, kernel=rbf, gamma=0.1\n",
      "Fold 2: fitting svm with C=1, kernel=rbf, gamma=0.1\n",
      "Fold 3: fitting svm with C=1, kernel=rbf, gamma=0.1\n",
      "Fold 4: fitting svm with C=1, kernel=rbf, gamma=0.1\n"
     ]
    },
    {
     "name": "stderr",
     "output_type": "stream",
     "text": [
      "[I 2024-01-14 22:51:38,694] Trial 79 finished with value: 0.6450900985095498 and parameters: {'svm_kernel': 'rbf', 'svm_C': 1, 'svm_gamma': 0.1}. Best is trial 45 with value: 0.648811031961953.\n"
     ]
    },
    {
     "name": "stdout",
     "output_type": "stream",
     "text": [
      "Fold 0: fitting svm with C=0.5, kernel=linear, gamma=0.05\n",
      "Fold 1: fitting svm with C=0.5, kernel=linear, gamma=0.05\n",
      "Fold 2: fitting svm with C=0.5, kernel=linear, gamma=0.05\n",
      "Fold 3: fitting svm with C=0.5, kernel=linear, gamma=0.05\n",
      "Fold 4: fitting svm with C=0.5, kernel=linear, gamma=0.05\n"
     ]
    },
    {
     "name": "stderr",
     "output_type": "stream",
     "text": [
      "[I 2024-01-14 22:51:40,623] Trial 80 finished with value: 0.602297633140191 and parameters: {'svm_kernel': 'linear', 'svm_C': 0.5, 'svm_gamma': 0.05}. Best is trial 45 with value: 0.648811031961953.\n"
     ]
    },
    {
     "name": "stdout",
     "output_type": "stream",
     "text": [
      "Fold 0: fitting svm with C=1, kernel=rbf, gamma=0.05\n",
      "Fold 1: fitting svm with C=1, kernel=rbf, gamma=0.05\n",
      "Fold 2: fitting svm with C=1, kernel=rbf, gamma=0.05\n",
      "Fold 3: fitting svm with C=1, kernel=rbf, gamma=0.05\n",
      "Fold 4: fitting svm with C=1, kernel=rbf, gamma=0.05\n"
     ]
    },
    {
     "name": "stderr",
     "output_type": "stream",
     "text": [
      "[I 2024-01-14 22:51:43,571] Trial 81 finished with value: 0.648811031961953 and parameters: {'svm_kernel': 'rbf', 'svm_C': 1, 'svm_gamma': 0.05}. Best is trial 45 with value: 0.648811031961953.\n"
     ]
    },
    {
     "name": "stdout",
     "output_type": "stream",
     "text": [
      "Fold 0: fitting svm with C=1, kernel=rbf, gamma=0.05\n",
      "Fold 1: fitting svm with C=1, kernel=rbf, gamma=0.05\n",
      "Fold 2: fitting svm with C=1, kernel=rbf, gamma=0.05\n",
      "Fold 3: fitting svm with C=1, kernel=rbf, gamma=0.05\n",
      "Fold 4: fitting svm with C=1, kernel=rbf, gamma=0.05\n"
     ]
    },
    {
     "name": "stderr",
     "output_type": "stream",
     "text": [
      "[I 2024-01-14 22:51:46,182] Trial 82 finished with value: 0.648811031961953 and parameters: {'svm_kernel': 'rbf', 'svm_C': 1, 'svm_gamma': 0.05}. Best is trial 45 with value: 0.648811031961953.\n"
     ]
    },
    {
     "name": "stdout",
     "output_type": "stream",
     "text": [
      "Fold 0: fitting svm with C=1, kernel=rbf, gamma=0.05\n",
      "Fold 1: fitting svm with C=1, kernel=rbf, gamma=0.05\n",
      "Fold 2: fitting svm with C=1, kernel=rbf, gamma=0.05\n",
      "Fold 3: fitting svm with C=1, kernel=rbf, gamma=0.05\n",
      "Fold 4: fitting svm with C=1, kernel=rbf, gamma=0.05\n"
     ]
    },
    {
     "name": "stderr",
     "output_type": "stream",
     "text": [
      "[I 2024-01-14 22:51:48,832] Trial 83 finished with value: 0.648811031961953 and parameters: {'svm_kernel': 'rbf', 'svm_C': 1, 'svm_gamma': 0.05}. Best is trial 45 with value: 0.648811031961953.\n"
     ]
    },
    {
     "name": "stdout",
     "output_type": "stream",
     "text": [
      "Fold 0: fitting svm with C=1, kernel=rbf, gamma=0.05\n",
      "Fold 1: fitting svm with C=1, kernel=rbf, gamma=0.05\n",
      "Fold 2: fitting svm with C=1, kernel=rbf, gamma=0.05\n",
      "Fold 3: fitting svm with C=1, kernel=rbf, gamma=0.05\n",
      "Fold 4: fitting svm with C=1, kernel=rbf, gamma=0.05\n"
     ]
    },
    {
     "name": "stderr",
     "output_type": "stream",
     "text": [
      "[I 2024-01-14 22:51:51,363] Trial 84 finished with value: 0.648811031961953 and parameters: {'svm_kernel': 'rbf', 'svm_C': 1, 'svm_gamma': 0.05}. Best is trial 45 with value: 0.648811031961953.\n"
     ]
    },
    {
     "name": "stdout",
     "output_type": "stream",
     "text": [
      "Fold 0: fitting svm with C=10, kernel=rbf, gamma=0.2\n",
      "Fold 1: fitting svm with C=10, kernel=rbf, gamma=0.2\n",
      "Fold 2: fitting svm with C=10, kernel=rbf, gamma=0.2\n",
      "Fold 3: fitting svm with C=10, kernel=rbf, gamma=0.2\n",
      "Fold 4: fitting svm with C=10, kernel=rbf, gamma=0.2\n"
     ]
    },
    {
     "name": "stderr",
     "output_type": "stream",
     "text": [
      "[I 2024-01-14 22:51:56,019] Trial 85 finished with value: 0.6406263629000437 and parameters: {'svm_kernel': 'rbf', 'svm_C': 10, 'svm_gamma': 0.2}. Best is trial 45 with value: 0.648811031961953.\n"
     ]
    },
    {
     "name": "stdout",
     "output_type": "stream",
     "text": [
      "Fold 0: fitting svm with C=1, kernel=rbf, gamma=0.05\n",
      "Fold 1: fitting svm with C=1, kernel=rbf, gamma=0.05\n",
      "Fold 2: fitting svm with C=1, kernel=rbf, gamma=0.05\n",
      "Fold 3: fitting svm with C=1, kernel=rbf, gamma=0.05\n",
      "Fold 4: fitting svm with C=1, kernel=rbf, gamma=0.05\n"
     ]
    },
    {
     "name": "stderr",
     "output_type": "stream",
     "text": [
      "[I 2024-01-14 22:51:58,428] Trial 86 finished with value: 0.648811031961953 and parameters: {'svm_kernel': 'rbf', 'svm_C': 1, 'svm_gamma': 0.05}. Best is trial 45 with value: 0.648811031961953.\n"
     ]
    },
    {
     "name": "stdout",
     "output_type": "stream",
     "text": [
      "Fold 0: fitting svm with C=1, kernel=poly, gamma=0.05\n",
      "Fold 1: fitting svm with C=1, kernel=poly, gamma=0.05\n",
      "Fold 2: fitting svm with C=1, kernel=poly, gamma=0.05\n",
      "Fold 3: fitting svm with C=1, kernel=poly, gamma=0.05\n",
      "Fold 4: fitting svm with C=1, kernel=poly, gamma=0.05\n"
     ]
    },
    {
     "name": "stderr",
     "output_type": "stream",
     "text": [
      "[I 2024-01-14 22:52:00,105] Trial 87 finished with value: 0.6179297072404173 and parameters: {'svm_kernel': 'poly', 'svm_C': 1, 'svm_gamma': 0.05}. Best is trial 45 with value: 0.648811031961953.\n"
     ]
    },
    {
     "name": "stdout",
     "output_type": "stream",
     "text": [
      "Fold 0: fitting svm with C=1, kernel=rbf, gamma=0.05\n",
      "Fold 1: fitting svm with C=1, kernel=rbf, gamma=0.05\n",
      "Fold 2: fitting svm with C=1, kernel=rbf, gamma=0.05\n",
      "Fold 3: fitting svm with C=1, kernel=rbf, gamma=0.05\n",
      "Fold 4: fitting svm with C=1, kernel=rbf, gamma=0.05\n"
     ]
    },
    {
     "name": "stderr",
     "output_type": "stream",
     "text": [
      "[I 2024-01-14 22:52:02,523] Trial 88 finished with value: 0.648811031961953 and parameters: {'svm_kernel': 'rbf', 'svm_C': 1, 'svm_gamma': 0.05}. Best is trial 45 with value: 0.648811031961953.\n"
     ]
    },
    {
     "name": "stdout",
     "output_type": "stream",
     "text": [
      "Fold 0: fitting svm with C=0.1, kernel=rbf, gamma=0.25\n",
      "Fold 1: fitting svm with C=0.1, kernel=rbf, gamma=0.25\n",
      "Fold 2: fitting svm with C=0.1, kernel=rbf, gamma=0.25\n",
      "Fold 3: fitting svm with C=0.1, kernel=rbf, gamma=0.25\n",
      "Fold 4: fitting svm with C=0.1, kernel=rbf, gamma=0.25\n"
     ]
    },
    {
     "name": "stderr",
     "output_type": "stream",
     "text": [
      "[I 2024-01-14 22:52:06,571] Trial 89 finished with value: 0.2712072438786318 and parameters: {'svm_kernel': 'rbf', 'svm_C': 0.1, 'svm_gamma': 0.25}. Best is trial 45 with value: 0.648811031961953.\n"
     ]
    },
    {
     "name": "stdout",
     "output_type": "stream",
     "text": [
      "Fold 0: fitting svm with C=1, kernel=rbf, gamma=0.05\n",
      "Fold 1: fitting svm with C=1, kernel=rbf, gamma=0.05\n",
      "Fold 2: fitting svm with C=1, kernel=rbf, gamma=0.05\n",
      "Fold 3: fitting svm with C=1, kernel=rbf, gamma=0.05\n",
      "Fold 4: fitting svm with C=1, kernel=rbf, gamma=0.05\n"
     ]
    },
    {
     "name": "stderr",
     "output_type": "stream",
     "text": [
      "[I 2024-01-14 22:52:08,938] Trial 90 finished with value: 0.648811031961953 and parameters: {'svm_kernel': 'rbf', 'svm_C': 1, 'svm_gamma': 0.05}. Best is trial 45 with value: 0.648811031961953.\n"
     ]
    },
    {
     "name": "stdout",
     "output_type": "stream",
     "text": [
      "Fold 0: fitting svm with C=1, kernel=rbf, gamma=0.05\n",
      "Fold 1: fitting svm with C=1, kernel=rbf, gamma=0.05\n",
      "Fold 2: fitting svm with C=1, kernel=rbf, gamma=0.05\n",
      "Fold 3: fitting svm with C=1, kernel=rbf, gamma=0.05\n",
      "Fold 4: fitting svm with C=1, kernel=rbf, gamma=0.05\n"
     ]
    },
    {
     "name": "stderr",
     "output_type": "stream",
     "text": [
      "[I 2024-01-14 22:52:11,303] Trial 91 finished with value: 0.648811031961953 and parameters: {'svm_kernel': 'rbf', 'svm_C': 1, 'svm_gamma': 0.05}. Best is trial 45 with value: 0.648811031961953.\n"
     ]
    },
    {
     "name": "stdout",
     "output_type": "stream",
     "text": [
      "Fold 0: fitting svm with C=1, kernel=rbf, gamma=0.05\n",
      "Fold 1: fitting svm with C=1, kernel=rbf, gamma=0.05\n",
      "Fold 2: fitting svm with C=1, kernel=rbf, gamma=0.05\n",
      "Fold 3: fitting svm with C=1, kernel=rbf, gamma=0.05\n",
      "Fold 4: fitting svm with C=1, kernel=rbf, gamma=0.05\n"
     ]
    },
    {
     "name": "stderr",
     "output_type": "stream",
     "text": [
      "[I 2024-01-14 22:52:13,687] Trial 92 finished with value: 0.648811031961953 and parameters: {'svm_kernel': 'rbf', 'svm_C': 1, 'svm_gamma': 0.05}. Best is trial 45 with value: 0.648811031961953.\n"
     ]
    },
    {
     "name": "stdout",
     "output_type": "stream",
     "text": [
      "Fold 0: fitting svm with C=1, kernel=rbf, gamma=0.05\n",
      "Fold 1: fitting svm with C=1, kernel=rbf, gamma=0.05\n",
      "Fold 2: fitting svm with C=1, kernel=rbf, gamma=0.05\n",
      "Fold 3: fitting svm with C=1, kernel=rbf, gamma=0.05\n",
      "Fold 4: fitting svm with C=1, kernel=rbf, gamma=0.05\n"
     ]
    },
    {
     "name": "stderr",
     "output_type": "stream",
     "text": [
      "[I 2024-01-14 22:52:16,060] Trial 93 finished with value: 0.648811031961953 and parameters: {'svm_kernel': 'rbf', 'svm_C': 1, 'svm_gamma': 0.05}. Best is trial 45 with value: 0.648811031961953.\n"
     ]
    },
    {
     "name": "stdout",
     "output_type": "stream",
     "text": [
      "Fold 0: fitting svm with C=100, kernel=rbf, gamma=0.05\n",
      "Fold 1: fitting svm with C=100, kernel=rbf, gamma=0.05\n",
      "Fold 2: fitting svm with C=100, kernel=rbf, gamma=0.05\n",
      "Fold 3: fitting svm with C=100, kernel=rbf, gamma=0.05\n",
      "Fold 4: fitting svm with C=100, kernel=rbf, gamma=0.05\n"
     ]
    },
    {
     "name": "stderr",
     "output_type": "stream",
     "text": [
      "[I 2024-01-14 22:52:18,874] Trial 94 finished with value: 0.6168096197379078 and parameters: {'svm_kernel': 'rbf', 'svm_C': 100, 'svm_gamma': 0.05}. Best is trial 45 with value: 0.648811031961953.\n"
     ]
    },
    {
     "name": "stdout",
     "output_type": "stream",
     "text": [
      "Fold 0: fitting svm with C=1, kernel=sigmoid, gamma=0.1\n",
      "Fold 1: fitting svm with C=1, kernel=sigmoid, gamma=0.1\n",
      "Fold 2: fitting svm with C=1, kernel=sigmoid, gamma=0.1\n",
      "Fold 3: fitting svm with C=1, kernel=sigmoid, gamma=0.1\n",
      "Fold 4: fitting svm with C=1, kernel=sigmoid, gamma=0.1\n"
     ]
    },
    {
     "name": "stderr",
     "output_type": "stream",
     "text": [
      "[I 2024-01-14 22:52:22,552] Trial 95 finished with value: 0.20089717762870968 and parameters: {'svm_kernel': 'sigmoid', 'svm_C': 1, 'svm_gamma': 0.1}. Best is trial 45 with value: 0.648811031961953.\n"
     ]
    },
    {
     "name": "stdout",
     "output_type": "stream",
     "text": [
      "Fold 0: fitting svm with C=1, kernel=rbf, gamma=0.05\n",
      "Fold 1: fitting svm with C=1, kernel=rbf, gamma=0.05\n",
      "Fold 2: fitting svm with C=1, kernel=rbf, gamma=0.05\n",
      "Fold 3: fitting svm with C=1, kernel=rbf, gamma=0.05\n",
      "Fold 4: fitting svm with C=1, kernel=rbf, gamma=0.05\n"
     ]
    },
    {
     "name": "stderr",
     "output_type": "stream",
     "text": [
      "[I 2024-01-14 22:52:25,225] Trial 96 finished with value: 0.648811031961953 and parameters: {'svm_kernel': 'rbf', 'svm_C': 1, 'svm_gamma': 0.05}. Best is trial 45 with value: 0.648811031961953.\n"
     ]
    },
    {
     "name": "stdout",
     "output_type": "stream",
     "text": [
      "Fold 0: fitting svm with C=1, kernel=rbf, gamma=0.05\n",
      "Fold 1: fitting svm with C=1, kernel=rbf, gamma=0.05\n",
      "Fold 2: fitting svm with C=1, kernel=rbf, gamma=0.05\n",
      "Fold 3: fitting svm with C=1, kernel=rbf, gamma=0.05\n",
      "Fold 4: fitting svm with C=1, kernel=rbf, gamma=0.05\n"
     ]
    },
    {
     "name": "stderr",
     "output_type": "stream",
     "text": [
      "[I 2024-01-14 22:52:27,886] Trial 97 finished with value: 0.648811031961953 and parameters: {'svm_kernel': 'rbf', 'svm_C': 1, 'svm_gamma': 0.05}. Best is trial 45 with value: 0.648811031961953.\n"
     ]
    },
    {
     "name": "stdout",
     "output_type": "stream",
     "text": [
      "Fold 0: fitting svm with C=0.05, kernel=rbf, gamma=0.2\n",
      "Fold 1: fitting svm with C=0.05, kernel=rbf, gamma=0.2\n",
      "Fold 2: fitting svm with C=0.05, kernel=rbf, gamma=0.2\n",
      "Fold 3: fitting svm with C=0.05, kernel=rbf, gamma=0.2\n",
      "Fold 4: fitting svm with C=0.05, kernel=rbf, gamma=0.2\n"
     ]
    },
    {
     "name": "stderr",
     "output_type": "stream",
     "text": [
      "[I 2024-01-14 22:52:32,330] Trial 98 finished with value: 0.22915896519975357 and parameters: {'svm_kernel': 'rbf', 'svm_C': 0.05, 'svm_gamma': 0.2}. Best is trial 45 with value: 0.648811031961953.\n"
     ]
    },
    {
     "name": "stdout",
     "output_type": "stream",
     "text": [
      "Fold 0: fitting svm with C=1, kernel=linear, gamma=0.05\n",
      "Fold 1: fitting svm with C=1, kernel=linear, gamma=0.05\n",
      "Fold 2: fitting svm with C=1, kernel=linear, gamma=0.05\n",
      "Fold 3: fitting svm with C=1, kernel=linear, gamma=0.05\n",
      "Fold 4: fitting svm with C=1, kernel=linear, gamma=0.05\n"
     ]
    },
    {
     "name": "stderr",
     "output_type": "stream",
     "text": [
      "[I 2024-01-14 22:52:34,284] Trial 99 finished with value: 0.5941191944784809 and parameters: {'svm_kernel': 'linear', 'svm_C': 1, 'svm_gamma': 0.05}. Best is trial 45 with value: 0.648811031961953.\n"
     ]
    },
    {
     "name": "stdout",
     "output_type": "stream",
     "text": [
      "Fold 0: fitting svm with C=0.01, kernel=rbf, gamma=0.05\n",
      "Fold 1: fitting svm with C=0.01, kernel=rbf, gamma=0.05\n",
      "Fold 2: fitting svm with C=0.01, kernel=rbf, gamma=0.05\n",
      "Fold 3: fitting svm with C=0.01, kernel=rbf, gamma=0.05\n",
      "Fold 4: fitting svm with C=0.01, kernel=rbf, gamma=0.05\n"
     ]
    },
    {
     "name": "stderr",
     "output_type": "stream",
     "text": [
      "[I 2024-01-14 22:52:38,758] Trial 100 finished with value: 0.15326922943794866 and parameters: {'svm_kernel': 'rbf', 'svm_C': 0.01, 'svm_gamma': 0.05}. Best is trial 45 with value: 0.648811031961953.\n"
     ]
    },
    {
     "name": "stdout",
     "output_type": "stream",
     "text": [
      "Fold 0: fitting svm with C=1, kernel=rbf, gamma=0.05\n",
      "Fold 1: fitting svm with C=1, kernel=rbf, gamma=0.05\n",
      "Fold 2: fitting svm with C=1, kernel=rbf, gamma=0.05\n",
      "Fold 3: fitting svm with C=1, kernel=rbf, gamma=0.05\n",
      "Fold 4: fitting svm with C=1, kernel=rbf, gamma=0.05\n"
     ]
    },
    {
     "name": "stderr",
     "output_type": "stream",
     "text": [
      "[I 2024-01-14 22:52:41,406] Trial 101 finished with value: 0.648811031961953 and parameters: {'svm_kernel': 'rbf', 'svm_C': 1, 'svm_gamma': 0.05}. Best is trial 45 with value: 0.648811031961953.\n"
     ]
    },
    {
     "name": "stdout",
     "output_type": "stream",
     "text": [
      "Fold 0: fitting svm with C=1, kernel=rbf, gamma=0.05\n",
      "Fold 1: fitting svm with C=1, kernel=rbf, gamma=0.05\n",
      "Fold 2: fitting svm with C=1, kernel=rbf, gamma=0.05\n",
      "Fold 3: fitting svm with C=1, kernel=rbf, gamma=0.05\n",
      "Fold 4: fitting svm with C=1, kernel=rbf, gamma=0.05\n"
     ]
    },
    {
     "name": "stderr",
     "output_type": "stream",
     "text": [
      "[I 2024-01-14 22:52:44,131] Trial 102 finished with value: 0.648811031961953 and parameters: {'svm_kernel': 'rbf', 'svm_C': 1, 'svm_gamma': 0.05}. Best is trial 45 with value: 0.648811031961953.\n"
     ]
    },
    {
     "name": "stdout",
     "output_type": "stream",
     "text": [
      "Fold 0: fitting svm with C=1, kernel=rbf, gamma=0.05\n",
      "Fold 1: fitting svm with C=1, kernel=rbf, gamma=0.05\n",
      "Fold 2: fitting svm with C=1, kernel=rbf, gamma=0.05\n",
      "Fold 3: fitting svm with C=1, kernel=rbf, gamma=0.05\n",
      "Fold 4: fitting svm with C=1, kernel=rbf, gamma=0.05\n"
     ]
    },
    {
     "name": "stderr",
     "output_type": "stream",
     "text": [
      "[I 2024-01-14 22:52:46,764] Trial 103 finished with value: 0.648811031961953 and parameters: {'svm_kernel': 'rbf', 'svm_C': 1, 'svm_gamma': 0.05}. Best is trial 45 with value: 0.648811031961953.\n"
     ]
    },
    {
     "name": "stdout",
     "output_type": "stream",
     "text": [
      "Fold 0: fitting svm with C=1, kernel=rbf, gamma=0.05\n",
      "Fold 1: fitting svm with C=1, kernel=rbf, gamma=0.05\n",
      "Fold 2: fitting svm with C=1, kernel=rbf, gamma=0.05\n",
      "Fold 3: fitting svm with C=1, kernel=rbf, gamma=0.05\n",
      "Fold 4: fitting svm with C=1, kernel=rbf, gamma=0.05\n"
     ]
    },
    {
     "name": "stderr",
     "output_type": "stream",
     "text": [
      "[I 2024-01-14 22:52:49,459] Trial 104 finished with value: 0.648811031961953 and parameters: {'svm_kernel': 'rbf', 'svm_C': 1, 'svm_gamma': 0.05}. Best is trial 45 with value: 0.648811031961953.\n"
     ]
    },
    {
     "name": "stdout",
     "output_type": "stream",
     "text": [
      "Fold 0: fitting svm with C=1, kernel=rbf, gamma=0.05\n",
      "Fold 1: fitting svm with C=1, kernel=rbf, gamma=0.05\n",
      "Fold 2: fitting svm with C=1, kernel=rbf, gamma=0.05\n",
      "Fold 3: fitting svm with C=1, kernel=rbf, gamma=0.05\n",
      "Fold 4: fitting svm with C=1, kernel=rbf, gamma=0.05\n"
     ]
    },
    {
     "name": "stderr",
     "output_type": "stream",
     "text": [
      "[I 2024-01-14 22:52:51,980] Trial 105 finished with value: 0.648811031961953 and parameters: {'svm_kernel': 'rbf', 'svm_C': 1, 'svm_gamma': 0.05}. Best is trial 45 with value: 0.648811031961953.\n"
     ]
    },
    {
     "name": "stdout",
     "output_type": "stream",
     "text": [
      "Fold 0: fitting svm with C=10, kernel=rbf, gamma=0.05\n",
      "Fold 1: fitting svm with C=10, kernel=rbf, gamma=0.05\n",
      "Fold 2: fitting svm with C=10, kernel=rbf, gamma=0.05\n",
      "Fold 3: fitting svm with C=10, kernel=rbf, gamma=0.05\n",
      "Fold 4: fitting svm with C=10, kernel=rbf, gamma=0.05\n"
     ]
    },
    {
     "name": "stderr",
     "output_type": "stream",
     "text": [
      "[I 2024-01-14 22:52:54,940] Trial 106 finished with value: 0.628713145452154 and parameters: {'svm_kernel': 'rbf', 'svm_C': 10, 'svm_gamma': 0.05}. Best is trial 45 with value: 0.648811031961953.\n"
     ]
    },
    {
     "name": "stdout",
     "output_type": "stream",
     "text": [
      "Fold 0: fitting svm with C=1, kernel=poly, gamma=0.05\n",
      "Fold 1: fitting svm with C=1, kernel=poly, gamma=0.05\n",
      "Fold 2: fitting svm with C=1, kernel=poly, gamma=0.05\n",
      "Fold 3: fitting svm with C=1, kernel=poly, gamma=0.05\n",
      "Fold 4: fitting svm with C=1, kernel=poly, gamma=0.05\n"
     ]
    },
    {
     "name": "stderr",
     "output_type": "stream",
     "text": [
      "[I 2024-01-14 22:52:56,775] Trial 107 finished with value: 0.6179297072404173 and parameters: {'svm_kernel': 'poly', 'svm_C': 1, 'svm_gamma': 0.05}. Best is trial 45 with value: 0.648811031961953.\n"
     ]
    },
    {
     "name": "stdout",
     "output_type": "stream",
     "text": [
      "Fold 0: fitting svm with C=0.5, kernel=rbf, gamma=0.25\n",
      "Fold 1: fitting svm with C=0.5, kernel=rbf, gamma=0.25\n",
      "Fold 2: fitting svm with C=0.5, kernel=rbf, gamma=0.25\n",
      "Fold 3: fitting svm with C=0.5, kernel=rbf, gamma=0.25\n",
      "Fold 4: fitting svm with C=0.5, kernel=rbf, gamma=0.25\n"
     ]
    },
    {
     "name": "stderr",
     "output_type": "stream",
     "text": [
      "[I 2024-01-14 22:53:00,866] Trial 108 finished with value: 0.6108595875475069 and parameters: {'svm_kernel': 'rbf', 'svm_C': 0.5, 'svm_gamma': 0.25}. Best is trial 45 with value: 0.648811031961953.\n"
     ]
    },
    {
     "name": "stdout",
     "output_type": "stream",
     "text": [
      "Fold 0: fitting svm with C=1, kernel=rbf, gamma=0.05\n",
      "Fold 1: fitting svm with C=1, kernel=rbf, gamma=0.05\n",
      "Fold 2: fitting svm with C=1, kernel=rbf, gamma=0.05\n",
      "Fold 3: fitting svm with C=1, kernel=rbf, gamma=0.05\n",
      "Fold 4: fitting svm with C=1, kernel=rbf, gamma=0.05\n"
     ]
    },
    {
     "name": "stderr",
     "output_type": "stream",
     "text": [
      "[I 2024-01-14 22:53:03,412] Trial 109 finished with value: 0.648811031961953 and parameters: {'svm_kernel': 'rbf', 'svm_C': 1, 'svm_gamma': 0.05}. Best is trial 45 with value: 0.648811031961953.\n"
     ]
    },
    {
     "name": "stdout",
     "output_type": "stream",
     "text": [
      "Fold 0: fitting svm with C=1, kernel=rbf, gamma=0.05\n",
      "Fold 1: fitting svm with C=1, kernel=rbf, gamma=0.05\n",
      "Fold 2: fitting svm with C=1, kernel=rbf, gamma=0.05\n",
      "Fold 3: fitting svm with C=1, kernel=rbf, gamma=0.05\n",
      "Fold 4: fitting svm with C=1, kernel=rbf, gamma=0.05\n"
     ]
    },
    {
     "name": "stderr",
     "output_type": "stream",
     "text": [
      "[I 2024-01-14 22:53:05,910] Trial 110 finished with value: 0.648811031961953 and parameters: {'svm_kernel': 'rbf', 'svm_C': 1, 'svm_gamma': 0.05}. Best is trial 45 with value: 0.648811031961953.\n"
     ]
    },
    {
     "name": "stdout",
     "output_type": "stream",
     "text": [
      "Fold 0: fitting svm with C=1, kernel=rbf, gamma=0.05\n",
      "Fold 1: fitting svm with C=1, kernel=rbf, gamma=0.05\n",
      "Fold 2: fitting svm with C=1, kernel=rbf, gamma=0.05\n",
      "Fold 3: fitting svm with C=1, kernel=rbf, gamma=0.05\n",
      "Fold 4: fitting svm with C=1, kernel=rbf, gamma=0.05\n"
     ]
    },
    {
     "name": "stderr",
     "output_type": "stream",
     "text": [
      "[I 2024-01-14 22:53:08,624] Trial 111 finished with value: 0.648811031961953 and parameters: {'svm_kernel': 'rbf', 'svm_C': 1, 'svm_gamma': 0.05}. Best is trial 45 with value: 0.648811031961953.\n"
     ]
    },
    {
     "name": "stdout",
     "output_type": "stream",
     "text": [
      "Fold 0: fitting svm with C=1, kernel=rbf, gamma=0.05\n",
      "Fold 1: fitting svm with C=1, kernel=rbf, gamma=0.05\n",
      "Fold 2: fitting svm with C=1, kernel=rbf, gamma=0.05\n",
      "Fold 3: fitting svm with C=1, kernel=rbf, gamma=0.05\n",
      "Fold 4: fitting svm with C=1, kernel=rbf, gamma=0.05\n"
     ]
    },
    {
     "name": "stderr",
     "output_type": "stream",
     "text": [
      "[I 2024-01-14 22:53:11,271] Trial 112 finished with value: 0.648811031961953 and parameters: {'svm_kernel': 'rbf', 'svm_C': 1, 'svm_gamma': 0.05}. Best is trial 45 with value: 0.648811031961953.\n"
     ]
    },
    {
     "name": "stdout",
     "output_type": "stream",
     "text": [
      "Fold 0: fitting svm with C=1, kernel=rbf, gamma=0.05\n",
      "Fold 1: fitting svm with C=1, kernel=rbf, gamma=0.05\n",
      "Fold 2: fitting svm with C=1, kernel=rbf, gamma=0.05\n",
      "Fold 3: fitting svm with C=1, kernel=rbf, gamma=0.05\n",
      "Fold 4: fitting svm with C=1, kernel=rbf, gamma=0.05\n"
     ]
    },
    {
     "name": "stderr",
     "output_type": "stream",
     "text": [
      "[I 2024-01-14 22:53:13,855] Trial 113 finished with value: 0.648811031961953 and parameters: {'svm_kernel': 'rbf', 'svm_C': 1, 'svm_gamma': 0.05}. Best is trial 45 with value: 0.648811031961953.\n"
     ]
    },
    {
     "name": "stdout",
     "output_type": "stream",
     "text": [
      "Fold 0: fitting svm with C=1, kernel=rbf, gamma=0.05\n",
      "Fold 1: fitting svm with C=1, kernel=rbf, gamma=0.05\n",
      "Fold 2: fitting svm with C=1, kernel=rbf, gamma=0.05\n",
      "Fold 3: fitting svm with C=1, kernel=rbf, gamma=0.05\n",
      "Fold 4: fitting svm with C=1, kernel=rbf, gamma=0.05\n"
     ]
    },
    {
     "name": "stderr",
     "output_type": "stream",
     "text": [
      "[I 2024-01-14 22:53:16,527] Trial 114 finished with value: 0.648811031961953 and parameters: {'svm_kernel': 'rbf', 'svm_C': 1, 'svm_gamma': 0.05}. Best is trial 45 with value: 0.648811031961953.\n"
     ]
    },
    {
     "name": "stdout",
     "output_type": "stream",
     "text": [
      "Fold 0: fitting svm with C=1, kernel=rbf, gamma=0.05\n",
      "Fold 1: fitting svm with C=1, kernel=rbf, gamma=0.05\n",
      "Fold 2: fitting svm with C=1, kernel=rbf, gamma=0.05\n",
      "Fold 3: fitting svm with C=1, kernel=rbf, gamma=0.05\n",
      "Fold 4: fitting svm with C=1, kernel=rbf, gamma=0.05\n"
     ]
    },
    {
     "name": "stderr",
     "output_type": "stream",
     "text": [
      "[I 2024-01-14 22:53:19,155] Trial 115 finished with value: 0.648811031961953 and parameters: {'svm_kernel': 'rbf', 'svm_C': 1, 'svm_gamma': 0.05}. Best is trial 45 with value: 0.648811031961953.\n"
     ]
    },
    {
     "name": "stdout",
     "output_type": "stream",
     "text": [
      "Fold 0: fitting svm with C=0.1, kernel=sigmoid, gamma=0.1\n",
      "Fold 1: fitting svm with C=0.1, kernel=sigmoid, gamma=0.1\n",
      "Fold 2: fitting svm with C=0.1, kernel=sigmoid, gamma=0.1\n",
      "Fold 3: fitting svm with C=0.1, kernel=sigmoid, gamma=0.1\n",
      "Fold 4: fitting svm with C=0.1, kernel=sigmoid, gamma=0.1\n"
     ]
    },
    {
     "name": "stderr",
     "output_type": "stream",
     "text": [
      "[I 2024-01-14 22:53:23,636] Trial 116 finished with value: 0.2016261344520363 and parameters: {'svm_kernel': 'sigmoid', 'svm_C': 0.1, 'svm_gamma': 0.1}. Best is trial 45 with value: 0.648811031961953.\n"
     ]
    },
    {
     "name": "stdout",
     "output_type": "stream",
     "text": [
      "Fold 0: fitting svm with C=1, kernel=rbf, gamma=0.05\n",
      "Fold 1: fitting svm with C=1, kernel=rbf, gamma=0.05\n",
      "Fold 2: fitting svm with C=1, kernel=rbf, gamma=0.05\n",
      "Fold 3: fitting svm with C=1, kernel=rbf, gamma=0.05\n",
      "Fold 4: fitting svm with C=1, kernel=rbf, gamma=0.05\n"
     ]
    },
    {
     "name": "stderr",
     "output_type": "stream",
     "text": [
      "[I 2024-01-14 22:53:26,439] Trial 117 finished with value: 0.648811031961953 and parameters: {'svm_kernel': 'rbf', 'svm_C': 1, 'svm_gamma': 0.05}. Best is trial 45 with value: 0.648811031961953.\n"
     ]
    },
    {
     "name": "stdout",
     "output_type": "stream",
     "text": [
      "Fold 0: fitting svm with C=1, kernel=rbf, gamma=0.05\n",
      "Fold 1: fitting svm with C=1, kernel=rbf, gamma=0.05\n",
      "Fold 2: fitting svm with C=1, kernel=rbf, gamma=0.05\n",
      "Fold 3: fitting svm with C=1, kernel=rbf, gamma=0.05\n",
      "Fold 4: fitting svm with C=1, kernel=rbf, gamma=0.05\n"
     ]
    },
    {
     "name": "stderr",
     "output_type": "stream",
     "text": [
      "[I 2024-01-14 22:53:29,020] Trial 118 finished with value: 0.648811031961953 and parameters: {'svm_kernel': 'rbf', 'svm_C': 1, 'svm_gamma': 0.05}. Best is trial 45 with value: 0.648811031961953.\n"
     ]
    },
    {
     "name": "stdout",
     "output_type": "stream",
     "text": [
      "Fold 0: fitting svm with C=100, kernel=rbf, gamma=0.05\n",
      "Fold 1: fitting svm with C=100, kernel=rbf, gamma=0.05\n",
      "Fold 2: fitting svm with C=100, kernel=rbf, gamma=0.05\n",
      "Fold 3: fitting svm with C=100, kernel=rbf, gamma=0.05\n",
      "Fold 4: fitting svm with C=100, kernel=rbf, gamma=0.05\n"
     ]
    },
    {
     "name": "stderr",
     "output_type": "stream",
     "text": [
      "[I 2024-01-14 22:53:32,137] Trial 119 finished with value: 0.6168096197379078 and parameters: {'svm_kernel': 'rbf', 'svm_C': 100, 'svm_gamma': 0.05}. Best is trial 45 with value: 0.648811031961953.\n"
     ]
    },
    {
     "name": "stdout",
     "output_type": "stream",
     "text": [
      "Fold 0: fitting svm with C=1, kernel=linear, gamma=0.2\n",
      "Fold 1: fitting svm with C=1, kernel=linear, gamma=0.2\n",
      "Fold 2: fitting svm with C=1, kernel=linear, gamma=0.2\n",
      "Fold 3: fitting svm with C=1, kernel=linear, gamma=0.2\n",
      "Fold 4: fitting svm with C=1, kernel=linear, gamma=0.2\n"
     ]
    },
    {
     "name": "stderr",
     "output_type": "stream",
     "text": [
      "[I 2024-01-14 22:53:34,071] Trial 120 finished with value: 0.5941191944784809 and parameters: {'svm_kernel': 'linear', 'svm_C': 1, 'svm_gamma': 0.2}. Best is trial 45 with value: 0.648811031961953.\n"
     ]
    },
    {
     "name": "stdout",
     "output_type": "stream",
     "text": [
      "Fold 0: fitting svm with C=1, kernel=rbf, gamma=0.05\n",
      "Fold 1: fitting svm with C=1, kernel=rbf, gamma=0.05\n",
      "Fold 2: fitting svm with C=1, kernel=rbf, gamma=0.05\n",
      "Fold 3: fitting svm with C=1, kernel=rbf, gamma=0.05\n",
      "Fold 4: fitting svm with C=1, kernel=rbf, gamma=0.05\n"
     ]
    },
    {
     "name": "stderr",
     "output_type": "stream",
     "text": [
      "[I 2024-01-14 22:53:36,831] Trial 121 finished with value: 0.648811031961953 and parameters: {'svm_kernel': 'rbf', 'svm_C': 1, 'svm_gamma': 0.05}. Best is trial 45 with value: 0.648811031961953.\n"
     ]
    },
    {
     "name": "stdout",
     "output_type": "stream",
     "text": [
      "Fold 0: fitting svm with C=1, kernel=rbf, gamma=0.05\n",
      "Fold 1: fitting svm with C=1, kernel=rbf, gamma=0.05\n",
      "Fold 2: fitting svm with C=1, kernel=rbf, gamma=0.05\n",
      "Fold 3: fitting svm with C=1, kernel=rbf, gamma=0.05\n",
      "Fold 4: fitting svm with C=1, kernel=rbf, gamma=0.05\n"
     ]
    },
    {
     "name": "stderr",
     "output_type": "stream",
     "text": [
      "[I 2024-01-14 22:53:39,387] Trial 122 finished with value: 0.648811031961953 and parameters: {'svm_kernel': 'rbf', 'svm_C': 1, 'svm_gamma': 0.05}. Best is trial 45 with value: 0.648811031961953.\n"
     ]
    },
    {
     "name": "stdout",
     "output_type": "stream",
     "text": [
      "Fold 0: fitting svm with C=1, kernel=rbf, gamma=0.05\n",
      "Fold 1: fitting svm with C=1, kernel=rbf, gamma=0.05\n",
      "Fold 2: fitting svm with C=1, kernel=rbf, gamma=0.05\n",
      "Fold 3: fitting svm with C=1, kernel=rbf, gamma=0.05\n",
      "Fold 4: fitting svm with C=1, kernel=rbf, gamma=0.05\n"
     ]
    },
    {
     "name": "stderr",
     "output_type": "stream",
     "text": [
      "[I 2024-01-14 22:53:41,962] Trial 123 finished with value: 0.648811031961953 and parameters: {'svm_kernel': 'rbf', 'svm_C': 1, 'svm_gamma': 0.05}. Best is trial 45 with value: 0.648811031961953.\n"
     ]
    },
    {
     "name": "stdout",
     "output_type": "stream",
     "text": [
      "Fold 0: fitting svm with C=1, kernel=rbf, gamma=0.05\n",
      "Fold 1: fitting svm with C=1, kernel=rbf, gamma=0.05\n",
      "Fold 2: fitting svm with C=1, kernel=rbf, gamma=0.05\n",
      "Fold 3: fitting svm with C=1, kernel=rbf, gamma=0.05\n",
      "Fold 4: fitting svm with C=1, kernel=rbf, gamma=0.05\n"
     ]
    },
    {
     "name": "stderr",
     "output_type": "stream",
     "text": [
      "[I 2024-01-14 22:53:44,659] Trial 124 finished with value: 0.648811031961953 and parameters: {'svm_kernel': 'rbf', 'svm_C': 1, 'svm_gamma': 0.05}. Best is trial 45 with value: 0.648811031961953.\n"
     ]
    },
    {
     "name": "stdout",
     "output_type": "stream",
     "text": [
      "Fold 0: fitting svm with C=1, kernel=rbf, gamma=0.05\n",
      "Fold 1: fitting svm with C=1, kernel=rbf, gamma=0.05\n",
      "Fold 2: fitting svm with C=1, kernel=rbf, gamma=0.05\n",
      "Fold 3: fitting svm with C=1, kernel=rbf, gamma=0.05\n",
      "Fold 4: fitting svm with C=1, kernel=rbf, gamma=0.05\n"
     ]
    },
    {
     "name": "stderr",
     "output_type": "stream",
     "text": [
      "[I 2024-01-14 22:53:47,267] Trial 125 finished with value: 0.648811031961953 and parameters: {'svm_kernel': 'rbf', 'svm_C': 1, 'svm_gamma': 0.05}. Best is trial 45 with value: 0.648811031961953.\n"
     ]
    },
    {
     "name": "stdout",
     "output_type": "stream",
     "text": [
      "Fold 0: fitting svm with C=1, kernel=rbf, gamma=0.05\n",
      "Fold 1: fitting svm with C=1, kernel=rbf, gamma=0.05\n",
      "Fold 2: fitting svm with C=1, kernel=rbf, gamma=0.05\n",
      "Fold 3: fitting svm with C=1, kernel=rbf, gamma=0.05\n",
      "Fold 4: fitting svm with C=1, kernel=rbf, gamma=0.05\n"
     ]
    },
    {
     "name": "stderr",
     "output_type": "stream",
     "text": [
      "[I 2024-01-14 22:53:49,855] Trial 126 finished with value: 0.648811031961953 and parameters: {'svm_kernel': 'rbf', 'svm_C': 1, 'svm_gamma': 0.05}. Best is trial 45 with value: 0.648811031961953.\n"
     ]
    },
    {
     "name": "stdout",
     "output_type": "stream",
     "text": [
      "Fold 0: fitting svm with C=0.05, kernel=rbf, gamma=0.05\n",
      "Fold 1: fitting svm with C=0.05, kernel=rbf, gamma=0.05\n",
      "Fold 2: fitting svm with C=0.05, kernel=rbf, gamma=0.05\n",
      "Fold 3: fitting svm with C=0.05, kernel=rbf, gamma=0.05\n",
      "Fold 4: fitting svm with C=0.05, kernel=rbf, gamma=0.05\n"
     ]
    },
    {
     "name": "stderr",
     "output_type": "stream",
     "text": [
      "[I 2024-01-14 22:53:53,765] Trial 127 finished with value: 0.5699417803714703 and parameters: {'svm_kernel': 'rbf', 'svm_C': 0.05, 'svm_gamma': 0.05}. Best is trial 45 with value: 0.648811031961953.\n"
     ]
    },
    {
     "name": "stdout",
     "output_type": "stream",
     "text": [
      "Fold 0: fitting svm with C=0.01, kernel=rbf, gamma=0.05\n",
      "Fold 1: fitting svm with C=0.01, kernel=rbf, gamma=0.05\n",
      "Fold 2: fitting svm with C=0.01, kernel=rbf, gamma=0.05\n",
      "Fold 3: fitting svm with C=0.01, kernel=rbf, gamma=0.05\n",
      "Fold 4: fitting svm with C=0.01, kernel=rbf, gamma=0.05\n"
     ]
    },
    {
     "name": "stderr",
     "output_type": "stream",
     "text": [
      "[I 2024-01-14 22:53:58,235] Trial 128 finished with value: 0.15326922943794866 and parameters: {'svm_kernel': 'rbf', 'svm_C': 0.01, 'svm_gamma': 0.05}. Best is trial 45 with value: 0.648811031961953.\n"
     ]
    },
    {
     "name": "stdout",
     "output_type": "stream",
     "text": [
      "Fold 0: fitting svm with C=1, kernel=poly, gamma=0.05\n",
      "Fold 1: fitting svm with C=1, kernel=poly, gamma=0.05\n",
      "Fold 2: fitting svm with C=1, kernel=poly, gamma=0.05\n",
      "Fold 3: fitting svm with C=1, kernel=poly, gamma=0.05\n",
      "Fold 4: fitting svm with C=1, kernel=poly, gamma=0.05\n"
     ]
    },
    {
     "name": "stderr",
     "output_type": "stream",
     "text": [
      "[I 2024-01-14 22:53:59,947] Trial 129 finished with value: 0.6179297072404173 and parameters: {'svm_kernel': 'poly', 'svm_C': 1, 'svm_gamma': 0.05}. Best is trial 45 with value: 0.648811031961953.\n"
     ]
    },
    {
     "name": "stdout",
     "output_type": "stream",
     "text": [
      "Fold 0: fitting svm with C=1, kernel=rbf, gamma=0.25\n",
      "Fold 1: fitting svm with C=1, kernel=rbf, gamma=0.25\n",
      "Fold 2: fitting svm with C=1, kernel=rbf, gamma=0.25\n",
      "Fold 3: fitting svm with C=1, kernel=rbf, gamma=0.25\n",
      "Fold 4: fitting svm with C=1, kernel=rbf, gamma=0.25\n"
     ]
    },
    {
     "name": "stderr",
     "output_type": "stream",
     "text": [
      "[I 2024-01-14 22:54:04,140] Trial 130 finished with value: 0.6387627809737423 and parameters: {'svm_kernel': 'rbf', 'svm_C': 1, 'svm_gamma': 0.25}. Best is trial 45 with value: 0.648811031961953.\n"
     ]
    },
    {
     "name": "stdout",
     "output_type": "stream",
     "text": [
      "Fold 0: fitting svm with C=1, kernel=rbf, gamma=0.05\n",
      "Fold 1: fitting svm with C=1, kernel=rbf, gamma=0.05\n",
      "Fold 2: fitting svm with C=1, kernel=rbf, gamma=0.05\n",
      "Fold 3: fitting svm with C=1, kernel=rbf, gamma=0.05\n",
      "Fold 4: fitting svm with C=1, kernel=rbf, gamma=0.05\n"
     ]
    },
    {
     "name": "stderr",
     "output_type": "stream",
     "text": [
      "[I 2024-01-14 22:54:06,537] Trial 131 finished with value: 0.648811031961953 and parameters: {'svm_kernel': 'rbf', 'svm_C': 1, 'svm_gamma': 0.05}. Best is trial 45 with value: 0.648811031961953.\n"
     ]
    },
    {
     "name": "stdout",
     "output_type": "stream",
     "text": [
      "Fold 0: fitting svm with C=1, kernel=rbf, gamma=0.05\n",
      "Fold 1: fitting svm with C=1, kernel=rbf, gamma=0.05\n",
      "Fold 2: fitting svm with C=1, kernel=rbf, gamma=0.05\n",
      "Fold 3: fitting svm with C=1, kernel=rbf, gamma=0.05\n",
      "Fold 4: fitting svm with C=1, kernel=rbf, gamma=0.05\n"
     ]
    },
    {
     "name": "stderr",
     "output_type": "stream",
     "text": [
      "[I 2024-01-14 22:54:08,918] Trial 132 finished with value: 0.648811031961953 and parameters: {'svm_kernel': 'rbf', 'svm_C': 1, 'svm_gamma': 0.05}. Best is trial 45 with value: 0.648811031961953.\n"
     ]
    },
    {
     "name": "stdout",
     "output_type": "stream",
     "text": [
      "Fold 0: fitting svm with C=1, kernel=rbf, gamma=0.05\n",
      "Fold 1: fitting svm with C=1, kernel=rbf, gamma=0.05\n",
      "Fold 2: fitting svm with C=1, kernel=rbf, gamma=0.05\n",
      "Fold 3: fitting svm with C=1, kernel=rbf, gamma=0.05\n",
      "Fold 4: fitting svm with C=1, kernel=rbf, gamma=0.05\n"
     ]
    },
    {
     "name": "stderr",
     "output_type": "stream",
     "text": [
      "[I 2024-01-14 22:54:11,295] Trial 133 finished with value: 0.648811031961953 and parameters: {'svm_kernel': 'rbf', 'svm_C': 1, 'svm_gamma': 0.05}. Best is trial 45 with value: 0.648811031961953.\n"
     ]
    },
    {
     "name": "stdout",
     "output_type": "stream",
     "text": [
      "Fold 0: fitting svm with C=1, kernel=rbf, gamma=0.05\n",
      "Fold 1: fitting svm with C=1, kernel=rbf, gamma=0.05\n",
      "Fold 2: fitting svm with C=1, kernel=rbf, gamma=0.05\n",
      "Fold 3: fitting svm with C=1, kernel=rbf, gamma=0.05\n",
      "Fold 4: fitting svm with C=1, kernel=rbf, gamma=0.05\n"
     ]
    },
    {
     "name": "stderr",
     "output_type": "stream",
     "text": [
      "[I 2024-01-14 22:54:13,720] Trial 134 finished with value: 0.648811031961953 and parameters: {'svm_kernel': 'rbf', 'svm_C': 1, 'svm_gamma': 0.05}. Best is trial 45 with value: 0.648811031961953.\n"
     ]
    },
    {
     "name": "stdout",
     "output_type": "stream",
     "text": [
      "Fold 0: fitting svm with C=0.5, kernel=rbf, gamma=0.05\n",
      "Fold 1: fitting svm with C=0.5, kernel=rbf, gamma=0.05\n",
      "Fold 2: fitting svm with C=0.5, kernel=rbf, gamma=0.05\n",
      "Fold 3: fitting svm with C=0.5, kernel=rbf, gamma=0.05\n",
      "Fold 4: fitting svm with C=0.5, kernel=rbf, gamma=0.05\n"
     ]
    },
    {
     "name": "stderr",
     "output_type": "stream",
     "text": [
      "[I 2024-01-14 22:54:16,210] Trial 135 finished with value: 0.6365399126359439 and parameters: {'svm_kernel': 'rbf', 'svm_C': 0.5, 'svm_gamma': 0.05}. Best is trial 45 with value: 0.648811031961953.\n"
     ]
    },
    {
     "name": "stdout",
     "output_type": "stream",
     "text": [
      "Fold 0: fitting svm with C=10, kernel=rbf, gamma=0.05\n",
      "Fold 1: fitting svm with C=10, kernel=rbf, gamma=0.05\n",
      "Fold 2: fitting svm with C=10, kernel=rbf, gamma=0.05\n",
      "Fold 3: fitting svm with C=10, kernel=rbf, gamma=0.05\n",
      "Fold 4: fitting svm with C=10, kernel=rbf, gamma=0.05\n"
     ]
    },
    {
     "name": "stderr",
     "output_type": "stream",
     "text": [
      "[I 2024-01-14 22:54:18,872] Trial 136 finished with value: 0.628713145452154 and parameters: {'svm_kernel': 'rbf', 'svm_C': 10, 'svm_gamma': 0.05}. Best is trial 45 with value: 0.648811031961953.\n"
     ]
    },
    {
     "name": "stdout",
     "output_type": "stream",
     "text": [
      "Fold 0: fitting svm with C=1, kernel=rbf, gamma=0.05\n",
      "Fold 1: fitting svm with C=1, kernel=rbf, gamma=0.05\n",
      "Fold 2: fitting svm with C=1, kernel=rbf, gamma=0.05\n",
      "Fold 3: fitting svm with C=1, kernel=rbf, gamma=0.05\n",
      "Fold 4: fitting svm with C=1, kernel=rbf, gamma=0.05\n"
     ]
    },
    {
     "name": "stderr",
     "output_type": "stream",
     "text": [
      "[I 2024-01-14 22:54:21,228] Trial 137 finished with value: 0.648811031961953 and parameters: {'svm_kernel': 'rbf', 'svm_C': 1, 'svm_gamma': 0.05}. Best is trial 45 with value: 0.648811031961953.\n"
     ]
    },
    {
     "name": "stdout",
     "output_type": "stream",
     "text": [
      "Fold 0: fitting svm with C=1, kernel=sigmoid, gamma=0.1\n",
      "Fold 1: fitting svm with C=1, kernel=sigmoid, gamma=0.1\n",
      "Fold 2: fitting svm with C=1, kernel=sigmoid, gamma=0.1\n",
      "Fold 3: fitting svm with C=1, kernel=sigmoid, gamma=0.1\n",
      "Fold 4: fitting svm with C=1, kernel=sigmoid, gamma=0.1\n"
     ]
    },
    {
     "name": "stderr",
     "output_type": "stream",
     "text": [
      "[I 2024-01-14 22:54:24,789] Trial 138 finished with value: 0.20089717762870968 and parameters: {'svm_kernel': 'sigmoid', 'svm_C': 1, 'svm_gamma': 0.1}. Best is trial 45 with value: 0.648811031961953.\n"
     ]
    },
    {
     "name": "stdout",
     "output_type": "stream",
     "text": [
      "Fold 0: fitting svm with C=1, kernel=rbf, gamma=0.05\n",
      "Fold 1: fitting svm with C=1, kernel=rbf, gamma=0.05\n",
      "Fold 2: fitting svm with C=1, kernel=rbf, gamma=0.05\n",
      "Fold 3: fitting svm with C=1, kernel=rbf, gamma=0.05\n",
      "Fold 4: fitting svm with C=1, kernel=rbf, gamma=0.05\n"
     ]
    },
    {
     "name": "stderr",
     "output_type": "stream",
     "text": [
      "[I 2024-01-14 22:54:27,169] Trial 139 finished with value: 0.648811031961953 and parameters: {'svm_kernel': 'rbf', 'svm_C': 1, 'svm_gamma': 0.05}. Best is trial 45 with value: 0.648811031961953.\n"
     ]
    },
    {
     "name": "stdout",
     "output_type": "stream",
     "text": [
      "Fold 0: fitting svm with C=1, kernel=rbf, gamma=0.05\n",
      "Fold 1: fitting svm with C=1, kernel=rbf, gamma=0.05\n",
      "Fold 2: fitting svm with C=1, kernel=rbf, gamma=0.05\n",
      "Fold 3: fitting svm with C=1, kernel=rbf, gamma=0.05\n",
      "Fold 4: fitting svm with C=1, kernel=rbf, gamma=0.05\n"
     ]
    },
    {
     "name": "stderr",
     "output_type": "stream",
     "text": [
      "[I 2024-01-14 22:54:29,527] Trial 140 finished with value: 0.648811031961953 and parameters: {'svm_kernel': 'rbf', 'svm_C': 1, 'svm_gamma': 0.05}. Best is trial 45 with value: 0.648811031961953.\n"
     ]
    },
    {
     "name": "stdout",
     "output_type": "stream",
     "text": [
      "Fold 0: fitting svm with C=1, kernel=rbf, gamma=0.05\n",
      "Fold 1: fitting svm with C=1, kernel=rbf, gamma=0.05\n",
      "Fold 2: fitting svm with C=1, kernel=rbf, gamma=0.05\n",
      "Fold 3: fitting svm with C=1, kernel=rbf, gamma=0.05\n",
      "Fold 4: fitting svm with C=1, kernel=rbf, gamma=0.05\n"
     ]
    },
    {
     "name": "stderr",
     "output_type": "stream",
     "text": [
      "[I 2024-01-14 22:54:31,886] Trial 141 finished with value: 0.648811031961953 and parameters: {'svm_kernel': 'rbf', 'svm_C': 1, 'svm_gamma': 0.05}. Best is trial 45 with value: 0.648811031961953.\n"
     ]
    },
    {
     "name": "stdout",
     "output_type": "stream",
     "text": [
      "Fold 0: fitting svm with C=1, kernel=rbf, gamma=0.05\n",
      "Fold 1: fitting svm with C=1, kernel=rbf, gamma=0.05\n",
      "Fold 2: fitting svm with C=1, kernel=rbf, gamma=0.05\n",
      "Fold 3: fitting svm with C=1, kernel=rbf, gamma=0.05\n",
      "Fold 4: fitting svm with C=1, kernel=rbf, gamma=0.05\n"
     ]
    },
    {
     "name": "stderr",
     "output_type": "stream",
     "text": [
      "[I 2024-01-14 22:54:34,271] Trial 142 finished with value: 0.648811031961953 and parameters: {'svm_kernel': 'rbf', 'svm_C': 1, 'svm_gamma': 0.05}. Best is trial 45 with value: 0.648811031961953.\n"
     ]
    },
    {
     "name": "stdout",
     "output_type": "stream",
     "text": [
      "Fold 0: fitting svm with C=1, kernel=rbf, gamma=0.05\n",
      "Fold 1: fitting svm with C=1, kernel=rbf, gamma=0.05\n",
      "Fold 2: fitting svm with C=1, kernel=rbf, gamma=0.05\n",
      "Fold 3: fitting svm with C=1, kernel=rbf, gamma=0.05\n",
      "Fold 4: fitting svm with C=1, kernel=rbf, gamma=0.05\n"
     ]
    },
    {
     "name": "stderr",
     "output_type": "stream",
     "text": [
      "[I 2024-01-14 22:54:36,716] Trial 143 finished with value: 0.648811031961953 and parameters: {'svm_kernel': 'rbf', 'svm_C': 1, 'svm_gamma': 0.05}. Best is trial 45 with value: 0.648811031961953.\n"
     ]
    },
    {
     "name": "stdout",
     "output_type": "stream",
     "text": [
      "Fold 0: fitting svm with C=1, kernel=rbf, gamma=0.05\n",
      "Fold 1: fitting svm with C=1, kernel=rbf, gamma=0.05\n",
      "Fold 2: fitting svm with C=1, kernel=rbf, gamma=0.05\n",
      "Fold 3: fitting svm with C=1, kernel=rbf, gamma=0.05\n",
      "Fold 4: fitting svm with C=1, kernel=rbf, gamma=0.05\n"
     ]
    },
    {
     "name": "stderr",
     "output_type": "stream",
     "text": [
      "[I 2024-01-14 22:54:39,080] Trial 144 finished with value: 0.648811031961953 and parameters: {'svm_kernel': 'rbf', 'svm_C': 1, 'svm_gamma': 0.05}. Best is trial 45 with value: 0.648811031961953.\n"
     ]
    },
    {
     "name": "stdout",
     "output_type": "stream",
     "text": [
      "Fold 0: fitting svm with C=0.1, kernel=rbf, gamma=0.05\n",
      "Fold 1: fitting svm with C=0.1, kernel=rbf, gamma=0.05\n",
      "Fold 2: fitting svm with C=0.1, kernel=rbf, gamma=0.05\n",
      "Fold 3: fitting svm with C=0.1, kernel=rbf, gamma=0.05\n",
      "Fold 4: fitting svm with C=0.1, kernel=rbf, gamma=0.05\n"
     ]
    },
    {
     "name": "stderr",
     "output_type": "stream",
     "text": [
      "[I 2024-01-14 22:54:42,144] Trial 145 finished with value: 0.5881747004215905 and parameters: {'svm_kernel': 'rbf', 'svm_C': 0.1, 'svm_gamma': 0.05}. Best is trial 45 with value: 0.648811031961953.\n"
     ]
    },
    {
     "name": "stdout",
     "output_type": "stream",
     "text": [
      "Fold 0: fitting svm with C=1, kernel=rbf, gamma=0.2\n",
      "Fold 1: fitting svm with C=1, kernel=rbf, gamma=0.2\n",
      "Fold 2: fitting svm with C=1, kernel=rbf, gamma=0.2\n",
      "Fold 3: fitting svm with C=1, kernel=rbf, gamma=0.2\n",
      "Fold 4: fitting svm with C=1, kernel=rbf, gamma=0.2\n"
     ]
    },
    {
     "name": "stderr",
     "output_type": "stream",
     "text": [
      "[I 2024-01-14 22:54:46,281] Trial 146 finished with value: 0.6417381432022873 and parameters: {'svm_kernel': 'rbf', 'svm_C': 1, 'svm_gamma': 0.2}. Best is trial 45 with value: 0.648811031961953.\n"
     ]
    },
    {
     "name": "stdout",
     "output_type": "stream",
     "text": [
      "Fold 0: fitting svm with C=1, kernel=rbf, gamma=0.05\n",
      "Fold 1: fitting svm with C=1, kernel=rbf, gamma=0.05\n",
      "Fold 2: fitting svm with C=1, kernel=rbf, gamma=0.05\n",
      "Fold 3: fitting svm with C=1, kernel=rbf, gamma=0.05\n",
      "Fold 4: fitting svm with C=1, kernel=rbf, gamma=0.05\n"
     ]
    },
    {
     "name": "stderr",
     "output_type": "stream",
     "text": [
      "[I 2024-01-14 22:54:48,850] Trial 147 finished with value: 0.648811031961953 and parameters: {'svm_kernel': 'rbf', 'svm_C': 1, 'svm_gamma': 0.05}. Best is trial 45 with value: 0.648811031961953.\n"
     ]
    },
    {
     "name": "stdout",
     "output_type": "stream",
     "text": [
      "Fold 0: fitting svm with C=100, kernel=linear, gamma=0.05\n",
      "Fold 1: fitting svm with C=100, kernel=linear, gamma=0.05\n",
      "Fold 2: fitting svm with C=100, kernel=linear, gamma=0.05\n",
      "Fold 3: fitting svm with C=100, kernel=linear, gamma=0.05\n",
      "Fold 4: fitting svm with C=100, kernel=linear, gamma=0.05\n"
     ]
    },
    {
     "name": "stderr",
     "output_type": "stream",
     "text": [
      "[I 2024-01-14 22:55:02,130] Trial 148 finished with value: 0.5304874249755975 and parameters: {'svm_kernel': 'linear', 'svm_C': 100, 'svm_gamma': 0.05}. Best is trial 45 with value: 0.648811031961953.\n"
     ]
    },
    {
     "name": "stdout",
     "output_type": "stream",
     "text": [
      "Fold 0: fitting svm with C=1, kernel=rbf, gamma=0.05\n",
      "Fold 1: fitting svm with C=1, kernel=rbf, gamma=0.05\n",
      "Fold 2: fitting svm with C=1, kernel=rbf, gamma=0.05\n",
      "Fold 3: fitting svm with C=1, kernel=rbf, gamma=0.05\n",
      "Fold 4: fitting svm with C=1, kernel=rbf, gamma=0.05\n"
     ]
    },
    {
     "name": "stderr",
     "output_type": "stream",
     "text": [
      "[I 2024-01-14 22:55:04,750] Trial 149 finished with value: 0.648811031961953 and parameters: {'svm_kernel': 'rbf', 'svm_C': 1, 'svm_gamma': 0.05}. Best is trial 45 with value: 0.648811031961953.\n"
     ]
    },
    {
     "data": {
      "text/plain": [
       "{'svm_kernel': 'rbf', 'svm_C': 1, 'svm_gamma': 0.05}"
      ]
     },
     "execution_count": 24,
     "metadata": {},
     "output_type": "execute_result"
    }
   ],
   "source": [
    "print('Running GridSearch on SVM parameters...')\n",
    "\n",
    "gamma_vals = [0.05, 0.1, 0.15, 0.2, 0.25]\n",
    "c_vals = [0.01, 0.05, 0.1, 0.5, 1, 10, 100]\n",
    "kernel_vals = ['linear', 'rbf', 'poly', 'sigmoid']\n",
    "\n",
    "def objective(trial):\n",
    "\n",
    "    svm_kernel = trial.suggest_categorical('svm_kernel', kernel_vals)\n",
    "    svm_C = trial.suggest_categorical('svm_C', c_vals)\n",
    "    svm_gamma = trial.suggest_categorical('svm_gamma', gamma_vals)\n",
    "\n",
    "\n",
    "    metrics = []\n",
    "    # Run k-fold cross validation per hyperparameter combination\n",
    "    for i, fold in enumerate(folds, 0):\n",
    "\n",
    "        train_data, train_labels, test_data, test_labels = fold\n",
    "        \n",
    "        train_embeddings = np.array([embeddings_dict[os.path.basename(file)] for file in train_data])\n",
    "        test_embeddings = np.array([embeddings_dict[os.path.basename(file)] for file in test_data])\n",
    "        \n",
    "\n",
    "        # fit SVM classifier\n",
    "        print(f'Fold {i}: fitting svm with C={svm_C}, kernel={svm_kernel}, gamma={svm_gamma}')\n",
    "        svm = SVC(C=svm_C, kernel=svm_kernel, gamma=svm_gamma)\n",
    "        svm.fit(train_embeddings, train_labels) \n",
    "        # predict labels for test data\n",
    "        pred_labels = svm.predict(test_embeddings)\n",
    "    \n",
    "        # get accuracy metric for current run\n",
    "        metrics.append(get_metrics(test_labels, pred_labels)[0])\n",
    "\n",
    "    return sum(metrics)/len(metrics)\n",
    "\n",
    "study = optuna.create_study(direction='maximize')\n",
    "study.optimize(objective, n_trials=150)\n",
    "\n",
    "study.best_params"
   ]
  },
  {
   "cell_type": "code",
   "execution_count": 27,
   "metadata": {},
   "outputs": [
    {
     "data": {
      "text/plain": [
       "{'svm_kernel': 'rbf', 'svm_C': 1, 'svm_gamma': 0.05}"
      ]
     },
     "execution_count": 27,
     "metadata": {},
     "output_type": "execute_result"
    }
   ],
   "source": [
    "study.best_params"
   ]
  },
  {
   "cell_type": "code",
   "execution_count": null,
   "metadata": {},
   "outputs": [],
   "source": []
  }
 ],
 "metadata": {
  "kernelspec": {
   "display_name": ".venv",
   "language": "python",
   "name": "python3"
  },
  "language_info": {
   "codemirror_mode": {
    "name": "ipython",
    "version": 3
   },
   "file_extension": ".py",
   "mimetype": "text/x-python",
   "name": "python",
   "nbconvert_exporter": "python",
   "pygments_lexer": "ipython3",
   "version": "3.9.18"
  }
 },
 "nbformat": 4,
 "nbformat_minor": 2
}
